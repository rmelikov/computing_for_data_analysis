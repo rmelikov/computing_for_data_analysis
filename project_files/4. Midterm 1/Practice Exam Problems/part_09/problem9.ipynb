{
 "cells": [
  {
   "cell_type": "markdown",
   "metadata": {
    "deletable": false,
    "editable": false,
    "nbgrader": {
     "grade": false,
     "locked": true,
     "solution": false
    }
   },
   "source": [
    "# Problem 9: SQL Operations"
   ]
  },
  {
   "cell_type": "markdown",
   "metadata": {
    "deletable": false,
    "editable": false,
    "nbgrader": {
     "grade": false,
     "locked": true,
     "solution": false
    }
   },
   "source": [
    "This problem will test your ability to manipulate two simple SQL tables. You may find a problem easier to complete using Pandas, or you may find a problem easier to complete in SQL. We will provide you will a SQLite database containing two tables, and two Pandas Dataframes that are identical to the SQLite tables. "
   ]
  },
  {
   "cell_type": "markdown",
   "metadata": {
    "deletable": false,
    "editable": false,
    "nbgrader": {
     "grade": false,
     "locked": true,
     "solution": false
    }
   },
   "source": [
    "Recall that on the current version of the Vocareum platform, the `sqlite3` module only works with their Python 3.5 build, rather than the 3.6 build we usually use. The cell below imports the necessary modules and prints their versions. As such, **if** you are prototyping on your local machine with a version of Python greater than 3.5 or using versions of the pandas and SQLite modules that differ from what is on Vocareum, you may need to make adjustments to pass the autograder. **Doing so is your responsibility so budget your time accordingly.**"
   ]
  },
  {
   "cell_type": "code",
   "execution_count": 1,
   "metadata": {
    "deletable": false,
    "editable": false,
    "nbgrader": {
     "grade": false,
     "locked": true,
     "solution": false
    }
   },
   "outputs": [
    {
     "name": "stdout",
     "output_type": "stream",
     "text": [
      "* Python version: 3.7.4 (tags/v3.7.4:e09359112e, Jul  8 2019, 20:34:20) [MSC v.1916 64 bit (AMD64)]\n",
      "* pandas version: 0.25.3\n",
      "* sqlite3 version: 2.6.0\n"
     ]
    }
   ],
   "source": [
    "import sys\n",
    "import pandas as pd\n",
    "import sqlite3 as db\n",
    "from IPython.display import display\n",
    "\n",
    "def get_data_path(filebase):\n",
    "    return f\"movies/{filebase}\"\n",
    "\n",
    "print(f\"* Python version: {sys.version}\")\n",
    "print(f\"* pandas version: {pd.__version__}\")\n",
    "print(f\"* sqlite3 version: {db.version}\")"
   ]
  },
  {
   "cell_type": "markdown",
   "metadata": {
    "deletable": false,
    "editable": false,
    "nbgrader": {
     "grade": false,
     "locked": true,
     "solution": false
    }
   },
   "source": [
    "## The Movies and Cast Dataset"
   ]
  },
  {
   "cell_type": "markdown",
   "metadata": {
    "deletable": false,
    "editable": false,
    "nbgrader": {
     "grade": false,
     "locked": true,
     "solution": false
    }
   },
   "source": [
    "The data consists of two tables. The first is a table of movies along with (random) audience scores from 1-100. The second is a table of cast members for those movies. There are some interesting cast members in here that you might stumble upon!"
   ]
  },
  {
   "cell_type": "markdown",
   "metadata": {
    "deletable": false,
    "editable": false,
    "nbgrader": {
     "grade": false,
     "locked": true,
     "solution": false
    }
   },
   "source": [
    "Let's read in the database file and show the table descriptions."
   ]
  },
  {
   "cell_type": "code",
   "execution_count": 2,
   "metadata": {
    "deletable": false,
    "editable": false,
    "nbgrader": {
     "grade": false,
     "locked": true,
     "solution": false
    }
   },
   "outputs": [
    {
     "name": "stdout",
     "output_type": "stream",
     "text": [
      "('table', 'movies', 'CREATE TABLE movies (id integer, name text, score integer)')\n",
      "('table', 'cast', 'CREATE TABLE cast (movie_id integer, cast_id integer, cast_name text)')\n"
     ]
    }
   ],
   "source": [
    "disk_engine = db.connect(get_data_path('movieDB.db'))\n",
    "c = disk_engine.cursor()\n",
    "\n",
    "c.execute('SELECT type, name, sql FROM sqlite_master')\n",
    "results = c.fetchall()\n",
    "for table in results:\n",
    "    print(table)"
   ]
  },
  {
   "cell_type": "code",
   "execution_count": 3,
   "metadata": {
    "deletable": false,
    "editable": false,
    "nbgrader": {
     "grade": false,
     "locked": true,
     "solution": false
    }
   },
   "outputs": [
    {
     "name": "stdout",
     "output_type": "stream",
     "text": [
      "Movies Dataframe:\n",
      "-------------------\n"
     ]
    },
    {
     "data": {
      "text/html": [
       "<div>\n",
       "<style scoped>\n",
       "    .dataframe tbody tr th:only-of-type {\n",
       "        vertical-align: middle;\n",
       "    }\n",
       "\n",
       "    .dataframe tbody tr th {\n",
       "        vertical-align: top;\n",
       "    }\n",
       "\n",
       "    .dataframe thead th {\n",
       "        text-align: right;\n",
       "    }\n",
       "</style>\n",
       "<table border=\"1\" class=\"dataframe\">\n",
       "  <thead>\n",
       "    <tr style=\"text-align: right;\">\n",
       "      <th></th>\n",
       "      <th>id</th>\n",
       "      <th>name</th>\n",
       "      <th>score</th>\n",
       "    </tr>\n",
       "  </thead>\n",
       "  <tbody>\n",
       "    <tr>\n",
       "      <th>0</th>\n",
       "      <td>9</td>\n",
       "      <td>Star Wars: Episode III - Revenge of the Sith 3D</td>\n",
       "      <td>61</td>\n",
       "    </tr>\n",
       "    <tr>\n",
       "      <th>1</th>\n",
       "      <td>24214</td>\n",
       "      <td>The Chronicles of Narnia: The Lion, The Witch ...</td>\n",
       "      <td>46</td>\n",
       "    </tr>\n",
       "    <tr>\n",
       "      <th>2</th>\n",
       "      <td>1789</td>\n",
       "      <td>War of the Worlds</td>\n",
       "      <td>94</td>\n",
       "    </tr>\n",
       "    <tr>\n",
       "      <th>3</th>\n",
       "      <td>10009</td>\n",
       "      <td>Star Wars: Episode II - Attack of the Clones 3D</td>\n",
       "      <td>28</td>\n",
       "    </tr>\n",
       "    <tr>\n",
       "      <th>4</th>\n",
       "      <td>771238285</td>\n",
       "      <td>Warm Bodies</td>\n",
       "      <td>3</td>\n",
       "    </tr>\n",
       "  </tbody>\n",
       "</table>\n",
       "</div>"
      ],
      "text/plain": [
       "          id                                               name  score\n",
       "0          9    Star Wars: Episode III - Revenge of the Sith 3D     61\n",
       "1      24214  The Chronicles of Narnia: The Lion, The Witch ...     46\n",
       "2       1789                                  War of the Worlds     94\n",
       "3      10009    Star Wars: Episode II - Attack of the Clones 3D     28\n",
       "4  771238285                                        Warm Bodies      3"
      ]
     },
     "metadata": {},
     "output_type": "display_data"
    },
    {
     "name": "stdout",
     "output_type": "stream",
     "text": [
      "\n",
      "\n",
      "\n",
      "Cast Dataframe:\n",
      "-------------------\n"
     ]
    },
    {
     "data": {
      "text/html": [
       "<div>\n",
       "<style scoped>\n",
       "    .dataframe tbody tr th:only-of-type {\n",
       "        vertical-align: middle;\n",
       "    }\n",
       "\n",
       "    .dataframe tbody tr th {\n",
       "        vertical-align: top;\n",
       "    }\n",
       "\n",
       "    .dataframe thead th {\n",
       "        text-align: right;\n",
       "    }\n",
       "</style>\n",
       "<table border=\"1\" class=\"dataframe\">\n",
       "  <thead>\n",
       "    <tr style=\"text-align: right;\">\n",
       "      <th></th>\n",
       "      <th>movie_id</th>\n",
       "      <th>cast_id</th>\n",
       "      <th>cast_name</th>\n",
       "    </tr>\n",
       "  </thead>\n",
       "  <tbody>\n",
       "    <tr>\n",
       "      <th>0</th>\n",
       "      <td>9</td>\n",
       "      <td>162652153</td>\n",
       "      <td>Hayden Christensen</td>\n",
       "    </tr>\n",
       "    <tr>\n",
       "      <th>1</th>\n",
       "      <td>9</td>\n",
       "      <td>162652152</td>\n",
       "      <td>Ewan McGregor</td>\n",
       "    </tr>\n",
       "    <tr>\n",
       "      <th>2</th>\n",
       "      <td>9</td>\n",
       "      <td>418638213</td>\n",
       "      <td>Kenny Baker</td>\n",
       "    </tr>\n",
       "    <tr>\n",
       "      <th>3</th>\n",
       "      <td>9</td>\n",
       "      <td>548155708</td>\n",
       "      <td>Graeme Blundell</td>\n",
       "    </tr>\n",
       "    <tr>\n",
       "      <th>4</th>\n",
       "      <td>9</td>\n",
       "      <td>358317901</td>\n",
       "      <td>Jeremy Bulloch</td>\n",
       "    </tr>\n",
       "  </tbody>\n",
       "</table>\n",
       "</div>"
      ],
      "text/plain": [
       "   movie_id    cast_id           cast_name\n",
       "0         9  162652153  Hayden Christensen\n",
       "1         9  162652152       Ewan McGregor\n",
       "2         9  418638213         Kenny Baker\n",
       "3         9  548155708     Graeme Blundell\n",
       "4         9  358317901      Jeremy Bulloch"
      ]
     },
     "metadata": {},
     "output_type": "display_data"
    }
   ],
   "source": [
    "movies = pd.read_table(get_data_path('movie-name-score.txt'), sep=',', header=None, names=['id', 'name', 'score'])\n",
    "cast = pd.read_table(get_data_path('movie-cast.txt'), sep=',', header=None, names=['movie_id', 'cast_id', 'cast_name'])\n",
    "\n",
    "print('Movies Dataframe:')\n",
    "print('-------------------')\n",
    "display(movies.head())\n",
    "print('\\n\\n')\n",
    "print('Cast Dataframe:')\n",
    "print('-------------------')\n",
    "display(cast.head())"
   ]
  },
  {
   "cell_type": "markdown",
   "metadata": {
    "deletable": false,
    "editable": false,
    "nbgrader": {
     "grade": false,
     "locked": true,
     "solution": false
    }
   },
   "source": [
    "In terms of Database structures, the **`cast`** table's **`movie_id`** column is a foreign key to the **`movie`** table's **`id`** column. \n",
    "\n",
    "This means you can perform any SQL joins or Pandas merges between the two tables on this column. "
   ]
  },
  {
   "cell_type": "markdown",
   "metadata": {
    "deletable": false,
    "editable": false,
    "nbgrader": {
     "grade": false,
     "locked": true,
     "solution": false
    }
   },
   "source": [
    "One final code cell to get you started - implement the all-too-familiar `canonicalize_tibble` and `tibbles_are_equivalent` functions. "
   ]
  },
  {
   "cell_type": "code",
   "execution_count": 4,
   "metadata": {},
   "outputs": [],
   "source": [
    "def canonicalize_tibble(X):\n",
    "    var_names = sorted(X.columns)\n",
    "    Y = X[var_names].copy()\n",
    "    Y.sort_values(by=var_names, inplace=True)\n",
    "    Y.reset_index(drop=True, inplace=True)\n",
    "    return Y\n",
    "\n",
    "def tibbles_are_equivalent (A, B):\n",
    "    A_canonical = canonicalize_tibble(A)\n",
    "    B_canonical = canonicalize_tibble(B)\n",
    "    equal = (A_canonical == B_canonical)\n",
    "    return equal.all().all()"
   ]
  },
  {
   "cell_type": "markdown",
   "metadata": {
    "deletable": false,
    "editable": false,
    "nbgrader": {
     "grade": false,
     "locked": true,
     "solution": false
    }
   },
   "source": [
    "Let's start with two warm-up exercises. \n",
    "\n",
    "**Exercise 0** (2 points): Create a dataframe, ***`cast_size`***, that contains the number of distinct cast members per movie. Your table will have two columns, *`movie_name`*, the name of each film, and *`cast_count`*, the number of unique cast members for the film. \n",
    "\n",
    "Order the result by *`cast_count`* from highest to lowest."
   ]
  },
  {
   "cell_type": "code",
   "execution_count": 5,
   "metadata": {},
   "outputs": [],
   "source": [
    "# interesting sql problem\n",
    "\n",
    "query = '''\n",
    "    select\n",
    "        m.name as movie_name, \n",
    "        count(cast_id) as cast_count\n",
    "    from movies m, cast c\n",
    "    where m.id = c.movie_id\n",
    "    group by m.id\n",
    "    order by 2 desc\n",
    "'''\n",
    "\n",
    "cast_size = pd.read_sql_query(query, disk_engine)"
   ]
  },
  {
   "cell_type": "code",
   "execution_count": 6,
   "metadata": {
    "deletable": false,
    "editable": false,
    "nbgrader": {
     "grade": true,
     "grade_id": "test_cast_size",
     "locked": true,
     "points": "2",
     "solution": false
    }
   },
   "outputs": [
    {
     "name": "stdout",
     "output_type": "stream",
     "text": [
      "Reading instructor's solution...\n",
      "Checking...\n",
      "\n",
      "(Passed!.)\n"
     ]
    }
   ],
   "source": [
    "# Test cell : `test_cast_size`\n",
    "\n",
    "print(\"Reading instructor's solution...\")\n",
    "\n",
    "cast_size_solution = pd.read_csv(get_data_path('cast_size_solution.csv'))\n",
    "\n",
    "print(\"Checking...\")\n",
    "\n",
    "assert set(cast_size.columns) == {'movie_name', 'cast_count'}\n",
    "assert tibbles_are_equivalent(cast_size, cast_size_solution), \"Your Dataframe is incorrect\"\n",
    "assert all(cast_size['cast_count'] == cast_size_solution['cast_count'])\n",
    "\n",
    "\n",
    "print(\"\\n(Passed!.)\")\n",
    "\n",
    "del cast_size_solution"
   ]
  },
  {
   "cell_type": "markdown",
   "metadata": {
    "collapsed": true,
    "deletable": false,
    "editable": false,
    "nbgrader": {
     "grade": false,
     "locked": true,
     "solution": false
    }
   },
   "source": [
    "**Exercise 1** (2 point): Create a dataframe, **`cast_score`**, that contains the average movie score for each cast member. Your table will have two columns, *`cast_name`*, the name of each cast member, and *`avg_score`*, the average movie review score for each movie that the cast member appears in. \n",
    "\n",
    "Order this result by `avg_score` from highest to lowest, and round your result for `avg_score` to two (2) decimal places. \n",
    "\n",
    "Break any ties in your sorting by cast name in alphabetical order from A-Z. "
   ]
  },
  {
   "cell_type": "code",
   "execution_count": 7,
   "metadata": {},
   "outputs": [],
   "source": [
    "# interesting sql problem\n",
    "\n",
    "query = '''\n",
    "    select\n",
    "        c.cast_name,\n",
    "        round(avg(m.score), 2) as avg_score\n",
    "    from movies m, cast c\n",
    "    where m.id = c.movie_id\n",
    "    group by c.cast_id\n",
    "    order by 2 desc, 1\n",
    "'''\n",
    "\n",
    "cast_score = pd.read_sql_query(query, disk_engine)"
   ]
  },
  {
   "cell_type": "code",
   "execution_count": 8,
   "metadata": {
    "deletable": false,
    "editable": false,
    "nbgrader": {
     "grade": true,
     "grade_id": "test_cast_score",
     "locked": true,
     "points": "2",
     "solution": false
    }
   },
   "outputs": [
    {
     "name": "stdout",
     "output_type": "stream",
     "text": [
      "Reading instructor's solution...\n",
      "Checking...\n",
      "\n",
      "(Passed!)\n"
     ]
    }
   ],
   "source": [
    "# Test cell : `test_cast_score`\n",
    "print(\"Reading instructor's solution...\")\n",
    "\n",
    "cast_score_solution = pd.read_csv(get_data_path('cast_score_solution.csv'))\n",
    "\n",
    "print(\"Checking...\")\n",
    "\n",
    "assert set(cast_score.columns) == {'cast_name', 'avg_score'}\n",
    "assert tibbles_are_equivalent(cast_score, cast_score_solution), \"Your Dataframe is incorrect\"\n",
    "assert all(cast_score['avg_score'] == cast_score_solution['avg_score'])\n",
    "\n",
    "\n",
    "print(\"\\n(Passed!)\")\n",
    "\n",
    "del cast_score_solution\n",
    "\n"
   ]
  },
  {
   "cell_type": "markdown",
   "metadata": {
    "deletable": false,
    "editable": false,
    "nbgrader": {
     "grade": false,
     "locked": true,
     "solution": false
    }
   },
   "source": [
    "**Exercise 2** (3 points): You will now create a dataframe, **`one_hit_wonders`**, that contains actors and actresses that appear in **exactly** one movie, with a movie score == 100. Your result will have three columns, *`cast_name`,* the name of each cast member that meets the criteria, *`movie_name`*, the name of the movie that cast member appears in, and *`movie_score`*, which for the purposes of this Exercise is always == 100. \n",
    "\n",
    "Order your result by `cast_name` in alphabetical order from A-Z."
   ]
  },
  {
   "cell_type": "code",
   "execution_count": 9,
   "metadata": {},
   "outputs": [],
   "source": [
    "# interesting sql problem\n",
    "\n",
    "query = '''\n",
    "    select\n",
    "        c.cast_name,\n",
    "        m.name as movie_name,\n",
    "        m.score as movie_score\n",
    "    from movies m, cast c\n",
    "    where m.id = c.movie_id\n",
    "    group by c.cast_id\n",
    "    having count(m.id) = 1 and m.score = 100\n",
    "    order by c.cast_name\n",
    "'''\n",
    "\n",
    "one_hit_wonders = pd.read_sql_query(query, disk_engine)"
   ]
  },
  {
   "cell_type": "code",
   "execution_count": 10,
   "metadata": {
    "deletable": false,
    "editable": false,
    "nbgrader": {
     "grade": true,
     "grade_id": "one_hit_wonders_score",
     "locked": true,
     "points": "3",
     "solution": false
    }
   },
   "outputs": [
    {
     "name": "stdout",
     "output_type": "stream",
     "text": [
      "Reading instructor's solution...\n",
      "Checking...\n",
      "\n",
      "(Passed!)\n"
     ]
    }
   ],
   "source": [
    "# Test cell : `one_hit_wonders_score`\n",
    "\n",
    "print(\"Reading instructor's solution...\")\n",
    "\n",
    "one_hit_wonders_solution = pd.read_csv(get_data_path('one_hit_wonders_solution.csv'))\n",
    "\n",
    "print(\"Checking...\")\n",
    "\n",
    "assert set(one_hit_wonders.columns) == {'cast_name','movie_name', 'movie_score'}\n",
    "assert tibbles_are_equivalent(one_hit_wonders, one_hit_wonders_solution)\n",
    "assert all(one_hit_wonders['movie_score'] == one_hit_wonders_solution['movie_score'])\n",
    "\n",
    "print(\"\\n(Passed!)\")\n",
    "\n",
    "del one_hit_wonders_solution"
   ]
  },
  {
   "cell_type": "markdown",
   "metadata": {
    "deletable": false,
    "editable": false,
    "nbgrader": {
     "grade": false,
     "locked": true,
     "solution": false
    }
   },
   "source": [
    "**Exercise 3** (3 points): For this problem, you will find cast members that work well together. We define this as two cast members being in **>= 3** movies together, with the **average movie score being >= 50**. \n",
    "\n",
    "You will create a dataframe called **`good_teamwork`** that contains four columns:\n",
    "- *`cast_member_1`* and *`cast_member_2`*, the names of each pair of cast members that appear in the same movie;\n",
    "- *`num_movies`*, the number of movies that each pair of cast members appears in; and\n",
    "- *`avg_score`*, the average review score for each of those movies containing the two cast members. \n",
    "\n",
    "Order the results by `cast_member_1` alphabetically from A-Z, and break any ties by sorting by `cast_member_2` alphabetically from A-Z. Round the result for `avg_score` to two (2) decimal places.\n",
    "\n",
    "One more wrinkle: your solution will likely create several duplicate pairs of cast members: rows such as:\n",
    "\n",
    "cast_member_1     |cast_member_2  |num_movies  |avg_score\n",
    "------------------|---------------|------------|---------\n",
    " Anthony Daniels  |Frank Oz       |5           |50.60\n",
    " Frank Oz         |Anthony Daniels|5           |50.60\n",
    " \n",
    "Remove all duplicate pairs, keeping all cases where `cast_member_1`'s name comes before `cast_member_2`'s name in the alphabet. In the example above, you will keep **only** the first row in your final solution. Make sure to also remove matches where `cast_member_1` == `cast_member_2`."
   ]
  },
  {
   "cell_type": "code",
   "execution_count": 11,
   "metadata": {},
   "outputs": [],
   "source": [
    "# interesting sql problem\n",
    "\n",
    "query = '''\n",
    "    with main as (\n",
    "        select *\n",
    "        from movies m, cast c\n",
    "        where m.id = c.movie_id\n",
    "    )\n",
    "    select    \n",
    "        m1.cast_name as cast_member_1, \n",
    "        m2.cast_name as cast_member_2,\n",
    "        count(*) as num_movies,\n",
    "        round(avg(m1.score), 2) as avg_score\n",
    "    from main m1, main m2\n",
    "    where m1.movie_id = m2.movie_id and m1.cast_name < m2.cast_name\n",
    "    group by m1.cast_id, m2.cast_id\n",
    "    having num_movies >= 3 and avg_score >= 50\n",
    "    order by 1, 2\n",
    "'''\n",
    "\n",
    "good_teamwork = pd.read_sql_query(query, disk_engine)"
   ]
  },
  {
   "cell_type": "code",
   "execution_count": 12,
   "metadata": {
    "deletable": false,
    "editable": false,
    "nbgrader": {
     "grade": true,
     "grade_id": "good_teamwork_score",
     "locked": true,
     "points": "3",
     "solution": false
    }
   },
   "outputs": [
    {
     "name": "stdout",
     "output_type": "stream",
     "text": [
      "Reading instructor's solution...\n",
      "         cast_member_1      cast_member_2  num_movies  avg_score\n",
      "0           Ahmed Best    Anthony Daniels           3      54.67\n",
      "1           Ahmed Best      Ewan McGregor           3      54.67\n",
      "2           Ahmed Best           Frank Oz           3      54.67\n",
      "3           Ahmed Best      Ian McDiarmid           3      54.67\n",
      "4           Ahmed Best        Kenny Baker           3      54.67\n",
      "..                 ...                ...         ...        ...\n",
      "63     Natalie Portman  Samuel L. Jackson           3      54.67\n",
      "64     Natalie Portman       Silas Carson           3      54.67\n",
      "65  Oliver Ford Davies  Samuel L. Jackson           3      54.67\n",
      "66  Oliver Ford Davies       Silas Carson           3      54.67\n",
      "67   Samuel L. Jackson       Silas Carson           3      54.67\n",
      "\n",
      "[68 rows x 4 columns]\n",
      "Checking...\n",
      "\n",
      "(Passed!)\n"
     ]
    }
   ],
   "source": [
    "# Test cell : `good_teamwork_score`\n",
    "print(\"Reading instructor's solution...\")\n",
    "\n",
    "good_teamwork_solution = pd.read_csv(get_data_path('good_teamwork_solution.csv'))\n",
    "print(good_teamwork_solution)\n",
    "\n",
    "print(\"Checking...\")\n",
    "\n",
    "assert set(good_teamwork.columns) == {'cast_member_1','cast_member_2', 'num_movies', 'avg_score'}\n",
    "assert tibbles_are_equivalent(good_teamwork, good_teamwork_solution)\n",
    "assert all(good_teamwork['num_movies'] == good_teamwork_solution['num_movies'])\n",
    "assert all(good_teamwork['avg_score'] == good_teamwork_solution['avg_score'])\n",
    "\n",
    "print(\"\\n(Passed!)\")\n",
    "\n",
    "del good_teamwork_solution"
   ]
  },
  {
   "cell_type": "code",
   "execution_count": 13,
   "metadata": {
    "deletable": false,
    "editable": false,
    "nbgrader": {
     "grade": false,
     "locked": true,
     "solution": false
    }
   },
   "outputs": [],
   "source": [
    "c.close()\n",
    "disk_engine.close()"
   ]
  },
  {
   "cell_type": "markdown",
   "metadata": {
    "deletable": false,
    "editable": false,
    "nbgrader": {
     "grade": false,
     "locked": true,
     "solution": false
    }
   },
   "source": [
    "**Fin!** Remember to test your solutions by running them as the autograder will: restart the kernel and run all cells from \"top-to-bottom.\" Also remember to submit to the autograder; otherwise, you will **not** get credit for your hard work!"
   ]
  }
 ],
 "metadata": {
  "kernelspec": {
   "display_name": "Python 3",
   "language": "python",
   "name": "python3"
  },
  "language_info": {
   "codemirror_mode": {
    "name": "ipython",
    "version": 3
   },
   "file_extension": ".py",
   "mimetype": "text/x-python",
   "name": "python",
   "nbconvert_exporter": "python",
   "pygments_lexer": "ipython3",
   "version": "3.7.6"
  }
 },
 "nbformat": 4,
 "nbformat_minor": 2
}
