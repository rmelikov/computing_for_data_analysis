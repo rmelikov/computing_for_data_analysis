{
 "cells": [
  {
   "cell_type": "markdown",
   "metadata": {},
   "source": [
    "# Problem 15: The Forward Pass of a Neural Network\n",
    "\n",
    "_Version 1.2_"
   ]
  },
  {
   "cell_type": "markdown",
   "metadata": {
    "deletable": false,
    "editable": false,
    "nbgrader": {
     "grade": false,
     "locked": true,
     "solution": false
    }
   },
   "source": [
    "Neural networks are a set of algorithms for pattern recognition. They are loosely inspired by the human brain, and have proven especially useful in data clustering and classification tasks.\n",
    "\n",
    "In this problem, you will use your knowledge of Python and Numpy to speed-up a common computational kernel that arises in neural networks."
   ]
  },
  {
   "cell_type": "markdown",
   "metadata": {
    "deletable": false,
    "editable": false,
    "nbgrader": {
     "grade": false,
     "locked": true,
     "solution": false
    }
   },
   "source": [
    "**Example: a \"fully connected layer\" for images.** Suppose the data we are analyzing consists of $N$ two-dimensional images of size $H \\times W$ pixels each. In a neural network, a typical substep is the evaluation of a \"fully connected (FC) layer,\" which takes the images as input and produces a vector of outputs, with one vector per image.\n",
    "\n",
    "Mathematically, here is a simplified example of what a typical FC layer calculation might look like. Let $x[k, i, j]$ denote the value (e.g., intensity) of the pixel at location $(i, j)$ of the $k$-th input image. Since there are $N$ images, take the values of $k$ to be in the range of 0 to $N-1$, respectively. And since each image is $H \\times W$, take $0 \\leq i \\leq H-1$ and $0 \\leq j \\leq W-1$. Next, let $\\mathrm{out}[k, l]$ denote an output value in the $l$-th element of a vector associated with image $k$, where $0 \\leq l \\leq M-1$, for some given value of $M$. Lastly, suppose the specific  formula for transforming the input images into this collection of output vectors is given by the formula,\n",
    "\n",
    "$$\n",
    "\\mathrm{out}[k, l] = b[l] + \\sum_{i=0}^{H-1} \\sum_{j=0}^{W-1} \\left(x[k, i, j] \\times w[l, i, j]\\right)\n",
    "$$\n",
    "\n",
    "where $w[l, i, j]$ are \"weights\" and $b[l]$ are \"biases.\" The process of \"training\" the neural network from sample data determines these weight and bias parameters, but for this problem, just assume that they are given.\n",
    "\n",
    "If it's helpful, here is a picture of what this formula is doing for each $(k, l)$ pair:\n",
    "<img src = \"fully_connected.png\" width = \"600\">"
   ]
  },
  {
   "cell_type": "markdown",
   "metadata": {
    "deletable": false,
    "editable": false,
    "nbgrader": {
     "grade": false,
     "locked": true,
     "solution": false
    }
   },
   "source": [
    "**The baseline implementation.** In the code cells below, we define a Python function, `FC_naive(x, w, b)`, that implements the FC layer calculation from above using a straightforward, albeit somewhat naive, method. Your goal is to make this baseline run faster.\n",
    "\n",
    "To start, first run the next three code cells to estimate the time of the baseline implementation."
   ]
  },
  {
   "cell_type": "code",
   "execution_count": 5,
   "metadata": {},
   "outputs": [
    {
     "name": "stdout",
     "output_type": "stream",
     "text": [
      "5 6 7 8 9 10 "
     ]
    }
   ],
   "source": [
    "from itertools import count\n",
    "for i in count(5):\n",
    "    if i > 10: break\n",
    "    print(i, end = ' ')"
   ]
  },
  {
   "cell_type": "code",
   "execution_count": 6,
   "metadata": {
    "deletable": false,
    "editable": false,
    "nbgrader": {
     "grade": false,
     "locked": true,
     "solution": false
    }
   },
   "outputs": [],
   "source": [
    "import numpy as np\n",
    "import time\n",
    "\n",
    "def rel_error(x, y):\n",
    "    return np.max(np.abs(x - y) / (np.maximum(1e-8, np.abs(x) + np.abs(y))))"
   ]
  },
  {
   "cell_type": "code",
   "execution_count": 7,
   "metadata": {
    "deletable": false,
    "editable": false,
    "nbgrader": {
     "grade": false,
     "locked": true,
     "solution": false
    }
   },
   "outputs": [],
   "source": [
    "def FC_naive(x, w, b):\n",
    "    \"\"\"\n",
    "    Inputs:\n",
    "    - x: A numpy array of images of shape (N, H, W)\n",
    "    - w: A numpy array of weights of shape (M, H, W)\n",
    "    - b: A numpy vector of biases of size M\n",
    "\n",
    "    Returns: \n",
    "    - out: a numpy array of shape (N, M)\n",
    "    \"\"\"\n",
    "    N, H, W = x.shape\n",
    "    M, _, _ = w.shape\n",
    "    out = np.zeros((N,M))\n",
    "    for ni in range(N):\n",
    "        for mi in range(M):\n",
    "                out[ni,mi] = b[mi]\n",
    "                for d1 in range(H):\n",
    "                    for d2 in range(W):\n",
    "                        out[ni,mi] += x[ni, d1, d2] * w[mi, d1, d2] \n",
    "    return out"
   ]
  },
  {
   "cell_type": "code",
   "execution_count": 8,
   "metadata": {
    "deletable": false,
    "editable": false,
    "nbgrader": {
     "grade": false,
     "locked": true,
     "solution": false
    }
   },
   "outputs": [
    {
     "name": "stdout",
     "output_type": "stream",
     "text": [
      "==> Took 12.7335 seconds.\n"
     ]
    }
   ],
   "source": [
    "num_inputs = 50\n",
    "input_shape = (128, 256)\n",
    "output_dim = 10\n",
    "\n",
    "x = np.random.rand(num_inputs, *input_shape)\n",
    "w = np.random.rand(output_dim, *input_shape)\n",
    "b = np.random.rand(output_dim)\n",
    "start_time = time.time ()\n",
    "out = FC_naive(x, w, b)\n",
    "elapsed_time = time.time () - start_time\n",
    "print (\"==> Took %g seconds.\" % elapsed_time)"
   ]
  },
  {
   "cell_type": "markdown",
   "metadata": {
    "deletable": false,
    "editable": false,
    "nbgrader": {
     "grade": false,
     "locked": true,
     "solution": false
    }
   },
   "source": [
    "**Exercise 1** (5 points). Let's start by seeing if we can make `FC_naive()` function faster by rewriting the two innermost loops, i.e., the `d1` and `d2` loops:\n",
    "\n",
    "```python\n",
    "for d1 in range(H):\n",
    "    for d2 in range(W):\n",
    "        out[ni, mi] += x[ni, d1, d2] * w[mi, d1, d2]\n",
    "```\n",
    "\n",
    "For this exercise, complete the function `two_inner_loops(x_i, w_l, b_j)`, below, so that it implements the same computation as these two `d1` and `d2` loops, but is much faster. It should return `out[ni, mi]`. The input `x_i` is the `i`-th image, `w_l` is the `l`-th weight matrix, and `b_l` is the `l`-th component of the bias vector.\n",
    "\n",
    "The test code will check your results and benchmark a complete FC layer using the function `FC_two_loops()`, defined below. You'll see that it calls your `two_inner_loops()` routine to implement the two innermost loops.\n",
    "\n",
    "To get credit on this exercise, the resulting execution time of `FC_two_loops()` must be at least **100 times faster** than `FC_naive()` on the problem sizes being tested below when running on the Vocareum platform. There is no partial credit for smaller speedups. Having said that, a little bit of basic Numpy should go a long way."
   ]
  },
  {
   "cell_type": "code",
   "execution_count": 9,
   "metadata": {},
   "outputs": [],
   "source": [
    "def two_inner_loops(x_i, w_l, b_l):\n",
    "    \"\"\"\n",
    "    Inputs:\n",
    "    - x_i: A numpy array of images of shape (H, W)\n",
    "    - w_l: A numpy array of weights of shape (H, W)\n",
    "    - b_l: A float (single number)\n",
    "\n",
    "    Returns: \n",
    "    - out: A float (single number)\n",
    "    \"\"\"\n",
    "    return np.sum(np.multiply(x_i, w_l)) + b_l\n"
   ]
  },
  {
   "cell_type": "code",
   "execution_count": 10,
   "metadata": {
    "deletable": false,
    "editable": false,
    "nbgrader": {
     "grade": true,
     "grade_id": "FC_two_loops",
     "locked": true,
     "points": "5",
     "solution": false
    }
   },
   "outputs": [
    {
     "name": "stdout",
     "output_type": "stream",
     "text": [
      "Checking the correctness of your implementation...\n",
      "==> Output error: 6.344439372877484e-15\n",
      "==> This level of error is acceptable.\n",
      "\n",
      "Benchmarking your code...\n",
      "18.5 ms ± 521 µs per loop (mean ± std. dev. of 7 runs, 100 loops each)\n",
      "==> Took 0.0185347 seconds.\n",
      "\n",
      "Benchmarking the naive code...\n",
      "12.2 s ± 194 ms per loop (mean ± std. dev. of 7 runs, 1 loop each)\n",
      "==> Took 12.2305 seconds.\n",
      "Speed-up: 659.8674341373804\n",
      "\n",
      "(Passed!)\n"
     ]
    }
   ],
   "source": [
    "# Test cell: 'FC_two_loops_1' (5 points)\n",
    "\n",
    "def FC_two_loops(x, w, b):\n",
    "    \"\"\"\n",
    "    Inputs:\n",
    "    - x: A numpy array of images of shape (N, H, W)\n",
    "    - w: A numpy array of weights of shape (M, H, W)\n",
    "    - b: A numpy vector of biases of size M\n",
    "\n",
    "    Returns: \n",
    "    - out: a numpy array of shape (N, M)\n",
    "    \"\"\"\n",
    "    N, H, W = x.shape\n",
    "    M, _, _ = w.shape\n",
    "    out = np.zeros((N,M))\n",
    "    for ni in range(N):\n",
    "           for mi in range(M):\n",
    "                out[ni, mi] = two_inner_loops(x[ni,  :, :], w[mi,  :, :], b[mi])\n",
    "    return out\n",
    "\n",
    "num_inputs = 50\n",
    "input_shape = (128, 256)\n",
    "output_dim = 10\n",
    "\n",
    "x = np.random.rand(num_inputs, *input_shape)\n",
    "w = np.random.rand(output_dim, *input_shape)\n",
    "b = np.random.rand(output_dim)\n",
    "\n",
    "print(\"Checking the correctness of your implementation...\")\n",
    "out_fast = FC_two_loops(x, w, b)\n",
    "out_naive = FC_naive(x, w, b)\n",
    "error = rel_error(out_naive, out_fast)\n",
    "print(\"==> Output error:\", error)\n",
    "assert error < 1e-12, \"The value of your output is incorrect or not accurate enough\"\n",
    "print(\"==> This level of error is acceptable.\")\n",
    "\n",
    "print(\"\\nBenchmarking your code...\")\n",
    "T_fast = %timeit -o FC_two_loops(x, w, b)\n",
    "#start_time = time.time ()\n",
    "#for i in range(5):\n",
    "#    out_fast = FC_two_loops(x, w, b)\n",
    "#elapsed_time_fast = (time.time () - start_time)/5\n",
    "elapsed_time_fast = np.average(T_fast.all_runs) / T_fast.loops\n",
    "print (\"==> Took %g seconds.\" % elapsed_time_fast)\n",
    "\n",
    "print(\"\\nBenchmarking the naive code...\")\n",
    "T_naive = %timeit -o FC_naive(x, w, b)\n",
    "#start_time = time.time ()\n",
    "#for i in range(5):\n",
    "#    out_naive = FC_naive(x, w, b)\n",
    "#elapsed_time_naive = (time.time () - start_time)/5\n",
    "elapsed_time_naive = np.average(T_naive.all_runs) / T_naive.loops\n",
    "print (\"==> Took %g seconds.\" % elapsed_time_naive)\n",
    "\n",
    "speed_up = elapsed_time_naive/elapsed_time_fast\n",
    "print(\"Speed-up:\", speed_up)\n",
    "assert speed_up >= 100, \"The speed-up of your method is less than 100\"\n",
    "\n",
    "print(\"\\n(Passed!)\")"
   ]
  },
  {
   "cell_type": "markdown",
   "metadata": {
    "deletable": false,
    "editable": false,
    "nbgrader": {
     "grade": false,
     "locked": true,
     "solution": false
    }
   },
   "source": [
    "**Question 2** (5 points). Now, completely rewrite the `FC_naive()` function by at least **2,000 times**.\n",
    "\n",
    "> This improvement can be attained with basic Numpy operations that you've learned (i.e., no \"new\" functions) and no explicit loops."
   ]
  },
  {
   "cell_type": "code",
   "execution_count": 101,
   "metadata": {},
   "outputs": [],
   "source": [
    "def FC_no_loop(x, w, b):\n",
    "    \"\"\"\n",
    "    Inputs:\n",
    "    - x: A numpy array of images of shape (N, H, W)\n",
    "    - w: A numpy array of weights of shape (M, H, W)\n",
    "    - b: A numpy vector of biases of size M\n",
    "\n",
    "    Returns: \n",
    "    - out: a numpy array of shape (N, M)\n",
    "    \"\"\"\n",
    "    N, H, W = x.shape\n",
    "    M, _, _ = w.shape\n",
    "    out = np.zeros((N,M))\n",
    "    x = np.reshape(x, (N, H*W))\n",
    "    w = np.reshape(w, (M, H*W))\n",
    "    #out = x @ w.T + b\n",
    "    out = np.matmul(x, w.T) + b\n",
    "    return out"
   ]
  },
  {
   "cell_type": "code",
   "execution_count": 99,
   "metadata": {
    "scrolled": true
   },
   "outputs": [
    {
     "data": {
      "text/plain": [
       "array([[0.03914401, 0.5864001 , 0.71874931, 0.11727744, 0.82320592,\n",
       "        0.2437209 , 0.62509886, 0.76155648, 0.05291754, 0.49064931,\n",
       "        0.78501498, 0.94810241, 0.73740535, 0.19162696, 0.90076777],\n",
       "       [0.31776557, 0.86562932, 0.38322886, 0.78061744, 0.11184559,\n",
       "        0.64858118, 0.84699732, 0.91938707, 0.91389242, 0.45003696,\n",
       "        0.08959259, 0.2265762 , 0.58623963, 0.36740506, 0.77039268],\n",
       "       [0.40074013, 0.30371424, 0.69846621, 0.54899445, 0.23226717,\n",
       "        0.65208801, 0.66517656, 0.20873663, 0.86778472, 0.46221803,\n",
       "        0.96941706, 0.9453924 , 0.22766548, 0.60950564, 0.06304842],\n",
       "       [0.9593062 , 0.51081238, 0.62722386, 0.1265792 , 0.32704114,\n",
       "        0.09925006, 0.56438055, 0.20119598, 0.36590146, 0.76860622,\n",
       "        0.05584117, 0.37972464, 0.98830831, 0.42552853, 0.99561701]])"
      ]
     },
     "execution_count": 99,
     "metadata": {},
     "output_type": "execute_result"
    }
   ],
   "source": [
    "num_inputs = 4\n",
    "output_dim = 2\n",
    "input_shape = (3, 5)\n",
    "x = np.random.rand(num_inputs, *input_shape)\n",
    "w = np.random.rand(output_dim, *input_shape)\n",
    "b = np.random.rand(output_dim)\n",
    "\n",
    "N, H, W = x.shape\n",
    "M, _, _ = w.shape\n",
    "(N, H*W)\n",
    "#x.shape\n",
    "#out = np.zeros((N,M))\n",
    "#x = np.reshape(x, (N, H*W))\n",
    "#w = np.reshape(w, (M, H*W))\n",
    "#out = x @ w.T + b\n",
    "##out\n",
    "np.reshape(x, (N, H*W))\n",
    "\n",
    "#return (np.sum((X[:, np.newaxis, :] - X[np.newaxis, :, :]) ** 2, axis = -1))**.5"
   ]
  },
  {
   "cell_type": "code",
   "execution_count": 89,
   "metadata": {},
   "outputs": [
    {
     "data": {
      "text/plain": [
       "array([[[0.44726217, 0.47200521, 0.68538702, 0.2878556 , 0.11058171],\n",
       "        [0.36614354, 0.75822343, 0.51937557, 0.27832948, 0.29582117],\n",
       "        [0.02182309, 0.31758685, 0.0199058 , 0.58921998, 0.26170271]],\n",
       "\n",
       "       [[0.96191295, 0.69288992, 0.24357373, 0.00643333, 0.83717509],\n",
       "        [0.13992871, 0.52638467, 0.92951979, 0.83248554, 0.82927749],\n",
       "        [0.648922  , 0.35620569, 0.75585358, 0.19428066, 0.36018549]],\n",
       "\n",
       "       [[0.36457812, 0.20437979, 0.70242075, 0.7912644 , 0.65078227],\n",
       "        [0.52069965, 0.12443479, 0.1358343 , 0.38920819, 0.19624455],\n",
       "        [0.48782709, 0.4691875 , 0.01997237, 0.34066853, 0.92549019]],\n",
       "\n",
       "       [[0.59774719, 0.37651439, 0.53459833, 0.08198689, 0.8335332 ],\n",
       "        [0.49476061, 0.99848124, 0.10040248, 0.73720644, 0.78363202],\n",
       "        [0.05020277, 0.47191501, 0.39441538, 0.78070692, 0.5835159 ]]])"
      ]
     },
     "execution_count": 89,
     "metadata": {},
     "output_type": "execute_result"
    }
   ],
   "source": [
    "x"
   ]
  },
  {
   "cell_type": "code",
   "execution_count": 90,
   "metadata": {},
   "outputs": [
    {
     "data": {
      "text/plain": [
       "array([[[0.44726217, 0.47200521, 0.68538702, 0.2878556 , 0.11058171],\n",
       "        [0.36614354, 0.75822343, 0.51937557, 0.27832948, 0.29582117],\n",
       "        [0.02182309, 0.31758685, 0.0199058 , 0.58921998, 0.26170271]],\n",
       "\n",
       "       [[0.96191295, 0.69288992, 0.24357373, 0.00643333, 0.83717509],\n",
       "        [0.13992871, 0.52638467, 0.92951979, 0.83248554, 0.82927749],\n",
       "        [0.648922  , 0.35620569, 0.75585358, 0.19428066, 0.36018549]],\n",
       "\n",
       "       [[0.36457812, 0.20437979, 0.70242075, 0.7912644 , 0.65078227],\n",
       "        [0.52069965, 0.12443479, 0.1358343 , 0.38920819, 0.19624455],\n",
       "        [0.48782709, 0.4691875 , 0.01997237, 0.34066853, 0.92549019]],\n",
       "\n",
       "       [[0.59774719, 0.37651439, 0.53459833, 0.08198689, 0.8335332 ],\n",
       "        [0.49476061, 0.99848124, 0.10040248, 0.73720644, 0.78363202],\n",
       "        [0.05020277, 0.47191501, 0.39441538, 0.78070692, 0.5835159 ]]])"
      ]
     },
     "execution_count": 90,
     "metadata": {},
     "output_type": "execute_result"
    }
   ],
   "source": [
    "x[:]"
   ]
  },
  {
   "cell_type": "code",
   "execution_count": 97,
   "metadata": {
    "scrolled": false
   },
   "outputs": [
    {
     "data": {
      "text/plain": [
       "True"
      ]
     },
     "execution_count": 97,
     "metadata": {},
     "output_type": "execute_result"
    }
   ],
   "source": [
    "(np.reshape(x, (N, -1)) == np.reshape(x, (N, H*W))).all()"
   ]
  },
  {
   "cell_type": "code",
   "execution_count": 102,
   "metadata": {
    "deletable": false,
    "editable": false,
    "nbgrader": {
     "grade": true,
     "grade_id": "FC_no_loop",
     "locked": true,
     "points": "5",
     "solution": false
    }
   },
   "outputs": [
    {
     "name": "stdout",
     "output_type": "stream",
     "text": [
      "Checking the correctness of your implementation...\n",
      "==> Output error: 6.833786658688915e-15\n",
      "==> This level of error is acceptable.\n",
      "\n",
      "Benchmarking your code...\n",
      "1.6 ms ± 31.6 µs per loop (mean ± std. dev. of 7 runs, 1000 loops each)\n",
      "==> Took 0.00160223 seconds.\n",
      "\n",
      "Benchmarking the naive code...\n",
      "14.7 s ± 612 ms per loop (mean ± std. dev. of 7 runs, 1 loop each)\n",
      "==> Took 14.6761 seconds.\n",
      "Speed-up: 9159.833853490416\n",
      "\n",
      "(Passed!)\n"
     ]
    }
   ],
   "source": [
    "# Test cell: 'FC_no_loop' (5 points)\n",
    "num_inputs = 50\n",
    "input_shape = (128, 256)\n",
    "output_dim = 10\n",
    "\n",
    "x = np.random.rand(num_inputs, *input_shape)\n",
    "w = np.random.rand(output_dim, *input_shape)\n",
    "b = np.random.rand(output_dim)\n",
    "\n",
    "print(\"Checking the correctness of your implementation...\")\n",
    "out_fast = FC_no_loop(x, w, b)\n",
    "out_naive = FC_naive(x, w, b)\n",
    "error = rel_error(out_naive, out_fast)\n",
    "print(\"==> Output error:\", error)\n",
    "assert error < 1e-12, \"The value of your output is incorrect or not accurate enough\"\n",
    "print(\"==> This level of error is acceptable.\")\n",
    "\n",
    "print(\"\\nBenchmarking your code...\")\n",
    "T_fast = %timeit -o FC_no_loop(x, w, b)\n",
    "elapsed_time_fast = np.average(T_fast.all_runs) / T_fast.loops\n",
    "print (\"==> Took %g seconds.\" % elapsed_time_fast)\n",
    "\n",
    "print(\"\\nBenchmarking the naive code...\")\n",
    "T_naive = %timeit -o FC_naive(x, w, b)\n",
    "elapsed_time_naive = np.average(T_naive.all_runs) / T_naive.loops\n",
    "print (\"==> Took %g seconds.\" % elapsed_time_naive)\n",
    "\n",
    "speed_up = elapsed_time_naive/elapsed_time_fast\n",
    "print(\"Speed-up:\", speed_up)\n",
    "assert speed_up >= 2000, \"The speed-up of your method is less than 2000\"\n",
    "\n",
    "print(\"\\n(Passed!)\")"
   ]
  },
  {
   "cell_type": "markdown",
   "metadata": {
    "deletable": false,
    "editable": false,
    "nbgrader": {
     "grade": false,
     "locked": true,
     "solution": false
    }
   },
   "source": [
    "**Fin!** You've reached the end of this problem. Don't forget to restart the\n",
    "kernel and run the entire notebook from top-to-bottom to make sure you did\n",
    "everything correctly. If that is working, try submitting this problem. (Recall\n",
    "that you *must* submit and pass the autograder to get credit for your work!)"
   ]
  }
 ],
 "metadata": {
  "kernelspec": {
   "display_name": "Python 3",
   "language": "python",
   "name": "python3"
  },
  "language_info": {
   "codemirror_mode": {
    "name": "ipython",
    "version": 3
   },
   "file_extension": ".py",
   "mimetype": "text/x-python",
   "name": "python",
   "nbconvert_exporter": "python",
   "pygments_lexer": "ipython3",
   "version": "3.7.4"
  }
 },
 "nbformat": 4,
 "nbformat_minor": 2
}
