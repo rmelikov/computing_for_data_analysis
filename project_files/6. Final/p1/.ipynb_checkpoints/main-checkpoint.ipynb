{
 "cells": [
  {
   "cell_type": "markdown",
   "metadata": {
    "deletable": false,
    "editable": false,
    "nbgrader": {
     "grade": false,
     "locked": true,
     "solution": false
    }
   },
   "source": [
    "# Problem 1: Key sentences (10 points)\n",
    "\n",
    "_Version 1.1_\n",
    "\n",
    "In this notebook, you'll implement a procedure that attempts to summarize a long document by identifying and ranking important sentences _automatically_. It exercises your understanding of the singular value decomposition (SVD), Numpy, and some basic Python string manipulation. It is worth ten (10) points in total. While the exercises build on one another conceptually, we have precomputed solutions you'll need in each instance so that you can complete them in any order, similar to the Midterm 2 problems.\n",
    "\n",
    "* Exercise 0: 2 points\n",
    "* Exercise 1: 2 points\n",
    "* Exercise 2: 3 points\n",
    "* Exercise 3: 2 points\n",
    "* Exercise 4: 1 point\n",
    "\n",
    "> **Note 0.** Exercises 0-2 are \"pure coding\" exercises. To solve Exercises 3 and 4, you'll need a little bit of math.\n",
    ">\n",
    "> **Note 1.** When you submit to the autograder, there will be a strict 60-second time limit to execute your notebook. So if you notice your codes are taking much longer than that to run, reconsider your approach! Our reference solutions complete in less than 10 seconds.\n",
    "\n",
    "**Pro-tips.**\n",
    "- If your program behavior seem strange, try resetting the kernel and rerunning everything.\n",
    "- If you mess up this notebook or just want to start from scratch, save copies of all your partial responses and use `Actions` $\\rightarrow$ `Reset Assignment` to get a fresh, original copy of this notebook. (_Resetting will wipe out any answers you've written so far, so be sure to stash those somewhere safe if you intend to keep or reuse them!_)\n",
    "- If you generate excessive output (e.g., from a ill-placed `print` statement), causing the notebook to load slowly or not at all, use `Actions` $\\rightarrow$ `Clear Notebook Output` to get a clean copy. The clean copy will retain your code but remove any generated output. **However**, it will also **rename** the notebook to `clean.xxx.ipynb`. Since the autograder expects a notebook file with the original name, you'll need to rename the clean notebook accordingly.\n",
    "\n",
    "**Revision history.**\n",
    "* Version 1.1: Corrected some grammatical errors [Th Apr 23]\n",
    "* Version 1.0: Initial release"
   ]
  },
  {
   "cell_type": "markdown",
   "metadata": {
    "deletable": false,
    "editable": false,
    "nbgrader": {
     "grade": false,
     "locked": true,
     "solution": false
    }
   },
   "source": [
    "## Setup ##\n",
    "\n",
    "Run the following code cells, which will load the modules you'll need."
   ]
  },
  {
   "cell_type": "code",
   "execution_count": 1,
   "metadata": {
    "deletable": false,
    "editable": false,
    "nbgrader": {
     "grade": false,
     "locked": true,
     "solution": false
    }
   },
   "outputs": [
    {
     "name": "stdout",
     "output_type": "stream",
     "text": [
      "* Python version: 3.7.4 (tags/v3.7.4:e09359112e, Jul  8 2019, 20:34:20) [MSC v.1916 64 bit (AMD64)]\n",
      "* Numpy version: 1.18.1\n",
      "* Scipy version: 1.4.1\n",
      "* Matplotlib version: 3.1.2\n"
     ]
    }
   ],
   "source": [
    "import sys\n",
    "print(\"* Python version:\", sys.version)\n",
    "\n",
    "import pickle\n",
    "\n",
    "from problem_utils import get_path\n",
    "\n",
    "# The usual suspects\n",
    "import numpy as np\n",
    "import scipy as sp\n",
    "\n",
    "import matplotlib\n",
    "import matplotlib.pyplot as plt\n",
    "%matplotlib inline\n",
    "\n",
    "print(\"* Numpy version:\", np.__version__)\n",
    "print(\"* Scipy version:\", sp.__version__)\n",
    "print(\"* Matplotlib version:\", matplotlib.__version__)"
   ]
  },
  {
   "cell_type": "markdown",
   "metadata": {
    "deletable": false,
    "editable": false,
    "nbgrader": {
     "grade": false,
     "locked": true,
     "solution": false
    }
   },
   "source": [
    "## Background ##\n",
    "\n",
    "Suppose you have a long report or document to read but limited time. Which sentences are the most important? In this notebook, you'll formulate the task of finding key sentences as a linear algebra problem, and see if such an automatic method can help."
   ]
  },
  {
   "cell_type": "markdown",
   "metadata": {
    "deletable": false,
    "editable": false,
    "nbgrader": {
     "grade": false,
     "locked": true,
     "solution": false
    }
   },
   "source": [
    "**Idea.** Let's start with the following intuitive idea:\n",
    "\n",
    "> A sentence is _important_ if it contains many important words. And a word is important if it appears in many important sentences.\n",
    "\n",
    "At first glance, this idea seems a bit circular! But it turns out we can formulate it as a well-defined mathematical problem in the language of linear algebra."
   ]
  },
  {
   "cell_type": "markdown",
   "metadata": {
    "deletable": false,
    "editable": false,
    "nbgrader": {
     "grade": false,
     "locked": true,
     "solution": false
    }
   },
   "source": [
    "**Data representation.** Suppose the document consists of $n$ distinct sentences and $m$ _unique_ words. Next, let $i$ be a word and let $j$ be a sentence. Furthermore, let $n_i$ denote the number of sentences containing word $i$. We can represent the document by a matrix $A$, called the _term-sentence matrix_, where each entry $a_{i,j}$ is defined as\n",
    "\n",
    "$$\n",
    "  a_{i,j} = \\left\\{ \\begin{array}{cl}\n",
    "          \\dfrac{1}{\\ln \\left( \\frac{n+1}{n_i} \\right)} & \\mbox{if word $i$ appears in sentence $j$, or} \\\\\n",
    "          0                                             & \\mbox{otherwise.}\n",
    "      \\end{array} \\right.\n",
    "$$\n",
    "\n",
    "Here, $\\ln x$ denotes the natural logarithm of $x$. Observe that $a_{i,j}$ tends to be small if $i$ does not appear in many sentences (i.e., $n_i$ is small). The $n+1$ ensures that we do not divide by zero when calculating $a_{i,j}$; in particular, even if word $i$ appears in every sentence ($n_i = n$), the value $\\ln \\frac{n+1}{n_i} > 0$. Lastly, you'd expect each sentence to contain just a few of the possible words. Therefore, you might expect $A$ to be sparse. "
   ]
  },
  {
   "cell_type": "markdown",
   "metadata": {},
   "source": [
    "**A mathematical formulation of the task.** Given word $i$ and sentence $j$, let's denote word $i$'s _importance score_ by $w_i$, and let $s_j$ denote the importance score of sentence $j$. These scores are just numbers on an arbitrary scale, but let's take them to be non-negative ($w_i, s_j \\geq 0$).\n",
    "\n",
    "We said we think these scores are inter-related. Suppose we believe these relationships are _linear_. Then we might model their relationships by\n",
    "\n",
    "$$\\begin{eqnarray}\n",
    "w_i & \\, \\propto \\, & \\sum_j a_{i,j} \\, s_j \\\\\n",
    "s_j & \\, \\propto \\, & \\sum_i a_{j,i} \\, w_i,\n",
    "\\end{eqnarray}$$\n",
    "\n",
    "where the $\\propto$ symbol means _proportional to_. So, the first formula says that if word $i$ appears in sentence $j$, meaning $a_{i,j} \\neq 0$, then $i$'s score, $w_i$, increases in proportion to $j$'s score, $s_j$. The second formula is interpreted analogously.\n",
    "\n",
    "**If we know $w_i$ and $s_j$ for every word $i$ and every sentence $j$, then the most important words and sentences should have the largest scores.** Thus, similar to the webpage ranking problem of Notebook 11, we can use these scores to rank words or sentences."
   ]
  },
  {
   "cell_type": "markdown",
   "metadata": {
    "deletable": false,
    "editable": false,
    "nbgrader": {
     "grade": false,
     "locked": true,
     "solution": false
    }
   },
   "source": [
    "Right away, you should recognize these two formulae can be rewritten in matrix form. Letting $w = [ w_0, w_1, \\ldots, w_{m-1} ]$ be the (column) vector of word scores and $s = [s_0, s_1, \\ldots, s_{n-1}]$ be the (column) vector of sentence scores, we can define $w$ and $s$ as\n",
    "\n",
    "$$  \n",
    "\\begin{eqnarray}\n",
    "  c_w \\, w & = & A \\, s \\\\\n",
    "  c_s \\, s & = & A^T \\, w,\n",
    "\\end{eqnarray}  \n",
    "$$\n",
    "\n",
    "where $c_w$ and $c_s$ are two _unknown_ constants. (They are unknown because we only said that scores have proportional relationships, so there may be an arbitrary scaling factor.)"
   ]
  },
  {
   "cell_type": "markdown",
   "metadata": {},
   "source": [
    "Going one step further, let's plug these two equations into one another to obtain the following:\n",
    "\n",
    "$$\n",
    "\\begin{eqnarray}\n",
    "  (A A^T) \\, w & = & (c_s c_w) \\, w \\\\\n",
    "  (A^T A) \\, s & = & (c_w c_s) \\, s.\n",
    "\\end{eqnarray}\n",
    "$$"
   ]
  },
  {
   "cell_type": "markdown",
   "metadata": {},
   "source": [
    "#### Start of note by me (Ramin Melikov)\n",
    "\n",
    "We know that $A$ is an $m \\times n$ matrix and we know that $A^T$ is an $n \\times m$ matrix. Multiplying one by the other or the other by one will give us either an $m \\times m$ matrix or an $n \\times n$ matrix — both square matrices! And if we have a square matrix, then we can derive eigenvalues and eigenvectors if we'll get it into the form $Av = \\lambda v$.\n",
    "\n",
    "To arrive at the equations below, we want to multiply the top equation by $A^T$ on the left on both sides. We also want to do the same thing with the bottom equation but we want to multiply it by $A$.\n",
    "\n",
    "So, let's first work with the first equation. Let's multiply it by $A^T$ on the left.\n",
    "\n",
    "$$\n",
    "A^Tc_{w}w = A^TAs\n",
    "$$\n",
    "\n",
    "$$c_{w}A^Tw = A^TAs$$\n",
    "\n",
    "From the second equation, we know that $c_{s}s = A^Tw$. So, let's replace $A^Tw$ with $c_{s}s$ in the first equation. Here is what we get:\n",
    "\n",
    "$$c_{w}c_{s}s = A^TAs$$\n",
    "\n",
    "$$(c_{w}c_{s})s = (A^TA)s$$\n",
    "\n",
    "Let's now work with the second equation and multiply it by $A$ on the left.\n",
    "\n",
    "$$Ac_{s}s = AA^Tw$$\n",
    "\n",
    "$$c_{s}As = AA^Tw$$\n",
    "\n",
    "Similarly, we know from the first equation that $As = c_{w}w$. So, let's replace $As$ with $c_{w}w$. Here is what we get:\n",
    "\n",
    "$$c_{s}c_{w}w = AA^Tw$$\n",
    "\n",
    "$$(c_{s}c_{w})w = (AA^T)w$$\n",
    "\n",
    "That's how we arrive at these equations.\n",
    "\n",
    "$$(AA^T)w = (c_{s}c_{w})w$$\n",
    "\n",
    "$$(A^TA)s = (c_{w}c_{s})s$$\n",
    "\n",
    "#### End of note"
   ]
  },
  {
   "cell_type": "markdown",
   "metadata": {
    "deletable": false,
    "editable": false,
    "nbgrader": {
     "grade": false,
     "locked": true,
     "solution": false
    }
   },
   "source": [
    "That should look familiar: it's an eigenvalue problem! In particular, $c_s c_w$ is an eigenvalue of the $m \\times m$ matrix $A A^T$, whose corresponding eigenvector is $w$. Similarly, $c_w c_s = c_s c_w$ is _also_ an eigenvalue of the $n \\times n$ matrix $A^T A$, whose corresponding eigenvector is $s$.\n",
    "\n",
    "Recall that every matrix has a singular value decomposition. Suppose we were to give you one of the singular values of $A$---call it $\\sigma_0$ and suppose it is the largest one. Let's say we also give you the left and right singular vectors---call them, $u_0$ and $v_0$, respectively---for $\\sigma_0$. From these, **you should be able to figure out how to obtain $w$ and $s$ from $u_0$ and/or $v_0$.** _(Notebook 15, anyone?)_\n",
    "\n",
    "> Aside: Recall that the singular values are always non-negative. Furthermore, since the entries of $A$ are also non-negative, if $\\sigma_0$ is the largest singular value, then it turns out that $u_0$ and $v_0$ are also non-negative. You'll need this fact later."
   ]
  },
  {
   "cell_type": "markdown",
   "metadata": {
    "deletable": false,
    "editable": false,
    "nbgrader": {
     "grade": false,
     "locked": true,
     "solution": false
    }
   },
   "source": [
    "**An algorithm.** From the background above, we now have a \"simple\" algorithm to rank words and sentences.\n",
    "\n",
    "1. Given a document, construct the word-sentence matrix $A$.\n",
    "2. Compute the **largest** (or **principal**) singular value and corresponding singular vectors of $A$. Denote the singular value by $\\sigma_0$ and the left- and right-singular vectors as $u_0$ and $v_0$, respectively.\n",
    "3. Use $u_0$ and $v_0$ to rank words and sentences. (**You** need to figure out the relationship between $w$ and $s$ and $u_0$ and $v_0$!)"
   ]
  },
  {
   "cell_type": "markdown",
   "metadata": {
    "deletable": false,
    "editable": false,
    "nbgrader": {
     "grade": false,
     "locked": true,
     "solution": false
    }
   },
   "source": [
    "## Exercises ##\n",
    "\n",
    "In the exercises below, there are two major steps. First, you need to write some code to clean a document and construct a _sparse_ term-sentence matrix. These are Exercises 0-2. Then, you need to implement the scoring algorithm above (see \"**An algorithm**\"), which are Exercises 3 and 4."
   ]
  },
  {
   "cell_type": "markdown",
   "metadata": {
    "deletable": false,
    "editable": false,
    "nbgrader": {
     "grade": false,
     "locked": true,
     "solution": false
    }
   },
   "source": [
    "**Sample data.** Let's use as our sample dataset [a recent article from the New York Times](https://www.nytimes.com/2020/04/18/us/coronavirus-women-essential-workers.html). Here is some code to read the raw contents of this article from a text file, splitting it into a list of lines named `raw_doc`:"
   ]
  },
  {
   "cell_type": "code",
   "execution_count": 2,
   "metadata": {
    "deletable": false,
    "editable": false,
    "nbgrader": {
     "grade": false,
     "locked": true,
     "solution": false
    }
   },
   "outputs": [
    {
     "name": "stdout",
     "output_type": "stream",
     "text": [
      "=== Here are the first 7 lines of the sample document ===\n",
      "\n",
      "* raw_doc[0] == 'How Millions of Women Became the Most Essential Workers in America By Campbell Robertson and Robert Gebeloff April 18, 2020 '\n",
      "\n",
      "* raw_doc[1] == 'Every day, Constance Warren stands behind the cold cuts counter at a grocery store in New Orleans, watching the regular customers come and go. '\n",
      "\n",
      "* raw_doc[2] == 'They thank Ms Warren and tell her they do not like being stuck indoors, waiting out the epidemic. She wraps their honey-smoked turkey and smiles. '\n",
      "\n",
      "* raw_doc[3] == 'It is good to have a job right now, the mixed fortune of being deemed an essential worker. But she wonders whether, once everyday life is safe again, people will remember the role she played when it was not. '\n",
      "\n",
      "* raw_doc[4] == '\"Don\\'t forget that we were open to serve you in your time of need,\" she said on a break one recent workday afternoon. \"You never know when you might need us again.\" '\n",
      "\n",
      "* raw_doc[5] == 'From the cashier to the emergency room nurse to the drugstore pharmacist to the home health aide taking the bus to check on her older client, the soldier on the front lines of the current national emergency is most likely a woman. '\n",
      "\n",
      "* raw_doc[6] == \"One in three jobs held by women has been designated as essential, according to a New York Times analysis of census data crossed with the federal government's essential worker guidelines. Nonwhite women are more likely to be doing essential jobs than anyone else. \"\n",
      "\n",
      "... (and so on) ...\n"
     ]
    }
   ],
   "source": [
    "def read_doc(filepath):\n",
    "    with open(filepath, 'rt', encoding='utf-8') as fp:\n",
    "        doc = [line for line in fp.read().splitlines() if line.strip() != '']\n",
    "    return doc\n",
    "\n",
    "# Read sample file:\n",
    "raw_doc = read_doc(get_path('nyt2.txt'))\n",
    "    \n",
    "print(\"=== Here are the first 7 lines of the sample document ===\")\n",
    "for k, line in enumerate(raw_doc[:7]):\n",
    "    print(f\"\\n* raw_doc[{k}] == {repr(line)}\")\n",
    "print(\"\\n... (and so on) ...\")"
   ]
  },
  {
   "cell_type": "markdown",
   "metadata": {
    "deletable": false,
    "editable": false,
    "nbgrader": {
     "grade": false,
     "locked": true,
     "solution": false
    }
   },
   "source": [
    "### Exercise 0: Extracting sentences (2 points) ###"
   ]
  },
  {
   "cell_type": "markdown",
   "metadata": {
    "deletable": false,
    "editable": false,
    "nbgrader": {
     "grade": false,
     "locked": true,
     "solution": false
    }
   },
   "source": [
    "Recall that each element of `raw_doc` is one line from a file. Each line may contain more than one sentence. For example, `raw_doc[4]` above has two sentences. We want to separate these.\n",
    "\n",
    "Implement the function, `get_sentences(doc)`, below, so that it does so. It should take as input a variable `doc`, which is a list of lines just like `raw_doc` above. It should then return a list of sentences, following this procedure:\n",
    "\n",
    "- Take the lines as-is. That is, do not rejoin the lines; just process them one at a time and assume that a single sentence never crosses between two lines.\n",
    "- Separate each line into sentences. Assume that the following characters delimit sentences: periods (`'.'`), question marks (`'?'`), and exclamation points (`'!'`). These delimiters should be **omitted** from the returned sentences, too.\n",
    "- Remove any leading or trailing spaces in each sentence.\n",
    "- If, after the above, a sentence is blank (the empty string, `''`), that sentence should be omitted.\n",
    "- Return the list of sentences. The sentences must be in the same order that they appear in the file.\n",
    "\n",
    "> **Hint.** The `re` module includes a helpful function named [`re.split()`](https://docs.python.org/3/library/re.html#re.split).\n",
    "\n",
    "The next code cell has an example of the expected input and output."
   ]
  },
  {
   "cell_type": "code",
   "execution_count": 3,
   "metadata": {
    "deletable": false,
    "editable": false,
    "nbgrader": {
     "grade": false,
     "locked": true,
     "solution": false
    }
   },
   "outputs": [],
   "source": [
    "ex0_demo_input = [\"  This is a phrase; this, too, is a phrase. But this is another sentence.\",\n",
    "                  \"Hark!\",\n",
    "                  \"    \",\n",
    "                  \"Come what may    <-- save those spaces, but not these -->    \",\n",
    "                  \"What did you say?Split into 3 (even without a space)? Okie dokie.\"]\n",
    "\n",
    "ex0_demo_output = [\"This is a phrase; this, too, is a phrase\",\n",
    "                   \"But this is another sentence\",\n",
    "                   \"Hark\",\n",
    "                   \"Come what may    <-- save those spaces, but not these -->\",\n",
    "                   \"What did you say\",\n",
    "                   \"Split into 3 (even without a space)\",\n",
    "                   \"Okie dokie\"]"
   ]
  },
  {
   "cell_type": "code",
   "execution_count": 4,
   "metadata": {},
   "outputs": [
    {
     "data": {
      "text/plain": [
       "['This is a phrase; this, too, is a phrase',\n",
       " 'But this is another sentence',\n",
       " 'Hark',\n",
       " 'Come what may    <-- save those spaces, but not these -->',\n",
       " 'What did you say',\n",
       " 'Split into 3 (even without a space)',\n",
       " 'Okie dokie']"
      ]
     },
     "execution_count": 4,
     "metadata": {},
     "output_type": "execute_result"
    }
   ],
   "source": [
    "import re # Maybe re.split() will help?\n",
    "\n",
    "# Complete this function:\n",
    "def get_sentences(doc):\n",
    "    assert isinstance(doc, list)\n",
    "    \n",
    "    '''My Solution'''\n",
    "    ##############################################\n",
    "    sentences = []\n",
    "    for line in doc:\n",
    "        sentences.extend(\n",
    "            [sentence.strip() for sentence in re.split(r'[.?!]', line) if sentence.strip()]\n",
    "        )\n",
    "    return sentences\n",
    "    ##############################################\n",
    "    \n",
    "    \n",
    "    '''School Solution'''\n",
    "    ##############################################\n",
    "    #sentences = []\n",
    "    #for line in doc:\n",
    "    #    line_sentences = [s.strip() for s in re.split('[.?!]', line)]\n",
    "    #    sentences += [s for s in line_sentences if s != '']\n",
    "    #return sentences\n",
    "    ##############################################\n",
    "    \n",
    "    \n",
    "# Demo:\n",
    "get_sentences(ex0_demo_input)"
   ]
  },
  {
   "cell_type": "code",
   "execution_count": 5,
   "metadata": {
    "deletable": false,
    "editable": false,
    "nbgrader": {
     "grade": true,
     "grade_id": "ex0__get_sentences",
     "locked": true,
     "points": "2",
     "solution": false
    }
   },
   "outputs": [
    {
     "name": "stdout",
     "output_type": "stream",
     "text": [
      "=== Trial #0 / 9 ===\n",
      "=== Trial #1 / 9 ===\n",
      "=== Trial #2 / 9 ===\n",
      "=== Trial #3 / 9 ===\n",
      "=== Trial #4 / 9 ===\n",
      "=== Trial #5 / 9 ===\n",
      "=== Trial #6 / 9 ===\n",
      "=== Trial #7 / 9 ===\n",
      "=== Trial #8 / 9 ===\n",
      "=== Trial #9 / 9 ===\n",
      "\n",
      "(Passed.)\n"
     ]
    }
   ],
   "source": [
    "# Test cell: `ex0__get_sentences` (2 points)\n",
    "\n",
    "###\n",
    "### AUTOGRADER TEST - DO NOT REMOVE\n",
    "###\n",
    "\n",
    "# Random tests\n",
    "from problem_utils import ex0_check_one\n",
    "for trial in range(10):\n",
    "    print(f\"=== Trial #{trial} / 9 ===\")\n",
    "    ex0_check_one(get_sentences)\n",
    "\n",
    "print(\"\\n(Passed.)\")"
   ]
  },
  {
   "cell_type": "markdown",
   "metadata": {
    "deletable": false,
    "editable": false,
    "nbgrader": {
     "grade": false,
     "locked": true,
     "solution": false
    }
   },
   "source": [
    "### Precomputed solution for Exercise 0 ###\n",
    "\n",
    "Here is code that loads a precomputed set of sentences for the input document. Regardless of whether your Exercise 0 works or not, please run this cell now so subsequent exercises can continue. It will define a variable named **`raw_sents`**. Subsequent code needs it, so do not modify it!"
   ]
  },
  {
   "cell_type": "code",
   "execution_count": 6,
   "metadata": {
    "deletable": false,
    "editable": false,
    "nbgrader": {
     "grade": false,
     "locked": true,
     "solution": false
    }
   },
   "outputs": [
    {
     "name": "stdout",
     "output_type": "stream",
     "text": [
      "=== First few sentences ===\n",
      "raw_sents[0] == 'How Millions of Women Became the Most Essential Workers in America By Campbell Robertson and Robert Gebeloff April 18, 2020'\n",
      "raw_sents[1] == 'Every day, Constance Warren stands behind the cold cuts counter at a grocery store in New Orleans, watching the regular customers come and go'\n",
      "raw_sents[2] == 'They thank Ms Warren and tell her they do not like being stuck indoors, waiting out the epidemic'\n",
      "raw_sents[3] == 'She wraps their honey-smoked turkey and smiles'\n",
      "raw_sents[4] == 'It is good to have a job right now, the mixed fortune of being deemed an essential worker'\n",
      "raw_sents[5] == 'But she wonders whether, once everyday life is safe again, people will remember the role she played when it was not'\n",
      "raw_sents[6] == '\"Don\\'t forget that we were open to serve you in your time of need,\" she said on a break one recent workday afternoon'\n",
      "raw_sents[7] == '\"You never know when you might need us again'\n",
      "raw_sents[8] == '\"'\n",
      "raw_sents[9] == 'From the cashier to the emergency room nurse to the drugstore pharmacist to the home health aide taking the bus to check on her older client, the soldier on the front lines of the current national emergency is most likely a woman'\n"
     ]
    }
   ],
   "source": [
    "with open(get_path('ex0_soln.txt'), 'rt') as fp:\n",
    "    raw_sents = [s.strip() for s in fp.readlines()]\n",
    "    \n",
    "print(\"=== First few sentences ===\")\n",
    "for k, s in enumerate(raw_sents[:10]):\n",
    "    print(f\"raw_sents[{k}] == {repr(s)}\")"
   ]
  },
  {
   "cell_type": "markdown",
   "metadata": {
    "deletable": false,
    "editable": false,
    "nbgrader": {
     "grade": false,
     "locked": true,
     "solution": false
    }
   },
   "source": [
    "### Stopwords ###\n",
    "\n",
    "Recall that a common text-preprocessing step is to remove _stopwords_. These are words that occur frequently but do not carry substantive meaning.\n",
    "\n",
    "We have determined a collection of stopwords for you. The following code cell creates a **Python set** called `STOPWORDS` containing them. Later, you will filter these words from sentences. Run this cell now."
   ]
  },
  {
   "cell_type": "code",
   "execution_count": 7,
   "metadata": {
    "deletable": false,
    "editable": false,
    "nbgrader": {
     "grade": false,
     "locked": true,
     "solution": false
    }
   },
   "outputs": [
    {
     "name": "stdout",
     "output_type": "stream",
     "text": [
      "There are 179 stopwords. Examples:\n",
      "- 'ourselves' is a stopword.\n",
      "- \"you're\" is a stopword.\n",
      "- \"needn't\" is a stopword.\n",
      "- 'cat' is *not* a stopword.\n",
      "- 'dog' is *not* a stopword.\n",
      "- 'python' is *not* a stopword.\n"
     ]
    }
   ],
   "source": [
    "from problem_utils import STOPWORDS\n",
    "print(f\"There are {len(STOPWORDS)} stopwords. Examples:\")\n",
    "\n",
    "for w in [\"ourselves\", \"you're\", \"needn't\", \"cat\", \"dog\", \"python\"]:\n",
    "    is_or_isnt = \"is\" if w in STOPWORDS else \"is *not*\"\n",
    "    print(f\"- {repr(w)} {is_or_isnt} a stopword.\")"
   ]
  },
  {
   "cell_type": "markdown",
   "metadata": {
    "deletable": false,
    "editable": false,
    "nbgrader": {
     "grade": false,
     "locked": true,
     "solution": false
    }
   },
   "source": [
    "### Sentence cleaning ###\n",
    "\n",
    "Recall from Midterm 1 that you developed a method to clean a sentence, breaking it up into a set of normalized words where single-quotes embedded within a word (e.g., `\"don't\"`, `\"you're\"`) are preserved. Here was the sample solution to that problem, which you will need again."
   ]
  },
  {
   "cell_type": "code",
   "execution_count": 8,
   "metadata": {
    "deletable": false,
    "editable": false,
    "nbgrader": {
     "grade": false,
     "locked": true,
     "solution": false
    }
   },
   "outputs": [
    {
     "name": "stdout",
     "output_type": "stream",
     "text": [
      "* Sentence #6 == '\"Don\\'t forget that we were open to serve you in your time of need,\" she said on a break one recent workday afternoon'\n",
      "\n",
      "* clean(raw_sents[6]) == [\"don't\", 'forget', 'that', 'we', 'were', 'open', 'to', 'serve', 'you', 'in', 'your', 'time', 'of', 'need', 'she', 'said', 'on', 'a', 'break', 'one', 'recent', 'workday', 'afternoon']\n"
     ]
    }
   ],
   "source": [
    "def clean(s):\n",
    "    from re import finditer\n",
    "    pattern = r\"[a-z]+('[a-z])?[a-z]*\"\n",
    "    return [match.group(0) for match in finditer(pattern, s.lower())]\n",
    "\n",
    "print(\"* Sentence #6 ==\", repr(raw_sents[6]))\n",
    "print(\"\\n* clean(raw_sents[6]) ==\", clean(raw_sents[6]))"
   ]
  },
  {
   "cell_type": "markdown",
   "metadata": {
    "deletable": false,
    "editable": false,
    "nbgrader": {
     "grade": false,
     "locked": true,
     "solution": false
    }
   },
   "source": [
    "### Exercise 1: Construct bags of words (2 points) ###"
   ]
  },
  {
   "cell_type": "markdown",
   "metadata": {
    "deletable": false,
    "editable": false,
    "nbgrader": {
     "grade": false,
     "locked": true,
     "solution": false
    }
   },
   "source": [
    "Your next task is to construct the _bag-of-words representation_ of each sentence. If `s` is a sentence, its bag-of-words representation is a set (or \"bag\") of its unique words. However, this set should never include stopwords.\n",
    "\n",
    "Complete the function `gen_bag_of_words(sents)` to perform this task. In particular, the input `sents` is a list of sentences, as might be produced by Exercise 0. Your function should do the following:\n",
    "\n",
    "- Split each sentence `sents[k]` into a list of words, using `clean()` defined above.\n",
    "- Convert this list into a set, removing any stopwords.\n",
    "- Return a list of these sets. If the returned list is named `bags`, then `bags[k]` should be the set for `sents[k]`.\n",
    "\n",
    "The next code cell shows an example of the expected input and output of your function."
   ]
  },
  {
   "cell_type": "code",
   "execution_count": 9,
   "metadata": {
    "deletable": false,
    "editable": false,
    "nbgrader": {
     "grade": false,
     "locked": true,
     "solution": false
    }
   },
   "outputs": [],
   "source": [
    "ex1_demo_input = [\"This is a phrase; this, too, is a phrase\",\n",
    "                  \"But this is another sentence\",\n",
    "                  \"Hark\",\n",
    "                  \"Come what may    <-- save those spaces, but not these -->\",\n",
    "                  \"What did you say\",\n",
    "                  \"Split into 3 (even without a space)\",\n",
    "                  \"Okie dokie\"]\n",
    "ex1_demo_output = [{'phrase'},\n",
    "                   {'another', 'sentence'},\n",
    "                   {'hark'},\n",
    "                   {'come', 'may', 'save', 'spaces'},\n",
    "                   {'say'},\n",
    "                   {'even', 'space', 'split', 'without'},\n",
    "                   {'dokie', 'okie'}]"
   ]
  },
  {
   "cell_type": "code",
   "execution_count": 10,
   "metadata": {},
   "outputs": [
    {
     "data": {
      "text/plain": [
       "[{'phrase'},\n",
       " {'another', 'sentence'},\n",
       " {'hark'},\n",
       " {'come', 'may', 'save', 'spaces'},\n",
       " {'say'},\n",
       " {'even', 'space', 'split', 'without'},\n",
       " {'dokie', 'okie'}]"
      ]
     },
     "execution_count": 10,
     "metadata": {},
     "output_type": "execute_result"
    }
   ],
   "source": [
    "def gen_bag_of_words(sents):\n",
    "    assert isinstance(sents, list)\n",
    "    \n",
    "    '''My Solution'''\n",
    "    ##############################################\n",
    "    word_sets = []\n",
    "    for sentence in sents:\n",
    "        word_sets.append({word for word in clean(sentence) if word not in STOPWORDS})\n",
    "    return word_sets\n",
    "    ##############################################\n",
    "    \n",
    "    \n",
    "    '''School solution'''\n",
    "    ##############################################\n",
    "    #def bag(s):\n",
    "    #    return set(clean(s)) - STOPWORDS\n",
    "    #return [bag(s) for s in sents] \n",
    "    ##############################################\n",
    "    \n",
    "    \n",
    "# Demo:\n",
    "gen_bag_of_words(ex1_demo_input)"
   ]
  },
  {
   "cell_type": "code",
   "execution_count": 11,
   "metadata": {
    "deletable": false,
    "editable": false,
    "nbgrader": {
     "grade": true,
     "grade_id": "ex1__gen_bag_of_words",
     "locked": true,
     "points": "2",
     "solution": false
    },
    "scrolled": false
   },
   "outputs": [
    {
     "name": "stdout",
     "output_type": "stream",
     "text": [
      "=== Trial #0 / 9 ===\n",
      "=== Trial #1 / 9 ===\n",
      "=== Trial #2 / 9 ===\n",
      "=== Trial #3 / 9 ===\n",
      "=== Trial #4 / 9 ===\n",
      "=== Trial #5 / 9 ===\n",
      "=== Trial #6 / 9 ===\n",
      "=== Trial #7 / 9 ===\n",
      "=== Trial #8 / 9 ===\n",
      "=== Trial #9 / 9 ===\n",
      "\n",
      "(Passed.)\n"
     ]
    }
   ],
   "source": [
    "# Test cell: `ex1__gen_bag_of_words` (2 points)\n",
    "\n",
    "###\n",
    "### AUTOGRADER TEST - DO NOT REMOVE\n",
    "###\n",
    "\n",
    "from problem_utils import ex1_check_one\n",
    "for trial in range(10):\n",
    "    print(f\"=== Trial #{trial} / 9 ===\")\n",
    "    ex1_check_one(gen_bag_of_words)\n",
    "\n",
    "print(\"\\n(Passed.)\")"
   ]
  },
  {
   "cell_type": "markdown",
   "metadata": {
    "deletable": false,
    "editable": false,
    "nbgrader": {
     "grade": false,
     "locked": true,
     "solution": false
    }
   },
   "source": [
    "### Precomputed solution for Exercise 1 ###\n",
    "\n",
    "Here is some code to load precomputed bags for the input document. Regardless of whether your Exercise 1 works or not, please run this cell now so subsequent exercises can continue. It will define a variable named **`bags`**. Subsequent code needs it, so do not modify it!"
   ]
  },
  {
   "cell_type": "code",
   "execution_count": 12,
   "metadata": {
    "deletable": false,
    "editable": false,
    "nbgrader": {
     "grade": false,
     "locked": true,
     "solution": false
    }
   },
   "outputs": [
    {
     "name": "stdout",
     "output_type": "stream",
     "text": [
      "=== First few bags ===\n",
      "bags[0] == {'april', 'workers', 'became', 'essential', 'robertson', 'america', 'gebeloff', 'campbell', 'women', 'robert', 'millions'}\n",
      "bags[1] == {'grocery', 'cold', 'cuts', 'constance', 'customers', 'regular', 'come', 'day', 'new', 'warren', 'orleans', 'every', 'go', 'behind', 'watching', 'stands', 'store', 'counter'}\n",
      "bags[2] == {'thank', 'like', 'stuck', 'warren', 'indoors', 'epidemic', 'waiting', 'ms', 'tell'}\n",
      "bags[3] == {'wraps', 'turkey', 'smoked', 'honey', 'smiles'}\n",
      "bags[4] == {'right', 'worker', 'essential', 'good', 'mixed', 'deemed', 'job', 'fortune'}\n",
      "bags[5] == {'life', 'role', 'whether', 'everyday', 'remember', 'played', 'safe', 'wonders', 'people'}\n",
      "bags[6] == {'afternoon', 'recent', 'said', 'serve', 'time', 'one', 'break', 'workday', 'open', 'need', 'forget'}\n",
      "bags[7] == {'might', 'never', 'know', 'need', 'us'}\n",
      "bags[8] == set()\n",
      "bags[9] == {'emergency', 'bus', 'front', 'health', 'soldier', 'likely', 'current', 'national', 'room', 'cashier', 'lines', 'woman', 'taking', 'pharmacist', 'older', 'home', 'check', 'nurse', 'client', 'drugstore', 'aide'}\n"
     ]
    }
   ],
   "source": [
    "with open(get_path('ex1_soln.pickle'), 'rb') as fp:\n",
    "    bags = pickle.load(fp)\n",
    "    \n",
    "print(\"=== First few bags ===\")\n",
    "for k, b in enumerate(bags[:10]):\n",
    "    print(f\"bags[{k}] == {repr(b)}\")"
   ]
  },
  {
   "cell_type": "markdown",
   "metadata": {
    "deletable": false,
    "editable": false,
    "nbgrader": {
     "grade": false,
     "locked": true,
     "solution": false
    }
   },
   "source": [
    "### Generating IDs ###\n",
    "\n",
    "The next major step is to build the sparse matrix $A$ from the bag-of-words representation. To do so, we need to give every word and every sentence an ID.\n",
    "\n",
    "For sentence IDs, let's use the index in `raw_sents`. That is, for sentence, `raw_sents[k]`, take its ID to be simply `k`. If there are `n` sentences, then `0 <= k < n`.\n",
    "\n",
    "For word IDs, let's create a dictionary named `word_to_id` such that given a word, `w`, its ID is `word_to_id[w]`. Later, we will need the inverse mapping as well. So, the code cell below also computes `id_to_word`, which maps an ID `i` back to its word, `id_to_word[i]`. In other words, `word_to_id[id_to_word[i]] == i` and `id_to_word[word_to_id[w]] == w`. If there are `m` unique words, then `0 <= i < m`."
   ]
  },
  {
   "cell_type": "code",
   "execution_count": 13,
   "metadata": {
    "deletable": false,
    "editable": false,
    "nbgrader": {
     "grade": false,
     "locked": true,
     "solution": false
    }
   },
   "outputs": [
    {
     "name": "stdout",
     "output_type": "stream",
     "text": [
      "There are 610 unique words.\n",
      "- ID for 'aging' == 514\n",
      "- ID for 'thirds' == 189\n",
      "- ID for 'physicians' == 468\n",
      "- ID for 'bringing' == 219\n",
      "- ID for 'thank' == 7\n"
     ]
    }
   ],
   "source": [
    "from random import choices\n",
    "\n",
    "all_words = set()\n",
    "for b in bags:\n",
    "    all_words |= b\n",
    "word_to_id = {w: k for k, w in enumerate(all_words)}\n",
    "id_to_word = {k: w for k, w in enumerate(all_words)}\n",
    "\n",
    "print(f\"There are {len(all_words)} unique words.\")\n",
    "for w in choices(list(all_words), k=5):\n",
    "    print(\"- ID for\", repr(w), \"==\", word_to_id[w])\n",
    "    assert id_to_word[word_to_id[w]] == w"
   ]
  },
  {
   "cell_type": "markdown",
   "metadata": {
    "deletable": false,
    "editable": false,
    "nbgrader": {
     "grade": false,
     "locked": true,
     "solution": false
    }
   },
   "source": [
    "### Exercise 2: Constructing the coordinates for a sparse matrix (3 points) ###\n",
    "\n",
    "We need to build the sparse matrix $A$. Recall the following facts:\n",
    "\n",
    "- If there are $m$ words and $n$ sentences, then $A$ is $m \\times n$.\n",
    "- Let $i$ be the ID of a word, where $0 \\leq i < m$, and let $j$ the ID of a sentence, where $0 \\leq j < n$.\n",
    "- Let $n_i$ be the number of sentences containing word $i$.\n",
    "- Each entry $a_{i,j}$ of $A$ is defined by the formula below (copied from before):\n",
    "\n",
    "Recall that entry $a_{i,j}$ is defined as follows:\n",
    "$$\n",
    "  a_{i,j} = \\left\\{ \\begin{array}{cl}\n",
    "          \\left(\\ln \\dfrac{n+1}{n_i}\\right)^{-1} & \\mbox{if word $i$ appears in sentence $j$} \\\\\n",
    "                             0                   & \\mbox{otherwise.}\n",
    "      \\end{array} \\right.\n",
    "$$"
   ]
  },
  {
   "cell_type": "markdown",
   "metadata": {
    "deletable": false,
    "editable": false,
    "nbgrader": {
     "grade": false,
     "locked": true,
     "solution": false
    }
   },
   "source": [
    "**Your task.** Complete the function `gen_coords(bags, word_to_id)`, below, so that it generates the coordinates and values of the sparse matrix. In particular, it should take these two inputs:\n",
    "\n",
    "- `bags`, a Python list of bags (i.e., a list of word-sets);\n",
    "- `word_to_id`, a Python dictionary mapping of each word `w` to its ID, which is `word_to_id[w]`.\n",
    "\n",
    "It should create and return three Python **lists**, `rows`, `cols`, and `vals`, which store the _coordinate_ (COO) representation of the sparse matrix. That is, every triple `(rows[k], cols[k], vals[k])` indicates that a word, whose ID is `rows[k]`, appears in a sentence whose ID is `cols[k]`. Furthermore, let `rows[k]` $=i$ and `cols[k]` $=j$. Then `vals[k]` $=a_{i,j}$, as defined by the above formula.\n",
    "\n",
    "> **Note 0.** To calculate the natural logarithm, you can use either Python's [built-in](https://docs.python.org/3/library/math.html#power-and-logarithmic-functions) or [Numpy's](https://docs.scipy.org/doc/numpy/reference/generated/numpy.log.html).\n",
    ">\n",
    "> **Note 1.** Since it is a coordinate representation, the order of nonzeros in the output does not matter."
   ]
  },
  {
   "cell_type": "markdown",
   "metadata": {
    "deletable": false,
    "editable": false,
    "nbgrader": {
     "grade": false,
     "locked": true,
     "solution": false
    }
   },
   "source": [
    "Here is an example of a simple input and expected output:"
   ]
  },
  {
   "cell_type": "code",
   "execution_count": 14,
   "metadata": {
    "deletable": false,
    "editable": false,
    "nbgrader": {
     "grade": false,
     "locked": true,
     "solution": false
    }
   },
   "outputs": [],
   "source": [
    "# Example inputs: (7 words) x (4 sentences)\n",
    "ex2_demo_bags = [{'cat', 'dog', 'fish'},\n",
    "                 {'red', 'blue'},\n",
    "                 {'dog'},\n",
    "                 {'one', 'two', 'dog', 'fish'}]\n",
    "ex2_demo_w2id = {'cat': 0, 'dog': 1, 'fish': 2, 'red': 3, 'blue': 4, 'one': 5, 'two': 6}\n",
    "\n",
    "from math import log   # log(x) == natural logarithm of x\n",
    "ex2_rows = [       0,          1,          2,        3,        4,          1,        5,        6,          1,          2]\n",
    "ex2_cols = [       0,          0,          0,        1,        1,          2,        3,        3,          3,          3]\n",
    "ex2_vals = [1/log(5), 1/log(5/3), 1/log(2.5), 1/log(5), 1/log(5), 1/log(5/3), 1/log(5), 1/log(5), 1/log(5/3), 1/log(2.5)]"
   ]
  },
  {
   "cell_type": "code",
   "execution_count": 15,
   "metadata": {},
   "outputs": [
    {
     "data": {
      "text/plain": [
       "([2, 0, 1, 4, 3, 1, 2, 5, 6, 1],\n",
       " [0, 0, 0, 1, 1, 2, 3, 3, 3, 3],\n",
       " [1.0913566679372915,\n",
       "  0.6213349345596119,\n",
       "  1.9576151889712174,\n",
       "  0.6213349345596119,\n",
       "  0.6213349345596119,\n",
       "  1.9576151889712174,\n",
       "  1.0913566679372915,\n",
       "  0.6213349345596119,\n",
       "  0.6213349345596119,\n",
       "  1.9576151889712174])"
      ]
     },
     "execution_count": 15,
     "metadata": {},
     "output_type": "execute_result"
    }
   ],
   "source": [
    "# Your task: Complete this function!\n",
    "def gen_coords(bags, word_to_id):\n",
    "    # Some code to help you get started:\n",
    "    m, n = len(word_to_id), len(bags)\n",
    "    rows, cols, vals = [], [], []\n",
    "    \n",
    "    # Construct rows, cols, and vals:\n",
    "        \n",
    "    '''My Solution'''\n",
    "    ##############################################\n",
    "    for i, words in enumerate(bags):\n",
    "        for word in words:\n",
    "            word_count = 0\n",
    "            for wrds in bags:\n",
    "                if word in wrds:\n",
    "                    word_count += 1\n",
    "            rows.append(word_to_id[word])\n",
    "            cols.append(i)\n",
    "            vals.append(1/log((n + 1)/word_count))\n",
    "    ##############################################\n",
    "    \n",
    "    \n",
    "    '''School Solution'''\n",
    "    ##############################################\n",
    "    #num_docs = np.zeros(m)\n",
    "    #for b in bags:\n",
    "    #    for w in b:\n",
    "    #        num_docs[word_to_id[w]] += 1\n",
    "    #        \n",
    "    ## Construct a coordinate representation\n",
    "    #for j, b in enumerate(bags): # loop over each sentence j\n",
    "    #    for w in b: # loop over each word i in sentence j\n",
    "    #        i = word_to_id[w]\n",
    "    #        a_ij = 1.0 / log((n+1) / num_docs[i])\n",
    "    #        rows.append(i)\n",
    "    #        cols.append(j)\n",
    "    #        vals.append(a_ij)\n",
    "    ##############################################\n",
    "    \n",
    "    \n",
    "    # Returns your arrays:\n",
    "    return rows, cols, vals\n",
    "\n",
    "# Runs your function on the demo:\n",
    "gen_coords(ex2_demo_bags, ex2_demo_w2id)"
   ]
  },
  {
   "cell_type": "code",
   "execution_count": 16,
   "metadata": {
    "deletable": false,
    "editable": false,
    "nbgrader": {
     "grade": true,
     "grade_id": "ex2__gen_matrix",
     "locked": true,
     "points": "3",
     "solution": false
    }
   },
   "outputs": [
    {
     "name": "stdout",
     "output_type": "stream",
     "text": [
      "=== Trial #0 / 9 ===\n",
      "=== Trial #1 / 9 ===\n",
      "=== Trial #2 / 9 ===\n",
      "=== Trial #3 / 9 ===\n",
      "=== Trial #4 / 9 ===\n",
      "=== Trial #5 / 9 ===\n",
      "=== Trial #6 / 9 ===\n",
      "=== Trial #7 / 9 ===\n",
      "=== Trial #8 / 9 ===\n",
      "=== Trial #9 / 9 ===\n",
      "\n",
      "(Passed.)\n"
     ]
    }
   ],
   "source": [
    "# Test cell: `ex2__gen_matrix` (3 points)\n",
    "\n",
    "###\n",
    "### AUTOGRADER TEST - DO NOT REMOVE\n",
    "###\n",
    "\n",
    "from problem_utils import ex2_check_one\n",
    "for trial in range(10):\n",
    "    print(f\"=== Trial #{trial} / 9 ===\")\n",
    "    ex2_check_one(gen_coords)\n",
    "\n",
    "print(\"\\n(Passed.)\")"
   ]
  },
  {
   "cell_type": "markdown",
   "metadata": {
    "deletable": false,
    "editable": false,
    "nbgrader": {
     "grade": false,
     "locked": true,
     "solution": false
    }
   },
   "source": [
    "### Precomputed solution for Exercise 2 ###\n",
    "\n",
    "Here is some code to load precomputed coordinates for the input document. Regardless of whether your Exercise 2 works or not, please run this cell now so subsequent exercises can continue. It will define variables named **`rows`, `cols`, and `vals`**, which are the coordinate representation of the matrix. The subsequent code needs it, so do not modify it!"
   ]
  },
  {
   "cell_type": "code",
   "execution_count": 17,
   "metadata": {
    "deletable": false,
    "editable": false,
    "nbgrader": {
     "grade": false,
     "locked": true,
     "solution": false
    }
   },
   "outputs": [
    {
     "name": "stdout",
     "output_type": "stream",
     "text": [
      "=== First few coordinates ===\n",
      "* rows[:5] == [291, 472, 162, 207, 334]\n",
      "* cols[:5] == [0, 0, 0, 0, 0]\n",
      "* vals[:5] == [0.49963027354508444, 0.21233540443616755, 0.49963027354508444, 0.21233540443616755, 0.21233540443616755]\n"
     ]
    }
   ],
   "source": [
    "with open(get_path('ex2_soln.pickle'), 'rb') as fp:\n",
    "    rows = pickle.load(fp)\n",
    "    cols = pickle.load(fp)\n",
    "    vals = pickle.load(fp)\n",
    "    \n",
    "print(\"=== First few coordinates ===\")\n",
    "print(f\"* rows[:5] == {rows[:5]}\")\n",
    "print(f\"* cols[:5] == {cols[:5]}\")\n",
    "print(f\"* vals[:5] == {vals[:5]}\")"
   ]
  },
  {
   "cell_type": "markdown",
   "metadata": {
    "deletable": false,
    "editable": false,
    "nbgrader": {
     "grade": false,
     "locked": true,
     "solution": false
    }
   },
   "source": [
    "### Calculating the SVD ###\n",
    "\n",
    "Let's now create the sparse matrix and compute the SVD.\n",
    "\n",
    "First, here is code to construct a sparse matrix $A$, using Scipy's compressed sparse row (CSR) storage. It stores $A$ in the variable named `A`, and visualizes its nonzero structure:"
   ]
  },
  {
   "cell_type": "code",
   "execution_count": 18,
   "metadata": {
    "deletable": false,
    "editable": false,
    "nbgrader": {
     "grade": false,
     "locked": true,
     "solution": false
    }
   },
   "outputs": [
    {
     "data": {
      "image/png": "[encoded data removed]",
      "text/plain": [
       "<Figure size 648x648 with 1 Axes>"
      ]
     },
     "metadata": {
      "needs_background": "light"
     },
     "output_type": "display_data"
    }
   ],
   "source": [
    "from scipy.sparse import csr_matrix\n",
    "A = csr_matrix((vals, (rows, cols)), shape=(len(word_to_id), len(bags)))\n",
    "\n",
    "plt.figure(figsize=(9, 9))\n",
    "plt.spy(A, marker='.', markersize=1)\n",
    "pass"
   ]
  },
  {
   "cell_type": "markdown",
   "metadata": {
    "deletable": false,
    "editable": false,
    "nbgrader": {
     "grade": false,
     "locked": true,
     "solution": false
    }
   },
   "source": [
    "Next, let's compute $\\sigma_0$, the largest (or \"principal\") singular value of $A$, along with its left- and right-singular vectors, denoted as $u_0$ and $v_0$ (the \"principal singular vectors\"). Take note of the shape of the singular vectors:"
   ]
  },
  {
   "cell_type": "code",
   "execution_count": 19,
   "metadata": {
    "deletable": false,
    "editable": false,
    "nbgrader": {
     "grade": false,
     "locked": true,
     "solution": false
    }
   },
   "outputs": [
    {
     "name": "stdout",
     "output_type": "stream",
     "text": [
      "sigma_0 == [3.49315864]\n",
      "u0.shape == (610,)\n",
      "v0.shape == (110,)\n"
     ]
    }
   ],
   "source": [
    "def get_svds_largest(A):\n",
    "    from scipy.sparse.linalg import svds\n",
    "    from numpy import abs\n",
    "    u, s, v = svds(A, k=1, which='LM', return_singular_vectors=True)\n",
    "    return s, abs(u.reshape(A.shape[0])), abs(v.reshape(A.shape[1]))\n",
    "\n",
    "sigma0, u0, v0 = get_svds_largest(A)\n",
    "print(\"sigma_0 ==\", sigma0)\n",
    "print(\"u0.shape ==\", u0.shape)\n",
    "print(\"v0.shape ==\", v0.shape)"
   ]
  },
  {
   "cell_type": "markdown",
   "metadata": {
    "deletable": false,
    "editable": false,
    "nbgrader": {
     "grade": false,
     "locked": true,
     "solution": false
    }
   },
   "source": [
    "Here, we plot the entries of $u_0$ and $v_0$, which will be related to the rankings of the words and sentences. (Remember, **you** need to figure out how these might be related to the word and sentence ranking vectors, $w$ and $s$.)"
   ]
  },
  {
   "cell_type": "code",
   "execution_count": 20,
   "metadata": {
    "deletable": false,
    "editable": false,
    "nbgrader": {
     "grade": false,
     "locked": true,
     "solution": false
    }
   },
   "outputs": [
    {
     "data": {
      "image/png": "[encoded data removed]",
      "text/plain": [
       "<Figure size 1152x432 with 2 Axes>"
      ]
     },
     "metadata": {
      "needs_background": "light"
     },
     "output_type": "display_data"
    }
   ],
   "source": [
    "fig, (ax0, ax1) = plt.subplots(1, 2, figsize=(16, 6), gridspec_kw={'width_ratios': [u0.shape[0], v0.shape[0]]})\n",
    "ax0.plot(u0, '.')\n",
    "ax0.set_title('$k$-th entry of $u_0$', loc='left')\n",
    "ax0.set_xlabel('$k$')\n",
    "ax1.plot(v0, '.')\n",
    "ax1.set_title('$k$-th entry of $v_0$', loc='left')\n",
    "ax1.set_xlabel('$k$')\n",
    "pass"
   ]
  },
  {
   "cell_type": "markdown",
   "metadata": {
    "deletable": false,
    "editable": false,
    "nbgrader": {
     "grade": false,
     "locked": true,
     "solution": false
    }
   },
   "source": [
    "### Exercise 3: Ranking words (2 points) ###\n",
    "\n",
    "Suppose you are given the principal left- and right-singular vectors, $u_0$ and $v_0$. Complete the function, `rank_words(u0, v0)`, so that it returns the **word IDs** in **descending order** of **word-importance score**.\n",
    "\n",
    "The inputs `u0` and `v0` will be 1-D Numpy arrays. You should return a 1-D Numpy array **of integers**.\n",
    "\n",
    "> If it's not immediately obvious what to do, go back to the description of the mathematical model and consider the shapes of the matrix and vector operands involved to see if you can figure it out. The setup of this problem **is** tricky, but the solution is simple."
   ]
  },
  {
   "cell_type": "code",
   "execution_count": 21,
   "metadata": {
    "nbgrader": {
     "grade": false,
     "locked": false,
     "solution": false
    }
   },
   "outputs": [],
   "source": [
    "def rank_words(u0, v0):\n",
    "    return np.argsort(u0)[::-1]"
   ]
  },
  {
   "cell_type": "code",
   "execution_count": 22,
   "metadata": {
    "deletable": false,
    "editable": false,
    "nbgrader": {
     "grade": false,
     "locked": true,
     "solution": false
    }
   },
   "outputs": [
    {
     "name": "stdout",
     "output_type": "stream",
     "text": [
      "Top 10 words: ['added', 'growing', 'minimum', 'helping', 'agriculture', 'n', 'needs', 'whether', 'undervalued', 'earned']\n"
     ]
    }
   ],
   "source": [
    "# Demo on the input document:\n",
    "word_ranking = rank_words(u0, v0)\n",
    "top_ten_words = [id_to_word[k] for k in word_ranking[:10]]\n",
    "print(\"Top 10 words:\", top_ten_words)"
   ]
  },
  {
   "cell_type": "code",
   "execution_count": 23,
   "metadata": {
    "deletable": false,
    "editable": false,
    "nbgrader": {
     "grade": true,
     "grade_id": "ex3__rank_words",
     "locked": true,
     "points": "2",
     "solution": false
    }
   },
   "outputs": [
    {
     "name": "stdout",
     "output_type": "stream",
     "text": [
      "=== Trial #0 / 9 ===\n",
      "=== Trial #1 / 9 ===\n",
      "=== Trial #2 / 9 ===\n",
      "=== Trial #3 / 9 ===\n",
      "=== Trial #4 / 9 ===\n",
      "=== Trial #5 / 9 ===\n",
      "=== Trial #6 / 9 ===\n",
      "=== Trial #7 / 9 ===\n",
      "=== Trial #8 / 9 ===\n",
      "=== Trial #9 / 9 ===\n",
      "\n",
      "(Passed.)\n"
     ]
    }
   ],
   "source": [
    "# Test cell: `ex3__rank_words` (2 points)\n",
    "\n",
    "###\n",
    "### AUTOGRADER TEST - DO NOT REMOVE\n",
    "###\n",
    "\n",
    "from problem_utils import ex3_check_one\n",
    "for trial in range(10):\n",
    "    print(f\"=== Trial #{trial} / 9 ===\")\n",
    "    ex3_check_one(rank_words)\n",
    "\n",
    "print(\"\\n(Passed.)\")"
   ]
  },
  {
   "cell_type": "markdown",
   "metadata": {
    "deletable": false,
    "editable": false,
    "nbgrader": {
     "grade": false,
     "locked": true,
     "solution": false
    }
   },
   "source": [
    "### Exercise 4: Ranking sentences (1 point) ###\n",
    "\n",
    "Suppose you are given the principal left- and right-singular vectors, $u_0$ and $v_0$. Complete the function, `rank_sentences(u0, v0)`, so that it returns the **sentence IDs** in **descending order** of **sentence-importance score**.\n",
    "\n",
    "The inputs `u0` and `v0` will be 1-D Numpy arrays. You should return a 1-D Numpy array **of integers**.\n",
    "\n",
    "> If it's not immediately obvious what to do, go back to the description of the mathematical model and consider the shapes of the matrix and vector operands involved to see if you can figure it out."
   ]
  },
  {
   "cell_type": "code",
   "execution_count": 24,
   "metadata": {
    "nbgrader": {
     "grade": false,
     "locked": false,
     "solution": false
    }
   },
   "outputs": [],
   "source": [
    "def rank_sentences(u0, v0):\n",
    "    return np.argsort(v0)[::-1]"
   ]
  },
  {
   "cell_type": "code",
   "execution_count": 25,
   "metadata": {},
   "outputs": [
    {
     "name": "stdout",
     "output_type": "stream",
     "text": [
      "=== Top 5 sentences ===\n",
      "\n",
      "0. 'While women have steadily increased their share of high-end health care jobs like surgeons and other physicians, they have also been filling the unseen jobs proliferating on the lowest end of the wage scale, the workers who spend long and little-rewarded days bathing, feeding and medicating some of the most vulnerable people in the country'\n",
      "\n",
      "1. 'Health care is harder physical work than people realize â€” workers in health care and social assistance suffer nonfatal injuries on the job at a rate higher than workers in construction or manufacturing'\n",
      "\n",
      "2. 'That millions of care workers are \"driven by incentives other than purely economic incentives\" is in part why this work has traditionally been so undervalued, said Gabriel Winant, a labor historian at the University of Chicago'\n",
      "\n",
      "3. 'This \"care work force,\" said Mignon Duffy, a professor at the University of Massachusetts Lowell who studies women and labor, \"is part of the infrastructure of our whole society'\n",
      "\n",
      "4. 'This is reflected in another grim statistic: While male doctors and nurses have died on the front lines, a recent report from the Centers for Disease Control and Prevention found that women account for 73 percent of the US health care workers who have been infected since the outbreak began'\n"
     ]
    }
   ],
   "source": [
    "# Demo:\n",
    "sentence_ranking = rank_sentences(u0, v0)\n",
    "top_five_sentences = [raw_sents[k] for k in sentence_ranking[:5]]\n",
    "print(\"=== Top 5 sentences ===\")\n",
    "for k, s in enumerate(top_five_sentences):\n",
    "    print(f\"\\n{k}.\", repr(s))"
   ]
  },
  {
   "cell_type": "code",
   "execution_count": 26,
   "metadata": {
    "deletable": false,
    "editable": false,
    "nbgrader": {
     "grade": true,
     "grade_id": "ex4__rank_sentences",
     "locked": true,
     "points": "1",
     "solution": false
    }
   },
   "outputs": [
    {
     "name": "stdout",
     "output_type": "stream",
     "text": [
      "=== Trial #0 / 9 ===\n",
      "=== Trial #1 / 9 ===\n",
      "=== Trial #2 / 9 ===\n",
      "=== Trial #3 / 9 ===\n",
      "=== Trial #4 / 9 ===\n",
      "=== Trial #5 / 9 ===\n",
      "=== Trial #6 / 9 ===\n",
      "=== Trial #7 / 9 ===\n",
      "=== Trial #8 / 9 ===\n",
      "=== Trial #9 / 9 ===\n",
      "\n",
      "(Passed.)\n"
     ]
    }
   ],
   "source": [
    "# Test cell: `ex4__rank_sentences` (1 point)\n",
    "\n",
    "###\n",
    "### AUTOGRADER TEST - DO NOT REMOVE\n",
    "###\n",
    "\n",
    "from problem_utils import ex4_check_one\n",
    "for trial in range(10):\n",
    "    print(f\"=== Trial #{trial} / 9 ===\")\n",
    "    ex4_check_one(rank_sentences)\n",
    "\n",
    "print(\"\\n(Passed.)\")"
   ]
  },
  {
   "cell_type": "markdown",
   "metadata": {
    "deletable": false,
    "editable": false,
    "nbgrader": {
     "grade": false,
     "locked": true,
     "solution": false
    }
   },
   "source": [
    "**Fin!** You’ve reached the end of this part. Don’t forget to restart and run all cells again to make sure it’s all working when run in sequence; and make sure your work passes the submission process. Good luck!"
   ]
  },
  {
   "cell_type": "markdown",
   "metadata": {
    "deletable": false,
    "editable": false,
    "nbgrader": {
     "grade": false,
     "locked": true,
     "solution": false
    }
   },
   "source": [
    "**Epilogue 0.** If you are interested in this method and others like it, see [_Matrix methods in data mining and pattern recognition_](https://epubs.siam.org/doi/book/10.1137/1.9780898718867) by Lars Eldén. Official Georgia Tech students can download chapters for free through the [GT library](https://epubs-siam-org.prx.library.gatech.edu/doi/book/10.1137/1.9780898718867).\n",
    "\n",
    "**Epilogue 1.** It is an entertaining exercise to run this notebook on our course syllabus or the text of the _Whirlwind Tour of Python_ recommended textbook, and see if the results align with your experience."
   ]
  }
 ],
 "metadata": {
  "kernelspec": {
   "display_name": "Python 3",
   "language": "python",
   "name": "python3"
  },
  "language_info": {
   "codemirror_mode": {
    "name": "ipython",
    "version": 3
   },
   "file_extension": ".py",
   "mimetype": "text/x-python",
   "name": "python",
   "nbconvert_exporter": "python",
   "pygments_lexer": "ipython3",
   "version": "3.7.4"
  }
 },
 "nbformat": 4,
 "nbformat_minor": 2
}
