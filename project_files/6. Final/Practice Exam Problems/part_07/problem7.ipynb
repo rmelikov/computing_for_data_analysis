{
 "cells": [
  {
   "cell_type": "markdown",
   "metadata": {
    "deletable": false,
    "editable": false,
    "nbgrader": {
     "grade": false,
     "grade_id": "cell-9a7d0c67f5ca53e7",
     "locked": true,
     "schema_version": 1,
     "solution": false
    }
   },
   "source": [
    "## Problem 7\n",
    "\n",
    "Millions of searches happen on modern search engines like Google. Advertisers want to know about search interests in order to target consumers effectively. In this notebook, we will look at \"search interest scores\" for the 2016 Olympics obtained from [Google Trends](https://trends.google.com/trends/).\n",
    "\n",
    "This problem is divided into four (4) exercises, numbered 0-3. They are worth a total of ten (10) points.\n",
    "\n",
    "> **Note 0.** By way of background, a search interest score is computed by region and normalized by population size, in order to account for differences in populations between different regions. You can read more about search interest here. https://medium.com/google-news-lab/what-is-google-trends-data-and-what-does-it-mean-b48f07342ee8\n",
    ">\n",
    "> **Note 1.** We have pre-loaded the dataset you'll need on Vocareum. For this problem, a copy of this data is also available at the following URL. However, if you choose to work on this problem outside of Vocareum, you may need to adapt the `fn(f)` function, below, which is set up for use within Vocareum. (You should be able to figure out how to change it for your local environment.) https://cse6040.gatech.edu/datasets/olympics.zip"
   ]
  },
  {
   "cell_type": "code",
   "execution_count": 1,
   "metadata": {
    "deletable": false,
    "editable": false,
    "nbgrader": {
     "grade": false,
     "locked": true,
     "solution": false
    }
   },
   "outputs": [
    {
     "name": "stdout",
     "output_type": "stream",
     "text": [
      "=== Python version ===\n",
      "3.7.4 (tags/v3.7.4:e09359112e, Jul  8 2019, 20:34:20) [MSC v.1916 64 bit (AMD64)]\n",
      "\n",
      "\n",
      "=== SQLite version ===\n",
      "2.6.0\n",
      "\n",
      "\n",
      "=== Pandas version ===\n",
      "0.25.3\n",
      "\n"
     ]
    }
   ],
   "source": [
    "# Some modules and functions we'll need\n",
    "import sys\n",
    "import pandas as pd\n",
    "import sqlite3\n",
    "from IPython.display import display\n",
    "\n",
    "print(\"=== Python version ===\\n{}\\n\".format(sys.version))\n",
    "print(\"\\n=== SQLite version ===\\n{}\\n\".format(sqlite3.version))\n",
    "print(\"\\n=== Pandas version ===\\n{}\\n\".format(pd.__version__))"
   ]
  },
  {
   "cell_type": "code",
   "execution_count": 2,
   "metadata": {},
   "outputs": [
    {
     "data": {
      "text/plain": [
       "'./olympics_data.dat'"
      ]
     },
     "execution_count": 2,
     "metadata": {},
     "output_type": "execute_result"
    }
   ],
   "source": [
    "def fn(fn_base, dirname='./'):\n",
    "    return \"{}{}\".format(dirname, fn_base)\n",
    "\n",
    "# Demo:\n",
    "fn('olympics_data.dat')"
   ]
  },
  {
   "cell_type": "code",
   "execution_count": 3,
   "metadata": {
    "deletable": false,
    "editable": false,
    "nbgrader": {
     "grade": false,
     "locked": true,
     "solution": false
    }
   },
   "outputs": [],
   "source": [
    "def canonicalize_tibble(X):\n",
    "    var_names = sorted(X.columns)\n",
    "    Y = X[var_names].copy()\n",
    "    Y.sort_values(by=var_names, inplace=True)\n",
    "    Y.set_index([list(range(0, len(Y)))], inplace=True)\n",
    "    return Y\n",
    "\n",
    "def tibbles_are_equivalent(A, B):\n",
    "    A_canonical = canonicalize_tibble(A)\n",
    "    B_canonical = canonicalize_tibble(B)\n",
    "    cmp = A_canonical.eq(B_canonical)\n",
    "    return cmp.all().all()"
   ]
  },
  {
   "cell_type": "markdown",
   "metadata": {
    "deletable": false,
    "editable": false,
    "nbgrader": {
     "grade": false,
     "grade_id": "cell-17439759a1d93c0f",
     "locked": true,
     "schema_version": 1,
     "solution": false
    }
   },
   "source": [
    "## The data\n",
    "\n",
    "We will be working with two sources of data.\n",
    "\n",
    "The first is the [search interest data taken from Google Trends](https://raw.githubusercontent.com/googletrends/data/master/20160819_OlympicSportsByCountries.csv).\n",
    "\n",
    "The second is [world population data taken from the U.S. Census Bureau](https://www.census.gov/population/international/data/idb/).\n",
    "\n",
    "For your convenience, these data are stored in two tables in a SQLite database stored in a file named `olympics/sports.db`. We will need to read the data into dataframes before proceeding."
   ]
  },
  {
   "cell_type": "markdown",
   "metadata": {
    "deletable": false,
    "editable": false,
    "nbgrader": {
     "grade": false,
     "grade_id": "cell-bf7b5b2770901b57",
     "locked": true,
     "schema_version": 1,
     "solution": false
    }
   },
   "source": [
    "**Exercise 0** (2 points). The SQLite database has two tables in it, one named `search_interest` and the other named `countries`. Implement the function, **`read_data(conn)`** below, to read these tables into a pair of Pandas dataframes.\n",
    "\n",
    "In particular, assume that **`conn`** is an open SQLite database connection object. Your function should return a pair of dataframes, `(search_interest, countries)`, corresponding to these tables. (See the `# Demo code` below.)"
   ]
  },
  {
   "cell_type": "code",
   "execution_count": 4,
   "metadata": {
    "nbgrader": {
     "grade": false,
     "grade_id": "read_data",
     "locked": false,
     "schema_version": 1,
     "solution": true
    }
   },
   "outputs": [
    {
     "name": "stdout",
     "output_type": "stream",
     "text": [
      "=== search_interest ===\n"
     ]
    },
    {
     "data": {
      "text/html": [
       "<div>\n",
       "<style scoped>\n",
       "    .dataframe tbody tr th:only-of-type {\n",
       "        vertical-align: middle;\n",
       "    }\n",
       "\n",
       "    .dataframe tbody tr th {\n",
       "        vertical-align: top;\n",
       "    }\n",
       "\n",
       "    .dataframe thead th {\n",
       "        text-align: right;\n",
       "    }\n",
       "</style>\n",
       "<table border=\"1\" class=\"dataframe\">\n",
       "  <thead>\n",
       "    <tr style=\"text-align: right;\">\n",
       "      <th></th>\n",
       "      <th>index</th>\n",
       "      <th>Country</th>\n",
       "      <th>Search_Interest</th>\n",
       "      <th>Sport</th>\n",
       "    </tr>\n",
       "  </thead>\n",
       "  <tbody>\n",
       "    <tr>\n",
       "      <th>0</th>\n",
       "      <td>0</td>\n",
       "      <td>Iran</td>\n",
       "      <td>1</td>\n",
       "      <td>Archery</td>\n",
       "    </tr>\n",
       "    <tr>\n",
       "      <th>1</th>\n",
       "      <td>1</td>\n",
       "      <td>South Korea</td>\n",
       "      <td>2</td>\n",
       "      <td>Archery</td>\n",
       "    </tr>\n",
       "    <tr>\n",
       "      <th>2</th>\n",
       "      <td>2</td>\n",
       "      <td>Mexico</td>\n",
       "      <td>1</td>\n",
       "      <td>Archery</td>\n",
       "    </tr>\n",
       "    <tr>\n",
       "      <th>3</th>\n",
       "      <td>3</td>\n",
       "      <td>Netherlands</td>\n",
       "      <td>1</td>\n",
       "      <td>Archery</td>\n",
       "    </tr>\n",
       "    <tr>\n",
       "      <th>4</th>\n",
       "      <td>4</td>\n",
       "      <td>Aruba</td>\n",
       "      <td>16</td>\n",
       "      <td>Artistic gymnastics</td>\n",
       "    </tr>\n",
       "  </tbody>\n",
       "</table>\n",
       "</div>"
      ],
      "text/plain": [
       "   index      Country  Search_Interest                Sport\n",
       "0      0         Iran                1              Archery\n",
       "1      1  South Korea                2              Archery\n",
       "2      2       Mexico                1              Archery\n",
       "3      3  Netherlands                1              Archery\n",
       "4      4        Aruba               16  Artistic gymnastics"
      ]
     },
     "metadata": {},
     "output_type": "display_data"
    },
    {
     "name": "stdout",
     "output_type": "stream",
     "text": [
      "=== countries ===\n"
     ]
    },
    {
     "data": {
      "text/html": [
       "<div>\n",
       "<style scoped>\n",
       "    .dataframe tbody tr th:only-of-type {\n",
       "        vertical-align: middle;\n",
       "    }\n",
       "\n",
       "    .dataframe tbody tr th {\n",
       "        vertical-align: top;\n",
       "    }\n",
       "\n",
       "    .dataframe thead th {\n",
       "        text-align: right;\n",
       "    }\n",
       "</style>\n",
       "<table border=\"1\" class=\"dataframe\">\n",
       "  <thead>\n",
       "    <tr style=\"text-align: right;\">\n",
       "      <th></th>\n",
       "      <th>index</th>\n",
       "      <th>Country</th>\n",
       "      <th>Year</th>\n",
       "      <th>Population</th>\n",
       "      <th>Area_sq_km</th>\n",
       "      <th>Density</th>\n",
       "    </tr>\n",
       "  </thead>\n",
       "  <tbody>\n",
       "    <tr>\n",
       "      <th>0</th>\n",
       "      <td>0</td>\n",
       "      <td>Reunion</td>\n",
       "      <td>2016</td>\n",
       "      <td>850996</td>\n",
       "      <td>2511</td>\n",
       "      <td>340.0</td>\n",
       "    </tr>\n",
       "    <tr>\n",
       "      <th>1</th>\n",
       "      <td>1</td>\n",
       "      <td>Martinique</td>\n",
       "      <td>2016</td>\n",
       "      <td>385551</td>\n",
       "      <td>128</td>\n",
       "      <td>340.0</td>\n",
       "    </tr>\n",
       "    <tr>\n",
       "      <th>2</th>\n",
       "      <td>2</td>\n",
       "      <td>Guadeloupe</td>\n",
       "      <td>2016</td>\n",
       "      <td>402119</td>\n",
       "      <td>1628</td>\n",
       "      <td>250.0</td>\n",
       "    </tr>\n",
       "    <tr>\n",
       "      <th>3</th>\n",
       "      <td>3</td>\n",
       "      <td>Myanmar</td>\n",
       "      <td>2016</td>\n",
       "      <td>54616716</td>\n",
       "      <td>653508</td>\n",
       "      <td>83.6</td>\n",
       "    </tr>\n",
       "    <tr>\n",
       "      <th>4</th>\n",
       "      <td>4</td>\n",
       "      <td>CzechRepublic</td>\n",
       "      <td>2016</td>\n",
       "      <td>10660932</td>\n",
       "      <td>77247</td>\n",
       "      <td>138.0</td>\n",
       "    </tr>\n",
       "  </tbody>\n",
       "</table>\n",
       "</div>"
      ],
      "text/plain": [
       "   index        Country  Year  Population  Area_sq_km  Density\n",
       "0      0        Reunion  2016      850996        2511    340.0\n",
       "1      1     Martinique  2016      385551         128    340.0\n",
       "2      2     Guadeloupe  2016      402119        1628    250.0\n",
       "3      3        Myanmar  2016    54616716      653508     83.6\n",
       "4      4  CzechRepublic  2016    10660932       77247    138.0"
      ]
     },
     "metadata": {},
     "output_type": "display_data"
    }
   ],
   "source": [
    "def read_data(conn):\n",
    "    \n",
    "    #search_interest_query = '''\n",
    "    #    select *\n",
    "    #    from search_interest\n",
    "    #'''\n",
    "    #\n",
    "    #countries_query = '''\n",
    "    #    select *\n",
    "    #    from countries\n",
    "    #'''\n",
    "    #\n",
    "    #search_interest = pd.read_sql_query(search_interest_query, conn)\n",
    "    #countries = pd.read_sql_query(countries_query, conn)\n",
    "    #\n",
    "    #return search_interest, countries\n",
    "    \n",
    "    df1 = pd.read_sql('select * from search_interest', conn)\n",
    "    df2 = pd.read_sql('select * from countries', conn)\n",
    "    return df1, df2\n",
    "\n",
    "# Demo code:\n",
    "conn = sqlite3.connect(fn('sports.db'))\n",
    "search_interest, countries = read_data(conn)\n",
    "conn.close()\n",
    "\n",
    "print(\"=== search_interest ===\")\n",
    "display(search_interest.head())\n",
    "\n",
    "print(\"=== countries ===\")\n",
    "display(countries.head())"
   ]
  },
  {
   "cell_type": "code",
   "execution_count": 5,
   "metadata": {
    "deletable": false,
    "editable": false,
    "nbgrader": {
     "grade": true,
     "grade_id": "read_data_test",
     "locked": true,
     "points": 2,
     "schema_version": 1,
     "solution": false
    }
   },
   "outputs": [
    {
     "name": "stdout",
     "output_type": "stream",
     "text": [
      "\n",
      "(Passed!)\n"
     ]
    }
   ],
   "source": [
    "# Test cell: `read_data_test`\n",
    "\n",
    "df1 = pd.read_csv(fn(\"OlympicSportsByCountries_2016.csv\"))\n",
    "df2 = pd.read_csv(fn(\"census_data_2016.csv\"))\n",
    "\n",
    "try:\n",
    "    ref = pd.read_csv\n",
    "    del pd.read_csv\n",
    "    conn = sqlite3.connect(fn('sports.db'))\n",
    "    search_interest, countries = read_data(conn)\n",
    "    conn.close()\n",
    "except AttributeError as e:\n",
    "    raise RuntimeError(\"Were you using read_csv to read the csv solution ?\")\n",
    "finally:\n",
    "    pd.read_csv = ref\n",
    "\n",
    "print(\"\\n(Passed!)\")"
   ]
  },
  {
   "cell_type": "markdown",
   "metadata": {
    "deletable": false,
    "editable": false,
    "nbgrader": {
     "grade": false,
     "grade_id": "cell-e803956d27c213ee",
     "locked": true,
     "schema_version": 1,
     "solution": false
    }
   },
   "source": [
    "**Exercise 1** (3 points). In this exercise, compute the answers to the following three questions about the `search_interests` data.\n",
    "\n",
    "1. Which country has the \"most varied\" interest in Olympic sports? That is, in the dataframe of search interests, which country appears most often? Store the result in the variable named **`top_country`**.\n",
    "2. Which Olympic sport generates interest in the largest number of countries? Store the result in the variable **`top_sport`**.\n",
    "3. How many sports are listed in the table? Store the result in the variable **`sport_count`**."
   ]
  },
  {
   "cell_type": "code",
   "execution_count": 6,
   "metadata": {},
   "outputs": [
    {
     "data": {
      "text/html": [
       "<div>\n",
       "<style scoped>\n",
       "    .dataframe tbody tr th:only-of-type {\n",
       "        vertical-align: middle;\n",
       "    }\n",
       "\n",
       "    .dataframe tbody tr th {\n",
       "        vertical-align: top;\n",
       "    }\n",
       "\n",
       "    .dataframe thead th {\n",
       "        text-align: right;\n",
       "    }\n",
       "</style>\n",
       "<table border=\"1\" class=\"dataframe\">\n",
       "  <thead>\n",
       "    <tr style=\"text-align: right;\">\n",
       "      <th></th>\n",
       "      <th>Country</th>\n",
       "    </tr>\n",
       "  </thead>\n",
       "  <tbody>\n",
       "    <tr>\n",
       "      <th>0</th>\n",
       "      <td>Croatia</td>\n",
       "    </tr>\n",
       "  </tbody>\n",
       "</table>\n",
       "</div>"
      ],
      "text/plain": [
       "   Country\n",
       "0  Croatia"
      ]
     },
     "execution_count": 6,
     "metadata": {},
     "output_type": "execute_result"
    }
   ],
   "source": [
    "search_interest['Country'].value_counts().rename_axis('Country').to_frame('Count').reset_index()[['Country']][0:1]"
   ]
  },
  {
   "cell_type": "code",
   "execution_count": 7,
   "metadata": {},
   "outputs": [
    {
     "data": {
      "text/html": [
       "<div>\n",
       "<style scoped>\n",
       "    .dataframe tbody tr th:only-of-type {\n",
       "        vertical-align: middle;\n",
       "    }\n",
       "\n",
       "    .dataframe tbody tr th {\n",
       "        vertical-align: top;\n",
       "    }\n",
       "\n",
       "    .dataframe thead th {\n",
       "        text-align: right;\n",
       "    }\n",
       "</style>\n",
       "<table border=\"1\" class=\"dataframe\">\n",
       "  <thead>\n",
       "    <tr style=\"text-align: right;\">\n",
       "      <th></th>\n",
       "      <th>Country</th>\n",
       "    </tr>\n",
       "  </thead>\n",
       "  <tbody>\n",
       "    <tr>\n",
       "      <th>0</th>\n",
       "      <td>Croatia</td>\n",
       "    </tr>\n",
       "  </tbody>\n",
       "</table>\n",
       "</div>"
      ],
      "text/plain": [
       "   Country\n",
       "0  Croatia"
      ]
     },
     "execution_count": 7,
     "metadata": {},
     "output_type": "execute_result"
    }
   ],
   "source": [
    "pd.Series(search_interest.groupby('Country')['Country'].count().idxmax()).to_frame('Country')"
   ]
  },
  {
   "cell_type": "code",
   "execution_count": 8,
   "metadata": {},
   "outputs": [
    {
     "data": {
      "text/html": [
       "<div>\n",
       "<style scoped>\n",
       "    .dataframe tbody tr th:only-of-type {\n",
       "        vertical-align: middle;\n",
       "    }\n",
       "\n",
       "    .dataframe tbody tr th {\n",
       "        vertical-align: top;\n",
       "    }\n",
       "\n",
       "    .dataframe thead th {\n",
       "        text-align: right;\n",
       "    }\n",
       "</style>\n",
       "<table border=\"1\" class=\"dataframe\">\n",
       "  <thead>\n",
       "    <tr style=\"text-align: right;\">\n",
       "      <th></th>\n",
       "      <th>index</th>\n",
       "      <th>Country</th>\n",
       "      <th>Search_Interest</th>\n",
       "      <th>Sport</th>\n",
       "    </tr>\n",
       "  </thead>\n",
       "  <tbody>\n",
       "    <tr>\n",
       "      <th>69</th>\n",
       "      <td>69</td>\n",
       "      <td>Croatia</td>\n",
       "      <td>4</td>\n",
       "      <td>Artistic gymnastics</td>\n",
       "    </tr>\n",
       "    <tr>\n",
       "      <th>243</th>\n",
       "      <td>243</td>\n",
       "      <td>Croatia</td>\n",
       "      <td>9</td>\n",
       "      <td>Athletics (Track &amp; Field)</td>\n",
       "    </tr>\n",
       "    <tr>\n",
       "      <th>428</th>\n",
       "      <td>428</td>\n",
       "      <td>Croatia</td>\n",
       "      <td>6</td>\n",
       "      <td>Basketball</td>\n",
       "    </tr>\n",
       "    <tr>\n",
       "      <th>497</th>\n",
       "      <td>497</td>\n",
       "      <td>Croatia</td>\n",
       "      <td>1</td>\n",
       "      <td>Boxing</td>\n",
       "    </tr>\n",
       "    <tr>\n",
       "      <th>536</th>\n",
       "      <td>536</td>\n",
       "      <td>Croatia</td>\n",
       "      <td>1</td>\n",
       "      <td>Cycling</td>\n",
       "    </tr>\n",
       "    <tr>\n",
       "      <th>589</th>\n",
       "      <td>589</td>\n",
       "      <td>Croatia</td>\n",
       "      <td>1</td>\n",
       "      <td>Diving</td>\n",
       "    </tr>\n",
       "    <tr>\n",
       "      <th>726</th>\n",
       "      <td>726</td>\n",
       "      <td>Croatia</td>\n",
       "      <td>1</td>\n",
       "      <td>Football (Soccer)</td>\n",
       "    </tr>\n",
       "    <tr>\n",
       "      <th>833</th>\n",
       "      <td>833</td>\n",
       "      <td>Croatia</td>\n",
       "      <td>2</td>\n",
       "      <td>Handball</td>\n",
       "    </tr>\n",
       "    <tr>\n",
       "      <th>923</th>\n",
       "      <td>923</td>\n",
       "      <td>Croatia</td>\n",
       "      <td>3</td>\n",
       "      <td>Rowing</td>\n",
       "    </tr>\n",
       "    <tr>\n",
       "      <th>940</th>\n",
       "      <td>940</td>\n",
       "      <td>Croatia</td>\n",
       "      <td>2</td>\n",
       "      <td>Sailing</td>\n",
       "    </tr>\n",
       "    <tr>\n",
       "      <th>953</th>\n",
       "      <td>953</td>\n",
       "      <td>Croatia</td>\n",
       "      <td>1</td>\n",
       "      <td>Shooting</td>\n",
       "    </tr>\n",
       "    <tr>\n",
       "      <th>1043</th>\n",
       "      <td>1043</td>\n",
       "      <td>Croatia</td>\n",
       "      <td>5</td>\n",
       "      <td>Swimming</td>\n",
       "    </tr>\n",
       "    <tr>\n",
       "      <th>1171</th>\n",
       "      <td>1171</td>\n",
       "      <td>Croatia</td>\n",
       "      <td>1</td>\n",
       "      <td>Taekwondo</td>\n",
       "    </tr>\n",
       "    <tr>\n",
       "      <th>1238</th>\n",
       "      <td>1238</td>\n",
       "      <td>Croatia</td>\n",
       "      <td>6</td>\n",
       "      <td>Tennis</td>\n",
       "    </tr>\n",
       "    <tr>\n",
       "      <th>1329</th>\n",
       "      <td>1329</td>\n",
       "      <td>Croatia</td>\n",
       "      <td>1</td>\n",
       "      <td>Water polo</td>\n",
       "    </tr>\n",
       "    <tr>\n",
       "      <th>1366</th>\n",
       "      <td>1366</td>\n",
       "      <td>Croatia</td>\n",
       "      <td>1</td>\n",
       "      <td>Wrestling</td>\n",
       "    </tr>\n",
       "  </tbody>\n",
       "</table>\n",
       "</div>"
      ],
      "text/plain": [
       "      index  Country  Search_Interest                      Sport\n",
       "69       69  Croatia                4        Artistic gymnastics\n",
       "243     243  Croatia                9  Athletics (Track & Field)\n",
       "428     428  Croatia                6                 Basketball\n",
       "497     497  Croatia                1                     Boxing\n",
       "536     536  Croatia                1                    Cycling\n",
       "589     589  Croatia                1                     Diving\n",
       "726     726  Croatia                1          Football (Soccer)\n",
       "833     833  Croatia                2                   Handball\n",
       "923     923  Croatia                3                     Rowing\n",
       "940     940  Croatia                2                    Sailing\n",
       "953     953  Croatia                1                   Shooting\n",
       "1043   1043  Croatia                5                   Swimming\n",
       "1171   1171  Croatia                1                  Taekwondo\n",
       "1238   1238  Croatia                6                     Tennis\n",
       "1329   1329  Croatia                1                 Water polo\n",
       "1366   1366  Croatia                1                  Wrestling"
      ]
     },
     "execution_count": 8,
     "metadata": {},
     "output_type": "execute_result"
    }
   ],
   "source": [
    "search_interest.loc[search_interest['Country'] == search_interest.groupby('Country')['Country'].count().idxmax()]"
   ]
  },
  {
   "cell_type": "code",
   "execution_count": 9,
   "metadata": {
    "nbgrader": {
     "grade": false,
     "grade_id": "compute_basic_stats",
     "locked": false,
     "schema_version": 1,
     "solution": true
    }
   },
   "outputs": [],
   "source": [
    "top_country = None\n",
    "top_sport = None\n",
    "sport_count = None\n",
    "\n",
    "def compute_basic_stats():\n",
    "    \n",
    "    conn = sqlite3.connect(fn('sports.db'))\n",
    "    \n",
    "    \n",
    "    ## USING PANDAS\n",
    "    \n",
    "    search_interest, countries = read_data(conn)\n",
    "    \n",
    "    top_country = (\n",
    "        search_interest\n",
    "            .groupby('Country')['Country']\n",
    "            .count()\n",
    "            .nlargest(1)\n",
    "            .to_frame('Count')\n",
    "            .reset_index()\n",
    "            .filter(['Country'])\n",
    "    )\n",
    "    \n",
    "    top_sport = (\n",
    "        search_interest\n",
    "            .groupby('Sport')['Sport']\n",
    "            .count()\n",
    "            .nlargest(1)\n",
    "            .to_frame('Count')\n",
    "            .reset_index()\n",
    "            .filter(['Sport'])\n",
    "    )\n",
    "    \n",
    "    sport_count = (\n",
    "        search_interest\n",
    "            .groupby('Sport')\n",
    "            .ngroups\n",
    "    )\n",
    "    \n",
    "    \n",
    "    ## USING SQLITE3\n",
    "    \n",
    "    #top_country_query = '''\n",
    "    #    \n",
    "    #    --SQLITE SPECIFIC SQL QUERY\n",
    "    #    select Country\n",
    "    #    from search_interest\n",
    "    #    group by Country\n",
    "    #    order by count(*) desc\n",
    "    #    limit 1\n",
    "    #    \n",
    "    #    ----ANSI COMPLIANT SQL QUERY WHICH WILL WORK IN MOST DATABASES\n",
    "    #    --select tc.Country\n",
    "    #    --from (\n",
    "    #    --    select\n",
    "    #    --        si.Country,\n",
    "    #    --        row_number() over (order by count(*) desc) as Rank\n",
    "    #    --    from search_interest as si\n",
    "    #    --    group by Country\n",
    "    #    --) as tc\n",
    "    #    --where Rank = 1\n",
    "    #    --;\n",
    "    #    \n",
    "    #'''\n",
    "    #\n",
    "    #top_sport_query = '''\n",
    "    #\n",
    "    #    --SQLITE SPECIFIC SQL QUERY\n",
    "    #    select Sport\n",
    "    #    from search_interest\n",
    "    #    group by Sport\n",
    "    #    order by count(*) desc\n",
    "    #    limit 1\n",
    "    #\n",
    "    #    ----ANSI COMPLIANT SQL QUERY WHICH WILL WORK IN MOST DATABASES\n",
    "    #    --select ts.Sport\n",
    "    #    --from (\n",
    "    #    --    select\n",
    "    #    --        si.Sport,\n",
    "    #    --        row_number() over (order by count(*) desc) as Rank\n",
    "    #    --    from search_interest as si\n",
    "    #    --    group by si.Sport\n",
    "    #    --) as ts\n",
    "    #    --where Rank = 1\n",
    "    #    --;\n",
    "    #    \n",
    "    #'''\n",
    "    #\n",
    "    #sport_count_query = '''\n",
    "    #\n",
    "    #    --ANSI COMPLIANT SQL QUERY WHICH WILL WORK IN MOST DATABASES\n",
    "    #    select count(distinct si.Sport) as Count\n",
    "    #    from search_interest as si\n",
    "    #\n",
    "    #'''\n",
    "    #\n",
    "    #top_country = pd.read_sql_query(top_country_query, conn)\n",
    "    #top_sport = pd.read_sql_query(top_sport_query, conn)\n",
    "    #sport_count = pd.read_sql_query(sport_count_query, conn)\n",
    "    \n",
    "    conn.close()\n",
    "    \n",
    "    return top_country, top_sport, sport_count\n",
    "    \n",
    "top_country, top_sport, sport_count = compute_basic_stats()"
   ]
  },
  {
   "cell_type": "code",
   "execution_count": 10,
   "metadata": {
    "deletable": false,
    "editable": false,
    "nbgrader": {
     "grade": true,
     "grade_id": "compute_basic_stats_test",
     "locked": true,
     "points": 3,
     "schema_version": 1,
     "solution": false
    },
    "pycharm": {
     "name": "#%%\n"
    }
   },
   "outputs": [
    {
     "name": "stdout",
     "output_type": "stream",
     "text": [
      "\n",
      "(Passed!)\n"
     ]
    }
   ],
   "source": [
    "# Test code\n",
    "try:\n",
    "    ref = search_interest\n",
    "    del search_interest\n",
    "    top_country, top_sport, sport_count = compute_basic_stats()\n",
    "except NameError:\n",
    "    search_interest = ref\n",
    "    top_country, top_sport, sport_count = compute_basic_stats()\n",
    "    assert top_country == 'Croatia' or top_country == 'New Zealand'\n",
    "    assert top_sport == 'Athletics (Track & Field)'\n",
    "    assert sport_count == 34\n",
    "except Exception as e:\n",
    "    print(e)\n",
    "    print(\"Were you not using the search_interest dataframe to compute the stats ?\")\n",
    "finally:\n",
    "    search_interest = ref\n",
    "\n",
    "print(\"\\n(Passed!)\")"
   ]
  },
  {
   "cell_type": "markdown",
   "metadata": {
    "collapsed": true,
    "deletable": false,
    "editable": false,
    "nbgrader": {
     "grade": false,
     "grade_id": "cell-5ed8d2385ac8823a",
     "locked": true,
     "schema_version": 1,
     "solution": false
    }
   },
   "source": [
    "## Worldwide popularity of a sport\n",
    "\n",
    "To estimate the popularity of a sport, it is not good enough to get only a count of the countries where the sport generated enough search interest. We might get a better estimate of popularity by computing a weighted average of search interest that accounts for differences in search interests and populations among countries."
   ]
  },
  {
   "cell_type": "markdown",
   "metadata": {
    "deletable": false,
    "editable": false,
    "nbgrader": {
     "grade": false,
     "grade_id": "cell-4aad8396692de6bd",
     "locked": true,
     "schema_version": 1,
     "solution": false
    },
    "pycharm": {
     "name": "#%% md\n"
    }
   },
   "source": [
    "**Exercise 2** (2 points). Before we can perform a weighted average, we need to find the weights for each country. To do that, we need the population for each of the countries in the search interest table, which we can obtain by querying the census population table.\n",
    "\n",
    "Complete the function **`join_pop(si, c)`** below to perform this task. That is, given the dataframe of search interests, **`si`**, and the census data, **`c`**, this function should join the `Population` column from `c` to `si` and return the result.\n",
    "\n",
    "The returned value of `join_pop(si, c)` should be a copy of `si` with one additional column named `'Population'` that holds the corresponding population value from `c`.\n",
    "\n",
    "> To match the country names between the `si` and `c` dataframes, note that the `si` dataframe's `'Country'` column includes spaces whereas `c` does not. You'll want to account for that by, for instance, stripping out the spaces from `si` before merging or joining with `c`."
   ]
  },
  {
   "cell_type": "code",
   "execution_count": 11,
   "metadata": {
    "nbgrader": {
     "grade": false,
     "grade_id": "join_tables",
     "locked": false,
     "schema_version": 1,
     "solution": true
    }
   },
   "outputs": [
    {
     "data": {
      "text/html": [
       "<div>\n",
       "<style scoped>\n",
       "    .dataframe tbody tr th:only-of-type {\n",
       "        vertical-align: middle;\n",
       "    }\n",
       "\n",
       "    .dataframe tbody tr th {\n",
       "        vertical-align: top;\n",
       "    }\n",
       "\n",
       "    .dataframe thead th {\n",
       "        text-align: right;\n",
       "    }\n",
       "</style>\n",
       "<table border=\"1\" class=\"dataframe\">\n",
       "  <thead>\n",
       "    <tr style=\"text-align: right;\">\n",
       "      <th></th>\n",
       "      <th>index</th>\n",
       "      <th>Country</th>\n",
       "      <th>Search_Interest</th>\n",
       "      <th>Sport</th>\n",
       "      <th>Population</th>\n",
       "    </tr>\n",
       "  </thead>\n",
       "  <tbody>\n",
       "    <tr>\n",
       "      <th>0</th>\n",
       "      <td>0</td>\n",
       "      <td>Iran</td>\n",
       "      <td>1</td>\n",
       "      <td>Archery</td>\n",
       "      <td>80987449</td>\n",
       "    </tr>\n",
       "    <tr>\n",
       "      <th>1</th>\n",
       "      <td>1</td>\n",
       "      <td>South Korea</td>\n",
       "      <td>2</td>\n",
       "      <td>Archery</td>\n",
       "      <td>50924172</td>\n",
       "    </tr>\n",
       "    <tr>\n",
       "      <th>2</th>\n",
       "      <td>2</td>\n",
       "      <td>Mexico</td>\n",
       "      <td>1</td>\n",
       "      <td>Archery</td>\n",
       "      <td>123166749</td>\n",
       "    </tr>\n",
       "    <tr>\n",
       "      <th>3</th>\n",
       "      <td>3</td>\n",
       "      <td>Netherlands</td>\n",
       "      <td>1</td>\n",
       "      <td>Archery</td>\n",
       "      <td>17016967</td>\n",
       "    </tr>\n",
       "    <tr>\n",
       "      <th>4</th>\n",
       "      <td>4</td>\n",
       "      <td>Aruba</td>\n",
       "      <td>16</td>\n",
       "      <td>Artistic gymnastics</td>\n",
       "      <td>113648</td>\n",
       "    </tr>\n",
       "  </tbody>\n",
       "</table>\n",
       "</div>"
      ],
      "text/plain": [
       "   index      Country  Search_Interest                Sport  Population\n",
       "0      0         Iran                1              Archery    80987449\n",
       "1      1  South Korea                2              Archery    50924172\n",
       "2      2       Mexico                1              Archery   123166749\n",
       "3      3  Netherlands                1              Archery    17016967\n",
       "4      4        Aruba               16  Artistic gymnastics      113648"
      ]
     },
     "metadata": {},
     "output_type": "display_data"
    }
   ],
   "source": [
    "def translate_country(country):\n",
    "    \"\"\"\n",
    "    Removes spaces from country names\n",
    "    \"\"\"\n",
    "    return country.replace(' ', '')\n",
    "\n",
    "def join_pop(si, c):\n",
    "    return (\n",
    "        si\n",
    "            .assign(CountryTemp = lambda df: df['Country'])\n",
    "            .assign(Country = lambda df: df['Country'].apply(lambda x: translate_country(x)))\n",
    "            .merge(c[['Country', 'Population']], how = 'left', on = 'Country')\n",
    "            .assign(Country = lambda df: df['CountryTemp'])\n",
    "            .drop(['CountryTemp'], axis = 1)\n",
    "    )\n",
    "\n",
    "total_world_population = sum(countries[\"Population\"])\n",
    "join_df = join_pop(search_interest, countries)\n",
    "\n",
    "display(join_df.head())"
   ]
  },
  {
   "cell_type": "code",
   "execution_count": 12,
   "metadata": {
    "deletable": false,
    "editable": false,
    "nbgrader": {
     "grade": true,
     "grade_id": "join_tables_test",
     "locked": true,
     "points": 2,
     "schema_version": 1,
     "solution": false
    },
    "pycharm": {
     "name": "#%%\n"
    }
   },
   "outputs": [
    {
     "name": "stdout",
     "output_type": "stream",
     "text": [
      "\n",
      "(Passed!)\n"
     ]
    }
   ],
   "source": [
    "# Test cell: `join_tables_test`\n",
    "\n",
    "join_df_ref = pd.read_csv(fn(\"joined_df.csv\"))\n",
    "\n",
    "try:\n",
    "    ref = pd.read_csv\n",
    "    del pd.read_csv\n",
    "    join_df = join_pop(search_interest, countries)\n",
    "    assert tibbles_are_equivalent(join_df, join_df_ref), \"Solution is incorrect\"\n",
    "except AttributeError as e:\n",
    "    raise RuntimeError(\"Were you using read_csv to read the csv solution ?\")\n",
    "finally:\n",
    "    pd.read_csv = ref\n",
    "\n",
    "print(\"\\n(Passed!)\")"
   ]
  },
  {
   "cell_type": "markdown",
   "metadata": {},
   "source": [
    "**Weighing search interest by population.** Suppose that to compare different Olympic sports by global popularity, we want to account for each country's population.\n",
    "\n",
    "For instance, suppose we are looking at the global search interest in volleyball. If volleyball's search interest equals `1` in both China and the Netherlands, we might weigh China's search interest more since it is the more populous contry.\n",
    "\n",
    "To determine the weights for each country, let's just use each country's fraction of the global population. Recall that an earlier code cell computed the variable, `total_world_population`, which is the global population. Let the weight of a given country be its population divided by the global population. (For instance, if the global population is 6 billion people and the population of India is 1 billion, then India's \"weight\" would be one-sixth.)"
   ]
  },
  {
   "cell_type": "markdown",
   "metadata": {
    "deletable": false,
    "editable": false,
    "nbgrader": {
     "grade": false,
     "grade_id": "cell-4099e720a2c84829",
     "locked": true,
     "schema_version": 1,
     "solution": false
    },
    "pycharm": {
     "name": "#%% md\n"
    }
   },
   "source": [
    "**Exercise 3** (3 points). Create a dataframe named `ranking` with two columns, `'Sport'` and `'weighted_interest'`, where there is one row per sport, and each sport's `'weighted_interest'` is the overall weighted interest across countries, using the population weights for each country as described above.\n",
    "\n",
    "> **Hint**: Consider using [groupby()](https://pandas.pydata.org/pandas-docs/stable/generated/pandas.DataFrame.groupby.html) for Pandas DataFrames. It is very similar to `GROUP BY` in SQL."
   ]
  },
  {
   "cell_type": "code",
   "execution_count": null,
   "outputs": [],
   "source": [
    "ranking = (\n",
    "    join_df\n",
    "        .assign(weighted_interest = lambda df: df['Search_Interest'] * df['Population'] / total_world_population)\n",
    "        .groupby('Sport')['weighted_interest']\n",
    "        .sum()\n",
    "        .sort_values(ascending = False)\n",
    "        .to_frame()\n",
    "        .reset_index()\n",
    ")\n",
    "\n",
    "# top 10 sports\n",
    "display(ranking[:10])"
   ],
   "metadata": {
    "collapsed": false,
    "pycharm": {
     "name": "#%%\n"
    }
   }
  },
  {
   "cell_type": "code",
   "execution_count": 13,
   "metadata": {
    "nbgrader": {
     "grade": false,
     "grade_id": "ranking",
     "locked": false,
     "schema_version": 1,
     "solution": true
    }
   },
   "outputs": [
    {
     "data": {
      "text/html": [
       "<div>\n",
       "<style scoped>\n",
       "    .dataframe tbody tr th:only-of-type {\n",
       "        vertical-align: middle;\n",
       "    }\n",
       "\n",
       "    .dataframe tbody tr th {\n",
       "        vertical-align: top;\n",
       "    }\n",
       "\n",
       "    .dataframe thead th {\n",
       "        text-align: right;\n",
       "    }\n",
       "</style>\n",
       "<table border=\"1\" class=\"dataframe\">\n",
       "  <thead>\n",
       "    <tr style=\"text-align: right;\">\n",
       "      <th></th>\n",
       "      <th>Sport</th>\n",
       "      <th>weighted_interest</th>\n",
       "    </tr>\n",
       "  </thead>\n",
       "  <tbody>\n",
       "    <tr>\n",
       "      <th>0</th>\n",
       "      <td>Swimming</td>\n",
       "      <td>5.983388</td>\n",
       "    </tr>\n",
       "    <tr>\n",
       "      <th>1</th>\n",
       "      <td>Athletics (Track &amp; Field)</td>\n",
       "      <td>4.273728</td>\n",
       "    </tr>\n",
       "    <tr>\n",
       "      <th>2</th>\n",
       "      <td>Badminton</td>\n",
       "      <td>3.051064</td>\n",
       "    </tr>\n",
       "    <tr>\n",
       "      <th>3</th>\n",
       "      <td>Artistic gymnastics</td>\n",
       "      <td>2.337363</td>\n",
       "    </tr>\n",
       "    <tr>\n",
       "      <th>4</th>\n",
       "      <td>Tennis</td>\n",
       "      <td>2.119308</td>\n",
       "    </tr>\n",
       "    <tr>\n",
       "      <th>5</th>\n",
       "      <td>Football (Soccer)</td>\n",
       "      <td>1.345433</td>\n",
       "    </tr>\n",
       "    <tr>\n",
       "      <th>6</th>\n",
       "      <td>Table tennis</td>\n",
       "      <td>0.929301</td>\n",
       "    </tr>\n",
       "    <tr>\n",
       "      <th>7</th>\n",
       "      <td>Wrestling</td>\n",
       "      <td>0.845934</td>\n",
       "    </tr>\n",
       "    <tr>\n",
       "      <th>8</th>\n",
       "      <td>Diving</td>\n",
       "      <td>0.727840</td>\n",
       "    </tr>\n",
       "    <tr>\n",
       "      <th>9</th>\n",
       "      <td>Basketball</td>\n",
       "      <td>0.462788</td>\n",
       "    </tr>\n",
       "  </tbody>\n",
       "</table>\n",
       "</div>"
      ],
      "text/plain": [
       "                       Sport  weighted_interest\n",
       "0                   Swimming           5.983388\n",
       "1  Athletics (Track & Field)           4.273728\n",
       "2                  Badminton           3.051064\n",
       "3        Artistic gymnastics           2.337363\n",
       "4                     Tennis           2.119308\n",
       "5          Football (Soccer)           1.345433\n",
       "6               Table tennis           0.929301\n",
       "7                  Wrestling           0.845934\n",
       "8                     Diving           0.727840\n",
       "9                 Basketball           0.462788"
      ]
     },
     "metadata": {},
     "output_type": "display_data"
    }
   ],
   "source": [
    "# Test cell: `ranking_test`\n",
    "\n",
    "ranking_ref = pd.read_csv(fn(\"rankings_ref.csv\"))\n",
    "assert (ranking_ref[\"Sport\"] == ranking[\"Sport\"]).all()\n",
    "\n",
    "print(\"\\n(Passed!)\")"
   ]
  },
  {
   "cell_type": "code",
   "execution_count": 14,
   "metadata": {
    "deletable": false,
    "editable": false,
    "nbgrader": {
     "grade": true,
     "grade_id": "ranking_test",
     "locked": true,
     "points": 3,
     "schema_version": 1,
     "solution": false
    }
   },
   "outputs": [
    {
     "name": "stdout",
     "output_type": "stream",
     "text": [
      "\n",
      "(Passed!)\n"
     ]
    }
   ],
   "source": [
    "# Test cell: `ranking_test`\n",
    "\n",
    "ranking_ref = pd.read_csv(fn(\"rankings_ref.csv\"))\n",
    "assert (ranking_ref[\"Sport\"] == ranking[\"Sport\"]).all()\n",
    "\n",
    "print(\"\\n(Passed!)\")"
   ]
  },
  {
   "cell_type": "markdown",
   "metadata": {
    "deletable": false,
    "editable": false,
    "nbgrader": {
     "grade": false,
     "grade_id": "cell-8829170a1f643640",
     "locked": true,
     "schema_version": 1,
     "solution": false
    }
   },
   "source": [
    "**Fin!** You have reached the end of this problem. Be sure to submit it before moving on."
   ]
  }
 ],
 "metadata": {
  "celltoolbar": "Create Assignment",
  "kernelspec": {
   "display_name": "PyCharm (CSE 6040)",
   "language": "python",
   "name": "pycharm-cd1f136f"
  },
  "language_info": {
   "codemirror_mode": {
    "name": "ipython",
    "version": 3
   },
   "file_extension": ".py",
   "mimetype": "text/x-python",
   "name": "python",
   "nbconvert_exporter": "python",
   "pygments_lexer": "ipython3",
   "version": "3.7.4"
  }
 },
 "nbformat": 4,
 "nbformat_minor": 2
}