{
 "cells": [
  {
   "cell_type": "markdown",
   "metadata": {
    "deletable": false,
    "editable": false,
    "nbgrader": {
     "grade": false,
     "grade_id": "cell-95547b0d46db0665",
     "locked": true,
     "schema_version": 1,
     "solution": false
    }
   },
   "source": [
    "# Problem 6\n",
    "\n",
    "In this problem, you will write code to \"parse\" a restricted form of SQL queries. These exercises are about string processing and regular expressions. There are five (5) exercises, numbered 0-4, which are worth a total of ten (10) points."
   ]
  },
  {
   "cell_type": "code",
   "execution_count": 1,
   "metadata": {
    "deletable": false,
    "editable": false,
    "nbgrader": {
     "grade": false,
     "grade_id": "cell-8bdacbbe5933030e",
     "locked": true,
     "schema_version": 1,
     "solution": false
    }
   },
   "outputs": [],
   "source": [
    "from IPython.display import display\n",
    "\n",
    "import re\n",
    "import pandas as pd\n",
    "\n",
    "# Random number generation for generating test cases:\n",
    "from random import randrange, randint, choice, sample"
   ]
  },
  {
   "cell_type": "markdown",
   "metadata": {
    "deletable": false,
    "editable": false,
    "nbgrader": {
     "grade": false,
     "grade_id": "cell-547a5e78dc5c8da9",
     "locked": true,
     "schema_version": 1,
     "solution": false
    }
   },
   "source": [
    "**Background: SQL review.** Suppose you have two SQL tables, `OneTable` and `AnotherTable`, and you wish to perform an inner-join on that links a column named `ColA` in `OneTable` with `ColB` in `AnotherTable`. Recall that one simple way to do that in SQL would be:\n",
    "\n",
    "```SQL\n",
    "    SELECT * FROM OneTable, AnotherTable\n",
    "        WHERE OneTable.ColA = AnotherTable.ColB\n",
    "```"
   ]
  },
  {
   "cell_type": "markdown",
   "metadata": {
    "deletable": false,
    "editable": false,
    "nbgrader": {
     "grade": false,
     "grade_id": "cell-766e9020a27cf85a",
     "locked": true,
     "schema_version": 1,
     "solution": false
    }
   },
   "source": [
    "Or, consider the following more complex example. Suppose you have an additional table named `YetAThird` and you wish to extend the inner-join to include matches between its column, `ColC`, and a second column from `AnotherTable` named `ColB2`:\n",
    "\n",
    "```SQL\n",
    "    SELECT * FROM OneTable, AnotherTable, YetAThird\n",
    "        WHERE OneTable.ColA = AnotherTable.ColB AND AnotherTable.ColB2 = YetAThird.ColC\n",
    "```"
   ]
  },
  {
   "cell_type": "markdown",
   "metadata": {
    "deletable": false,
    "editable": false,
    "nbgrader": {
     "grade": false,
     "grade_id": "cell-03fc9bc5335821ff",
     "locked": true,
     "schema_version": 1,
     "solution": false
    }
   },
   "source": [
    "**Exercise 0** (2 points). Suppose you are given a string containing an SQL query in the restricted form,\n",
    "\n",
    "```SQL\n",
    "    SELECT * FROM [tbls] WHERE [conds]\n",
    "```\n",
    "\n",
    "Implement the function, **`split_simple_join(q)`**, so that it takes a query string **`q`** in the form shown above and **returns a pair of substrings** corresponding to `[tbls]` and `[conds]`.\n",
    "\n",
    "For example, if\n",
    "\n",
    "```python\n",
    "    q == \"\"\"SELECT * FROM OneTable, AnotherTable, YetAThird\n",
    "              WHERE OneTable.ColA = AnotherTable.ColB AND AnotherTable.ColB2=YetAThird.ColC\"\"\"\n",
    "```\n",
    "\n",
    "then\n",
    "\n",
    "```python\n",
    "    split_simple_join(q) == (\"OneTable, AnotherTable, YetAThird\",\n",
    "                             \"OneTable.ColA = AnotherTable.ColB AND AnotherTable.ColB2=YetAThird.ColC\")\n",
    "```\n",
    "\n",
    "**IMPORTANT NOTE!** In this problem, you only need to return the substring between `FROM` and `WHERE` and the one after `WHERE`. You will extract the table names and conditions later on, below.\n",
    "\n",
    "You should make the following assumptions:\n",
    "\n",
    "* The input string `q` contains exactly one such query, with no nesting of queries (e.g., no instances of `\"SELECT * FROM (SELECT ...)\"`). However, the query may (or may not) be a multiline string as shown in the example. (Treat newlines as whitespace.)\n",
    "* Your function should ignore any leading or trailing whitespace around the SQL keywords, e.g., `SELECT`, `FROM`, and `WHERE`.\n",
    "* The substring between `SELECT` and `FROM` will be any amount of whitespace, followed by an asterisk (`*`). \n",
    "* You should **not** treat the SQL keywords in a case-sensitive way; for example, you would regard `SELECT`, `select`, and `sElEct` as the same. However, do **not** change or ignore the case of the non-SQL keywords.\n",
    "* The `[tbls]` substring contains only a simple list of table names and no other substrings that might be interpreted as SQL keywords.\n",
    "* The `[conds]` substring contains only table and column names (e.g., `OneTable.ColA`), the equal sign, the `AND` SQL keyword, and whitespace, but no other SQL keywords or symbols.\n",
    "\n",
    "> Assuming you are using regular expressions for this problem, recall that you can pass [`re.VERBOSE`](https://docs.python.org/3/library/re.html#re.VERBOSE) when writing a multiline regex pattern."
   ]
  },
  {
   "cell_type": "code",
   "execution_count": 2,
   "metadata": {
    "nbgrader": {
     "grade": false,
     "grade_id": "split_simple_join",
     "locked": false,
     "schema_version": 1,
     "solution": true
    }
   },
   "outputs": [
    {
     "name": "stdout",
     "output_type": "stream",
     "text": [
      "('OneTable, AnotherTable, YetAThird', 'OneTable.ColA = AnotherTable.ColB AND AnotherTable.ColB2=YetAThird.ColC')\n"
     ]
    }
   ],
   "source": [
    "def split_simple_join(q):\n",
    "    assert type(q) is str\n",
    "    \n",
    "    # method 1 (relatively quick to implement)\n",
    "    #step1 = re.split(r'(?i)from[\\s\\n\\r\\t]+', q)[1]\n",
    "    #step2 = re.split(r'(?i)[\\n\\r\\t\\s]+where[\\n\\r\\t\\s]+', step1)\n",
    "    #return tuple(step2)\n",
    "\n",
    "    # method 2 (lots of typing)\n",
    "    #pattern = r\"\"\"\n",
    "    #    \\s*[sS][eE][lL][eE][cC][tT]\\s+\\*\n",
    "    #    \\s+[fF][rR][oO][mM]\\s+(?P<tbls>.+)\n",
    "    #    \\s+[wW][hH][eE][rR][eE]\\s+(?P<conds>.+)\n",
    "    #    \\s*\n",
    "    #\"\"\"\n",
    "    #pattern_matcher = re.compile(pattern, re.VERBOSE)\n",
    "    #\n",
    "    #matches = pattern_matcher.match(q)\n",
    "    #\n",
    "    #return matches.group('tbls'), matches.group('conds')\n",
    "    \n",
    "    \n",
    "    # method 3 utilizes the case insensitive flag `(?i)` and\n",
    "    # the fact that `re.split()` will only return capturing \n",
    "    # groups while others will be empty, provided you account\n",
    "    # for everything. also, we don't need to name capturing groups.\n",
    "    pattern = r'''\n",
    "        (?i)\\s*select.+from[\\s\\n\\r\\t]+\n",
    "        (?P<tbls>.+)\n",
    "        [\\n\\r\\t\\s]+where[\\n\\r\\t\\s]+\n",
    "        (?P<conds>.+)\n",
    "        \\s*\n",
    "    '''\n",
    "    \n",
    "    pattern_matcher = re.compile(pattern, re.VERBOSE)\n",
    "    \n",
    "    return tuple(s for s in re.split(pattern_matcher, q) if s)\n",
    "    \n",
    "# Demo\n",
    "q_demo = \"\"\"SELECT * FROM OneTable, AnotherTable, YetAThird\n",
    "              WHERE OneTable.ColA = AnotherTable.ColB AND AnotherTable.ColB2=YetAThird.ColC\"\"\"\n",
    "print(split_simple_join(q_demo))"
   ]
  },
  {
   "cell_type": "code",
   "execution_count": 3,
   "metadata": {
    "deletable": false,
    "editable": false,
    "nbgrader": {
     "grade": true,
     "grade_id": "split_simple_join_test1",
     "locked": true,
     "points": 1,
     "schema_version": 1,
     "solution": false
    }
   },
   "outputs": [
    {
     "name": "stdout",
     "output_type": "stream",
     "text": [
      "\n",
      "(Passed!)\n"
     ]
    }
   ],
   "source": [
    "# Test cell: `split_simple_join_test1`\n",
    "\n",
    "assert split_simple_join(q_demo) == \\\n",
    "           ('OneTable, AnotherTable, YetAThird',\n",
    "            'OneTable.ColA = AnotherTable.ColB AND AnotherTable.ColB2=YetAThird.ColC')\n",
    "print(\"\\n(Passed!)\")"
   ]
  },
  {
   "cell_type": "code",
   "execution_count": 4,
   "metadata": {
    "deletable": false,
    "editable": false,
    "nbgrader": {
     "grade": true,
     "grade_id": "split_simple_join_test2",
     "locked": true,
     "points": 1,
     "schema_version": 1,
     "solution": false
    }
   },
   "outputs": [
    {
     "name": "stdout",
     "output_type": "stream",
     "text": [
      "=== Test Statement 0 ===\n",
      "'''\n",
      "seLect\n",
      "\t*\n",
      " FROM\n",
      " _mqf \n",
      ", uMUoaazm \n",
      ",\t\n",
      "\tGK \t\t,   BPQo0zQuuj  \n",
      "wHERe GK.WEJrp \n",
      "=uMUoaazm._XaAf7D'''\n",
      "\n",
      "True 'FROM' clause substring: '''_mqf \n",
      ", uMUoaazm \n",
      ",\t\n",
      "\tGK \t\t,   BPQo0zQuuj'''\n",
      "\n",
      "True 'WHERE' clause substring: '''GK.WEJrp \n",
      "=uMUoaazm._XaAf7D'''\n",
      "\n",
      "=== Test Statement 1 ===\n",
      "'''\n",
      "\n",
      "\n",
      "sEleCT \n",
      "*\n",
      "\t FrOm  i4e \n",
      ", \t b1ouI4 , \n",
      "xB6\n",
      ",WeBSS6Nu   wheRe b1ouI4.ttW_PXG\n",
      "=\t  i4e.vUt7'''\n",
      "\n",
      "True 'FROM' clause substring: '''i4e \n",
      ", \t b1ouI4 , \n",
      "xB6\n",
      ",WeBSS6Nu'''\n",
      "\n",
      "True 'WHERE' clause substring: '''b1ouI4.ttW_PXG\n",
      "=\t  i4e.vUt7'''\n",
      "\n",
      "=== Test Statement 2 ===\n",
      "'''\tSElect  \t*\n",
      "\n",
      " froM IgqBySd7ut\t\n",
      ",\t oTTbPig9YZ,\n",
      "\n",
      "\n",
      "UuSPxi , \n",
      "CWLBmV\n",
      "\n",
      "\n",
      ",\n",
      "KpN\t\n",
      "\tWHEre CWLBmV.jwxT_ \n",
      "\n",
      "=\t\n",
      "oTTbPig9YZ.PCuCfuHf  AND \n",
      "\n",
      " UuSPxi.wu=  IgqBySd7ut.FC'''\n",
      "\n",
      "True 'FROM' clause substring: '''IgqBySd7ut\t\n",
      ",\t oTTbPig9YZ,\n",
      "\n",
      "\n",
      "UuSPxi , \n",
      "CWLBmV\n",
      "\n",
      "\n",
      ",\n",
      "KpN'''\n",
      "\n",
      "True 'WHERE' clause substring: '''CWLBmV.jwxT_ \n",
      "\n",
      "=\t\n",
      "oTTbPig9YZ.PCuCfuHf  AND \n",
      "\n",
      " UuSPxi.wu=  IgqBySd7ut.FC'''\n",
      "\n",
      "=== Test Statement 3 ===\n",
      "''' SelECt\t* \t\tFrom\t\n",
      "\tvfhKVQE6Ca \t\n",
      ",  \n",
      "cJYm ,\t\n",
      "G_Z \n",
      ",\t\tznnFuzz\t\n",
      " wheRE G_Z.jrz_Bc\t\t=\n",
      "\t\n",
      "znnFuzz.F8cX01_o'''\n",
      "\n",
      "True 'FROM' clause substring: '''vfhKVQE6Ca \t\n",
      ",  \n",
      "cJYm ,\t\n",
      "G_Z \n",
      ",\t\tznnFuzz'''\n",
      "\n",
      "True 'WHERE' clause substring: '''G_Z.jrz_Bc\t\t=\n",
      "\t\n",
      "znnFuzz.F8cX01_o'''\n",
      "\n",
      "=== Test Statement 4 ===\n",
      "''' selEct\t  *\tfRom\n",
      "QE3_WD \t,\n",
      "\tH9CCqb\t\t ,xH\n",
      "\tWheRE\t\txH.HUfuI6rjT  = \n",
      "QE3_WD.VT'''\n",
      "\n",
      "True 'FROM' clause substring: '''QE3_WD \t,\n",
      "\tH9CCqb\t\t ,xH'''\n",
      "\n",
      "True 'WHERE' clause substring: '''xH.HUfuI6rjT  = \n",
      "QE3_WD.VT'''\n",
      "\n",
      "\n",
      "(Passed!)\n"
     ]
    }
   ],
   "source": [
    "# Test cell: `split_simple_join_test2`\n",
    "\n",
    "__SQL = {'SELECT', 'FROM', 'WHERE'} # SQL keywords\n",
    "\n",
    "# Different character classes\n",
    "__ALPHA = 'abcdefghijklmnopqrstuvwxyzABCDEFGHIJKLMNOPQRSTUVWXYZ_'\n",
    "__ALPHA_VARS = __ALPHA + '_'\n",
    "__NUM = '0123456789'\n",
    "__ALPHA_NUM_VARS = __ALPHA_VARS + __NUM\n",
    "__DOT = '.'\n",
    "__SPACES = ' \\t\\n'\n",
    "__EQ = '='\n",
    "__ALL = __ALPHA_NUM_VARS + __DOT + __SPACES + __EQ\n",
    "\n",
    "def flip_coin():\n",
    "    from random import choice\n",
    "    return choice([True, False])\n",
    "\n",
    "def rand_str(k_min, k_max, alphabet):\n",
    "    \"\"\"\n",
    "    Returns a random string of `k` letters chosen uniformly from\n",
    "    from `alphabet` with replacement, where `k_min <= k <= k_max`\n",
    "    where `k` is also chosen uniformly at random.\n",
    "    \"\"\"\n",
    "    assert k_max >= k_min >= 0\n",
    "    k = k_min + randint(0, k_max-k_min)\n",
    "    return ''.join([choice(alphabet) for _ in range(k)])\n",
    "\n",
    "def rand_spaces(k_max, k_min=0):\n",
    "    assert k_max >= k_min >= 0\n",
    "    return rand_str(k_min, k_max, __SPACES)\n",
    "\n",
    "def rand_case(s):\n",
    "    \"\"\"Randomly changes the case of each letter in a string.\"\"\"\n",
    "    return ''.join([c.upper() if flip_coin() else c.lower() for c in s])\n",
    "\n",
    "def rand_var(k_min=1, k_max=10):\n",
    "    assert k_max >= k_min >= 1\n",
    "    s = choice(__ALPHA_VARS)\n",
    "    s += rand_str(k_min-1, k_max-1, __ALPHA_NUM_VARS)\n",
    "    if s.upper() in __SQL: # Don't generate keywords -- try again\n",
    "        return rand_var(k_min, k_max)\n",
    "    return s\n",
    "\n",
    "def rand_vars(k_min, k_max):\n",
    "    V = set()\n",
    "    dk = randint(0, k_max-k_min)\n",
    "    for k in range(k_min + dk + 1):\n",
    "        v = rand_var()\n",
    "        V.add(v)\n",
    "    return V\n",
    "\n",
    "def rand_table(max_cols):\n",
    "    table = rand_var()\n",
    "    columns = rand_vars(1, max_cols)\n",
    "    return (table, columns)\n",
    "\n",
    "def rand_tables(k_min, k_max, c_max=4):\n",
    "    assert k_max >= k_min >= 1\n",
    "    num_tables = k_min + randint(0, k_max-k_min)\n",
    "    tables = {}\n",
    "    for _ in range(num_tables):\n",
    "        table, columns = rand_table(c_max)\n",
    "        while table in tables:\n",
    "            table, columns = rand_table(v_max, c_max)\n",
    "        tables = {**tables, **{table: columns}}\n",
    "    return tables\n",
    "\n",
    "def rand_field(table_name, col_names):\n",
    "    return table_name + \".\" + choice(list(col_names))\n",
    "\n",
    "def rand_cond(tables):\n",
    "    assert type(tables) is dict\n",
    "    assert len(tables) >= 2\n",
    "    a, b = sample(tables.keys(), 2)\n",
    "    a_col = rand_field(a, tables[a])\n",
    "    b_col = rand_field(b, tables[b])\n",
    "    return (a_col, b_col)\n",
    "\n",
    "def rand_cond_set(tables, k_min, k_max):\n",
    "    k = k_min + randint(0, k_max-k_min)\n",
    "    conds = set()\n",
    "    while len(conds) < k:\n",
    "        (a, b) = rand_cond(tables)\n",
    "        if ((a, b) not in conds) and ((b, a) not in conds):\n",
    "            conds.add((a, b))\n",
    "    return conds\n",
    "\n",
    "def cond_set_to_substrs(conds, max_wspad=4):\n",
    "    substrs = []\n",
    "    for a, b in conds:\n",
    "        s = \"{}{}{}{}{}\".format(a,\n",
    "                                rand_spaces(max_wspad),\n",
    "                                __EQ,\n",
    "                                rand_spaces(max_wspad),\n",
    "                                b)\n",
    "        substrs.append(s)\n",
    "    return substrs\n",
    "\n",
    "def substrs_to_str(substrings, sep=',', max_wspad=4):\n",
    "    s_final = ''\n",
    "    for k, s in enumerate(substrings):\n",
    "        if k > 0:\n",
    "            s_final += rand_spaces(max_wspad) + sep + rand_spaces(max_wspad)\n",
    "        s_final += s\n",
    "    return s_final\n",
    "\n",
    "def rand_query_ans(max_tables, max_conds, max_wspad=4):\n",
    "    tables = rand_tables(2, max_tables)\n",
    "    cond_set = rand_cond_set(tables, 1, 4)\n",
    "    return tables, cond_set\n",
    "\n",
    "def pad_1(max_wspad):\n",
    "    return rand_spaces(max(1, max_wspad), 1)\n",
    "\n",
    "def form_select(max_wspad=4):\n",
    "    return pad_1(max_wspad) + rand_case(\"SELECT\") + pad_1(max_wspad) + \"*\"\n",
    "\n",
    "def form_from(tables, max_wspad=4):\n",
    "    from_ans = substrs_to_str(list(tables.keys()), sep=',', max_wspad=max_wspad)\n",
    "    return pad_1(max_wspad) + rand_case(\"FROM\") + pad_1(max_wspad) + from_ans, from_ans\n",
    "\n",
    "def form_where(cond_set, max_wspad=4):\n",
    "    cond_substrs = cond_set_to_substrs(cond_set)\n",
    "    cond_ans = substrs_to_str(cond_substrs, sep=' AND ', max_wspad=max_wspad)\n",
    "    return pad_1(max_wspad) + rand_case(\"WHERE\") + pad_1(max_wspad) + cond_ans, cond_ans\n",
    "\n",
    "def form_query_str(tables, cond_set, max_wspad=4):\n",
    "    select_clause = form_select(max_wspad)\n",
    "    from_clause, from_ans = form_from(tables, max_wspad)\n",
    "    where_clause, cond_ans = form_where(cond_set, max_wspad)\n",
    "    query = select_clause + from_clause + where_clause\n",
    "    return query, from_ans, cond_ans\n",
    "\n",
    "def split_simple_join_battery(num_tests, max_wspad=4):\n",
    "    for k in range(num_tests):\n",
    "        tables, cond_set = rand_query_ans(5, 5, max_wspad)\n",
    "        qstmt, from_ans, where_ans = form_query_str(tables, cond_set, max_wspad)\n",
    "        print(\"=== Test Statement {} ===\\n'''{}'''\\n\".format(k, qstmt))\n",
    "        print(\"True 'FROM' clause substring: '''{}'''\\n\".format(from_ans))\n",
    "        print(\"True 'WHERE' clause substring: '''{}'''\\n\".format(where_ans))\n",
    "    \n",
    "split_simple_join_battery(5, 3)\n",
    "\n",
    "print(\"\\n(Passed!)\")"
   ]
  },
  {
   "cell_type": "markdown",
   "metadata": {
    "deletable": false,
    "editable": false,
    "nbgrader": {
     "grade": false,
     "grade_id": "cell-4096fa783ea56068",
     "locked": true,
     "schema_version": 1,
     "solution": false
    }
   },
   "source": [
    "**Variable names.** For this problem, let a valid _variable name_ be a sequence of alphanumeric characters or underscores, where the very first character _cannot_ be a number. For example,\n",
    "\n",
    "    some_variable\n",
    "    __another_VariAble\n",
    "    Yet_a_3rd_var\n",
    "    _A_CSE_6040_inspired_var\n",
    "    \n",
    "are all valid variable names, whereas the following are not.\n",
    "\n",
    "    123var_is_bad\n",
    "    0_is_not_good_either\n",
    "    4goodnessSakeStopItAlready"
   ]
  },
  {
   "cell_type": "markdown",
   "metadata": {
    "deletable": false,
    "editable": false,
    "nbgrader": {
     "grade": false,
     "grade_id": "cell-4cbb6f325bbf577e",
     "locked": true,
     "schema_version": 1,
     "solution": false
    }
   },
   "source": [
    "**Exercise 1** (2 points). Implement a function, **`is_var(s)`**, that checks whether a valid variable name. That is, it should return `True` if and only if `s` is valid according to the above definition. Your function should ignore any leading or trailing spaces in `s`.\n",
    "\n",
    "For example:\n",
    "\n",
    "```python\n",
    "    assert is_var(\"__another_VariAble\")\n",
    "    assert not is_var(\"0_is_not_good_either\")\n",
    "    assert is_var(\"   foo\")\n",
    "    assert is_var(\"_A_CSE_6040_inspired_var   \")\n",
    "    assert not is_var(\"#getMe2\")\n",
    "    assert is_var(\"   Yet_a_3rd_var  \")\n",
    "    assert not is_var(\"123var_is_bad\")\n",
    "    assert not is_var(\"  A.okay\")\n",
    "```"
   ]
  },
  {
   "cell_type": "code",
   "execution_count": 5,
   "metadata": {
    "nbgrader": {
     "grade": false,
     "grade_id": "is_var",
     "locked": false,
     "schema_version": 1,
     "solution": true
    }
   },
   "outputs": [],
   "source": [
    "def is_var(s):\n",
    "    assert type(s) is str\n",
    "    pattern = r'(?i)^\\s*[a-z_][a-z0-9_]*\\s*$'\n",
    "    matches = re.match(pattern, s)\n",
    "    return matches is not None\n",
    "    #return True if matches else False"
   ]
  },
  {
   "cell_type": "code",
   "execution_count": 6,
   "metadata": {
    "deletable": false,
    "editable": false,
    "nbgrader": {
     "grade": true,
     "grade_id": "is_var_test0",
     "locked": true,
     "points": 1,
     "schema_version": 1,
     "solution": false
    }
   },
   "outputs": [
    {
     "name": "stdout",
     "output_type": "stream",
     "text": [
      "\n",
      "(Passed part 1 of 2.)\n"
     ]
    }
   ],
   "source": [
    "# Test cell, part 1: `is_var_test0`\n",
    "\n",
    "assert is_var(\"__another_VariAble\")\n",
    "assert not is_var(\"0_is_not_good_either\")\n",
    "assert is_var(\"   foo\")\n",
    "assert is_var(\"_A_CSE_6040_inspired_var   \")\n",
    "assert not is_var(\"#getMe2\")\n",
    "assert is_var(\"   Yet_a_3rd_var  \")\n",
    "assert not is_var(\"123var_is_bad\")\n",
    "assert not is_var(\"  A.okay\")\n",
    "\n",
    "print(\"\\n(Passed part 1 of 2.)\")"
   ]
  },
  {
   "cell_type": "code",
   "execution_count": 7,
   "metadata": {
    "deletable": false,
    "editable": false,
    "nbgrader": {
     "grade": true,
     "grade_id": "is_var_test1",
     "locked": true,
     "points": 1,
     "schema_version": 1,
     "solution": false
    }
   },
   "outputs": [
    {
     "name": "stdout",
     "output_type": "stream",
     "text": [
      "\n",
      "(Passed part 2 of 2.)\n"
     ]
    }
   ],
   "source": [
    "# Test cell: `is_var_test2`\n",
    "\n",
    "for v in rand_vars(20, 30):\n",
    "    ans = flip_coin()\n",
    "    if not ans:\n",
    "        v = choice(__NUM) + v\n",
    "    v = rand_spaces(3) + v + rand_spaces(3)\n",
    "    your_ans = is_var(v)\n",
    "    assert your_ans == ans, \"is_var('{}') == {} instead of {}.\".format(v, your_ans, ans)\n",
    "    \n",
    "print(\"\\n(Passed part 2 of 2.)\")"
   ]
  },
  {
   "cell_type": "markdown",
   "metadata": {},
   "source": [
    "**Column variables.** A _column variable_ consists of two valid variable names separated by a single period. For example,\n",
    "\n",
    "    A.okay\n",
    "    a32X844._387b\n",
    "    __C__.B3am\n",
    "    \n",
    "are all examples of column variables: in each case, the substrings to the left and right of the period are valid variables."
   ]
  },
  {
   "cell_type": "markdown",
   "metadata": {
    "deletable": false,
    "editable": false,
    "nbgrader": {
     "grade": false,
     "grade_id": "cell-9adc95893b02a9b3",
     "locked": true,
     "schema_version": 1,
     "solution": false
    }
   },
   "source": [
    "**Exercise 2** (1 point). Implement a function, **`is_col(s)`**, so that it returns `True` if and only if **`s`** is a column variable, per the definition above.\n",
    "\n",
    "For example:\n",
    "\n",
    "```python\n",
    "    assert is_col(\"A.okay\")\n",
    "    assert is_col(\"a32X844._387b\")\n",
    "    assert is_col(\"__C__.B3am\")\n",
    "    assert not is_col(\"123.abc\")\n",
    "    assert not is_col(\"abc.123\")\n",
    "```\n",
    "\n",
    "As with Exercise 1, your function should ignore any leading or trailing spaces."
   ]
  },
  {
   "cell_type": "code",
   "execution_count": 8,
   "metadata": {
    "nbgrader": {
     "grade": false,
     "grade_id": "is_col",
     "locked": false,
     "schema_version": 1,
     "solution": true
    }
   },
   "outputs": [],
   "source": [
    "def is_col(s):\n",
    "    #pattern = r'(?i)^\\s*[a-z_]{1}[a-z0-9_]*\\.[a-z_]{1}[a-z0-9_]*\\s*$'\n",
    "    #matches = re.match(pattern, s)\n",
    "    #return matches is not None\n",
    "    \n",
    "    # we can reuse the previous function we built. if a period exists\n",
    "    # like it supposed to, then we split at the period and apply\n",
    "    # `is_var()` function we built earlier to each element of the list.\n",
    "    # we then apply the `all()` function to the list. if both elements\n",
    "    # are true, then `all()` will return true.\n",
    "    return all([is_var(sub) for sub in s.split('.')]) if '.' in s else False    "
   ]
  },
  {
   "cell_type": "code",
   "execution_count": 9,
   "metadata": {
    "deletable": false,
    "editable": false,
    "nbgrader": {
     "grade": true,
     "grade_id": "is_col_test0",
     "locked": true,
     "points": 1,
     "schema_version": 1,
     "solution": false
    }
   },
   "outputs": [
    {
     "name": "stdout",
     "output_type": "stream",
     "text": [
      "\n",
      "(Passed part 1.)\n"
     ]
    }
   ],
   "source": [
    "# Test cell: `is_col_test0`\n",
    "\n",
    "assert is_col(\"A.okay\")\n",
    "assert is_col(\"a32X844._387b\")\n",
    "assert is_col(\"__C__.B3am\")\n",
    "assert not is_col(\"123.abc\")\n",
    "assert not is_col(\"abc.123\")\n",
    "\n",
    "print(\"\\n(Passed part 1.)\")"
   ]
  },
  {
   "cell_type": "code",
   "execution_count": 10,
   "metadata": {
    "deletable": false,
    "editable": false,
    "nbgrader": {
     "grade": true,
     "grade_id": "is_col_test1",
     "locked": true,
     "points": 1,
     "schema_version": 1,
     "solution": false
    }
   },
   "outputs": [
    {
     "name": "stdout",
     "output_type": "stream",
     "text": [
      "==> is_col('\t  SiCMmr7eCF.d') == True\n",
      "==> is_col('\t\n",
      "552.C4 \t\t') == False\n",
      "==> is_col(' xaSuf.bEWprbz\t\n",
      " ') == True\n",
      "==> is_col('52.FSi3\n",
      "') == False\n",
      "==> is_col(' TtAx.4') == False\n",
      "==> is_col('gCE_YKPhK.kCUQUHSV5\t') == True\n",
      "==> is_col('\n",
      " \n",
      "n.8\t') == False\n",
      "==> is_col(' 7329.TkZJ3dDoN0\t\t') == False\n",
      "==> is_col('\t_j922dX.C25avB  \t') == True\n",
      "==> is_col('\n",
      "\n",
      "16852.74') == False\n",
      "==> is_col('\n",
      "\n",
      "\t7.z9FUr  ') == False\n",
      "==> is_col('  36.1 \n",
      "\n",
      "') == False\n",
      "==> is_col('\t\n",
      "\n",
      "QVu5PTVT.79616\t\t ') == False\n",
      "==> is_col('lk.V \n",
      "') == True\n",
      "==> is_col('4.Fj\t') == False\n",
      "==> is_col('\n",
      " \n",
      "UJpa3GOwwR.02990\t') == False\n",
      "==> is_col('122.cjS') == False\n",
      "==> is_col('\t_T0.9\n",
      "\t\n",
      "') == False\n",
      "==> is_col(' meftVBI_w3.DLpmGZ ') == True\n",
      "==> is_col(' artcB4lUiY.kkRRw0Q') == True\n",
      "\n",
      "(Passed part 2.)\n"
     ]
    }
   ],
   "source": [
    "# Test cell: `is_col_test1`\n",
    "\n",
    "def test_is_col_1():\n",
    "    a = rand_var()\n",
    "    assert not is_col(a), \"is_col('{}') == {} instead of {}.\".format(a, is_col(a), False)\n",
    "    a_valid = flip_coin()\n",
    "    if not a_valid:\n",
    "        a = rand_str(1, 5, __NUM)\n",
    "    return a, a_valid\n",
    "\n",
    "for _ in range(20):\n",
    "    a, a_valid = test_is_col_1()\n",
    "    b, b_valid = test_is_col_1()\n",
    "    ans = a_valid and b_valid\n",
    "    \n",
    "    c = \"{}{}.{}{}\".format(rand_spaces(3), a, b, rand_spaces(3))\n",
    "    your_ans = is_col(c)\n",
    "    print(\"==> is_col('{}') == {}\".format(c, your_ans))\n",
    "    assert your_ans == ans\n",
    "\n",
    "print(\"\\n(Passed part 2.)\")"
   ]
  },
  {
   "cell_type": "markdown",
   "metadata": {
    "deletable": false,
    "editable": false,
    "nbgrader": {
     "grade": false,
     "grade_id": "cell-9c1950ffd7f697b1",
     "locked": true,
     "schema_version": 1,
     "solution": false
    }
   },
   "source": [
    "**Equality strings.** An _equality string_ is a string of the form,\n",
    "\n",
    "    A.x = B.y\n",
    "\n",
    "where `A.x` and `B.y` are _column variable_ names and `=` is an equals sign. There may be any amount of whitespace---including none---before or after each variable and the equals sign."
   ]
  },
  {
   "cell_type": "markdown",
   "metadata": {
    "deletable": false,
    "editable": false,
    "nbgrader": {
     "grade": false,
     "grade_id": "cell-3e77f57c4474bd19",
     "locked": true,
     "schema_version": 1,
     "solution": false
    }
   },
   "source": [
    "**Exercise 3** (2 points). Implement the function, **`extract_eqcols(s)`**, below. Given an input string **`s`**, if it is an equality string, your function should return a pair `(u, v)`, where `u` and `v` are the two column variables in the equality string. For example:\n",
    "\n",
    "```python\n",
    "    assert extract_eqcols(\"F3b._xyz =AB0_.def\") == (\"F3b._xyz\", \"AB0_.def\")\n",
    "```\n",
    "\n",
    "If `s` is not a valid equality string, then your function should return `None`."
   ]
  },
  {
   "cell_type": "code",
   "execution_count": 11,
   "metadata": {
    "nbgrader": {
     "grade": false,
     "grade_id": "extract_eqcols",
     "locked": false,
     "schema_version": 1,
     "solution": true
    }
   },
   "outputs": [
    {
     "name": "stdout",
     "output_type": "stream",
     "text": [
      "('F3b._xyz', 'AB0_.def')\n"
     ]
    }
   ],
   "source": [
    "def extract_eqcols(s):\n",
    "    parts = s.split('=')\n",
    "    if len(parts) == 2 and all([is_col(sub) for sub in parts]):\n",
    "        return tuple([sub.strip() for sub in parts])\n",
    "    return None\n",
    "\n",
    "print(extract_eqcols(\"F3b._xyz =AB0_.def\"))"
   ]
  },
  {
   "cell_type": "code",
   "execution_count": 12,
   "metadata": {
    "deletable": false,
    "editable": false,
    "nbgrader": {
     "grade": true,
     "grade_id": "extract_eqcols0",
     "locked": true,
     "points": 1,
     "schema_version": 1,
     "solution": false
    }
   },
   "outputs": [
    {
     "name": "stdout",
     "output_type": "stream",
     "text": [
      "\n",
      "(Passed part 1 of 2.)\n"
     ]
    }
   ],
   "source": [
    "# Test cell: `extract_eqcols0`\n",
    "\n",
    "assert extract_eqcols(\"F3b._xyz =AB0_.def\") == (\"F3b._xyz\", \"AB0_.def\")\n",
    "assert extract_eqcols(\"0F3b._xyz =AB0_.def\") is None\n",
    "\n",
    "print(\"\\n(Passed part 1 of 2.)\")"
   ]
  },
  {
   "cell_type": "code",
   "execution_count": 13,
   "metadata": {
    "deletable": false,
    "editable": false,
    "nbgrader": {
     "grade": true,
     "grade_id": "extract_eqcols1",
     "locked": true,
     "points": 1,
     "schema_version": 1,
     "solution": false
    }
   },
   "outputs": [
    {
     "name": "stdout",
     "output_type": "stream",
     "text": [
      "==> Processing:\n",
      "'''CnkbVTgLOE.P_  =\tHl.Ey4Nc0'''\n",
      "\n",
      "    *** Found: ('CnkbVTgLOE.P_', 'Hl.Ey4Nc0') ***\n",
      "==> Processing:\n",
      "'''CnkbVTgLOE.is8Sqx\n",
      " \t=\t \n",
      "Hl.Ey4Nc0'''\n",
      "\n",
      "    *** Found: ('CnkbVTgLOE.is8Sqx', 'Hl.Ey4Nc0') ***\n",
      "==> Processing:\n",
      "'''XbWanTY.eg  = t9PM.EPCvsEoGh'''\n",
      "\n",
      "    *** Found: ('XbWanTY.eg', 't9PM.EPCvsEoGh') ***\n",
      "==> Processing:\n",
      "'''XbWanTY.eg=\t  t9PM.z4Qhh9UU'''\n",
      "\n",
      "    *** Found: ('XbWanTY.eg', 't9PM.z4Qhh9UU') ***\n",
      "==> Processing:\n",
      "'''GqIqeS4u1P.iukotR\n",
      "\n",
      "=\tlDPCxFL.Suz88'''\n",
      "\n",
      "    *** Found: ('GqIqeS4u1P.iukotR', 'lDPCxFL.Suz88') ***\n",
      "==> Processing:\n",
      "'''GqIqeS4u1P.rgZVW_1cL3\n",
      "\n",
      "=\n",
      "lDPCxFL.Suz88'''\n",
      "\n",
      "    *** Found: ('GqIqeS4u1P.rgZVW_1cL3', 'lDPCxFL.Suz88') ***\n",
      "==> Processing:\n",
      "'''GqIqeS4u1P.rgZVW_1cL3=\n",
      " lDPCxFL.QhOrL'''\n",
      "\n",
      "    *** Found: ('GqIqeS4u1P.rgZVW_1cL3', 'lDPCxFL.QhOrL') ***\n",
      "==> Processing:\n",
      "'''lDPCxFL.Sa\n",
      "=\t \tGqIqeS4u1P.rgZVW_1cL3'''\n",
      "\n",
      "    *** Found: ('lDPCxFL.Sa', 'GqIqeS4u1P.rgZVW_1cL3') ***\n",
      "==> Processing:\n",
      "'''K5Rgl.ZudReQci8\t =\n",
      "\n",
      "dOVpvjomA0.ZQUMT6'''\n",
      "\n",
      "    *** Found: ('K5Rgl.ZudReQci8', 'dOVpvjomA0.ZQUMT6') ***\n",
      "==> Processing:\n",
      "'''B11BzsMd.X=XYXPXuog.JLbH'''\n",
      "\n",
      "    *** Found: ('B11BzsMd.X', 'XYXPXuog.JLbH') ***\n",
      "\n",
      "(Passed part 2 of 2.)\n"
     ]
    }
   ],
   "source": [
    "# Test cell: `extract_eqcols1`\n",
    "\n",
    "for _ in range(5):\n",
    "    _, cond_set = rand_query_ans(2, 10, 5)\n",
    "    for a, b in cond_set:\n",
    "        s = a + rand_spaces(3) + __EQ + rand_spaces(3) + b\n",
    "        print(\"==> Processing:\\n'''{}'''\\n\".format(s))\n",
    "        ans = extract_eqcols(s)\n",
    "        print(\"    *** Found: {} ***\".format(ans))\n",
    "        assert ans is not None, \"Did not detect an equality string where there was one!\"\n",
    "        assert ans[0] == a and ans[1] == b, \"Returned {} instead of ({}, {})\".format(ans, a, b)\n",
    "\n",
    "print(\"\\n(Passed part 2 of 2.)\")"
   ]
  },
  {
   "cell_type": "markdown",
   "metadata": {
    "deletable": false,
    "editable": false,
    "nbgrader": {
     "grade": false,
     "grade_id": "cell-106b025066561080",
     "locked": true,
     "schema_version": 1,
     "solution": false
    }
   },
   "source": [
    "**Exercise 4** (2 points). Given an SQL query in the restricted form described above, write a function that extracts all of the join conditions from the `WHERE` clause. Name this fuction, **`extract_join_conds(q)`**, where `q` is the query string. It should return a list of pairs, where each pair `(a, b)` is the name of the left- and right-hand sides in one of these conditions.\n",
    "\n",
    "For example, suppose:\n",
    "\n",
    "```python\n",
    "    q == \"\"\"SELECT * FROM OneTable, AnotherTable, YetAThird\n",
    "              WHERE OneTable.ColA = AnotherTable.ColB AND AnotherTable.ColB2=YetAThird.ColC\"\"\"\n",
    "```\n",
    "\n",
    "Notice that the `WHERE` clause contains two conditions: `OneTable.ColA = AnotherTable.ColB` and `AnotherTable.ColB2=YetAThird.ColC`. Therefore, your function should return a list of two pairs,\n",
    "as follows:\n",
    "\n",
    "```python\n",
    "    extract_join_conds(q) == [(\"OneTable.ColA\", \"AnotherTable.ColB\"),\n",
    "                              (\"AnotherTable.ColB2\", \"YetAThird.ColC\")]\n",
    "```"
   ]
  },
  {
   "cell_type": "code",
   "execution_count": 14,
   "metadata": {
    "nbgrader": {
     "grade": false,
     "grade_id": "extract_join_conds",
     "locked": false,
     "schema_version": 1,
     "solution": true
    }
   },
   "outputs": [
    {
     "name": "stdout",
     "output_type": "stream",
     "text": [
      "==> Query:\n",
      "\t'SELECT * FROM OneTable, AnotherTable, YetAThird\n",
      "              WHERE OneTable.ColA = AnotherTable.ColB AND AnotherTable.ColB2=YetAThird.ColC'\n",
      "\n",
      "==> Results:\n",
      "[('OneTable.ColA', 'AnotherTable.ColB'), ('AnotherTable.ColB2', 'YetAThird.ColC')]\n"
     ]
    }
   ],
   "source": [
    "def extract_join_conds(q):\n",
    "    conds = re.split(r'(?i)and', split_simple_join(q)[1])\n",
    "    return [extract_eqcols(cond) for cond in conds]\n",
    "    \n",
    "print(\"==> Query:\\n\\t'{}'\\n\".format(q_demo))\n",
    "print(\"==> Results:\\n{}\".format(extract_join_conds(q_demo)))"
   ]
  },
  {
   "cell_type": "code",
   "execution_count": 15,
   "metadata": {
    "deletable": false,
    "editable": false,
    "nbgrader": {
     "grade": true,
     "grade_id": "extract_join_conds_test",
     "locked": true,
     "points": 2,
     "schema_version": 1,
     "solution": false
    }
   },
   "outputs": [
    {
     "name": "stdout",
     "output_type": "stream",
     "text": [
      "===  seLecT * FRom IDCgrzO9p,Wnu,TEfTnJ7n,C7rcOTAU5,E wHeRE IDCgrzO9p.KkoLr =    Wnu.R AND TEfTnJ7n.BwAnUI5F=Wnu.H5febnl0j AND Wnu.H5febnl0j  =TEfTnJ7n.dV8N AND TEfTnJ7n.qX1hDi_Ofl  = E.kIz ===\n",
      "\n",
      "  True solution: {('IDCgrzO9p.KkoLr', 'Wnu.R'), ('TEfTnJ7n.BwAnUI5F', 'Wnu.H5febnl0j'), ('Wnu.H5febnl0j', 'TEfTnJ7n.dV8N'), ('TEfTnJ7n.qX1hDi_Ofl', 'E.kIz')}\n",
      "\n",
      "  Your solution: [('IDCgrzO9p.KkoLr', 'Wnu.R'), ('TEfTnJ7n.BwAnUI5F', 'Wnu.H5febnl0j'), ('Wnu.H5febnl0j', 'TEfTnJ7n.dV8N'), ('TEfTnJ7n.qX1hDi_Ofl', 'E.kIz')]\n",
      "\n",
      "===  SElect * frOM BcYMHnjLF,ogYrU3k3C4,ga,j,_6C65gGsn WheRe ga.b4   =BcYMHnjLF.yPts_B9 AND j.J_4igFkFT  = BcYMHnjLF.IpSm ===\n",
      "\n",
      "  True solution: {('ga.b4', 'BcYMHnjLF.yPts_B9'), ('j.J_4igFkFT', 'BcYMHnjLF.IpSm')}\n",
      "\n",
      "  Your solution: [('ga.b4', 'BcYMHnjLF.yPts_B9'), ('j.J_4igFkFT', 'BcYMHnjLF.IpSm')]\n",
      "\n",
      "===  selECT * fRoM yJ0j,vjg1V,PLA,J4wOjBxPY,AM whERe AM.uf10MCPO0   =  J4wOjBxPY.k9GIgY ===\n",
      "\n",
      "  True solution: {('AM.uf10MCPO0', 'J4wOjBxPY.k9GIgY')}\n",
      "\n",
      "  Your solution: [('AM.uf10MCPO0', 'J4wOjBxPY.k9GIgY')]\n",
      "\n",
      "===  SelECT * FrOm WXpvEgu0,cJ_KSU,A0xBgju WhERe A0xBgju.GOFvV    =cJ_KSU.Uvw7RIqvZw AND cJ_KSU.Uvw7RIqvZw    =    WXpvEgu0.hFgJbj1Bs ===\n",
      "\n",
      "  True solution: {('A0xBgju.GOFvV', 'cJ_KSU.Uvw7RIqvZw'), ('cJ_KSU.Uvw7RIqvZw', 'WXpvEgu0.hFgJbj1Bs')}\n",
      "\n",
      "  Your solution: [('A0xBgju.GOFvV', 'cJ_KSU.Uvw7RIqvZw'), ('cJ_KSU.Uvw7RIqvZw', 'WXpvEgu0.hFgJbj1Bs')]\n",
      "\n",
      "===  selecT * From F,ojivK WheRe F.m07KJPyzS    =   ojivK.ctqaDGkV ===\n",
      "\n",
      "  True solution: {('F.m07KJPyzS', 'ojivK.ctqaDGkV')}\n",
      "\n",
      "  Your solution: [('F.m07KJPyzS', 'ojivK.ctqaDGkV')]\n",
      "\n",
      "===  sELeCT * fRoM K6EFmts,Ky,R7Jz5jWbx wherE R7Jz5jWbx.Ckg = K6EFmts.TZU9EGXL AND Ky.T5JqQl   =R7Jz5jWbx.hRzj ===\n",
      "\n",
      "  True solution: {('R7Jz5jWbx.Ckg', 'K6EFmts.TZU9EGXL'), ('Ky.T5JqQl', 'R7Jz5jWbx.hRzj')}\n",
      "\n",
      "  Your solution: [('R7Jz5jWbx.Ckg', 'K6EFmts.TZU9EGXL'), ('Ky.T5JqQl', 'R7Jz5jWbx.hRzj')]\n",
      "\n",
      "===  SeLecT * fRoM rQqCf0,mj9YuFuow,MSrLHvm,gBFDaMtpfq,mtIOu wherE mj9YuFuow.Y7t  =  MSrLHvm.Dh AND MSrLHvm.ju7_TzoDT    = rQqCf0.o ===\n",
      "\n",
      "  True solution: {('mj9YuFuow.Y7t', 'MSrLHvm.Dh'), ('MSrLHvm.ju7_TzoDT', 'rQqCf0.o')}\n",
      "\n",
      "  Your solution: [('mj9YuFuow.Y7t', 'MSrLHvm.Dh'), ('MSrLHvm.ju7_TzoDT', 'rQqCf0.o')]\n",
      "\n",
      "===  sELEct * FRom J8hlx,_Ec7v,I whERE I.DFKzAizDdg  = _Ec7v.FCHp6ZdY ===\n",
      "\n",
      "  True solution: {('I.DFKzAizDdg', '_Ec7v.FCHp6ZdY')}\n",
      "\n",
      "  Your solution: [('I.DFKzAizDdg', '_Ec7v.FCHp6ZdY')]\n",
      "\n",
      "===  sELEct * from WvZvWUU,wWE,FB_pXY WHeRe wWE.fd8fBlpMYV =  WvZvWUU.UxkgNbd ===\n",
      "\n",
      "  True solution: {('wWE.fd8fBlpMYV', 'WvZvWUU.UxkgNbd')}\n",
      "\n",
      "  Your solution: [('wWE.fd8fBlpMYV', 'WvZvWUU.UxkgNbd')]\n",
      "\n",
      "===  sELEct * From lsO3O4g,N0,Bo wheRE N0.rBpLJVff=   lsO3O4g.a5 AND lsO3O4g.YQok4zsx=N0.u ===\n",
      "\n",
      "  True solution: {('N0.rBpLJVff', 'lsO3O4g.a5'), ('lsO3O4g.YQok4zsx', 'N0.u')}\n",
      "\n",
      "  Your solution: [('N0.rBpLJVff', 'lsO3O4g.a5'), ('lsO3O4g.YQok4zsx', 'N0.u')]\n",
      "\n",
      "\n",
      "(Passed!)\n"
     ]
    }
   ],
   "source": [
    "# Test cell: `extract_join_conds_test`\n",
    "\n",
    "def test_extract_join_conds_1():\n",
    "    tables, cond_set = rand_query_ans(5, 5, 0)\n",
    "    qstmt, _, _ = form_query_str(tables, cond_set, 0)\n",
    "    qstmt = re.sub(\"[\\n\\t]\", \" \", qstmt)\n",
    "    print(\"=== {} ===\\n\".format(qstmt))\n",
    "    print(\"  True solution: {}\\n\".format(cond_set))\n",
    "    your_conds = extract_join_conds(qstmt)\n",
    "    print(\"  Your solution: {}\\n\".format(your_conds))\n",
    "    assert set(your_conds) == cond_set, \"*** Mismatch? ***\"\n",
    "    \n",
    "for _ in range(10):\n",
    "    test_extract_join_conds_1()\n",
    "    \n",
    "print(\"\\n(Passed!)\")"
   ]
  },
  {
   "cell_type": "markdown",
   "metadata": {
    "deletable": false,
    "editable": false,
    "nbgrader": {
     "grade": false,
     "grade_id": "cell-8907087cc62c0193",
     "locked": true,
     "schema_version": 1,
     "solution": false
    }
   },
   "source": [
    "**Fin!** This marks the end of this problem. Don't forget to submit it to get credit."
   ]
  }
 ],
 "metadata": {
  "celltoolbar": "Create Assignment",
  "kernelspec": {
   "display_name": "Python 3",
   "language": "python",
   "name": "python3"
  },
  "language_info": {
   "codemirror_mode": {
    "name": "ipython",
    "version": 3
   },
   "file_extension": ".py",
   "mimetype": "text/x-python",
   "name": "python",
   "nbconvert_exporter": "python",
   "pygments_lexer": "ipython3",
   "version": "3.7.4"
  }
 },
 "nbformat": 4,
 "nbformat_minor": 1
}
