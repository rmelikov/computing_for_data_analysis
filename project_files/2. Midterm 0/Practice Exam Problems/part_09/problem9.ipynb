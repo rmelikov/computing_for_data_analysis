{
 "cells": [
  {
   "cell_type": "markdown",
   "metadata": {
    "deletable": false,
    "editable": false,
    "nbgrader": {
     "grade": false,
     "locked": true,
     "solution": false
    }
   },
   "source": [
    "# Problem 9: Maximum likelihood and floating-point\n",
    "\n",
    "This problem concerns floating-point arithmetic, motivated by the statistical concept of maximum likelihood estimation. It has four exercises, numbered 0-3, and is worth a total of ten (10) points."
   ]
  },
  {
   "cell_type": "markdown",
   "metadata": {},
   "source": [
    "**Setup.** This problem involves a number of functions from the Python standard library. Here are some of them; run the code cell below to make them available for use."
   ]
  },
  {
   "cell_type": "code",
   "execution_count": 1,
   "metadata": {
    "deletable": false,
    "editable": false,
    "nbgrader": {
     "grade": false,
     "locked": true,
     "solution": false
    }
   },
   "outputs": [],
   "source": [
    "# The test cells need these:\n",
    "from random import choice, randint, uniform, shuffle\n",
    "from math import isclose\n",
    "\n",
    "# You'll need these in Exercises 1 & 3:\n",
    "from math import exp, sqrt, pi, log"
   ]
  },
  {
   "cell_type": "markdown",
   "metadata": {
    "deletable": false,
    "editable": false,
    "nbgrader": {
     "grade": false,
     "locked": true,
     "solution": false
    }
   },
   "source": [
    "## Products\n",
    "\n",
    "Suppose you are given a collection of $n$ data values, named $x_0$, $x_1$, $\\ldots$, $x_{n-1}$. Mathematically, we denote their sum as\n",
    "\n",
    "$$\n",
    "  x_0 + x_1 + \\cdots + x_{n-1} \\equiv \\sum_{k=0}^{n-1} x_i.\n",
    "$$\n",
    "\n",
    "In Python, it's easy to implement this formula using the `sum()` function, which can sum the elements of any iterable collection, like a list:"
   ]
  },
  {
   "cell_type": "code",
   "execution_count": 2,
   "metadata": {
    "deletable": false,
    "editable": false,
    "nbgrader": {
     "grade": false,
     "locked": true,
     "solution": false
    }
   },
   "outputs": [
    {
     "name": "stdout",
     "output_type": "stream",
     "text": [
      "sum([1, 2, 3, 4, 5]) == 15\n"
     ]
    }
   ],
   "source": [
    "x = [1, 2, 3, 4, 5]\n",
    "print(\"sum({}) == {}\".format(x, sum(x)))"
   ]
  },
  {
   "cell_type": "markdown",
   "metadata": {
    "deletable": false,
    "editable": false,
    "nbgrader": {
     "grade": false,
     "locked": true,
     "solution": false
    }
   },
   "source": [
    "Suppose instead that we wish to compute the _product_ of these values:\n",
    "\n",
    "$$\n",
    "    x_0 \\cdot x_1 \\cdot \\cdots \\cdot x_{n-1} \\equiv \\prod_{k=0}^{n-1} x_i.\n",
    "$$"
   ]
  },
  {
   "cell_type": "markdown",
   "metadata": {
    "deletable": false,
    "editable": false,
    "nbgrader": {
     "grade": false,
     "locked": true,
     "solution": false
    }
   },
   "source": [
    "**Exercise 0** (3 points). Write a function, `product(x)`, that returns the product of a collection of numbers `x`."
   ]
  },
  {
   "cell_type": "code",
   "execution_count": 3,
   "metadata": {},
   "outputs": [
    {
     "name": "stdout",
     "output_type": "stream",
     "text": [
      "product([1, 2, 3, 4, 5]) == 120?\n"
     ]
    }
   ],
   "source": [
    "def product(x):\n",
    "    product = 1\n",
    "    for i in x:\n",
    "        product *= i\n",
    "    return product\n",
    "    \n",
    "# Demo:\n",
    "print(\"product({}) == {}?\".format(x, product(x))) # Should be 120"
   ]
  },
  {
   "cell_type": "code",
   "execution_count": 4,
   "metadata": {
    "deletable": false,
    "editable": false,
    "nbgrader": {
     "grade": true,
     "grade_id": "product_test0",
     "locked": true,
     "points": "1",
     "solution": false
    }
   },
   "outputs": [
    {
     "name": "stdout",
     "output_type": "stream",
     "text": [
      "5 values: [1, 2, 3, 4, 5]\n",
      "  => Your result: 120\n",
      "  => After dividing by input values: 1.0\n",
      "\n",
      "(Passed first test!)\n"
     ]
    }
   ],
   "source": [
    "# Test cell: `product_test0` (1 point)\n",
    "\n",
    "def check_product(x_or_n):\n",
    "    import numpy as np\n",
    "    eps = np.finfo(float).eps\n",
    "    def delim_vals(x, s=', ', fmt=str):\n",
    "        return s.join([fmt(xi) for xi in x])\n",
    "    def gen_val(do_int):\n",
    "        if do_int:\n",
    "            v = randint(-100, 100)\n",
    "            while v == 0:\n",
    "                v = randint(-100, 100)\n",
    "            assert v != 0\n",
    "        else:\n",
    "            v = uniform(-10, 10)\n",
    "        return v\n",
    "    \n",
    "    if type(x_or_n) is int:\n",
    "        n = x_or_n\n",
    "        do_int = choice([False, True])\n",
    "        x = [gen_val(do_int) for _ in range(n)]\n",
    "    else:\n",
    "        x = x_or_n\n",
    "        n = len(x)\n",
    "        \n",
    "    if n > 10:\n",
    "        msg_values = \"{}, ..., {}\".format(n, delim_vals(x[:5]), delim_vals(x[-5:]))\n",
    "    else:\n",
    "        msg_values = delim_vals(x)\n",
    "    msg = \"{} values: [{}]\".format(n, msg_values)\n",
    "    print(msg)\n",
    "    p = product(x)\n",
    "    print(\"  => Your result: {}\".format(p))\n",
    "    \n",
    "    # Check\n",
    "    for xi in x:\n",
    "        p /= xi\n",
    "    abs_err = p - 1.0\n",
    "    print(\"  => After dividing by input values: {}\".format(p))\n",
    "    assert abs(p-1.0) <= (20.0 / n) * eps, \\\n",
    "           \"Dividing your result by the individual values is {}, which is a bit too far from 1.0\".format(abs_err)\n",
    "\n",
    "check_product([1, 2, 3, 4, 5]) == 120\n",
    "print(\"\\n(Passed first test!)\")"
   ]
  },
  {
   "cell_type": "code",
   "execution_count": 5,
   "metadata": {
    "deletable": false,
    "editable": false,
    "nbgrader": {
     "grade": true,
     "grade_id": "product_test1",
     "locked": true,
     "points": "2",
     "solution": false
    }
   },
   "outputs": [
    {
     "name": "stdout",
     "output_type": "stream",
     "text": [
      "=== Test 0 ===\n",
      "10 values: [-2.9186279090435967, 2.026369848022796, 0.7449340134519282, 0.9638492570769905, 1.1728746878086795, 4.00639171057378, 3.8351843665413288, 4.851214705310822, -7.051633137227668, 7.899037767769542]\n",
      "  => Your result: 20679.023757760377\n",
      "  => After dividing by input values: 1.0000000000000002\n",
      "\n",
      "=== Test 1 ===\n",
      "10 values: [8.508203668526228, 8.435200229873093, -5.460870212139426, -1.9312361748824998, -3.742511528797059, -4.652474623363821, 0.6069899231286513, -9.550923760208656, 2.8125392733493015, 4.889860909060115]\n",
      "  => Your result: -1050750.57658254\n",
      "  => After dividing by input values: 1.0000000000000002\n",
      "\n",
      "=== Test 2 ===\n",
      "10 values: [68, 93, 34, 24, -30, -1, -31, 58, 75, -2]\n",
      "  => Your result: 41752666944000\n",
      "  => After dividing by input values: 1.0\n",
      "\n",
      "=== Test 3 ===\n",
      "10 values: [54, 71, 59, 83, 89, -9, -50, 22, -92, 76]\n",
      "  => Your result: -115666830023817600\n",
      "  => After dividing by input values: 1.0\n",
      "\n",
      "=== Test 4 ===\n",
      "10 values: [-7, -91, 63, -31, -37, -55, 11, 42, 6, 8]\n",
      "  => Your result: -56142183857760\n",
      "  => After dividing by input values: 1.0\n",
      "\n",
      "(Passed second battery of tests!)\n"
     ]
    }
   ],
   "source": [
    "# Test cell: `product_test1` (2 points)\n",
    "for k in range(5):\n",
    "    print(\"=== Test {} ===\".format(k))\n",
    "    check_product(10)\n",
    "    print()\n",
    "print(\"(Passed second battery of tests!)\")"
   ]
  },
  {
   "cell_type": "markdown",
   "metadata": {
    "deletable": false,
    "editable": false,
    "nbgrader": {
     "grade": false,
     "locked": true,
     "solution": false
    }
   },
   "source": [
    "## Gaussian distributions\n",
    "\n",
    "Recall that the probability density of a _normal_ or _Gaussian_ distribution with mean $\\mu$ and variance $\\sigma^2$ is,\n",
    "\n",
    "$$\n",
    "g(x) \\equiv \\frac{1}{\\sigma \\sqrt{2 \\pi}} \\exp\\left[ -\\frac{1}{2} \\left(\\frac{x-\\mu}{\\sigma}\\right)^2 \\right].\n",
    "$$\n",
    "\n",
    "While $\\sigma^2$ denotes the variance, the _standard deviation_ is $\\sigma$. You may assume $\\sigma > 0$."
   ]
  },
  {
   "cell_type": "markdown",
   "metadata": {
    "deletable": false,
    "editable": false,
    "nbgrader": {
     "grade": false,
     "locked": true,
     "solution": false
    }
   },
   "source": [
    "**Exercise 1** (1 point). Write a function `gaussian0(x, mu, sigma)` that returns $g(x)$ given one floating-point value `x`, a mean value `mu`, and standard deviation `sigma`.\n",
    "\n",
    "For example,\n",
    "\n",
    "```python\n",
    "   gaussian0(1.0, 0.0, 1.0)\n",
    "```\n",
    "\n",
    "should return the value $\\frac{1}{\\sqrt{2\\pi}} \\exp(-0.5) \\approx 0.2419707\\ldots$.\n",
    "\n",
    "> In the signature below, `mu` and `sigma` are set to accept default values of 0.0 and 1.0, respectively. But your function should work for any value of `mu` and any `sigma > 0`."
   ]
  },
  {
   "cell_type": "code",
   "execution_count": 6,
   "metadata": {
    "nbgrader": {
     "grade": false,
     "locked": false,
     "solution": false
    }
   },
   "outputs": [
    {
     "name": "stdout",
     "output_type": "stream",
     "text": [
      "0.24197072451914337\n"
     ]
    }
   ],
   "source": [
    "def gaussian0(x, mu=0.0, sigma=1.0):\n",
    "    return 1 / (sigma * sqrt(2 * pi)) * exp(-1/2 * ((x - mu) / sigma) ** 2)\n",
    "\n",
    "print(gaussian0(1.0)) # Should get 0.24197072451914..."
   ]
  },
  {
   "cell_type": "code",
   "execution_count": 7,
   "metadata": {
    "deletable": false,
    "editable": false,
    "nbgrader": {
     "grade": true,
     "grade_id": "gaussian0_test",
     "locked": true,
     "points": "1",
     "solution": false
    }
   },
   "outputs": [
    {
     "name": "stdout",
     "output_type": "stream",
     "text": [
      "Test case #0: x=1.0, mu=0.0, sigma=1.0\n",
      "==> Passed.\n",
      "Test case #1: x=-7.310080697698639, mu=2.723475268659808, sigma=2.9965813689309586\n",
      "==> Passed.\n",
      "Test case #2: x=-2.936990587386628, mu=3.706060056792671, sigma=1.1501768262683207\n",
      "==> Passed.\n",
      "Test case #3: x=9.114396536281735, mu=0.6915996575193262, sigma=9.091445263109494\n",
      "==> Passed.\n",
      "Test case #4: x=-0.8021105116053935, mu=1.8800213202092575, sigma=5.271355712515028\n",
      "==> Passed.\n",
      "Test case #5: x=6.267689829550417, mu=6.030927138813091, sigma=1.750111574955274\n",
      "==> Passed.\n",
      "\n",
      "(Passed!)\n"
     ]
    }
   ],
   "source": [
    "# Test cell: `gaussian0_test` (1 point)\n",
    "\n",
    "def check_gaussian0(x=None, mu=None, sigma=None, k=None):       \n",
    "    if x is None:\n",
    "        x = uniform(-10, 10)\n",
    "    if mu is None:\n",
    "        mu = uniform(-10, 10)\n",
    "    if sigma is None:\n",
    "        sigma = uniform(1e-15, 10)\n",
    "    if k is None:\n",
    "        k_str = \"\"\n",
    "    else:\n",
    "        k_str = \" #{}\".format(k)\n",
    "    assert type(x) is float and type(mu) is float and type(sigma) is float\n",
    "    print(\"Test case{}: x={}, mu={}, sigma={}\".format(k_str, x, mu, sigma))\n",
    "    your_result = gaussian0(x, mu, sigma)\n",
    "    log_your_result = log(your_result)\n",
    "    log_true_result = -0.5*((x - mu)/sigma)**2 - log(sigma*sqrt(2*pi))\n",
    "    assert isclose(log_your_result, log_true_result, rel_tol=1e-9), \"Test case failed!\"\n",
    "    print(\"==> Passed.\")\n",
    "    \n",
    "check_gaussian0(x=1.0, mu=0.0, sigma=1.0, k=0)\n",
    "\n",
    "for k in range(1, 6):\n",
    "    check_gaussian0(k=k)\n",
    "    \n",
    "print(\"\\n(Passed!)\")"
   ]
  },
  {
   "cell_type": "markdown",
   "metadata": {
    "deletable": false,
    "editable": false,
    "nbgrader": {
     "grade": false,
     "locked": true,
     "solution": false
    }
   },
   "source": [
    "**Exercise 2** (1 point). Suppose you are now given a _list_ of values, $x_0$, $x_1$, $\\ldots$, $x_{n-1}$. Write a function, `gaussians()`, that returns the collection of $g(x_i)$ values, also as a list, given specific values of $\\mu$ and $\\sigma$.\n",
    "\n",
    "For example:\n",
    "\n",
    "```python\n",
    "gaussian0(-2, 7.0, 1.23) == 7.674273364934753e-13\n",
    "gaussian0(1, 7.0, 1.23) == 2.2075380785334786e-06\n",
    "gaussian0(3.5, 7.0, 1.23) == 0.0056592223086500545\n",
    "```\n",
    "\n",
    "Therefore,\n",
    "\n",
    "```python\n",
    "gaussians([-2, 1, 3.5], 7.0, 1.23) == [7.674273364934753e-13, 2.2075380785334786e-06, 0.0056592223086500545]\n",
    "```"
   ]
  },
  {
   "cell_type": "code",
   "execution_count": 8,
   "metadata": {},
   "outputs": [
    {
     "name": "stdout",
     "output_type": "stream",
     "text": [
      "[7.674273364934753e-13, 2.2075380785334786e-06, 0.0056592223086500545]\n"
     ]
    }
   ],
   "source": [
    "def gaussians(X, mu=0.0, sigma=1.0):\n",
    "    assert type(X) is list\n",
    "    return [gaussian0(x, mu, sigma) for x in X]\n",
    "    \n",
    "print(gaussians([-2, 1, 3.5], 7.0, 1.23))"
   ]
  },
  {
   "cell_type": "code",
   "execution_count": 9,
   "metadata": {
    "deletable": false,
    "editable": false,
    "nbgrader": {
     "grade": true,
     "grade_id": "gaussians_test",
     "locked": true,
     "points": "1",
     "solution": false
    }
   },
   "outputs": [
    {
     "name": "stdout",
     "output_type": "stream",
     "text": [
      "\n",
      "(Passed!)\n"
     ]
    }
   ],
   "source": [
    "# Test cell: `gaussians_test` (1 point)\n",
    "\n",
    "mu = uniform(-10, 10)\n",
    "sigma = uniform(1e-15, 10)\n",
    "X = [uniform(-10, 10) for _ in range(10)]\n",
    "g_X = gaussians(X, mu, sigma)\n",
    "for xi, gi in zip(X, g_X):\n",
    "    assert isclose(gi, gaussian0(xi, mu, sigma))\n",
    "\n",
    "print(\"\\n(Passed!)\")"
   ]
  },
  {
   "cell_type": "markdown",
   "metadata": {
    "deletable": false,
    "editable": false,
    "nbgrader": {
     "grade": false,
     "locked": true,
     "solution": false
    }
   },
   "source": [
    "## Likelihoods and log-likelihoods\n",
    "\n",
    "In statistics, one technique to fit a function to data is a procedure known as _maximum likelihood estimation (MLE)_. At the heart of this method, one needs to calculate a special function known as the _likelihood function_, or just the _likelihood_. Here is how it is defined.\n",
    "\n",
    "Let $x_0$, $x_1$, $\\ldots$, $x_{n-1}$ denote a set of $n$ input data points. The likelihood of these data, $L(x_0, \\ldots, x_{n-1})$, is defined to be\n",
    "\n",
    "$$\n",
    "L(x_0, \\ldots, x_{n-1}) \\equiv \\prod_{k=0}^{n-1} p(x_i),\n",
    "$$\n",
    "\n",
    "where $p(x_i)$ is some probability density function that you believe is a good model of the data. The MLE procedure tries to choose model parameters that maximize $L(\\ldots)$.\n",
    "\n",
    "In this problem, let's suppose for simplicity that $p(x)$ is a normal or Gaussian distribution with mean $\\mu$ and variance $\\sigma^2$, meaning that $p(x_i) = g(x_i)$. Here is a straightforward way to implement $L(\\ldots)$ in Python."
   ]
  },
  {
   "cell_type": "code",
   "execution_count": 10,
   "metadata": {
    "deletable": false,
    "editable": false,
    "nbgrader": {
     "grade": false,
     "locked": true,
     "solution": false
    }
   },
   "outputs": [
    {
     "name": "stdout",
     "output_type": "stream",
     "text": [
      "1.1519989328102467e-14\n"
     ]
    }
   ],
   "source": [
    "def likelihood_gaussian(x, mu=0.0, sigma=1.0):\n",
    "    assert type(x) is list\n",
    "    \n",
    "    g_all = gaussians(x, mu, sigma)\n",
    "    L = product(g_all)\n",
    "    return L\n",
    "\n",
    "print(likelihood_gaussian(x))"
   ]
  },
  {
   "cell_type": "markdown",
   "metadata": {
    "deletable": false,
    "editable": false,
    "nbgrader": {
     "grade": false,
     "locked": true,
     "solution": false
    }
   },
   "source": [
    "The problem is that you might need to multiply many small values. Then, due to the limits of finite-precision arithmetic, the likelihood can quickly go to zero, becoming meaningless, even for a small number of data points."
   ]
  },
  {
   "cell_type": "code",
   "execution_count": 11,
   "metadata": {
    "deletable": false,
    "editable": false,
    "nbgrader": {
     "grade": false,
     "locked": true,
     "solution": false
    }
   },
   "outputs": [
    {
     "name": "stdout",
     "output_type": "stream",
     "text": [
      "n=1: likelihood ~= 2.0915355301927396e-14.\n",
      "n=2: likelihood ~= 4.458040076363454e-27.\n",
      "n=4: likelihood ~= 6.998674210744869e-42.\n",
      "n=8: likelihood ~= 5.369905452226063e-73.\n",
      "n=16: likelihood ~= 4.938602760714244e-148.\n",
      "n=32: likelihood ~= 1.9286716836438177e-248.\n",
      "n=64: likelihood ~= 0.0.\n",
      "n=128: likelihood ~= 0.0.\n"
     ]
    }
   ],
   "source": [
    "# Generate many random values\n",
    "N = [int(2**k) for k in range(8)]\n",
    "X = [uniform(-10, 10) for _ in range(max(N))]\n",
    "\n",
    "# Evaluate the likelihood for different numbers of these values:\n",
    "for n in N:\n",
    "    print(\"n={}: likelihood ~= {}.\".format(n, likelihood_gaussian(X[:n])))"
   ]
  },
  {
   "cell_type": "markdown",
   "metadata": {
    "deletable": false,
    "editable": false,
    "nbgrader": {
     "grade": false,
     "locked": true,
     "solution": false
    }
   },
   "source": [
    "Recall that the smallest representable value in double-precision floating-point is $\\approx 10^{-308}$. Therefore, if the true exponent falls below that value, we cannot store it. You should see this behavior above."
   ]
  },
  {
   "cell_type": "markdown",
   "metadata": {
    "deletable": false,
    "editable": false,
    "nbgrader": {
     "grade": false,
     "locked": true,
     "solution": false
    }
   },
   "source": [
    "One alternative is to compute the _log-likelihood_, which is defined simply as the (natural) logarithm of the likelihood:\n",
    "\n",
    "$$\n",
    "  \\mathcal{L}(x_0, \\ldots, x_{n-1}) \\equiv \\log L(x_0, \\ldots, x_{n-1}).\n",
    "$$\n",
    "\n",
    "Log-transforming the likelihood has a nice feature: the location of the maximum value will not change. Therefore, maximizing the log-likelihood is equivalent to maximizing the (plain) likelihood.\n",
    "\n",
    "Let's repeat the experiment above but also print the log-likelihood along with the likelihood:"
   ]
  },
  {
   "cell_type": "code",
   "execution_count": 12,
   "metadata": {
    "deletable": false,
    "editable": false,
    "nbgrader": {
     "grade": false,
     "locked": true,
     "solution": false
    }
   },
   "outputs": [
    {
     "name": "stdout",
     "output_type": "stream",
     "text": [
      "n=1: likelihood ~= 2.0915355301927396e-14 and log-likelihood ~= -31.49829280226087.\n",
      "n=2: likelihood ~= 4.458040076363454e-27 and log-likelihood ~= -60.67508828615296.\n",
      "n=4: likelihood ~= 6.998674210744869e-42 and log-likelihood ~= -94.76285317309778.\n",
      "n=8: likelihood ~= 5.369905452226063e-73 and log-likelihood ~= -166.40790148686136.\n",
      "n=16: likelihood ~= 4.938602760714244e-148 and log-likelihood ~= -339.18551131388693.\n",
      "n=32: likelihood ~= 1.9286716836438177e-248 and log-likelihood ~= -570.3842715433738.\n",
      "n=64: likelihood ~= 0.0 and log-likelihood ~= -inf.\n",
      "n=128: likelihood ~= 0.0 and log-likelihood ~= -inf.\n"
     ]
    }
   ],
   "source": [
    "for n in N:\n",
    "    L_n = likelihood_gaussian(X[:n])\n",
    "    try:\n",
    "        log_L_n = log(L_n)\n",
    "    except ValueError:\n",
    "        from math import inf\n",
    "        log_L_n = -inf\n",
    "    print(\"n={}: likelihood ~= {} and log-likelihood ~= {}.\".format(n, L_n, log_L_n))"
   ]
  },
  {
   "cell_type": "markdown",
   "metadata": {
    "deletable": false,
    "editable": false,
    "nbgrader": {
     "grade": false,
     "locked": true,
     "solution": false
    }
   },
   "source": [
    "At first, it looks good: the log-likelihood is much smaller than the likelihood. Therefore, you can calculate it for a much larger number of data points.\n",
    "\n",
    "But the problem persists: just taking $\\log L(\\ldots)$ doesn't help. When $L(\\ldots)$ rounds to zero, taking the $\\log$ produces minus infinity. For this last exercise, you need to fix this problem."
   ]
  },
  {
   "cell_type": "markdown",
   "metadata": {
    "deletable": false,
    "editable": false,
    "nbgrader": {
     "grade": false,
     "locked": true,
     "solution": false
    }
   },
   "source": [
    "**Exercise 3** (5 points). Using the fact that $\\log$ and $\\exp$ are inverses of one another, i.e., $\\log (\\exp x) = x$, come up with a way to compute the log-likelihood that can handle larger values of `n`.\n",
    "\n",
    "For example, in the case of `n=128`, your function should produce a finite value rather than $-\\infty$.\n",
    "\n",
    "> _Hint._ In addition to the inverse relationship between $\\log$ and $\\exp$, use the algebraic fact that $\\log(a \\cdot b) = \\log a + \\log b$ to derive a different way to comptue log-likelihood."
   ]
  },
  {
   "cell_type": "code",
   "execution_count": 13,
   "metadata": {},
   "outputs": [],
   "source": [
    "def log_likelihood_gaussian(X, mu=0.0, sigma=1.0):\n",
    "    return sum([-log(sigma * sqrt(2 * pi)) - 0.5 * ((x - mu) / sigma) ** 2 for x in X])"
   ]
  },
  {
   "cell_type": "code",
   "execution_count": 14,
   "metadata": {
    "deletable": false,
    "editable": false,
    "nbgrader": {
     "grade": true,
     "grade_id": "log_likelihood_gaussian_test0",
     "locked": true,
     "points": "2",
     "solution": false
    }
   },
   "outputs": [
    {
     "name": "stdout",
     "output_type": "stream",
     "text": [
      "n=1: log-likelihood ~= -31.49829280226087.\n",
      "n=2: log-likelihood ~= -60.67508828615297.\n",
      "n=4: log-likelihood ~= -94.7628531730978.\n",
      "n=8: log-likelihood ~= -166.40790148686142.\n",
      "n=16: log-likelihood ~= -339.1855113138869.\n",
      "n=32: log-likelihood ~= -570.3842715433738.\n",
      "n=64: log-likelihood ~= -1170.7273350214355.\n",
      "n=128: log-likelihood ~= -2279.2980359285975.\n",
      "\n",
      "(Passed!)\n"
     ]
    }
   ],
   "source": [
    "# Test cell: `log_likelihood_gaussian_test0` (2 points)\n",
    "\n",
    "# Check that the experiment runs to completion (no exceptions)\n",
    "for n in N:\n",
    "    log_L_n = log_likelihood_gaussian(X[:n])\n",
    "    print(\"n={}: log-likelihood ~= {}.\".format(n, log_L_n))\n",
    "    \n",
    "print(\"\\n(Passed!)\")"
   ]
  },
  {
   "cell_type": "code",
   "execution_count": 15,
   "metadata": {
    "deletable": false,
    "editable": false,
    "nbgrader": {
     "grade": true,
     "grade_id": "log_likelihood_gaussian_test1",
     "locked": true,
     "points": "3",
     "solution": false
    }
   },
   "outputs": [
    {
     "name": "stdout",
     "output_type": "stream",
     "text": [
      "\n",
      "(Passed!)\n"
     ]
    }
   ],
   "source": [
    "# Test cell: `log_likelihood_gaussian_test1` (3 points)\n",
    "\n",
    "for k in range(100):\n",
    "    mu = uniform(-10, 10)\n",
    "    sigma = uniform(1e-15, 10)\n",
    "    x0 = uniform(-10, 10)\n",
    "    nc = randint(1, 5)\n",
    "    n0s = [randint(1, 16384) for _ in range(nc)]\n",
    "    x0s = [uniform(-10, 10) for _ in range(nc)]\n",
    "    log_L_true = 0.0\n",
    "    X = []\n",
    "    for c, x0, n0 in zip(range(nc), x0s, n0s):\n",
    "        X += [x0] * n0\n",
    "        log_L_true += n0 * (-0.5*((x0 - mu)/sigma)**2 - log(sigma*sqrt(2*pi)))\n",
    "    shuffle(X)\n",
    "    log_L_you = log_likelihood_gaussian(X, mu, sigma)\n",
    "    msg = \"Test case {} failed: mu={}, sigma={}, nc={}, x0s={}, n0s={}, N={}, true={}, you={}\".format(k, mu, sigma, nc, x0s, n0s, len(X), log_L_true, log_L_you)\n",
    "    assert isclose(log_L_you, log_L_true, rel_tol=len(X)*1e-10), msg\n",
    "    \n",
    "print(\"\\n(Passed!)\")"
   ]
  },
  {
   "cell_type": "markdown",
   "metadata": {
    "deletable": false,
    "editable": false,
    "nbgrader": {
     "grade": false,
     "locked": true,
     "solution": false
    }
   },
   "source": [
    "**Fin!** This cell marks the end of this problem. If everything works, congratulations! If you haven't done so already, be sure to submit it to get the credit you deserve."
   ]
  }
 ],
 "metadata": {
  "kernelspec": {
   "display_name": "Python 3",
   "language": "python",
   "name": "python3"
  },
  "language_info": {
   "codemirror_mode": {
    "name": "ipython",
    "version": 3
   },
   "file_extension": ".py",
   "mimetype": "text/x-python",
   "name": "python",
   "nbconvert_exporter": "python",
   "pygments_lexer": "ipython3",
   "version": "3.7.4"
  }
 },
 "nbformat": 4,
 "nbformat_minor": 2
}
