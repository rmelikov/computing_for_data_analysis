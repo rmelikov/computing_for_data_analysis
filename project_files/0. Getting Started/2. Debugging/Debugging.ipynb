{
    "cells": [
        {
            "cell_type": "markdown",
            "metadata": {
                "nbgrader": {
                    "grade": false,
                    "locked": true,
                    "solution": false
                },
                "editable": false,
                "deletable": false
            },
            "source": [
                "# Using the error stack trace to debug code"
            ]
        },
        {
            "cell_type": "markdown",
            "metadata": {
                "nbgrader": {
                    "grade": false,
                    "locked": true,
                    "solution": false
                },
                "editable": false,
                "deletable": false
            },
            "source": [
                "In this course, the test cells often use assert statements to throw errors when the solution is not correct. The error message usually includes something about why the assertion failed, e.g. \"function output is not a dictionary\", \"variable foo is the wrong size\", \"foo does not match the instructor's solution\", etc. These errors usually point you directly towards what needs to be fixed. This type of error is not what this notebook focuses on.\n",
                "\n",
                "Of course, these assertions aren't the only case where code can fail. The Python interpreter will throw errors any time it is unable to do what is asked of it. These error messages, also known as a **traceback**, display where the error was made from the bit of code Python was unable to execute and all of the function calls that lead to that bit of code being attempted. \n",
                "\n",
                "First, let's import numpy and pandas."
            ]
        },
        {
            "cell_type": "code",
            "execution_count": null,
            "metadata": {
                "collapsed": true,
                "nbgrader": {
                    "grade": false,
                    "locked": true,
                    "solution": false
                },
                "editable": false,
                "deletable": false
            },
            "outputs": [],
            "source": [
                "import numpy as np\n",
                "import pandas as pd"
            ]
        },
        {
            "cell_type": "markdown",
            "metadata": {
                "nbgrader": {
                    "grade": false,
                    "locked": true,
                    "solution": false
                },
                "editable": false,
                "deletable": false
            },
            "source": [
                "# Numpy example"
            ]
        },
        {
            "cell_type": "markdown",
            "metadata": {
                "nbgrader": {
                    "grade": false,
                    "locked": true,
                    "solution": false
                },
                "editable": false,
                "deletable": false
            },
            "source": [
                "Here is a simple example of how the stack trace works. The printsum function is dependent on the add function. "
            ]
        },
        {
            "cell_type": "code",
            "execution_count": null,
            "metadata": {
                "collapsed": true,
                "nbgrader": {
                    "grade": false,
                    "locked": true,
                    "solution": false
                },
                "editable": false,
                "deletable": false
            },
            "outputs": [],
            "source": [
                "def printsum(a,b):\n",
                "    # This is\n",
                "    # defined in an undeitable cell\n",
                "    print(add(a,b))\n",
                "    \n",
                "def add(x,y):\n",
                "    # This is\n",
                "    # defined in an uneditable cell\n",
                "    s = x+y\n",
                "    return(s)"
            ]
        },
        {
            "cell_type": "markdown",
            "metadata": {
                "nbgrader": {
                    "grade": false,
                    "locked": true,
                    "solution": false
                },
                "editable": false,
                "deletable": false
            },
            "source": [
                "The variables \"foo\" and \"bar\" are loaded from a separate file. **For the sake of the example, assume that \"foo\" and \"bar\" were defined in an exercise solution, but the functions were defined in an uneditable block**. The values of bar *should* be the values of foo squared. Let's see if we can add them with **printsum** to get foo+foo\\*\\*2 displayed as output..."
            ]
        },
        {
            "cell_type": "code",
            "execution_count": null,
            "metadata": {
                "nbgrader": {
                    "grade": false,
                    "locked": true,
                    "solution": false
                },
                "editable": false,
                "deletable": false
            },
            "outputs": [],
            "source": [
                "from foobar import foo, bar\n",
                "printsum(foo, bar)"
            ]
        },
        {
            "cell_type": "markdown",
            "metadata": {
                "nbgrader": {
                    "grade": false,
                    "locked": true,
                    "solution": false
                },
                "editable": false,
                "deletable": false
            },
            "source": [
                "Oh, no! It didn't work. The bottom of the stack trace shows that x and y couldn't be broadcast together. \"I never did anything with x or y, there must be a problem with the notebook!\" might be the first thought to come to mind. However, examining the whole traceback shows something different. The problem started with the call to **printsum** and pertains to the **shape of two arrays**. The natural next step is to look at the shapes of the arrays fed into **printsum** and possibly the variables themselves."
            ]
        },
        {
            "cell_type": "code",
            "execution_count": null,
            "metadata": {
                "nbgrader": {
                    "grade": false,
                    "locked": true,
                    "solution": false
                },
                "editable": false,
                "deletable": false
            },
            "outputs": [],
            "source": [
                "print('foo\\'s shape:', foo.shape)\n",
                "print(foo)\n",
                "print('bar\\'s shape:', bar.shape)\n",
                "print(bar)"
            ]
        },
        {
            "cell_type": "markdown",
            "metadata": {
                "nbgrader": {
                    "grade": false,
                    "locked": true,
                    "solution": false
                },
                "editable": false,
                "deletable": false
            },
            "source": [
                "The bar array somehow got transposed, but the numbers are correct. The real way to resolve this issue is to find the root cause wherever bar is defined, but since that only exists hypothetically, let's correct it here by modifying the call to **printsum**."
            ]
        },
        {
            "cell_type": "code",
            "execution_count": null,
            "metadata": {
                "nbgrader": {
                    "grade": false,
                    "locked": true,
                    "solution": false
                },
                "editable": false,
                "deletable": false
            },
            "outputs": [],
            "source": [
                "printsum(foo, bar.T)"
            ]
        },
        {
            "cell_type": "markdown",
            "metadata": {
                "nbgrader": {
                    "grade": false,
                    "locked": true,
                    "solution": false
                },
                "editable": false,
                "deletable": false
            },
            "source": [
                "Some common numpy errors are broadcasting and type errors (recall everything in an array has to be of the same type). These basic errors might rear their ugly heads when calling functions that take array inputs. The bottom of the stack trace will have some lines of code that aren't even in the notebook. This is OK. Use the error message to **find where code that you wrote** may have caused the problem. "
            ]
        },
        {
            "cell_type": "markdown",
            "metadata": {
                "nbgrader": {
                    "grade": false,
                    "locked": true,
                    "solution": false
                },
                "editable": false,
                "deletable": false
            },
            "source": [
                "# Pandas example"
            ]
        },
        {
            "cell_type": "markdown",
            "metadata": {
                "nbgrader": {
                    "grade": false,
                    "locked": true,
                    "solution": false
                },
                "editable": false,
                "deletable": false
            },
            "source": [
                "Basic pandas errors are also often thrown as a result of function calls on dataframes that aren't as expected. The stack trace is useful to figure out where the issue is in these cases as well. Some common errors are index errors, using the wrong version of loc\/iloc, and problems with grouping or merging."
            ]
        },
        {
            "cell_type": "markdown",
            "metadata": {
                "nbgrader": {
                    "grade": false,
                    "locked": true,
                    "solution": false
                },
                "editable": false,
                "deletable": false
            },
            "source": [
                "For this example suppose that you have to write a function that vertically stacks some data frames. The column 'baz' **may** be named 'BAZ' in **some** of the inputs, and you are required to handle this and the returned data frame must have all 'baz'."
            ]
        },
        {
            "cell_type": "code",
            "execution_count": null,
            "metadata": {
                "collapsed": true,
                "nbgrader": {
                    "grade": false,
                    "locked": true,
                    "solution": false
                },
                "editable": false,
                "deletable": false
            },
            "outputs": [],
            "source": [
                "from foobar import df_foo, df_bar"
            ]
        },
        {
            "cell_type": "code",
            "execution_count": null,
            "metadata": {
                "nbgrader": {
                    "grade": false,
                    "locked": true,
                    "solution": false
                },
                "editable": false,
                "deletable": false
            },
            "outputs": [],
            "source": [
                "def df_stack(dfs):\n",
                "    # concatenate the dataframes in dfs.\n",
                "    df_foobar = pd.concat(dfs, axis=0).fillna(0)\n",
                "    # Add the columns named BAZ and baz together (remember NA were set to zero)\n",
                "    baz_se = df_foobar.BAZ + df_foobar.baz\n",
                "    # Drop the column with the wrong name\n",
                "    df_foobar.drop('BAZ',axis=1, inplace=True)\n",
                "    # Assign the baz values to the baz column\n",
                "    df_foobar[['baz']] = baz_se\n",
                "    return(df_foobar)\n",
                "\n",
                "print(df_stack([df_foo, df_bar]))"
            ]
        },
        {
            "cell_type": "markdown",
            "metadata": {
                "nbgrader": {
                    "grade": false,
                    "locked": true,
                    "solution": false
                },
                "editable": false,
                "deletable": false
            },
            "source": [
                "Our funciton df_stack appears to work correctly. The test cells will often check \"edge cases\" which may reveal that the function isn't able to handle specific types of inputs that it should be able to. "
            ]
        },
        {
            "cell_type": "code",
            "execution_count": null,
            "metadata": {
                "nbgrader": {
                    "grade": false,
                    "locked": true,
                    "solution": false
                },
                "editable": false,
                "deletable": false
            },
            "outputs": [],
            "source": [
                "from foobar import df_test\n",
                "# some other code\n",
                "#\n",
                "#\n",
                "df = df_stack([df_foo, df_test])\n",
                "# some more code\n",
                "#\n",
                "#"
            ]
        },
        {
            "cell_type": "markdown",
            "metadata": {
                "nbgrader": {
                    "grade": false,
                    "locked": true,
                    "solution": false
                },
                "editable": false,
                "deletable": false
            },
            "source": [
                "The function didn't work this time, even though the demo worked. Examining the traceback reveals that the call to **df_stack** was the origin of the error. This call led to the \"baz_se = ...\" line being attempted. That line resulted to a call to the pandas library that was unable to be executed. There appears to be an issue with the column names in **df_stack**. We can investigate further by looking at the column headers for each data frame in the list dfs. \n",
                "\n",
                "Note: the debugging is done in a separate cell for demonstration purposes, but on an assignment, you would want to add this code to your original function definition.\n",
                "\n",
                "Additional note: because the function call threw an error, the variable df never gets assigned. If an attempt to use it is made in subsequent cells, more errors will result. See below"
            ]
        },
        {
            "cell_type": "code",
            "execution_count": null,
            "metadata": {
                "nbgrader": {
                    "grade": false,
                    "locked": true,
                    "solution": false
                },
                "editable": false,
                "deletable": false
            },
            "outputs": [],
            "source": [
                "print(df)"
            ]
        },
        {
            "cell_type": "markdown",
            "metadata": {
                "nbgrader": {
                    "grade": false,
                    "locked": true,
                    "solution": false
                },
                "editable": false,
                "deletable": false
            },
            "source": [
                "This can be confusing, especially if the assignment is made in an uneditable cell or the name df is used in multiple namespaces. The find function in your browser (ctrl+F) can be helpful in figuring out where df should have been assigned but wasn't. Now on to the debugging. Remember we have an issue with the columns of the dataframes in dfs, so let's print them. "
            ]
        },
        {
            "cell_type": "code",
            "execution_count": null,
            "metadata": {
                "nbgrader": {
                    "grade": false,
                    "locked": true,
                    "solution": false
                },
                "editable": false,
                "deletable": false
            },
            "outputs": [],
            "source": [
                "def df_stack(dfs):\n",
                "    # begin debug code\n",
                "    for df in dfs:\n",
                "        print(df.columns)\n",
                "    # end debug code\n",
                "    df_foobar = pd.concat(dfs, axis=0).fillna(0)\n",
                "    baz_se = df_foobar.BAZ + df_foobar.baz\n",
                "    df_foobar.drop('BAZ',axis=1, inplace=True)\n",
                "    df_foobar[['baz']] = baz_se\n",
                "    return(df_foobar)\n",
                "\n",
                "print(df_stack([df_foo, df_bar]))"
            ]
        },
        {
            "cell_type": "markdown",
            "metadata": {
                "nbgrader": {
                    "grade": false,
                    "locked": true,
                    "solution": false
                },
                "editable": false,
                "deletable": false
            },
            "source": [
                "The demo still works with the print statement. Let's try the test again."
            ]
        },
        {
            "cell_type": "code",
            "execution_count": null,
            "metadata": {
                "nbgrader": {
                    "grade": false,
                    "locked": true,
                    "solution": false
                },
                "editable": false,
                "deletable": false
            },
            "outputs": [],
            "source": [
                "df = df_stack([df_foo, df_test])"
            ]
        },
        {
            "cell_type": "markdown",
            "metadata": {
                "nbgrader": {
                    "grade": false,
                    "locked": true,
                    "solution": false
                },
                "editable": false,
                "deletable": false
            },
            "source": [
                "We got the same error traceback, but this time we are armed with more information. The test list didn't have any columns named \"BAZ\"! By directly referencing the column, we require it to exist. Another logical conclusion is if **none** of the baz columns in dfs are named \"baz\" our code will also throw an error.\n",
                "\n",
                "Somehow we need to change the names of the columns named \"BAZ\" to \"baz\" **without requiring that either name exists** (only one or the other), and this should probably be done before the concatenation."
            ]
        },
        {
            "cell_type": "code",
            "execution_count": null,
            "metadata": {
                "nbgrader": {
                    "grade": false,
                    "locked": true,
                    "solution": false
                },
                "editable": false,
                "deletable": false
            },
            "outputs": [],
            "source": [
                "def df_stack(dfs):\n",
                "    # begin debug code\n",
                "    for df in dfs:\n",
                "        print(df.columns)\n",
                "    # end debug code\n",
                "    \n",
                "#     Old implementation\n",
                "\n",
                "#     df_foobar = pd.concat(dfs, axis=0).fillna(0)\n",
                "#     baz_se = df_foobar.BAZ + df_foobar.baz\n",
                "#     df_foobar.drop('BAZ',axis=1, inplace=True)\n",
                "#     df_foobar[['baz']] = baz_se\n",
                "    dfs_new = [df.rename(columns = {'BAZ' : 'baz'})for df in dfs]\n",
                "    df_foobar = pd.concat(dfs_new)\n",
                "    return(df_foobar)\n",
                "\n",
                "print(df_stack([df_foo, df_bar]))"
            ]
        },
        {
            "cell_type": "code",
            "execution_count": null,
            "metadata": {
                "nbgrader": {
                    "grade": false,
                    "locked": true,
                    "solution": false
                },
                "editable": false,
                "deletable": false
            },
            "outputs": [],
            "source": [
                "df = df_stack([df_foo, df_test])"
            ]
        },
        {
            "cell_type": "code",
            "execution_count": null,
            "metadata": {
                "nbgrader": {
                    "grade": false,
                    "locked": true,
                    "solution": false
                },
                "editable": false,
                "deletable": false
            },
            "outputs": [],
            "source": [
                "print(df)"
            ]
        },
        {
            "cell_type": "markdown",
            "metadata": {
                "nbgrader": {
                    "grade": false,
                    "locked": true,
                    "solution": false
                },
                "editable": false,
                "deletable": false
            },
            "source": [
                "The solution above uses the pd.rename function to handle the naming issue. This function checks the column names for any of the keys in the dictionary. If the key is found, the column name is changed in the output, but the key **is not required to be used**. "
            ]
        },
        {
            "cell_type": "markdown",
            "metadata": {
                "nbgrader": {
                    "grade": false,
                    "locked": true,
                    "solution": false
                },
                "editable": false,
                "deletable": false
            },
            "source": [
                "# One frustrating type of assertion error"
            ]
        },
        {
            "cell_type": "markdown",
            "metadata": {
                "nbgrader": {
                    "grade": false,
                    "locked": true,
                    "solution": false
                },
                "editable": false,
                "deletable": false
            },
            "source": [
                "I know we said assertion errors weren't going to be the focus of this notebook, but one case is worth looking into. Suppose a function defined in an exercise solution returns a large collection of outputs called stu_arr, and the instructor's solution called ins_arr. "
            ]
        },
        {
            "cell_type": "code",
            "execution_count": null,
            "metadata": {
                "nbgrader": {
                    "grade": false,
                    "locked": true,
                    "solution": false
                },
                "editable": false,
                "deletable": false
            },
            "outputs": [],
            "source": [
                "from foobar import stu_arr, ins_arr\n",
                "assert stu_arr.shape == ins_arr.shape, \"Student array has incorrect shape\"\n",
                "assert (stu_arr == ins_arr).all(), \"Student list did not match instructor list\""
            ]
        },
        {
            "cell_type": "markdown",
            "metadata": {
                "nbgrader": {
                    "grade": false,
                    "locked": true,
                    "solution": false
                },
                "editable": false,
                "deletable": false
            },
            "source": [
                "Ok, somewhere our function runs but doesn't compute the correct value. The next step is to find out where. Let's try printing the right answer, the generated answer, and a conditional array that checks for matches..."
            ]
        },
        {
            "cell_type": "code",
            "execution_count": null,
            "metadata": {
                "nbgrader": {
                    "grade": false,
                    "locked": true,
                    "solution": false
                },
                "editable": false,
                "deletable": false
            },
            "outputs": [],
            "source": [
                "print(stu_arr)\n",
                "print(ins_arr)\n",
                "print(ins_arr == stu_arr)"
            ]
        },
        {
            "cell_type": "markdown",
            "metadata": {
                "nbgrader": {
                    "grade": false,
                    "locked": true,
                    "solution": false
                },
                "editable": false,
                "deletable": false
            },
            "source": [
                "That didn't do much good. Is there a problem in the test, because it looks like everything matches? The issue with this strategy is the output is truncated because the arrays are huge. We need to figure out where our code outputs the wrong answer so that we can investigate how it gets there. "
            ]
        },
        {
            "cell_type": "code",
            "execution_count": null,
            "metadata": {
                "nbgrader": {
                    "grade": false,
                    "locked": true,
                    "solution": false
                },
                "editable": false,
                "deletable": false
            },
            "outputs": [],
            "source": [
                "wrong = [i for i, c in enumerate(ins_arr != stu_arr) if c]\n",
                "print(wrong)\n",
                "print(stu_arr[wrong])\n",
                "print(ins_arr[wrong])"
            ]
        },
        {
            "cell_type": "markdown",
            "metadata": {
                "nbgrader": {
                    "grade": false,
                    "locked": true,
                    "solution": false
                },
                "editable": false,
                "deletable": false
            },
            "source": [
                "The list comprehension stored in wrong is the index of all of the mismatches. With this information, you can investigate the few edge cases that are causing the assertion failure. This technique will often quickly point you towards what isn't being handled correctly in your function. Since these arrays are just dummy examples, we can't go much further. However, this is a good starting point in your debugging process if you're having this type of assertion failure."
            ]
        },
        {
            "cell_type": "markdown",
            "metadata": {
                "nbgrader": {
                    "grade": false,
                    "locked": true,
                    "solution": false
                },
                "editable": false,
                "deletable": false
            },
            "source": [
                "# Key Takeaways"
            ]
        },
        {
            "cell_type": "markdown",
            "metadata": {
                "nbgrader": {
                    "grade": false,
                    "locked": true,
                    "solution": false
                },
                "editable": false,
                "deletable": false
            },
            "source": [
                " * If there are issues with failing hidden test cells, look at the **Grading report**. (Details -> View Grading Report)\n",
                "     * This is where the error traceback you need to look at lives.\n",
                "     * Sometimes this requires finding errors above the test cell where variable assignments fail.\n",
                " * Look at the whole error traceback\n",
                " * **Look at the whole error traceback**\n",
                " * Use the traceback to get clues as to why your code is failing. \n",
                "     * Which function call resulted in the error? Focus on functions where you actually wrote some code.\n",
                "     * What type of error is it?\n",
                "     * What attribute is causing the error (shape, column name, index out of bounds, variable name, etc)?\n",
                " * Use print or assert to investigate the source of the error. It is rarely useful to print out entire data frames or arrays, because those usually get truncated.\n",
                " * If there is an assertion error, look for the mismatches. They can usually point you in the right direction."
            ]
        },
        {
            "cell_type": "markdown",
            "metadata": {
                "nbgrader": {
                    "grade": false,
                    "locked": true,
                    "solution": false
                },
                "editable": false,
                "deletable": false
            },
            "source": [
                "This notebook isn't inended to be a complete guide to debugging. Hopefully these strategies are helpful in completing the notebooks in this course."
            ]
        }
    ],
    "metadata": {
        "kernelspec": {
            "display_name": "Python 3 [3.6]",
            "language": "python",
            "name": "python3"
        },
        "language_info": {
            "codemirror_mode": {
                "name": "ipython",
                "version": 3
            },
            "file_extension": ".py",
            "mimetype": "text\/x-python",
            "name": "python",
            "nbconvert_exporter": "python",
            "pygments_lexer": "ipython3",
            "version": "3.6.4"
        }
    },
    "nbformat": 4,
    "nbformat_minor": 4
}