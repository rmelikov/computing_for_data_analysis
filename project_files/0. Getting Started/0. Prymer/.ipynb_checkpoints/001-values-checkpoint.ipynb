{
 "cells": [
  {
   "cell_type": "markdown",
   "metadata": {
    "colab_type": "text",
    "id": "EUw3KSDZfBlq"
   },
   "source": [
    "# Values, variables, and types\n",
    "\n",
    "Key concepts\n",
    "* Primitive values and types: `int`, `float`, `complex`, `bool`, `str`, and `NoneType`\n",
    "    - Type promotion\n",
    "    - Type queries\n",
    "* Strings\n",
    "    - Indexing\n",
    "    - Slicing and `slice` objects\n",
    "* Booleans and bit manipulation\n",
    "* Syntatic sugar: Update operations"
   ]
  },
  {
   "cell_type": "markdown",
   "metadata": {
    "colab_type": "text",
    "id": "8l-bLUzIfBlr"
   },
   "source": [
    "| Type        | Example        | Description                                                  |\n",
    "|-------------|----------------|--------------------------------------------------------------|\n",
    "| ``int``     | ``x = 1``      | integers (i.e., whole numbers)                               |\n",
    "| ``float``   | ``x = 1.0``    | floating-point numbers (i.e., real numbers)                  |\n",
    "| ``complex`` | ``x = 1 + 2j`` | Complex numbers (i.e., numbers with real and imaginary part) |\n",
    "| ``bool``    | ``x = True``   | Boolean: True/False values                                   |\n",
    "| ``str``     | ``x = 'abc'``  | String: characters or text                                   |\n",
    "| ``NoneType``| ``x = None``   | Special object indicating nulls                              |"
   ]
  },
  {
   "cell_type": "markdown",
   "metadata": {
    "colab_type": "text",
    "id": "PuRpApjgfBls"
   },
   "source": [
    "## Basics"
   ]
  },
  {
   "cell_type": "markdown",
   "metadata": {
    "colab_type": "text",
    "id": "eBIw9TVdfBlt"
   },
   "source": [
    "Values have types:"
   ]
  },
  {
   "cell_type": "code",
   "execution_count": 1,
   "metadata": {
    "colab": {
     "base_uri": "https://localhost:8080/",
     "height": 34
    },
    "colab_type": "code",
    "executionInfo": {
     "elapsed": 975,
     "status": "ok",
     "timestamp": 1589263763025,
     "user": {
      "displayName": "Ramin Melikov",
      "photoUrl": "https://lh3.googleusercontent.com/a-/AOh14GiHis9rvLk-L-oldYC6R7nQGhSo3YdaVruV8mziwes=s64",
      "userId": "02296214413071212378"
     },
     "user_tz": 300
    },
    "id": "tpBLCYfDfBlu",
    "outputId": "489236a1-ca41-449f-e0ba-5c3387bf86f0"
   },
   "outputs": [
    {
     "data": {
      "text/plain": [
       "3"
      ]
     },
     "execution_count": 1,
     "metadata": {},
     "output_type": "execute_result"
    }
   ],
   "source": [
    "3"
   ]
  },
  {
   "cell_type": "code",
   "execution_count": 2,
   "metadata": {
    "colab": {
     "base_uri": "https://localhost:8080/",
     "height": 34
    },
    "colab_type": "code",
    "executionInfo": {
     "elapsed": 1220,
     "status": "ok",
     "timestamp": 1589263763340,
     "user": {
      "displayName": "Ramin Melikov",
      "photoUrl": "https://lh3.googleusercontent.com/a-/AOh14GiHis9rvLk-L-oldYC6R7nQGhSo3YdaVruV8mziwes=s64",
      "userId": "02296214413071212378"
     },
     "user_tz": 300
    },
    "id": "f4ICK_cTfBlz",
    "outputId": "39c80056-52f0-4d47-80fc-adce22241948"
   },
   "outputs": [
    {
     "data": {
      "text/plain": [
       "int"
      ]
     },
     "execution_count": 2,
     "metadata": {},
     "output_type": "execute_result"
    }
   ],
   "source": [
    "type(3)"
   ]
  },
  {
   "cell_type": "code",
   "execution_count": 3,
   "metadata": {
    "colab": {
     "base_uri": "https://localhost:8080/",
     "height": 34
    },
    "colab_type": "code",
    "executionInfo": {
     "elapsed": 1208,
     "status": "ok",
     "timestamp": 1589263763341,
     "user": {
      "displayName": "Ramin Melikov",
      "photoUrl": "https://lh3.googleusercontent.com/a-/AOh14GiHis9rvLk-L-oldYC6R7nQGhSo3YdaVruV8mziwes=s64",
      "userId": "02296214413071212378"
     },
     "user_tz": 300
    },
    "id": "-LtEKA0BfBl2",
    "outputId": "d4712787-85a8-4666-ef2e-a540782a33fd"
   },
   "outputs": [
    {
     "data": {
      "text/plain": [
       "3.0"
      ]
     },
     "execution_count": 3,
     "metadata": {},
     "output_type": "execute_result"
    }
   ],
   "source": [
    "3.0"
   ]
  },
  {
   "cell_type": "code",
   "execution_count": 4,
   "metadata": {
    "colab": {
     "base_uri": "https://localhost:8080/",
     "height": 34
    },
    "colab_type": "code",
    "executionInfo": {
     "elapsed": 1192,
     "status": "ok",
     "timestamp": 1589263763341,
     "user": {
      "displayName": "Ramin Melikov",
      "photoUrl": "https://lh3.googleusercontent.com/a-/AOh14GiHis9rvLk-L-oldYC6R7nQGhSo3YdaVruV8mziwes=s64",
      "userId": "02296214413071212378"
     },
     "user_tz": 300
    },
    "id": "EBYi1ge1fBl8",
    "outputId": "13d2f0e2-f51d-4ffc-ed62-51d74c6e74a6"
   },
   "outputs": [
    {
     "data": {
      "text/plain": [
       "float"
      ]
     },
     "execution_count": 4,
     "metadata": {},
     "output_type": "execute_result"
    }
   ],
   "source": [
    "type(3.0)"
   ]
  },
  {
   "cell_type": "code",
   "execution_count": 5,
   "metadata": {
    "colab": {
     "base_uri": "https://localhost:8080/",
     "height": 34
    },
    "colab_type": "code",
    "executionInfo": {
     "elapsed": 1179,
     "status": "ok",
     "timestamp": 1589263763342,
     "user": {
      "displayName": "Ramin Melikov",
      "photoUrl": "https://lh3.googleusercontent.com/a-/AOh14GiHis9rvLk-L-oldYC6R7nQGhSo3YdaVruV8mziwes=s64",
      "userId": "02296214413071212378"
     },
     "user_tz": 300
    },
    "id": "QBqOl89lfBmC",
    "outputId": "fe847622-b970-4f32-fd81-e5b108cd6ce5"
   },
   "outputs": [
    {
     "data": {
      "text/plain": [
       "'3'"
      ]
     },
     "execution_count": 5,
     "metadata": {},
     "output_type": "execute_result"
    }
   ],
   "source": [
    "\"3\""
   ]
  },
  {
   "cell_type": "code",
   "execution_count": 6,
   "metadata": {
    "colab": {
     "base_uri": "https://localhost:8080/",
     "height": 34
    },
    "colab_type": "code",
    "executionInfo": {
     "elapsed": 1167,
     "status": "ok",
     "timestamp": 1589263763342,
     "user": {
      "displayName": "Ramin Melikov",
      "photoUrl": "https://lh3.googleusercontent.com/a-/AOh14GiHis9rvLk-L-oldYC6R7nQGhSo3YdaVruV8mziwes=s64",
      "userId": "02296214413071212378"
     },
     "user_tz": 300
    },
    "id": "4hMnpPsKfBmE",
    "outputId": "71ea42d3-1770-43bb-eb3a-7d10862a4c69"
   },
   "outputs": [
    {
     "data": {
      "text/plain": [
       "str"
      ]
     },
     "execution_count": 6,
     "metadata": {},
     "output_type": "execute_result"
    }
   ],
   "source": [
    "type(\"3\")"
   ]
  },
  {
   "cell_type": "markdown",
   "metadata": {
    "colab_type": "text",
    "id": "rtpQlobZfBmI"
   },
   "source": [
    "Variables name values:"
   ]
  },
  {
   "cell_type": "code",
   "execution_count": 7,
   "metadata": {
    "colab": {
     "base_uri": "https://localhost:8080/",
     "height": 34
    },
    "colab_type": "code",
    "executionInfo": {
     "elapsed": 1154,
     "status": "ok",
     "timestamp": 1589263763343,
     "user": {
      "displayName": "Ramin Melikov",
      "photoUrl": "https://lh3.googleusercontent.com/a-/AOh14GiHis9rvLk-L-oldYC6R7nQGhSo3YdaVruV8mziwes=s64",
      "userId": "02296214413071212378"
     },
     "user_tz": 300
    },
    "id": "sU7Tm3yHfBmI",
    "outputId": "9d31c3a3-4d53-43c5-f164-2f4304611468"
   },
   "outputs": [
    {
     "name": "stdout",
     "output_type": "stream",
     "text": [
      "5\n"
     ]
    }
   ],
   "source": [
    "x = 5\n",
    "print(x)"
   ]
  },
  {
   "cell_type": "markdown",
   "metadata": {
    "colab_type": "text",
    "id": "mMvAIRUWfBmL"
   },
   "source": [
    "Values may be combined using the \"natural\" operators. For integers and floats, for example, you have these options:\n",
    "\n",
    "| Operator     | Name           | Description                                            |\n",
    "|--------------|----------------|--------------------------------------------------------|\n",
    "| ``a + b``    | Addition       | Sum of ``a`` and ``b``                                 |\n",
    "| ``a - b``    | Subtraction    | Difference of ``a`` and ``b``                          |\n",
    "| ``a * b``    | Multiplication | Product of ``a`` and ``b``                             |\n",
    "| ``a / b``    | True division  | Quotient of ``a`` and ``b``                            |\n",
    "| ``a // b``   | Floor division | Quotient of ``a`` and ``b``, removing fractional parts |\n",
    "| ``a % b``    | Modulus        | Integer remainder after division of ``a`` by ``b``     |\n",
    "| ``a ** b``   | Exponentiation | ``a`` raised to the power of ``b``                     |\n",
    "| ``-a``       | Negation       | The negative of ``a``                                  |\n",
    "| ``+a``       | Unary plus     | ``a`` unchanged (rarely used)                          |"
   ]
  },
  {
   "cell_type": "code",
   "execution_count": 8,
   "metadata": {
    "colab": {
     "base_uri": "https://localhost:8080/",
     "height": 34
    },
    "colab_type": "code",
    "executionInfo": {
     "elapsed": 1140,
     "status": "ok",
     "timestamp": 1589263763343,
     "user": {
      "displayName": "Ramin Melikov",
      "photoUrl": "https://lh3.googleusercontent.com/a-/AOh14GiHis9rvLk-L-oldYC6R7nQGhSo3YdaVruV8mziwes=s64",
      "userId": "02296214413071212378"
     },
     "user_tz": 300
    },
    "id": "ScX_kwp8fBmM",
    "outputId": "92906573-b3d3-492d-ee9e-653a69108ec9"
   },
   "outputs": [
    {
     "name": "stdout",
     "output_type": "stream",
     "text": [
      "13\n"
     ]
    }
   ],
   "source": [
    "print(2*x + 3)"
   ]
  },
  {
   "cell_type": "markdown",
   "metadata": {
    "colab_type": "text",
    "id": "9vD9xGrGfBmQ"
   },
   "source": [
    "> **Aside.** Formatted I/O and formatted string literals:"
   ]
  },
  {
   "cell_type": "code",
   "execution_count": 9,
   "metadata": {
    "colab": {
     "base_uri": "https://localhost:8080/",
     "height": 51
    },
    "colab_type": "code",
    "executionInfo": {
     "elapsed": 1128,
     "status": "ok",
     "timestamp": 1589263763344,
     "user": {
      "displayName": "Ramin Melikov",
      "photoUrl": "https://lh3.googleusercontent.com/a-/AOh14GiHis9rvLk-L-oldYC6R7nQGhSo3YdaVruV8mziwes=s64",
      "userId": "02296214413071212378"
     },
     "user_tz": 300
    },
    "id": "btQqKpCKfBmR",
    "outputId": "4762f79d-5cf5-4e39-dd4b-2fb4677b3244"
   },
   "outputs": [
    {
     "name": "stdout",
     "output_type": "stream",
     "text": [
      "5 has type <class 'int'>\n",
      "5 has type <class 'int'>\n"
     ]
    }
   ],
   "source": [
    "print('{X} has type {T}'.format(X=x, T=type(x)))\n",
    "print(f'{x} has type {type(x)}')"
   ]
  },
  {
   "cell_type": "markdown",
   "metadata": {
    "colab_type": "text",
    "id": "g6FBwkQBfBmT"
   },
   "source": [
    "**Type promotion.** For some types, the type of the result is promoted automatically:"
   ]
  },
  {
   "cell_type": "code",
   "execution_count": 10,
   "metadata": {
    "colab": {
     "base_uri": "https://localhost:8080/",
     "height": 68
    },
    "colab_type": "code",
    "executionInfo": {
     "elapsed": 1116,
     "status": "ok",
     "timestamp": 1589263763344,
     "user": {
      "displayName": "Ramin Melikov",
      "photoUrl": "https://lh3.googleusercontent.com/a-/AOh14GiHis9rvLk-L-oldYC6R7nQGhSo3YdaVruV8mziwes=s64",
      "userId": "02296214413071212378"
     },
     "user_tz": 300
    },
    "id": "LLOS7RZwfBmU",
    "outputId": "2efc72a7-92ea-4540-c8ab-ab6e4764e7f1"
   },
   "outputs": [
    {
     "name": "stdout",
     "output_type": "stream",
     "text": [
      "1 has type <class 'int'>\n",
      "2 has type <class 'int'>\n",
      "0.5 has type <class 'float'>\n"
     ]
    }
   ],
   "source": [
    "x = 1\n",
    "y = 2\n",
    "z = x / y\n",
    "print(x, 'has type', type(x))\n",
    "print(y, 'has type', type(y))\n",
    "print(z, 'has type', type(z))"
   ]
  },
  {
   "cell_type": "code",
   "execution_count": 11,
   "metadata": {
    "colab": {
     "base_uri": "https://localhost:8080/",
     "height": 51
    },
    "colab_type": "code",
    "executionInfo": {
     "elapsed": 1104,
     "status": "ok",
     "timestamp": 1589263763345,
     "user": {
      "displayName": "Ramin Melikov",
      "photoUrl": "https://lh3.googleusercontent.com/a-/AOh14GiHis9rvLk-L-oldYC6R7nQGhSo3YdaVruV8mziwes=s64",
      "userId": "02296214413071212378"
     },
     "user_tz": 300
    },
    "id": "tj3D12fTfBmW",
    "outputId": "6753c66d-4b9c-4f2d-ccc2-03642706120e"
   },
   "outputs": [
    {
     "name": "stdout",
     "output_type": "stream",
     "text": [
      "2.5 <class 'float'>\n",
      "2 <class 'int'>\n"
     ]
    }
   ],
   "source": [
    "# Aside: integer division (floor)\n",
    "print(5 / 2, type(5 / 2))\n",
    "print(5 // 2, type(5 // 2))"
   ]
  },
  {
   "cell_type": "markdown",
   "metadata": {
    "colab_type": "text",
    "id": "uA9NQFY9fBmY"
   },
   "source": [
    "**Type queries** (asking for a type):"
   ]
  },
  {
   "cell_type": "code",
   "execution_count": 12,
   "metadata": {
    "colab": {
     "base_uri": "https://localhost:8080/",
     "height": 51
    },
    "colab_type": "code",
    "executionInfo": {
     "elapsed": 1094,
     "status": "ok",
     "timestamp": 1589263763345,
     "user": {
      "displayName": "Ramin Melikov",
      "photoUrl": "https://lh3.googleusercontent.com/a-/AOh14GiHis9rvLk-L-oldYC6R7nQGhSo3YdaVruV8mziwes=s64",
      "userId": "02296214413071212378"
     },
     "user_tz": 300
    },
    "id": "GANGTLexfBmY",
    "outputId": "8bc0877c-ada2-478f-e50f-15d91cbe4d51"
   },
   "outputs": [
    {
     "name": "stdout",
     "output_type": "stream",
     "text": [
      "True\n",
      "<class 'int'> True\n"
     ]
    }
   ],
   "source": [
    "x = 5\n",
    "print(type(x) is int)\n",
    "print(type(x), isinstance(x, int)) # Preferred idiom"
   ]
  },
  {
   "cell_type": "code",
   "execution_count": 13,
   "metadata": {
    "colab": {
     "base_uri": "https://localhost:8080/",
     "height": 85
    },
    "colab_type": "code",
    "executionInfo": {
     "elapsed": 1087,
     "status": "ok",
     "timestamp": 1589263763346,
     "user": {
      "displayName": "Ramin Melikov",
      "photoUrl": "https://lh3.googleusercontent.com/a-/AOh14GiHis9rvLk-L-oldYC6R7nQGhSo3YdaVruV8mziwes=s64",
      "userId": "02296214413071212378"
     },
     "user_tz": 300
    },
    "id": "K6rE-2A6fBma",
    "outputId": "f8257798-58a0-4892-9581-6d7332f5daa1"
   },
   "outputs": [
    {
     "name": "stdout",
     "output_type": "stream",
     "text": [
      "<class 'bool'> True\n",
      "<class 'float'> False\n",
      "<class 'str'> False\n",
      "<class 'float'> False\n"
     ]
    }
   ],
   "source": [
    "print(type(True), isinstance(True, int))\n",
    "print(type(5.0), isinstance(5.0, type(x)))\n",
    "print(type('5'), isinstance('5', type(x)))\n",
    "print(type(5.0), isinstance(5.0, complex)) # Does not always behave as expected"
   ]
  },
  {
   "cell_type": "code",
   "execution_count": 14,
   "metadata": {
    "colab": {
     "base_uri": "https://localhost:8080/",
     "height": 34
    },
    "colab_type": "code",
    "executionInfo": {
     "elapsed": 1076,
     "status": "ok",
     "timestamp": 1589263763346,
     "user": {
      "displayName": "Ramin Melikov",
      "photoUrl": "https://lh3.googleusercontent.com/a-/AOh14GiHis9rvLk-L-oldYC6R7nQGhSo3YdaVruV8mziwes=s64",
      "userId": "02296214413071212378"
     },
     "user_tz": 300
    },
    "id": "jldGyxeFfBmd",
    "outputId": "dcd62074-681a-4aba-bfbc-a1ae7068b8f9"
   },
   "outputs": [
    {
     "data": {
      "text/plain": [
       "True"
      ]
     },
     "execution_count": 14,
     "metadata": {},
     "output_type": "execute_result"
    }
   ],
   "source": [
    "(5.0).is_integer() # Special test for floating-point values"
   ]
  },
  {
   "cell_type": "markdown",
   "metadata": {
    "colab_type": "text",
    "id": "_0B3rrRkfBmf"
   },
   "source": [
    "**`None`/`NoneType`.** The \"non-value\" value, `None`, and its and type:"
   ]
  },
  {
   "cell_type": "code",
   "execution_count": 15,
   "metadata": {
    "colab": {
     "base_uri": "https://localhost:8080/",
     "height": 68
    },
    "colab_type": "code",
    "executionInfo": {
     "elapsed": 1065,
     "status": "ok",
     "timestamp": 1589263763346,
     "user": {
      "displayName": "Ramin Melikov",
      "photoUrl": "https://lh3.googleusercontent.com/a-/AOh14GiHis9rvLk-L-oldYC6R7nQGhSo3YdaVruV8mziwes=s64",
      "userId": "02296214413071212378"
     },
     "user_tz": 300
    },
    "id": "YJvgDDQNfBmg",
    "outputId": "f41837fa-af1e-4fa3-d837-467a0ba90ecf"
   },
   "outputs": [
    {
     "name": "stdout",
     "output_type": "stream",
     "text": [
      "None : <class 'NoneType'>\n",
      "True False\n",
      "True False\n"
     ]
    }
   ],
   "source": [
    "x = None\n",
    "print(x, ':', type(x))\n",
    "print(x == None, x != None)\n",
    "print(x is None, x is not None) # Preferred idiom"
   ]
  },
  {
   "cell_type": "markdown",
   "metadata": {
    "colab_type": "text",
    "id": "KOrek4atfBmi"
   },
   "source": [
    "**\"Big\" integers by default.** Integers do not \"overflow\" as they do in most other languages."
   ]
  },
  {
   "cell_type": "code",
   "execution_count": 16,
   "metadata": {
    "colab": {
     "base_uri": "https://localhost:8080/",
     "height": 68
    },
    "colab_type": "code",
    "executionInfo": {
     "elapsed": 1055,
     "status": "ok",
     "timestamp": 1589263763347,
     "user": {
      "displayName": "Ramin Melikov",
      "photoUrl": "https://lh3.googleusercontent.com/a-/AOh14GiHis9rvLk-L-oldYC6R7nQGhSo3YdaVruV8mziwes=s64",
      "userId": "02296214413071212378"
     },
     "user_tz": 300
    },
    "id": "4yI2GT5BfBmj",
    "outputId": "7bf17b1f-1c3d-4918-f102-aee40cb3ee31"
   },
   "outputs": [
    {
     "name": "stdout",
     "output_type": "stream",
     "text": [
      "(a) 81\n",
      "(b) 12157665459056928801\n",
      "(c) 70550791086553325712464271575934796216507949612787315762871223209262085551582934156579298529447134158154952334825355911866929793071824566694145084454535257027960285323760313192443283334088001\n"
     ]
    }
   ],
   "source": [
    "print('(a)', 3**4)\n",
    "print('(b)', 3**40)\n",
    "print('(c)', 3**400)"
   ]
  },
  {
   "cell_type": "markdown",
   "metadata": {
    "colab_type": "text",
    "id": "eY06gwG3fBmm"
   },
   "source": [
    "**Math functions.** For numerical values, many of the functions you might want are available in the `math` module."
   ]
  },
  {
   "cell_type": "code",
   "execution_count": 17,
   "metadata": {
    "colab": {
     "base_uri": "https://localhost:8080/",
     "height": 34
    },
    "colab_type": "code",
    "executionInfo": {
     "elapsed": 1047,
     "status": "ok",
     "timestamp": 1589263763348,
     "user": {
      "displayName": "Ramin Melikov",
      "photoUrl": "https://lh3.googleusercontent.com/a-/AOh14GiHis9rvLk-L-oldYC6R7nQGhSo3YdaVruV8mziwes=s64",
      "userId": "02296214413071212378"
     },
     "user_tz": 300
    },
    "id": "Bb7KeW2HfBmm",
    "outputId": "bf29bf14-68f7-49d3-d35f-5a3122fddc92"
   },
   "outputs": [
    {
     "data": {
      "text/plain": [
       "<module 'math' (built-in)>"
      ]
     },
     "execution_count": 17,
     "metadata": {},
     "output_type": "execute_result"
    }
   ],
   "source": [
    "import math\n",
    "\n",
    "math"
   ]
  },
  {
   "cell_type": "markdown",
   "metadata": {
    "colab_type": "text",
    "id": "b7t4-eBVfBmo"
   },
   "source": [
    "## Strings"
   ]
  },
  {
   "cell_type": "code",
   "execution_count": 18,
   "metadata": {
    "colab": {
     "base_uri": "https://localhost:8080/",
     "height": 34
    },
    "colab_type": "code",
    "executionInfo": {
     "elapsed": 1294,
     "status": "ok",
     "timestamp": 1589263763607,
     "user": {
      "displayName": "Ramin Melikov",
      "photoUrl": "https://lh3.googleusercontent.com/a-/AOh14GiHis9rvLk-L-oldYC6R7nQGhSo3YdaVruV8mziwes=s64",
      "userId": "02296214413071212378"
     },
     "user_tz": 300
    },
    "id": "i0QQrP70fBmo",
    "outputId": "d35afa41-43f6-49b6-999a-00867690ffdd"
   },
   "outputs": [
    {
     "name": "stdout",
     "output_type": "stream",
     "text": [
      "message : <class 'str'>\n"
     ]
    }
   ],
   "source": [
    "bottle = \"message\"\n",
    "print(bottle, ':', type(bottle))"
   ]
  },
  {
   "cell_type": "code",
   "execution_count": 19,
   "metadata": {
    "colab": {
     "base_uri": "https://localhost:8080/",
     "height": 34
    },
    "colab_type": "code",
    "executionInfo": {
     "elapsed": 1260,
     "status": "ok",
     "timestamp": 1589263763608,
     "user": {
      "displayName": "Ramin Melikov",
      "photoUrl": "https://lh3.googleusercontent.com/a-/AOh14GiHis9rvLk-L-oldYC6R7nQGhSo3YdaVruV8mziwes=s64",
      "userId": "02296214413071212378"
     },
     "user_tz": 300
    },
    "id": "9plzcTHUfBmq",
    "outputId": "d08d85e6-7141-4924-aef2-e9be422dd18d"
   },
   "outputs": [
    {
     "data": {
      "text/plain": [
       "'messagemessage'"
      ]
     },
     "execution_count": 19,
     "metadata": {},
     "output_type": "execute_result"
    }
   ],
   "source": [
    "bottle + bottle"
   ]
  },
  {
   "cell_type": "code",
   "execution_count": 20,
   "metadata": {
    "colab": {
     "base_uri": "https://localhost:8080/",
     "height": 34
    },
    "colab_type": "code",
    "executionInfo": {
     "elapsed": 1250,
     "status": "ok",
     "timestamp": 1589263763608,
     "user": {
      "displayName": "Ramin Melikov",
      "photoUrl": "https://lh3.googleusercontent.com/a-/AOh14GiHis9rvLk-L-oldYC6R7nQGhSo3YdaVruV8mziwes=s64",
      "userId": "02296214413071212378"
     },
     "user_tz": 300
    },
    "id": "0dgDgvcafBmt",
    "outputId": "70ead9aa-9dcf-4c96-87f2-1239e53f54ae"
   },
   "outputs": [
    {
     "data": {
      "text/plain": [
       "True"
      ]
     },
     "execution_count": 20,
     "metadata": {},
     "output_type": "execute_result"
    }
   ],
   "source": [
    "'sag' in bottle"
   ]
  },
  {
   "cell_type": "code",
   "execution_count": 21,
   "metadata": {
    "colab": {
     "base_uri": "https://localhost:8080/",
     "height": 34
    },
    "colab_type": "code",
    "executionInfo": {
     "elapsed": 1238,
     "status": "ok",
     "timestamp": 1589263763609,
     "user": {
      "displayName": "Ramin Melikov",
      "photoUrl": "https://lh3.googleusercontent.com/a-/AOh14GiHis9rvLk-L-oldYC6R7nQGhSo3YdaVruV8mziwes=s64",
      "userId": "02296214413071212378"
     },
     "user_tz": 300
    },
    "id": "Et87l34gfBmv",
    "outputId": "97cad60c-bc08-418f-acbb-e6a28c78e5c7"
   },
   "outputs": [
    {
     "name": "stdout",
     "output_type": "stream",
     "text": [
      "|'messagemessagemessagemessagemessagemessage'| == 42.\n"
     ]
    }
   ],
   "source": [
    "sixpack = bottle * 6\n",
    "print(\"|'{s}'| == {n}.\".format(s=sixpack, n=len(sixpack))) # print string and its length"
   ]
  },
  {
   "cell_type": "code",
   "execution_count": 22,
   "metadata": {
    "colab": {
     "base_uri": "https://localhost:8080/",
     "height": 34
    },
    "colab_type": "code",
    "executionInfo": {
     "elapsed": 1226,
     "status": "ok",
     "timestamp": 1589263763609,
     "user": {
      "displayName": "Ramin Melikov",
      "photoUrl": "https://lh3.googleusercontent.com/a-/AOh14GiHis9rvLk-L-oldYC6R7nQGhSo3YdaVruV8mziwes=s64",
      "userId": "02296214413071212378"
     },
     "user_tz": 300
    },
    "id": "MsbE9DE1fBmx",
    "outputId": "13850fe8-5d7b-4447-c35d-14c966d1f834"
   },
   "outputs": [
    {
     "data": {
      "text/plain": [
       "'MESSAGE'"
      ]
     },
     "execution_count": 22,
     "metadata": {},
     "output_type": "execute_result"
    }
   ],
   "source": [
    "bottle.upper()"
   ]
  },
  {
   "cell_type": "markdown",
   "metadata": {
    "colab_type": "text",
    "id": "zX8sGetBfBm3"
   },
   "source": [
    "_Aside:_ In the cell below, type `bottle.` and then press tab."
   ]
  },
  {
   "cell_type": "markdown",
   "metadata": {
    "colab_type": "text",
    "id": "FJA_bRq3fBm3"
   },
   "source": [
    "**Indexing strings.**"
   ]
  },
  {
   "cell_type": "code",
   "execution_count": 23,
   "metadata": {
    "colab": {
     "base_uri": "https://localhost:8080/",
     "height": 153
    },
    "colab_type": "code",
    "executionInfo": {
     "elapsed": 1217,
     "status": "ok",
     "timestamp": 1589263763610,
     "user": {
      "displayName": "Ramin Melikov",
      "photoUrl": "https://lh3.googleusercontent.com/a-/AOh14GiHis9rvLk-L-oldYC6R7nQGhSo3YdaVruV8mziwes=s64",
      "userId": "02296214413071212378"
     },
     "user_tz": 300
    },
    "id": "ULgWxoTufBm4",
    "outputId": "15102efe-3ab2-406e-bce1-829948a16b38"
   },
   "outputs": [
    {
     "name": "stdout",
     "output_type": "stream",
     "text": [
      "|message| == 7\n",
      "0: m\n",
      "1: e\n",
      "2: s\n",
      "3: s\n",
      "4: a\n",
      "5: g\n",
      "6: e\n"
     ]
    }
   ],
   "source": [
    "print(f'|{bottle}| == {len(bottle)}')\n",
    "print('0:', bottle[0])\n",
    "print('1:', bottle[1])\n",
    "print('2:', bottle[2])\n",
    "print('3:', bottle[3])\n",
    "print('4:', bottle[4])\n",
    "print('5:', bottle[5])\n",
    "print('6:', bottle[6])\n",
    "# print('7:', bottle[7]) <-- out-of-range"
   ]
  },
  {
   "cell_type": "markdown",
   "metadata": {
    "colab_type": "text",
    "id": "c5Eyld50fBm6"
   },
   "source": [
    "**Slices.** Let $0 \\leq a < b$. Then $a:b$ is a _slice_ that specifies the right-open interval, $[a, b)$."
   ]
  },
  {
   "cell_type": "code",
   "execution_count": 24,
   "metadata": {
    "colab": {
     "base_uri": "https://localhost:8080/",
     "height": 51
    },
    "colab_type": "code",
    "executionInfo": {
     "elapsed": 1207,
     "status": "ok",
     "timestamp": 1589263763611,
     "user": {
      "displayName": "Ramin Melikov",
      "photoUrl": "https://lh3.googleusercontent.com/a-/AOh14GiHis9rvLk-L-oldYC6R7nQGhSo3YdaVruV8mziwes=s64",
      "userId": "02296214413071212378"
     },
     "user_tz": 300
    },
    "id": "5m2IiBcVfBm7",
    "outputId": "3fb264c9-112a-4d3f-de19-c1dfbd7c5119"
   },
   "outputs": [
    {
     "name": "stdout",
     "output_type": "stream",
     "text": [
      "'sa'\n",
      "''\n"
     ]
    }
   ],
   "source": [
    "print(\"'{}'\".format(bottle[3:5]))\n",
    "print(\"'{}'\".format(bottle[5:3])) # Empty, since a >= b"
   ]
  },
  {
   "cell_type": "markdown",
   "metadata": {
    "colab_type": "text",
    "id": "5lgPXWwdfBnA"
   },
   "source": [
    "If $a$ (or $b$) is negative, then it is replaced with $n+a$ (or $n+b$), where $n$ is the length of the string. In other words, negative positions are interpreted as \"counting from the end.\""
   ]
  },
  {
   "cell_type": "code",
   "execution_count": 25,
   "metadata": {
    "colab": {
     "base_uri": "https://localhost:8080/",
     "height": 51
    },
    "colab_type": "code",
    "executionInfo": {
     "elapsed": 1193,
     "status": "ok",
     "timestamp": 1589263763611,
     "user": {
      "displayName": "Ramin Melikov",
      "photoUrl": "https://lh3.googleusercontent.com/a-/AOh14GiHis9rvLk-L-oldYC6R7nQGhSo3YdaVruV8mziwes=s64",
      "userId": "02296214413071212378"
     },
     "user_tz": 300
    },
    "id": "ibVp-0BBfBnB",
    "outputId": "a12e0862-6ad1-40a7-ffbb-d1b79904bdb3"
   },
   "outputs": [
    {
     "name": "stdout",
     "output_type": "stream",
     "text": [
      "''\n",
      "'ss'\n"
     ]
    }
   ],
   "source": [
    "print(\"'{}'\".format(bottle[-3:-5])) # n-3:n-5, which is empty since n-3 > n-5\n",
    "print(\"'{}'\".format(bottle[-5:-3]))"
   ]
  },
  {
   "cell_type": "markdown",
   "metadata": {
    "colab_type": "text",
    "id": "J4TRN12SfBnF"
   },
   "source": [
    "A slice may have a third parameter, $a:b:s$, where $s$ denotes the _step size_. Again, assume $0 \\leq a < b$ and suppose $s > 0$. Then the 3-parameter slice $a:b:s$ expands into the sequence, $a, a+s, a+2s, \\ldots, a+(k-1)s$, where $k = \\left\\lfloor\\frac{b-a}{s}\\right\\rfloor$.\n",
    "\n",
    "_Defaults._ Omitting `a`, `b`, or `s` yields the defaults of `a=0`, `b=len(x)`, and `s=1`."
   ]
  },
  {
   "cell_type": "code",
   "execution_count": 26,
   "metadata": {
    "colab": {
     "base_uri": "https://localhost:8080/",
     "height": 51
    },
    "colab_type": "code",
    "executionInfo": {
     "elapsed": 1181,
     "status": "ok",
     "timestamp": 1589263763612,
     "user": {
      "displayName": "Ramin Melikov",
      "photoUrl": "https://lh3.googleusercontent.com/a-/AOh14GiHis9rvLk-L-oldYC6R7nQGhSo3YdaVruV8mziwes=s64",
      "userId": "02296214413071212378"
     },
     "user_tz": 300
    },
    "id": "k-VGX8XLfBnG",
    "outputId": "478fffed-e1fe-414d-fd14-999139c1d540"
   },
   "outputs": [
    {
     "name": "stdout",
     "output_type": "stream",
     "text": [
      "sae\n",
      "sae\n"
     ]
    }
   ],
   "source": [
    "print(bottle[2:7:2])\n",
    "print(bottle[2::2])"
   ]
  },
  {
   "cell_type": "markdown",
   "metadata": {
    "colab_type": "text",
    "id": "FDrGVZ_KfBnJ"
   },
   "source": [
    "Right-open intervals allow simple splittings of intervals:"
   ]
  },
  {
   "cell_type": "code",
   "execution_count": 27,
   "metadata": {
    "colab": {
     "base_uri": "https://localhost:8080/",
     "height": 68
    },
    "colab_type": "code",
    "executionInfo": {
     "elapsed": 1170,
     "status": "ok",
     "timestamp": 1589263763612,
     "user": {
      "displayName": "Ramin Melikov",
      "photoUrl": "https://lh3.googleusercontent.com/a-/AOh14GiHis9rvLk-L-oldYC6R7nQGhSo3YdaVruV8mziwes=s64",
      "userId": "02296214413071212378"
     },
     "user_tz": 300
    },
    "id": "yQU3TTh9fBnK",
    "outputId": "0a2fe62f-fb7d-4ccf-903e-da623c1810fd"
   },
   "outputs": [
    {
     "name": "stdout",
     "output_type": "stream",
     "text": [
      "mess age\n",
      "mess age\n",
      "mess age\n"
     ]
    }
   ],
   "source": [
    "print(bottle[:4],  # Up to (but excluding) 4, since intervals are right-open\n",
    "      bottle[4:])  # Resume at 4\n",
    "\n",
    "k = len(bottle) - 3 # Note: len(bottle) == 7, so this is same as above\n",
    "print(bottle[:k], bottle[k:])\n",
    "\n",
    "k = -3 # Recall: a negative endpoint x becomes n+x\n",
    "print(bottle[:-3], bottle[-3:]) # Shorthand"
   ]
  },
  {
   "cell_type": "markdown",
   "metadata": {
    "colab_type": "text",
    "id": "vIAGBcQ-fBnM"
   },
   "source": [
    "**Negative steps** ($s < 0$) reverse the direction. That is, if $s < 0$ then one cannot have a non-empty sequence unless $a > b$. The defaults for omitted $a$ and $b$ values change to $a=n-1$ and $b=-1$ (recall that the intervals are right-open)."
   ]
  },
  {
   "cell_type": "code",
   "execution_count": 28,
   "metadata": {
    "colab": {
     "base_uri": "https://localhost:8080/",
     "height": 85
    },
    "colab_type": "code",
    "executionInfo": {
     "elapsed": 1157,
     "status": "ok",
     "timestamp": 1589263763613,
     "user": {
      "displayName": "Ramin Melikov",
      "photoUrl": "https://lh3.googleusercontent.com/a-/AOh14GiHis9rvLk-L-oldYC6R7nQGhSo3YdaVruV8mziwes=s64",
      "userId": "02296214413071212378"
     },
     "user_tz": 300
    },
    "id": "iIFU6OCnfBnM",
    "outputId": "471d207c-ee3d-4a6e-8cc2-3e32f6fc04fd"
   },
   "outputs": [
    {
     "name": "stdout",
     "output_type": "stream",
     "text": [
      "egassem\n",
      "easm easm\n",
      "'message'\n",
      "'m'\n"
     ]
    }
   ],
   "source": [
    "print(bottle[::-1])\n",
    "print(bottle[::-2], bottle[6::-2])\n",
    "print(\"'{}'\".format(bottle[0::1]))\n",
    "print(\"'{}'\".format(bottle[0::-1]))"
   ]
  },
  {
   "cell_type": "markdown",
   "metadata": {
    "colab_type": "text",
    "id": "Fl6Kn2QRfBnR"
   },
   "source": [
    "_Aside:_ **Slices are objects!**"
   ]
  },
  {
   "cell_type": "code",
   "execution_count": 29,
   "metadata": {
    "colab": {
     "base_uri": "https://localhost:8080/",
     "height": 34
    },
    "colab_type": "code",
    "executionInfo": {
     "elapsed": 1145,
     "status": "ok",
     "timestamp": 1589263763613,
     "user": {
      "displayName": "Ramin Melikov",
      "photoUrl": "https://lh3.googleusercontent.com/a-/AOh14GiHis9rvLk-L-oldYC6R7nQGhSo3YdaVruV8mziwes=s64",
      "userId": "02296214413071212378"
     },
     "user_tz": 300
    },
    "id": "Qgui8krGfBnS",
    "outputId": "d2c7ca3a-c8b8-4744-adc3-db88139e62ee"
   },
   "outputs": [
    {
     "name": "stdout",
     "output_type": "stream",
     "text": [
      "easm easm\n"
     ]
    }
   ],
   "source": [
    "ind = slice(6, None, -2)\n",
    "print(bottle[6::-2], bottle[ind])"
   ]
  },
  {
   "cell_type": "markdown",
   "metadata": {
    "colab_type": "text",
    "id": "Z3osjKM5fBnU"
   },
   "source": [
    "## Booleans and bit manipulation\n",
    "\n",
    "Boolean variables can take on the values of `True` or `False`. The built-in boolean operations are `and`, `or`, and `not`."
   ]
  },
  {
   "cell_type": "code",
   "execution_count": 30,
   "metadata": {
    "colab": {
     "base_uri": "https://localhost:8080/",
     "height": 68
    },
    "colab_type": "code",
    "executionInfo": {
     "elapsed": 1137,
     "status": "ok",
     "timestamp": 1589263763613,
     "user": {
      "displayName": "Ramin Melikov",
      "photoUrl": "https://lh3.googleusercontent.com/a-/AOh14GiHis9rvLk-L-oldYC6R7nQGhSo3YdaVruV8mziwes=s64",
      "userId": "02296214413071212378"
     },
     "user_tz": 300
    },
    "id": "8p0kqsqmfBnU",
    "outputId": "d4515358-71c2-4b8d-e458-b4207f97d6dc"
   },
   "outputs": [
    {
     "name": "stdout",
     "output_type": "stream",
     "text": [
      "False\n",
      "True\n",
      "False\n"
     ]
    }
   ],
   "source": [
    "print(True and False)\n",
    "print(True or True)\n",
    "print(not True)"
   ]
  },
  {
   "cell_type": "markdown",
   "metadata": {
    "colab_type": "text",
    "id": "4y-MO-CsfBnW"
   },
   "source": [
    "In addition to booleans, you can also perform bit-level manipulations on integers. The following operators perform logical operations bitwise between the corresponding bits of the operands.\n",
    "\n",
    "\n",
    "| Operator     | Name            | Description                                 |\n",
    "|--------------|-----------------|---------------------------------------------|\n",
    "| ``a & b``    | Bitwise AND     | Bits defined in both ``a`` and ``b``        |\n",
    "| <code>a &#124; b</code>| Bitwise OR      | Bits defined in ``a`` or ``b`` or both      |\n",
    "| ``a ^ b``    | Bitwise XOR     | Bits defined in ``a`` or ``b`` but not both |\n",
    "| ``a << b``   | Bit shift left  | Shift bits of ``a`` left by ``b`` units     |\n",
    "| ``a >> b``   | Bit shift right | Shift bits of ``a`` right by ``b`` units    |\n",
    "| ``~a``       | Bitwise NOT     | Bitwise negation of ``a``                          |"
   ]
  },
  {
   "cell_type": "markdown",
   "metadata": {
    "colab_type": "text",
    "id": "XsHBeRd3fBnX"
   },
   "source": [
    "First, some different ways to inspect the binary representations of integer values as strings (see also [`bin()`](https://docs.python.org/3/library/functions.html#bin) in the Python docs):"
   ]
  },
  {
   "cell_type": "code",
   "execution_count": 31,
   "metadata": {
    "colab": {
     "base_uri": "https://localhost:8080/",
     "height": 102
    },
    "colab_type": "code",
    "executionInfo": {
     "elapsed": 1128,
     "status": "ok",
     "timestamp": 1589263763614,
     "user": {
      "displayName": "Ramin Melikov",
      "photoUrl": "https://lh3.googleusercontent.com/a-/AOh14GiHis9rvLk-L-oldYC6R7nQGhSo3YdaVruV8mziwes=s64",
      "userId": "02296214413071212378"
     },
     "user_tz": 300
    },
    "id": "kfptipwJfBnX",
    "outputId": "88eb98e9-c6b1-42c0-e614-eb3c46d95e1a"
   },
   "outputs": [
    {
     "name": "stdout",
     "output_type": "stream",
     "text": [
      "0b101\n",
      "0b101\n",
      "101\n",
      "0b101 101\n",
      "0000101\n"
     ]
    }
   ],
   "source": [
    "print(bin(5))\n",
    "print(format(5, '#b'))\n",
    "print(format(5, 'b')) # no prefix\n",
    "print(f'{5:#b}', f'{5:b}')\n",
    "print('{:07b}'.format(5)) # 7 bits with leading zeros"
   ]
  },
  {
   "cell_type": "code",
   "execution_count": 32,
   "metadata": {
    "colab": {
     "base_uri": "https://localhost:8080/",
     "height": 68
    },
    "colab_type": "code",
    "executionInfo": {
     "elapsed": 1120,
     "status": "ok",
     "timestamp": 1589263763614,
     "user": {
      "displayName": "Ramin Melikov",
      "photoUrl": "https://lh3.googleusercontent.com/a-/AOh14GiHis9rvLk-L-oldYC6R7nQGhSo3YdaVruV8mziwes=s64",
      "userId": "02296214413071212378"
     },
     "user_tz": 300
    },
    "id": "5BET3T1bfBnb",
    "outputId": "b360a4b7-55e7-469a-8e92-a0424c9539a5"
   },
   "outputs": [
    {
     "name": "stdout",
     "output_type": "stream",
     "text": [
      "000101\n",
      "001101\n",
      "000101\n"
     ]
    }
   ],
   "source": [
    "print('{:06b}'.format(5)) # or use '{:#06b}' for a 6-bit string prefixed by '0b'\n",
    "print('{:06b}'.format(13))\n",
    "print('{:06b}'.format(5 & 13))"
   ]
  },
  {
   "cell_type": "markdown",
   "metadata": {
    "colab_type": "text",
    "id": "o15WA5W2fBne"
   },
   "source": [
    "## Syntactic sugar: update operations"
   ]
  },
  {
   "cell_type": "code",
   "execution_count": 33,
   "metadata": {
    "colab": {
     "base_uri": "https://localhost:8080/",
     "height": 34
    },
    "colab_type": "code",
    "executionInfo": {
     "elapsed": 1109,
     "status": "ok",
     "timestamp": 1589263763614,
     "user": {
      "displayName": "Ramin Melikov",
      "photoUrl": "https://lh3.googleusercontent.com/a-/AOh14GiHis9rvLk-L-oldYC6R7nQGhSo3YdaVruV8mziwes=s64",
      "userId": "02296214413071212378"
     },
     "user_tz": 300
    },
    "id": "bA3EWL9LfBne",
    "outputId": "47e60188-7d36-4eb5-bc34-9860ac1d5edb",
    "pycharm": {
     "name": "#%%\n"
    }
   },
   "outputs": [
    {
     "name": "stdout",
     "output_type": "stream",
     "text": [
      "5 8\n"
     ]
    }
   ],
   "source": [
    "x = 5\n",
    "y = x\n",
    "y += 3  # Same as y = y + 3\n",
    "print(x, y)\n"
   ]
  }
 ],
 "metadata": {
  "colab": {
   "collapsed_sections": [],
   "name": "001-values.ipynb",
   "provenance": []
  },
  "kernelspec": {
   "display_name": "Python 3",
   "language": "python",
   "name": "python3"
  },
  "language_info": {
   "codemirror_mode": {
    "name": "ipython",
    "version": 3
   },
   "file_extension": ".py",
   "mimetype": "text/x-python",
   "name": "python",
   "nbconvert_exporter": "python",
   "pygments_lexer": "ipython3",
   "version": "3.7.4"
  }
 },
 "nbformat": 4,
 "nbformat_minor": 1
}
