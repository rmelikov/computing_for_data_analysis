{
    "cells": [
        {
            "cell_type": "markdown",
            "metadata": {
                "nbgrader": {
                    "grade": false,
                    "locked": false,
                    "solution": false
                }
            },
            "source": [
                "# Problem 7\n",
                "\n",
                "**Letter frequencies.** This problem has three (3) exercises worth a total of ten (10) points."
            ]
        },
        {
            "cell_type": "markdown",
            "metadata": {},
            "source": [
                "Letter frequency in text has been studied in cryptoanalysis, in particular frequency analysis. Linguists use letter frequency analysis as a rudimentary technique for language identification, where it's particularly effective as an indicator of whether an unknown writing system is alphabetic, syllablic, or ideographic.\n",
                "\n",
                "Primarily, three different ways exist for letter frequency analysis. Each way generally results in very different charts for common letters. Based on the provided text, the first method is to count letter frequency in root words of a dictionary. The second way is to include all word variants when counting, such as gone, going and goes and not just the root word go. Such a system results in letters like \"s\" appearing much more frequently. The last variant is to count letters based on their frequency in the actual text that is being studied. \n",
                "\n",
                "For more details, refer to the link: \n",
                "https:\/\/en.wikipedia.org\/wiki\/Letter_frequency\n",
                "\n",
                "In this problem, we will focus on the 3rd methodology."
            ]
        },
        {
            "cell_type": "markdown",
            "metadata": {},
            "source": [
                "**Exercise 0** (2 points). First, given a string input, define a function  `preprocess` that returns a string with non-alphabetic characters removed and all the alphabets converted into a lower case. \n",
                "\n",
                "For example, 'We are coding letter Frequency! Yay!\" would be transformed into \"wearecodingletterfrequencyyay\""
            ]
        },
        {
            "cell_type": "code",
            "execution_count": null,
            "metadata": {
                "collapsed": true
            },
            "outputs": [],
            "source": [
                "def preprocess(S):\n",
                "    ###\n",
                "    ### YOUR CODE HERE\n",
                "    ###\n"
            ]
        },
        {
            "cell_type": "code",
            "execution_count": null,
            "metadata": {
                "nbgrader": {
                    "grade": true,
                    "grade_id": "valid_string",
                    "locked": true,
                    "points": "2",
                    "solution": false
                },
                "editable": false,
                "deletable": false
            },
            "outputs": [],
            "source": [
                "# Test cell: valid_string\n",
                "import random, string\n",
                "\n",
                "N_str = 100 #Length of random string\n",
                "\n",
                "def generate_str(n):\n",
                "    random_str = ''.join(random.choice(string.ascii_lowercase + string.ascii_uppercase + string.digits + string.punctuation) for _ in range(n))\n",
                "    return random_str\n",
                "\n",
                "def check_preprocess_str(n):\n",
                "    random_str = generate_str(n)\n",
                "    print(\"Input String: \",random_str)\n",
                "    assert preprocess(random_str).islower() == True\n",
                "    assert preprocess(random_str).isalpha() == True\n",
                "    print(\"|----Your function seems to work correct for the string----|\"+\"\\n\")\n",
                "\n",
                "check_preprocess_str(N_str)\n",
                "check_preprocess_str(N_str)\n",
                "check_preprocess_str(N_str)\n",
                "\n",
                "print(\"\\n(Passed)!\")"
            ]
        },
        {
            "cell_type": "markdown",
            "metadata": {},
            "source": [
                "**Exercise 1** (4 points). With the necessary pre-processing complete, the next step is to write a function `count_letters(S)` to count the number of occurrences of each letter in the alphabet.  \n",
                "\n",
                "You can assume that only letters will be present in the input string. It should output a dictionary and if any alphabet (a-z) is missing in the input string, it should still be a part of the output dictionary and its corresponding value should be equal to zero.\n"
            ]
        },
        {
            "cell_type": "code",
            "execution_count": null,
            "metadata": {
                "collapsed": true
            },
            "outputs": [],
            "source": [
                "def count_letters(S):\n",
                "    ###\n",
                "    ### YOUR CODE HERE\n",
                "    ###\n"
            ]
        },
        {
            "cell_type": "code",
            "execution_count": null,
            "metadata": {
                "nbgrader": {
                    "grade": true,
                    "grade_id": "count_letters",
                    "locked": true,
                    "points": "4",
                    "solution": false
                },
                "scrolled": true,
                "editable": false,
                "deletable": false
            },
            "outputs": [],
            "source": [
                "# Test cell: count_letters\n",
                "import collections\n",
                "\n",
                "N_processed_str = 100\n",
                "\n",
                "def generate_processed_str(n):\n",
                "    random_processed_str = ''.join(random.choice(string.ascii_lowercase) for _ in range(n))\n",
                "    return random_processed_str\n",
                "\n",
                "def check_count_letters(S):\n",
                "    print(\"Input String: \",S)\n",
                "    random_char = chr(random.randint(97,122))\n",
                "    print(\"Character frequency evaluated for: \", random_char)\n",
                "    if(random_char in S):\n",
                "        assert count_letters(S)[random_char] == collections.Counter(S)[random_char]\n",
                "        print(\"|----Your function seems to return correct freq for the char----|\"+\"\\n\")\n",
                "    else:\n",
                "        assert count_letters(S)[random_char] == 0\n",
                "        print(\"|----Your function seems to return correct freq for the char----|\"+\"\\n\")\n",
                "        \n",
                "check_count_letters(generate_processed_str(N_processed_str))\n",
                "check_count_letters(generate_processed_str(N_processed_str))\n",
                "check_count_letters(generate_processed_str(N_processed_str))\n",
                "print(\"\\n(Passed)!\")"
            ]
        },
        {
            "cell_type": "markdown",
            "metadata": {},
            "source": [
                "**Exercise 2** (4 points). The next step is to sort the distribution of a dictionary containing all the letters in the alphabet as keys and number of occurrences in text as associated value. \n",
                "\n",
                "Sorting should be first done in decreasing order by occurrence count and for two elements with same count, the order should be alphabetic. The function  `find_top_letter(d)` should return the 1st character in the order."
            ]
        },
        {
            "cell_type": "code",
            "execution_count": null,
            "metadata": {
                "collapsed": true
            },
            "outputs": [],
            "source": [
                "def find_top_letter(d):\n",
                "    ###\n",
                "    ### YOUR CODE HERE\n",
                "    ###\n"
            ]
        },
        {
            "cell_type": "code",
            "execution_count": null,
            "metadata": {
                "nbgrader": {
                    "grade": true,
                    "grade_id": "highest_freq_letter",
                    "locked": true,
                    "points": "4",
                    "solution": false
                },
                "scrolled": true,
                "editable": false,
                "deletable": false
            },
            "outputs": [],
            "source": [
                "# Test cell: highest_freq_letter\n",
                "\n",
                "def create_random_dict():\n",
                "    max_char_value = random.randint(5, 20)\n",
                "    random_dict = {c:random.randint(0,max_char_value-1) for c in string.ascii_lowercase}\n",
                "    random_letter1, random_letter2 = random.sample(string.ascii_lowercase, 2)\n",
                "    random_dict[random_letter1], random_dict[random_letter2] = max_char_value, max_char_value\n",
                "    if(random_letter1 < random_letter2):\n",
                "        return random_letter1, random_dict\n",
                "    else:\n",
                "        return random_letter2, random_dict\n",
                "\n",
                "def check_top_letter():\n",
                "    top_letter, random_dict = create_random_dict()\n",
                "    user_letter = find_top_letter(random_dict)\n",
                "    assert user_letter == top_letter\n",
                "    print(\"Input Dictionary: \", random_dict)\n",
                "    print(\"Your function correctly returned most frequent letter: {} \\n\".format(user_letter))\n",
                "    \n",
                "check_top_letter()\n",
                "check_top_letter()\n",
                "check_top_letter()\n",
                "print(\"\\n(Passed)!\")"
            ]
        },
        {
            "cell_type": "markdown",
            "metadata": {},
            "source": [
                "**Fin!** You've reached the end of this problem. Don't forget to restart the kernel and run the entire notebook from top-to-bottom to make sure you did everything correctly. If that is working, try submitting this problem. (Recall that you *must* submit and pass the autograder to get credit for your work!)"
            ]
        }
    ],
    "metadata": {
        "kernelspec": {
            "display_name": "Python 3 [3.6]",
            "language": "python",
            "name": "python3"
        },
        "language_info": {
            "codemirror_mode": {
                "name": "ipython",
                "version": 3
            },
            "file_extension": ".py",
            "mimetype": "text\/x-python",
            "name": "python",
            "nbconvert_exporter": "python",
            "pygments_lexer": "ipython3",
            "version": "3.6.4"
        }
    },
    "nbformat": 4,
    "nbformat_minor": 2
}