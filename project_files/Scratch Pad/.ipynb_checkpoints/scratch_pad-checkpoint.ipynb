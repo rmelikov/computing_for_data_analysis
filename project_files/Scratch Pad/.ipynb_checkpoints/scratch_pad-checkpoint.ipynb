{
 "cells": [
  {
   "cell_type": "code",
   "execution_count": 639,
   "metadata": {},
   "outputs": [],
   "source": [
    "import http.client\n",
    "import json\n",
    "import csv"
   ]
  },
  {
   "cell_type": "code",
   "execution_count": 640,
   "metadata": {},
   "outputs": [],
   "source": [
    "class Graph:\n",
    "\n",
    "    # Do not modify\n",
    "    def __init__(self, with_nodes_file=None, with_edges_file=None):\n",
    "        \"\"\"\n",
    "        option 1:  init as an empty graph and add nodes\n",
    "        option 2: init by specifying a path to nodes & edges files\n",
    "        \"\"\"\n",
    "        self.nodes = []\n",
    "        self.edges = []\n",
    "        if with_nodes_file and with_edges_file:\n",
    "            nodes_CSV = csv.reader(open(with_nodes_file))\n",
    "            nodes_CSV = list(nodes_CSV)[1:]\n",
    "            self.nodes = [(n[0],n[1]) for n in nodes_CSV]\n",
    "\n",
    "            edges_CSV = csv.reader(open(with_edges_file))\n",
    "            edges_CSV = list(edges_CSV)[1:]\n",
    "            self.edges = [(e[0],e[1]) for e in edges_CSV]\n",
    "\n",
    "\n",
    "    def add_node(self, id: str, name: str)->None:\n",
    "        \"\"\"\n",
    "        add a tuple (id, name) representing a node to self.nodes if it does not already exist\n",
    "        The graph should not contain any duplicate nodes\n",
    "        \"\"\"\n",
    "        name = name.encode(\"ascii\", \"ignore\").decode(\"ascii\")\n",
    "        t = (id, name)\n",
    "        if t not in set(self.nodes):\n",
    "            self.nodes.append(t)\n",
    "\n",
    "\n",
    "    def add_edge(self, source: str, target: str)->None:\n",
    "        \"\"\"\n",
    "        Add an edge between two nodes if it does not already exist.\n",
    "        An edge is represented by a tuple containing two strings: e.g.: ('source', 'target').\n",
    "        Where 'source' is the id of the source node and 'target' is the id of the target node\n",
    "        e.g., for two nodes with ids 'a' and 'b' respectively, add the tuple ('a', 'b') to self.edges\n",
    "        \"\"\"\n",
    "        t = (source, target)\n",
    "        edges = set(self.edges)\n",
    "        nodes = [t, tuple(reversed(t))]\n",
    "        check = any(item in edges for item in nodes)\n",
    "        if not check:\n",
    "            self.edges.append(t)\n",
    "\n",
    "\n",
    "    def total_nodes(self)->int:\n",
    "        \"\"\"\n",
    "        Returns an integer value for the total number of nodes in the graph\n",
    "        \"\"\"\n",
    "        return len(self.nodes)\n",
    "\n",
    "\n",
    "    def total_edges(self)->int:\n",
    "        \"\"\"\n",
    "        Returns an integer value for the total number of edges in the graph\n",
    "        \"\"\"\n",
    "        return len(self.edges)\n",
    "\n",
    "\n",
    "    def max_degree_nodes(self)->dict:\n",
    "        \"\"\"\n",
    "        Return the node(s) with the highest degree\n",
    "        Return multiple nodes in the event of a tie\n",
    "        Format is a dict where the key is the node_id and the value is an integer for the node degree\n",
    "        e.g. {'a': 8}\n",
    "        or {'a': 22, 'b': 22}\n",
    "        \"\"\"\n",
    "        d = {}\n",
    "        for (a, b) in self.edges:\n",
    "            if a not in d.keys():\n",
    "                d[a] = 1\n",
    "            else:\n",
    "                d[a] += 1\n",
    "            if b not in d.keys():\n",
    "                d[b] = 1\n",
    "            else:\n",
    "                d[b] += 1\n",
    "        output = {k : v for k, v in d.items() if v == max(d.values())}\n",
    "        return output\n",
    "\n",
    "\n",
    "    def print_nodes(self):\n",
    "        \"\"\"\n",
    "        No further implementation required\n",
    "        May be used for de-bugging if necessary\n",
    "        \"\"\"\n",
    "        print(self.nodes)\n",
    "\n",
    "\n",
    "    def print_edges(self):\n",
    "        \"\"\"\n",
    "        No further implementation required\n",
    "        May be used for de-bugging if necessary\n",
    "        \"\"\"\n",
    "        print(self.edges)\n",
    "\n",
    "\n",
    "    # Do not modify\n",
    "    def write_edges_file(self, path=\"edges.csv\")->None:\n",
    "        \"\"\"\n",
    "        write all edges out as .csv\n",
    "        :param path: string\n",
    "        :return: None\n",
    "        \"\"\"\n",
    "        edges_path = path\n",
    "        edges_file = open(edges_path, 'w')\n",
    "\n",
    "        edges_file.write(\"source\" + \",\" + \"target\" + \"\\n\")\n",
    "\n",
    "        for e in self.edges:\n",
    "            edges_file.write(e[0] + \",\" + e[1] + \"\\n\")\n",
    "\n",
    "        edges_file.close()\n",
    "        print(\"finished writing edges to csv\")\n",
    "\n",
    "\n",
    "    # Do not modify\n",
    "    def write_nodes_file(self, path=\"nodes.csv\")->None:\n",
    "        \"\"\"\n",
    "        write all nodes out as .csv\n",
    "        :param path: string\n",
    "        :return: None\n",
    "        \"\"\"\n",
    "        nodes_path = path\n",
    "        nodes_file = open(nodes_path, 'w')\n",
    "\n",
    "        nodes_file.write(\"id,name\" + \"\\n\")\n",
    "        for n in self.nodes:\n",
    "            nodes_file.write(n[0] + \",\" + n[1] + \"\\n\")\n",
    "        nodes_file.close()\n",
    "        print(\"finished writing nodes to csv\")\n",
    "\n",
    "\n",
    "\n",
    "class  TMDBAPIUtils:\n",
    "\n",
    "    # Do not modify\n",
    "    def __init__(self, api_key:str):\n",
    "        self.api_key=api_key\n",
    "\n",
    "\n",
    "    def get_movie_cast(self, movie_id:str, limit:int=None, exclude_ids:list=None) -> list:\n",
    "        \"\"\"\n",
    "        Get the movie cast for a given movie id, with optional parameters to exclude an cast member\n",
    "        from being returned and/or to limit the number of returned cast members\n",
    "        documentation url: https://developers.themoviedb.org/3/movies/get-movie-credits\n",
    "\n",
    "        :param integer movie_id: a movie_id\n",
    "        :param integer limit: number of returned cast members by their 'order' attribute\n",
    "            e.g., limit=5 will attempt to return the 5 cast members having 'order' attribute values between 0-4\n",
    "            If there are fewer cast members than the specified limit or the limit not specified, return all cast members\n",
    "        :param list exclude_ids: a list of ints containing ids (not cast_ids) of cast members  that should be excluded from the returned result\n",
    "            e.g., if exclude_ids are [353, 455] then exclude these from any result.\n",
    "        :rtype: list\n",
    "            return a list of dicts, one dict per cast member with the following structure:\n",
    "                [{'id': '97909' # the id of the cast member\n",
    "                'character': 'John Doe' # the name of the character played\n",
    "                'credit_id': '52fe4249c3a36847f8012927' # id of the credit, ...}, ...]\n",
    "                Note that this is an example of the structure of the list and some of the fields returned by the API. The result of the API call will include many more fields for each cast member.\n",
    "        Important: the exclude_ids processing should occur prior to limiting output.\n",
    "        \"\"\"\n",
    "        connection = http.client.HTTPSConnection(\"api.themoviedb.org\")\n",
    "        connection.request(\"GET\", \"/3/movie/{}/credits?api_key={}\".format(movie_id, self.api_key))\n",
    "        response = connection.getresponse()\n",
    "        body = response.read().decode()\n",
    "        movie_cast = json.loads(body)\n",
    "        if movie_cast is not None:\n",
    "            output = [d for d in movie_cast['cast']]\n",
    "            if exclude_ids is not None:\n",
    "                output = [d for d in output if d['id'] not in exclude_ids]\n",
    "            if limit is not None:\n",
    "                output = [d for d in output if d['order'] < limit]\n",
    "        else:\n",
    "            output = []\n",
    "        return output\n",
    "\n",
    "\n",
    "    def get_movie_credits_for_person(self, person_id:str, vote_avg_threshold:float=None)->list:\n",
    "        \"\"\"\n",
    "        Using the TMDb API, get the movie credits for a person serving in a cast role\n",
    "        documentation url: https://developers.themoviedb.org/3/people/get-person-movie-credits\n",
    "\n",
    "        :param string person_id: the id of a person\n",
    "        :param vote_avg_threshold: optional parameter to return the movie credit if it is >=\n",
    "            the specified threshold.\n",
    "            e.g., if the vote_avg_threshold is 5.0, then only return credits with a vote_avg >= 5.0\n",
    "        :rtype: list\n",
    "            return a list of dicts, one dict per movie credit with the following structure:\n",
    "                [{'id': '97909' # the id of the movie credit\n",
    "                'title': 'Long, Stock and Two Smoking Barrels' # the title (not original title) of the credit\n",
    "                'vote_avg': 5.0 # the float value of the vote average value for the credit}, ... ]\n",
    "        \"\"\"\n",
    "        connection = http.client.HTTPSConnection(\"api.themoviedb.org\")\n",
    "        connection.request(\"GET\", \"/3/person/{}/movie_credits?api_key={}&language=en-US\".format(person_id, self.api_key))\n",
    "        response = connection.getresponse()\n",
    "        body = response.read().decode()\n",
    "        person_credits = json.loads(body)\n",
    "        if person_credits is not None:\n",
    "            output = [\n",
    "                {\n",
    "                    k : v\n",
    "                    for k, v in d.items()\n",
    "                    if k in {'credit_id', 'title', 'vote_average', 'id'}\n",
    "                }\n",
    "                for d in person_credits['cast']\n",
    "            ]\n",
    "            if vote_avg_threshold is not None:\n",
    "                output = [d for d in output if d['vote_average'] >= vote_avg_threshold]\n",
    "        else:\n",
    "            output = []\n",
    "        return output"
   ]
  },
  {
   "cell_type": "code",
   "execution_count": 632,
   "metadata": {},
   "outputs": [],
   "source": [
    "api_key = 'e6c6d80656546a1dd359ab0b71ca6432'\n",
    "top_node = {'id' : '5064', 'name' : 'Meryl Streep'}"
   ]
  },
  {
   "cell_type": "code",
   "execution_count": 638,
   "metadata": {
    "scrolled": false
   },
   "outputs": [
    {
     "name": "stdout",
     "output_type": "stream",
     "text": [
      "start_iteration_3\n",
      "end_iteration_3\n",
      "start_iteration_2\n",
      "end_iteration_2\n",
      "start_iteration_1\n",
      "end_iteration_1\n",
      "start_iteration_0\n",
      "end_iteration_0\n",
      "finished writing edges to csv\n",
      "finished writing nodes to csv\n"
     ]
    }
   ],
   "source": [
    "def combinations(lst, n):\n",
    "    if n == 0:\n",
    "        return [[]]\n",
    "    l = []\n",
    "    for i in range(0, len(lst)):\n",
    "        m = lst[i]\n",
    "        remainding_lst = lst[i + 1:]\n",
    "        for p in combinations(remainding_lst, n - 1):\n",
    "            l.append([m] + p)\n",
    "    return l\n",
    "\n",
    "def coactor_network(api_key:str, top_node:dict, iteration:int = 3) -> None:\n",
    "    graph = Graph()\n",
    "    graph.add_node(top_node['id'], top_node['name'])\n",
    "    tmdb_api_utils = TMDBAPIUtils(api_key = api_key)\n",
    "    iterable = graph.nodes\n",
    "    for (person_id, name) in iterable:\n",
    "        person_credits = tmdb_api_utils.get_movie_credits_for_person(person_id, vote_avg_threshold = 8.0)\n",
    "        movie_cast = {}\n",
    "        for d in person_credits:\n",
    "            movie_cast[d['id']] = tmdb_api_utils.get_movie_cast(d['id'], limit = 3, exclude_ids = None)\n",
    "        for movie_id, cast in movie_cast.items():\n",
    "            for actor in cast:\n",
    "                person_id1 = str(actor['id'])\n",
    "                name1 = actor['name']\n",
    "                if (person_id1, name1) not in set(graph.nodes):\n",
    "                    graph.add_node(id=person_id1, name=name1)\n",
    "                    iterable.\n",
    "                combo_list = [str(d2['id']) for d2 in cast]\n",
    "                if person_id not in set(combo_list):\n",
    "                    combo_list.append(person_id)\n",
    "                for t in combinations(combo_list, 2):\n",
    "                    if t[0] != t[1] and (t[0], t[1]) not in set(graph.edges) and (t[1], t[0]) not in set(graph.edges):\n",
    "                        graph.add_edge(source=t[0], target=t[1])\n",
    "        if iteration == 0:\n",
    "            break\n",
    "        iteration -= 1\n",
    "        \n",
    "    graph.write_edges_file()\n",
    "    graph.write_nodes_file()\n",
    "\n",
    "coactor_network(api_key, top_node)"
   ]
  },
  {
   "cell_type": "code",
   "execution_count": 666,
   "metadata": {},
   "outputs": [
    {
     "data": {
      "text/plain": [
       "[(1, 2)]"
      ]
     },
     "execution_count": 666,
     "metadata": {},
     "output_type": "execute_result"
    }
   ],
   "source": [
    "test = []\n",
    "t = 1 \n",
    "s = 2\n",
    "test.append((t, s))\n",
    "test.pop\n",
    "test"
   ]
  },
  {
   "cell_type": "code",
   "execution_count": null,
   "metadata": {},
   "outputs": [],
   "source": []
  },
  {
   "cell_type": "code",
   "execution_count": 641,
   "metadata": {},
   "outputs": [],
   "source": [
    "graph = Graph()\n",
    "graph.add_node(id='5064', name='Meryl Streep')\n",
    "tmdb_api_utils = TMDBAPIUtils(api_key = api_key)"
   ]
  },
  {
   "cell_type": "code",
   "execution_count": 656,
   "metadata": {},
   "outputs": [
    {
     "name": "stdout",
     "output_type": "stream",
     "text": [
      "<class 'list'>\n"
     ]
    }
   ],
   "source": [
    "print(type(graph.nodes))"
   ]
  },
  {
   "cell_type": "code",
   "execution_count": 643,
   "metadata": {},
   "outputs": [],
   "source": [
    "top_node_person_id = graph.nodes[0][0]"
   ]
  },
  {
   "cell_type": "code",
   "execution_count": 644,
   "metadata": {},
   "outputs": [],
   "source": [
    "person_credits = tmdb_api_utils.get_movie_credits_for_person(top_node_person_id, vote_avg_threshold = 8.0)"
   ]
  },
  {
   "cell_type": "code",
   "execution_count": 645,
   "metadata": {},
   "outputs": [],
   "source": [
    "movie_cast = {}\n",
    "for d in person_credits:\n",
    "    movie_cast[d['id']] = tmdb_api_utils.get_movie_cast(d['id'], limit = 3, exclude_ids = None)"
   ]
  },
  {
   "cell_type": "code",
   "execution_count": 646,
   "metadata": {},
   "outputs": [
    {
     "data": {
      "text/plain": [
       "{('5064', 'Meryl Streep')}"
      ]
     },
     "execution_count": 646,
     "metadata": {},
     "output_type": "execute_result"
    }
   ],
   "source": [
    "set(graph.nodes)"
   ]
  },
  {
   "cell_type": "code",
   "execution_count": 647,
   "metadata": {},
   "outputs": [
    {
     "data": {
      "text/plain": [
       "set()"
      ]
     },
     "execution_count": 647,
     "metadata": {},
     "output_type": "execute_result"
    }
   ],
   "source": [
    "set(graph.edges)"
   ]
  },
  {
   "cell_type": "code",
   "execution_count": 648,
   "metadata": {},
   "outputs": [],
   "source": [
    "def combinations(lst, n):  \n",
    "    if n == 0: \n",
    "        return [[]]  \n",
    "    l = [] \n",
    "    for i in range(0, len(lst)):     \n",
    "        m = lst[i] \n",
    "        remainding_lst = lst[i + 1:] \n",
    "        for p in combinations(remainding_lst, n-1): \n",
    "            l.append([m] + p)   \n",
    "    return l "
   ]
  },
  {
   "cell_type": "code",
   "execution_count": 649,
   "metadata": {},
   "outputs": [],
   "source": [
    "for k, v in movie_cast.items():\n",
    "    for d in v:\n",
    "        person_id = str(d['id'])\n",
    "        name = d['name']\n",
    "        if (person_id, name) not in set(graph.nodes):\n",
    "            graph.add_node(id = person_id, name = name)\n",
    "        combo_list = [str(d2['id']) for d2 in v]\n",
    "        if top_node_person_id not in set(combo_list):\n",
    "            combo_list.append(top_node_person_id)\n",
    "        for t in combinations(combo_list, 2):\n",
    "                if t[0] != t[1] and (t[0], t[1]) not in set(graph.edges):\n",
    "                    graph.add_edge(source = t[0], target = t[1])"
   ]
  },
  {
   "cell_type": "code",
   "execution_count": 650,
   "metadata": {},
   "outputs": [
    {
     "name": "stdout",
     "output_type": "stream",
     "text": [
      "[('5064', '1776'), ('5064', '488'), ('1776', '488'), ('5064', '190'), ('5064', '1277188'), ('380', '4690'), ('380', '3096'), ('380', '5064'), ('4690', '3096'), ('4690', '5064'), ('3096', '5064'), ('10400', '5064'), ('36592', '1373737'), ('36592', '10990'), ('36592', '5064'), ('1373737', '10990'), ('1373737', '5064'), ('10990', '5064'), ('10215', '230194'), ('10215', '5064'), ('230194', '5064'), ('325', '5064'), ('2231', '1'), ('2231', '5064'), ('1', '5064'), ('131', '107515'), ('131', '60034'), ('131', '5064'), ('107515', '60034'), ('107515', '5064'), ('60034', '5064'), ('33829', '1164'), ('33829', '5064'), ('1164', '5064')]\n"
     ]
    }
   ],
   "source": [
    "print(graph.edges)"
   ]
  },
  {
   "cell_type": "code",
   "execution_count": 651,
   "metadata": {
    "scrolled": true
   },
   "outputs": [
    {
     "name": "stdout",
     "output_type": "stream",
     "text": [
      "[('5064', 'Meryl Streep'), ('1776', 'Francis Ford Coppola'), ('488', 'Steven Spielberg'), ('190', 'Clint Eastwood'), ('1277188', 'Jacob Tremblay'), ('380', 'Robert De Niro'), ('4690', 'Christopher Walken'), ('3096', 'John Cazale'), ('10400', 'Barbra Streisand'), ('36592', 'Saoirse Ronan'), ('1373737', 'Florence Pugh'), ('10990', 'Emma Watson'), ('10215', 'Paul McCartney'), ('230194', 'Abraham Laboriel Jr.'), ('325', 'Eminem'), ('2231', 'Samuel L. Jackson'), ('1', 'George Lucas'), ('131', 'Jake Gyllenhaal'), ('107515', 'Ral Esparza'), ('60034', 'Laura Benanti'), ('33829', 'Terrence McNally'), ('1164', 'F. Murray Abraham')]\n"
     ]
    }
   ],
   "source": [
    "print(graph.nodes)"
   ]
  },
  {
   "cell_type": "code",
   "execution_count": 652,
   "metadata": {},
   "outputs": [],
   "source": [
    "assert len(set(graph.edges)) == len(graph.edges)\n",
    "assert len(set(graph.nodes)) == len(graph.nodes)"
   ]
  },
  {
   "cell_type": "code",
   "execution_count": 653,
   "metadata": {},
   "outputs": [],
   "source": [
    "for (person_id, name) in graph.nodes[1:]:\n",
    "    person_credits = tmdb_api_utils.get_movie_credits_for_person(person_id, vote_avg_threshold = 8.0)\n",
    "    movie_cast = {}\n",
    "    for d in person_credits:\n",
    "        movie_cast[d['id']] = tmdb_api_utils.get_movie_cast(d['id'], limit = 3, exclude_ids = None)\n",
    "    for k, v in movie_cast.items():\n",
    "        for d1 in v:\n",
    "            person_id1 = str(d1['id'])\n",
    "            name1 = d1['name']\n",
    "            if (person_id1, name1) not in set(graph.nodes):\n",
    "                graph.add_node(id = person_id1, name = name1)\n",
    "            combo_list = [str(d2['id']) for d2 in v]\n",
    "            if person_id not in set(combo_list):\n",
    "                combo_list.append(person_id)\n",
    "            for t in combinations(combo_list, 2):\n",
    "                if t[0] != t[1] and (t[0], t[1]) not in set(graph.edges):\n",
    "                    graph.add_edge(source = t[0], target = t[1])"
   ]
  },
  {
   "cell_type": "code",
   "execution_count": 654,
   "metadata": {},
   "outputs": [],
   "source": [
    "for (person_id, name) in graph.nodes[1:]:\n",
    "    person_credits = tmdb_api_utils.get_movie_credits_for_person(person_id, vote_avg_threshold = 8.0)\n",
    "    movie_cast = {}\n",
    "    for d in person_credits:\n",
    "        movie_cast[d['id']] = tmdb_api_utils.get_movie_cast(d['id'], limit = 3, exclude_ids = None)\n",
    "    for k, v in movie_cast.items():\n",
    "        for d1 in v:\n",
    "            person_id1 = str(d1['id'])\n",
    "            name1 = d1['name']\n",
    "            if (person_id1, name1) not in set(graph.nodes):\n",
    "                graph.add_node(id = person_id1, name = name1)\n",
    "            combo_list = [str(d2['id']) for d2 in v]\n",
    "            if person_id not in set(combo_list):\n",
    "                combo_list.append(person_id)\n",
    "            for t in combinations(combo_list, 2):\n",
    "                if t[0] != t[1] and (t[0], t[1]) not in set(graph.edges):\n",
    "                    graph.add_edge(source = t[0], target = t[1])"
   ]
  },
  {
   "cell_type": "code",
   "execution_count": 574,
   "metadata": {},
   "outputs": [],
   "source": [
    "for (person_id, name) in graph.nodes[1:]:\n",
    "    person_credits = tmdb_api_utils.get_movie_credits_for_person(person_id, vote_avg_threshold = 8.0)\n",
    "    movie_cast = {}\n",
    "    for d in person_credits:\n",
    "        movie_cast[d['id']] = tmdb_api_utils.get_movie_cast(d['id'], limit = 3, exclude_ids = None)\n",
    "    for k, v in movie_cast.items():\n",
    "        for d1 in v:\n",
    "            person_id1 = str(d1['id'])\n",
    "            name1 = d1['name']\n",
    "            if (person_id1, name1) not in set(graph.nodes):\n",
    "                graph.add_node(id = person_id1, name = name1)\n",
    "            combo_list = [str(d2['id']) for d2 in v]\n",
    "            if person_id not in set(combo_list):\n",
    "                combo_list.append(person_id)\n",
    "            for t in combinations(combo_list, 2):\n",
    "                if t[0] != t[1] and (t[0], t[1]) not in set(graph.edges):\n",
    "                    graph.add_edge(source = t[0], target = t[1])"
   ]
  },
  {
   "cell_type": "code",
   "execution_count": 575,
   "metadata": {},
   "outputs": [
    {
     "name": "stdout",
     "output_type": "stream",
     "text": [
      "finished writing edges to csv\n",
      "finished writing nodes to csv\n"
     ]
    }
   ],
   "source": [
    "graph.write_edges_file()\n",
    "graph.write_nodes_file()"
   ]
  },
  {
   "cell_type": "code",
   "execution_count": 107,
   "metadata": {},
   "outputs": [],
   "source": [
    "tst = None"
   ]
  },
  {
   "cell_type": "code",
   "execution_count": 108,
   "metadata": {},
   "outputs": [
    {
     "name": "stdout",
     "output_type": "stream",
     "text": [
      "1\n"
     ]
    }
   ],
   "source": [
    "if not tst:\n",
    "    print(1)"
   ]
  },
  {
   "cell_type": "code",
   "execution_count": 116,
   "metadata": {},
   "outputs": [],
   "source": [
    "movie_id = 455\n",
    "api_key = 'e6c6d80656546a1dd359ab0b71ca6432'"
   ]
  },
  {
   "cell_type": "code",
   "execution_count": 117,
   "metadata": {},
   "outputs": [],
   "source": [
    "import http.client\n",
    "import json\n",
    "connection = http.client.HTTPSConnection(\"api.themoviedb.org\")\n",
    "connection.request(\"GET\", \"/3/movie/{}/credits?api_key={}\".format(movie_id, api_key))\n",
    "response = connection.getresponse()\n",
    "\n"
   ]
  },
  {
   "cell_type": "code",
   "execution_count": 118,
   "metadata": {},
   "outputs": [],
   "source": [
    "headers = response.getheaders()\n",
    "body = response.read().decode()"
   ]
  },
  {
   "cell_type": "code",
   "execution_count": 151,
   "metadata": {},
   "outputs": [],
   "source": [
    "exclude_ids = [62230, 231610]\n",
    "limit = 5\n",
    "movie_cast = json.loads(body)"
   ]
  },
  {
   "cell_type": "code",
   "execution_count": 149,
   "metadata": {},
   "outputs": [],
   "source": [
    "movie_cast = None"
   ]
  },
  {
   "cell_type": "code",
   "execution_count": 152,
   "metadata": {},
   "outputs": [
    {
     "data": {
      "text/plain": [
       "[{'cast_id': 2,\n",
       "  'character': \"Juliette 'Jules' Paxton\",\n",
       "  'credit_id': '52fe4245c3a36847f80115ad',\n",
       "  'gender': 1,\n",
       "  'id': 116,\n",
       "  'name': 'Keira Knightley',\n",
       "  'order': 1,\n",
       "  'profile_path': '/bRC1B2VwV0wK3ElciFAK6QZf2wD.jpg'},\n",
       " {'cast_id': 3,\n",
       "  'character': 'Joe',\n",
       "  'credit_id': '52fe4245c3a36847f80115b1',\n",
       "  'gender': 2,\n",
       "  'id': 1244,\n",
       "  'name': 'Jonathan Rhys Meyers',\n",
       "  'order': 2,\n",
       "  'profile_path': '/iqt4t52DEmjBMpdhfmZqcRbHiCl.jpg'},\n",
       " {'cast_id': 4,\n",
       "  'character': 'Mr. Bhamra',\n",
       "  'credit_id': '52fe4245c3a36847f80115b5',\n",
       "  'gender': 2,\n",
       "  'id': 6217,\n",
       "  'name': 'Anupam Kher',\n",
       "  'order': 3,\n",
       "  'profile_path': '/62IEjVcbXTzgM29lP2vDSPfeHae.jpg'},\n",
       " {'cast_id': 5,\n",
       "  'character': 'Mrs. Bhamra',\n",
       "  'credit_id': '52fe4245c3a36847f80115b9',\n",
       "  'gender': 1,\n",
       "  'id': 6218,\n",
       "  'name': 'Shaheen Khan',\n",
       "  'order': 4,\n",
       "  'profile_path': None}]"
      ]
     },
     "execution_count": 152,
     "metadata": {},
     "output_type": "execute_result"
    }
   ],
   "source": [
    "if movie_cast is not None:\n",
    "    output = [d for d in movie_cast['cast']]\n",
    "    if exclude_ids is not None:\n",
    "        output = [d for d in output if d['id'] not in exclude_ids]\n",
    "    if limit is not None:\n",
    "        output = [d for d in output if d['order'] < limit]\n",
    "    #output = output[0:limit]\n",
    "else:\n",
    "    output = []\n",
    "output\n",
    "\n",
    "#else:\n",
    "#    print([d for d in cast['cast']])\n",
    "#print(type(cast))\n",
    "#print(read)\n",
    "#print(type(read))\n",
    "#msg = response.msg\n",
    "#print(msg)\n",
    "#pp = pprint.PrettyPrinter(indent=4)\n",
    "#pp.pprint(\"Headers: {}\".format(headers))\n",
    "#print(\"Status: {} and reason: {}\".format(response.status, response.reason))\n",
    "\n"
   ]
  },
  {
   "cell_type": "code",
   "execution_count": 147,
   "metadata": {},
   "outputs": [
    {
     "ename": "TypeError",
     "evalue": "'NoneType' object is not subscriptable",
     "output_type": "error",
     "traceback": [
      "\u001b[1;31m---------------------------------------------------------------------------\u001b[0m",
      "\u001b[1;31mTypeError\u001b[0m                                 Traceback (most recent call last)",
      "\u001b[1;32m<ipython-input-147-8db6cbf81a1c>\u001b[0m in \u001b[0;36m<module>\u001b[1;34m\u001b[0m\n\u001b[1;32m----> 1\u001b[1;33m \u001b[0moutput\u001b[0m \u001b[1;33m=\u001b[0m \u001b[1;33m[\u001b[0m\u001b[0md\u001b[0m \u001b[1;32mfor\u001b[0m \u001b[0md\u001b[0m \u001b[1;32min\u001b[0m \u001b[0mmovie_cast\u001b[0m\u001b[1;33m[\u001b[0m\u001b[1;34m'cast'\u001b[0m\u001b[1;33m]\u001b[0m\u001b[1;33m]\u001b[0m\u001b[1;33m\u001b[0m\u001b[1;33m\u001b[0m\u001b[0m\n\u001b[0m\u001b[0;32m      2\u001b[0m \u001b[1;32mif\u001b[0m \u001b[0mexclude_ids\u001b[0m \u001b[1;32mis\u001b[0m \u001b[1;32mnot\u001b[0m \u001b[1;32mNone\u001b[0m\u001b[1;33m:\u001b[0m\u001b[1;33m\u001b[0m\u001b[1;33m\u001b[0m\u001b[0m\n\u001b[0;32m      3\u001b[0m     \u001b[0moutput\u001b[0m \u001b[1;33m=\u001b[0m \u001b[1;33m[\u001b[0m\u001b[0md\u001b[0m \u001b[1;32mfor\u001b[0m \u001b[0md\u001b[0m \u001b[1;32min\u001b[0m \u001b[0moutput\u001b[0m \u001b[1;32mif\u001b[0m \u001b[0md\u001b[0m\u001b[1;33m[\u001b[0m\u001b[1;34m'id'\u001b[0m\u001b[1;33m]\u001b[0m \u001b[1;32mnot\u001b[0m \u001b[1;32min\u001b[0m \u001b[0mexclude_ids\u001b[0m\u001b[1;33m]\u001b[0m\u001b[1;33m\u001b[0m\u001b[1;33m\u001b[0m\u001b[0m\n\u001b[0;32m      4\u001b[0m \u001b[1;32mif\u001b[0m \u001b[0mlimit\u001b[0m \u001b[1;32mis\u001b[0m \u001b[1;32mnot\u001b[0m \u001b[1;32mNone\u001b[0m\u001b[1;33m:\u001b[0m\u001b[1;33m\u001b[0m\u001b[1;33m\u001b[0m\u001b[0m\n\u001b[0;32m      5\u001b[0m     \u001b[0moutput\u001b[0m \u001b[1;33m=\u001b[0m \u001b[1;33m[\u001b[0m\u001b[0md\u001b[0m \u001b[1;32mfor\u001b[0m \u001b[0md\u001b[0m \u001b[1;32min\u001b[0m \u001b[0moutput\u001b[0m \u001b[1;32mif\u001b[0m \u001b[0md\u001b[0m\u001b[1;33m[\u001b[0m\u001b[1;34m'order'\u001b[0m\u001b[1;33m]\u001b[0m \u001b[1;33m<\u001b[0m \u001b[0mlimit\u001b[0m\u001b[1;33m]\u001b[0m\u001b[1;33m\u001b[0m\u001b[1;33m\u001b[0m\u001b[0m\n",
      "\u001b[1;31mTypeError\u001b[0m: 'NoneType' object is not subscriptable"
     ]
    }
   ],
   "source": [
    "output = [d for d in movie_cast['cast']]\n",
    "if exclude_ids is not None:\n",
    "    output = [d for d in output if d['id'] not in exclude_ids]\n",
    "if limit is not None:\n",
    "    output = [d for d in output if d['order'] < limit]\n",
    "output"
   ]
  },
  {
   "cell_type": "code",
   "execution_count": 178,
   "metadata": {},
   "outputs": [],
   "source": [
    "person_id = 455\n",
    "api_key = 'e6c6d80656546a1dd359ab0b71ca6432'"
   ]
  },
  {
   "cell_type": "code",
   "execution_count": 179,
   "metadata": {},
   "outputs": [],
   "source": [
    "connection = http.client.HTTPSConnection(\"api.themoviedb.org\")\n",
    "connection.request(\"GET\", \"/3/person/{}/movie_credits?api_key={}&language=en-US\".format(person_id, api_key))\n",
    "response = connection.getresponse()"
   ]
  },
  {
   "cell_type": "code",
   "execution_count": 180,
   "metadata": {},
   "outputs": [],
   "source": [
    "body = response.read().decode()\n",
    "person_credits = json.loads(body)"
   ]
  },
  {
   "cell_type": "code",
   "execution_count": 183,
   "metadata": {},
   "outputs": [],
   "source": [
    "vote_avg_threshold = 7.7"
   ]
  },
  {
   "cell_type": "code",
   "execution_count": 162,
   "metadata": {},
   "outputs": [],
   "source": [
    "person_credits = None\n",
    "person_credits"
   ]
  },
  {
   "cell_type": "code",
   "execution_count": 175,
   "metadata": {},
   "outputs": [
    {
     "data": {
      "text/plain": [
       "{'cast': [{'character': 'Himself - Interviewee',\n",
       "   'credit_id': '55146e9492514103e90032dc',\n",
       "   'release_date': '2015-01-25',\n",
       "   'vote_count': 576,\n",
       "   'video': False,\n",
       "   'adult': False,\n",
       "   'vote_average': 7.7,\n",
       "   'title': 'Going Clear: Scientology and the Prison of Belief',\n",
       "   'genre_ids': [99],\n",
       "   'original_language': 'en',\n",
       "   'original_title': 'Going Clear: Scientology and the Prison of Belief',\n",
       "   'popularity': 8.839,\n",
       "   'id': 318224,\n",
       "   'backdrop_path': '/29VoISagzOfJcuuhFzKQg9ZmEUU.jpg',\n",
       "   'overview': 'GOING CLEAR intimately profiles eight former members of the Church of Scientology, shining a light on how they attract true believers and the things they do in the name of religion.',\n",
       "   'poster_path': '/p0En1qZ9K87swEzFMfI3ckPLunP.jpg'},\n",
       "  {'character': 'Himself',\n",
       "   'credit_id': '52fe497cc3a368484e12de65',\n",
       "   'release_date': '2011-01-20',\n",
       "   'vote_count': 61,\n",
       "   'video': False,\n",
       "   'adult': False,\n",
       "   'vote_average': 7.5,\n",
       "   'title': 'Miss Representation',\n",
       "   'genre_ids': [99],\n",
       "   'original_language': 'en',\n",
       "   'original_title': 'Miss Representation',\n",
       "   'popularity': 3.915,\n",
       "   'id': 77801,\n",
       "   'backdrop_path': '/1u4VTwPzi8XAwdqZdv2QmUj1Rou.jpg',\n",
       "   'overview': \"The film MISS REPRESENTATION exposes how American youth are being sold the concept that women and girls’ value lies in their youth, beauty and sexuality. Explores the under-representation of women in positions of power and influence in America, and challenges the media's limited portrayal of what it means to be a powerful woman. It’s time to break that cycle of mistruths.\",\n",
       "   'poster_path': '/98owJxMsoARozljBXpQXH93v2fF.jpg'},\n",
       "  {'character': 'Himself',\n",
       "   'credit_id': '5e4327a20c271000158265a3',\n",
       "   'poster_path': '/rvKENwIW7Q3ADOyxSqPjwZyKb6P.jpg',\n",
       "   'id': 671991,\n",
       "   'video': False,\n",
       "   'vote_count': 0,\n",
       "   'adult': False,\n",
       "   'backdrop_path': None,\n",
       "   'genre_ids': [99],\n",
       "   'original_language': 'en',\n",
       "   'original_title': 'The Evolution of Clint Eastwood',\n",
       "   'popularity': 0.905,\n",
       "   'title': 'The Evolution of Clint Eastwood',\n",
       "   'vote_average': 0,\n",
       "   'overview': \"Follow Eastwood's career from television star to matinee idol to Oscar-winning director in this wide-ranging documentary.\",\n",
       "   'release_date': '2008-06-03'},\n",
       "  {'character': 'Director',\n",
       "   'credit_id': '5eb8feb67d2bc1001efdb043',\n",
       "   'poster_path': '/8a2xzFSBrU9RLICUGCJXRr2ovq7.jpg',\n",
       "   'id': 402977,\n",
       "   'video': False,\n",
       "   'vote_count': 0,\n",
       "   'adult': False,\n",
       "   'backdrop_path': None,\n",
       "   'genre_ids': [],\n",
       "   'original_language': 'en',\n",
       "   'original_title': 'MLE',\n",
       "   'popularity': 0.6,\n",
       "   'title': 'MLE',\n",
       "   'vote_average': 0,\n",
       "   'overview': \"MLE ('My Little Eye') is based on a true story - Julie Robert, (nope, not Julia Roberts, as she corrects on a daily basis) is a broke actor who just lost her only gig. Stranded in a new country with her trouble-making friend Camila, and struggling to find a sane new agent, Julie finds herself taking on spy work from a strange family. What seems fun at first turns life belly-up for Julie (spy name, Emily) - the awkward, amateur spy.\",\n",
       "   'release_date': ''},\n",
       "  {'character': 'Himself',\n",
       "   'credit_id': '5e41d2149603310013f012e1',\n",
       "   'poster_path': '/xtCcvzEbQV8ItTf73jr2jl7EsxU.jpg',\n",
       "   'id': 671667,\n",
       "   'video': False,\n",
       "   'vote_count': 1,\n",
       "   'adult': False,\n",
       "   'backdrop_path': '/rxqHjZ7Q3WgeNavVFTeJNUugKML.jpg',\n",
       "   'genre_ids': [99],\n",
       "   'original_language': 'en',\n",
       "   'original_title': 'The Business End: Violence in Cinema',\n",
       "   'popularity': 1.4,\n",
       "   'title': 'The Business End: Violence in Cinema',\n",
       "   'vote_average': 10,\n",
       "   'overview': 'An unflinching look at the ongoing debate on violence in movies and its effect on the audience.',\n",
       "   'release_date': '2008-06-03'}],\n",
       " 'crew': [{'id': 28990,\n",
       "   'department': 'Crew',\n",
       "   'original_language': 'de',\n",
       "   'original_title': 'Kopf oder Zahl',\n",
       "   'job': 'Thanks',\n",
       "   'overview': '',\n",
       "   'vote_count': 2,\n",
       "   'video': False,\n",
       "   'poster_path': '/krAWmcQT0FhD7q5sYak8JLCXWH3.jpg',\n",
       "   'backdrop_path': None,\n",
       "   'title': 'Kopf oder Zahl',\n",
       "   'popularity': 0.6,\n",
       "   'genre_ids': [18],\n",
       "   'vote_average': 2.5,\n",
       "   'adult': False,\n",
       "   'release_date': '2009-04-23',\n",
       "   'credit_id': '5cd47d4dc3a36869d0fc44a7'},\n",
       "  {'id': 1640,\n",
       "   'department': 'Directing',\n",
       "   'original_language': 'en',\n",
       "   'original_title': 'Crash',\n",
       "   'job': 'Director',\n",
       "   'overview': 'In post-Sept. 11 Los Angeles, tensions erupt when the lives of a Brentwood housewife, her district attorney husband, a Persian shopkeeper, two cops, a pair of carjackers and a Korean couple converge during a 36-hour period.',\n",
       "   'vote_count': 2338,\n",
       "   'video': False,\n",
       "   'poster_path': '/86BdPC6RDX88NC880pLidKn2LCj.jpg',\n",
       "   'backdrop_path': '/pu5yRPsqVZcXbBGpQln2SVdtDWm.jpg',\n",
       "   'title': 'Crash',\n",
       "   'popularity': 14.337,\n",
       "   'genre_ids': [18],\n",
       "   'vote_average': 7.3,\n",
       "   'adult': False,\n",
       "   'release_date': '2005-05-06',\n",
       "   'credit_id': '52fe4307c3a36847f8035033'},\n",
       "  {'id': 6973,\n",
       "   'department': 'Directing',\n",
       "   'original_language': 'en',\n",
       "   'original_title': 'In the Valley of Elah',\n",
       "   'job': 'Director',\n",
       "   'overview': \"A career officer and his wife work with a police detective to uncover the truth behind their son's disappearance following his return from a tour of duty in Iraq.\",\n",
       "   'vote_count': 573,\n",
       "   'video': False,\n",
       "   'poster_path': '/aQx5vOURCo4SD71s7BBJIozGmt3.jpg',\n",
       "   'backdrop_path': '/j7GF6oZGZq3pdZDE1x1QoSC7UWf.jpg',\n",
       "   'title': 'In the Valley of Elah',\n",
       "   'popularity': 11.906,\n",
       "   'genre_ids': [80, 18, 36, 9648, 53],\n",
       "   'vote_average': 6.7,\n",
       "   'adult': False,\n",
       "   'release_date': '2007-08-31',\n",
       "   'credit_id': '52fe446dc3a36847f8095533'},\n",
       "  {'id': 43539,\n",
       "   'department': 'Directing',\n",
       "   'original_language': 'en',\n",
       "   'original_title': 'The Next Three Days',\n",
       "   'job': 'Director',\n",
       "   'overview': \"A married couple's life is turned upside down when the wife is accused of a murder. Lara Brennan is arrested for murdering her boss with whom she had an argument. It seems she was seen leaving the scene of the crime and her fingerprints were on the murder weapon. Her husband, John would spend the next few years trying to get her released, but there's no evidence that negates the evidence against her. And when the strain of being separated from her family, especially her son, gets to her, John decides to break her out. So he does a lot of research to find a way.\",\n",
       "   'vote_count': 1898,\n",
       "   'video': False,\n",
       "   'poster_path': '/wBaRZ3aHa7qoYTSY0ONbXrXYk4B.jpg',\n",
       "   'backdrop_path': '/m3lJ0cuR0EXHSYUqiQsnc6G1pu4.jpg',\n",
       "   'title': 'The Next Three Days',\n",
       "   'popularity': 11.543,\n",
       "   'genre_ids': [80, 18, 53, 10749],\n",
       "   'vote_average': 7,\n",
       "   'adult': False,\n",
       "   'release_date': '2010-11-18',\n",
       "   'credit_id': '52fe464fc3a36847f80f8165'},\n",
       "  {'id': 192145,\n",
       "   'department': 'Directing',\n",
       "   'original_language': 'en',\n",
       "   'original_title': 'Third Person',\n",
       "   'job': 'Director',\n",
       "   'overview': 'An acclaimed novelist struggles to write an analysis of love in one of three stories, each set in a different city, that detail the beginning, middle and end of a relationship.',\n",
       "   'vote_count': 428,\n",
       "   'video': False,\n",
       "   'release_date': '2013-09-09',\n",
       "   'vote_average': 5.9,\n",
       "   'title': 'Third Person',\n",
       "   'popularity': 12.123,\n",
       "   'genre_ids': [18, 10749],\n",
       "   'backdrop_path': '/sKnbKlgMDCTDTtKm91wJ4vSbyIH.jpg',\n",
       "   'adult': False,\n",
       "   'poster_path': '/zklkZ84hzaZmnJevkAH70teEEc9.jpg',\n",
       "   'credit_id': '52fe4c9d9251416c910fa895'},\n",
       "  {'id': 46742,\n",
       "   'department': 'Directing',\n",
       "   'original_language': 'en',\n",
       "   'original_title': 'Red Hot',\n",
       "   'job': 'Director',\n",
       "   'overview': '',\n",
       "   'vote_count': 0,\n",
       "   'video': False,\n",
       "   'poster_path': '/d3J5gS7PGKP56Tm71Ujkz4IrujM.jpg',\n",
       "   'backdrop_path': None,\n",
       "   'title': 'Red Hot',\n",
       "   'popularity': 1.222,\n",
       "   'genre_ids': [],\n",
       "   'vote_average': 0,\n",
       "   'adult': False,\n",
       "   'release_date': '1993-06-01',\n",
       "   'credit_id': '54f3ba3d925141799d000959'},\n",
       "  {'id': 559323,\n",
       "   'department': 'Directing',\n",
       "   'original_language': 'en',\n",
       "   'original_title': '5B',\n",
       "   'job': 'Director',\n",
       "   'overview': \"At the heart of the HIV/AIDs crisis and widespread hysteria, a single number and letter designated a ward on the fifth floor of San Francisco General Hospital, the first in the country designed specifically to deal with AIDS patients. The unit's nurses' emphasis on humanity and consideration of holistic well-being was a small miracle amidst a devastating crisis and the ensuing panic about risk and infection.\",\n",
       "   'vote_count': 5,\n",
       "   'video': False,\n",
       "   'release_date': '2018-11-04',\n",
       "   'vote_average': 6.8,\n",
       "   'title': '5B',\n",
       "   'popularity': 0.775,\n",
       "   'genre_ids': [99],\n",
       "   'backdrop_path': None,\n",
       "   'adult': False,\n",
       "   'poster_path': '/jKZv5udqX1tI9PJaBohJOtspIfH.jpg',\n",
       "   'credit_id': '5d2a9a47be4b36756aa425ae'},\n",
       "  {'id': 431170,\n",
       "   'department': 'Directing',\n",
       "   'original_language': 'es',\n",
       "   'original_title': 'Michael Jackson: VIDEOGRAPHY',\n",
       "   'job': 'Director',\n",
       "   'overview': '',\n",
       "   'vote_count': 2,\n",
       "   'video': True,\n",
       "   'poster_path': None,\n",
       "   'backdrop_path': None,\n",
       "   'title': 'Michael Jackson: VIDEOGRAPHY',\n",
       "   'popularity': 0.713,\n",
       "   'genre_ids': [10402],\n",
       "   'vote_average': 7,\n",
       "   'adult': False,\n",
       "   'release_date': '2010-08-28',\n",
       "   'credit_id': '5eb5d0870cb3350021ca64cb'},\n",
       "  {'id': 70,\n",
       "   'department': 'Production',\n",
       "   'original_language': 'en',\n",
       "   'original_title': 'Million Dollar Baby',\n",
       "   'job': 'Producer',\n",
       "   'overview': \"Despondent over a painful estrangement from his daughter, trainer Frankie Dunn isn't prepared for boxer Maggie Fitzgerald to enter his life. But Maggie's determined to go pro and to convince Dunn and his cohort to help her.\",\n",
       "   'vote_count': 6278,\n",
       "   'video': False,\n",
       "   'release_date': '2004-12-15',\n",
       "   'vote_average': 7.9,\n",
       "   'title': 'Million Dollar Baby',\n",
       "   'popularity': 19.221,\n",
       "   'genre_ids': [18],\n",
       "   'backdrop_path': '/jruBJZOJCQAWWhJ20UbxPUpbXXT.jpg',\n",
       "   'adult': False,\n",
       "   'poster_path': '/jcfEqKdWF1zeyvECPqp3mkWLct2.jpg',\n",
       "   'credit_id': '52fe4213c3a36847f8002033'},\n",
       "  {'id': 1251,\n",
       "   'department': 'Production',\n",
       "   'original_language': 'en',\n",
       "   'original_title': 'Letters from Iwo Jima',\n",
       "   'job': 'Producer',\n",
       "   'overview': 'The story of the battle of Iwo Jima between the United States and Imperial Japan during World War II, as told from the perspective of the Japanese who fought it.',\n",
       "   'vote_count': 1271,\n",
       "   'video': False,\n",
       "   'poster_path': '/kZokxQtzMPURvijWYFuvh1fAvnv.jpg',\n",
       "   'backdrop_path': '/69Mdg9vH6yQx08DwK02RlqO9CPp.jpg',\n",
       "   'title': 'Letters from Iwo Jima',\n",
       "   'popularity': 11.436,\n",
       "   'genre_ids': [28, 18, 10752],\n",
       "   'vote_average': 7.5,\n",
       "   'adult': False,\n",
       "   'release_date': '2006-12-19',\n",
       "   'credit_id': '52fe42eac3a36847f802c877'},\n",
       "  {'id': 6973,\n",
       "   'department': 'Production',\n",
       "   'original_language': 'en',\n",
       "   'original_title': 'In the Valley of Elah',\n",
       "   'job': 'Producer',\n",
       "   'overview': \"A career officer and his wife work with a police detective to uncover the truth behind their son's disappearance following his return from a tour of duty in Iraq.\",\n",
       "   'vote_count': 573,\n",
       "   'video': False,\n",
       "   'poster_path': '/aQx5vOURCo4SD71s7BBJIozGmt3.jpg',\n",
       "   'backdrop_path': '/j7GF6oZGZq3pdZDE1x1QoSC7UWf.jpg',\n",
       "   'title': 'In the Valley of Elah',\n",
       "   'popularity': 11.906,\n",
       "   'genre_ids': [80, 18, 36, 9648, 53],\n",
       "   'vote_average': 6.7,\n",
       "   'adult': False,\n",
       "   'release_date': '2007-08-31',\n",
       "   'credit_id': '52fe446dc3a36847f809553f'},\n",
       "  {'id': 43539,\n",
       "   'department': 'Production',\n",
       "   'original_language': 'en',\n",
       "   'original_title': 'The Next Three Days',\n",
       "   'job': 'Producer',\n",
       "   'overview': \"A married couple's life is turned upside down when the wife is accused of a murder. Lara Brennan is arrested for murdering her boss with whom she had an argument. It seems she was seen leaving the scene of the crime and her fingerprints were on the murder weapon. Her husband, John would spend the next few years trying to get her released, but there's no evidence that negates the evidence against her. And when the strain of being separated from her family, especially her son, gets to her, John decides to break her out. So he does a lot of research to find a way.\",\n",
       "   'vote_count': 1898,\n",
       "   'video': False,\n",
       "   'poster_path': '/wBaRZ3aHa7qoYTSY0ONbXrXYk4B.jpg',\n",
       "   'backdrop_path': '/m3lJ0cuR0EXHSYUqiQsnc6G1pu4.jpg',\n",
       "   'title': 'The Next Three Days',\n",
       "   'popularity': 11.543,\n",
       "   'genre_ids': [80, 18, 53, 10749],\n",
       "   'vote_average': 7,\n",
       "   'adult': False,\n",
       "   'release_date': '2010-11-18',\n",
       "   'credit_id': '52fe4650c3a36847f80f81cf'},\n",
       "  {'id': 192145,\n",
       "   'department': 'Production',\n",
       "   'original_language': 'en',\n",
       "   'original_title': 'Third Person',\n",
       "   'job': 'Producer',\n",
       "   'overview': 'An acclaimed novelist struggles to write an analysis of love in one of three stories, each set in a different city, that detail the beginning, middle and end of a relationship.',\n",
       "   'vote_count': 428,\n",
       "   'video': False,\n",
       "   'release_date': '2013-09-09',\n",
       "   'vote_average': 5.9,\n",
       "   'title': 'Third Person',\n",
       "   'popularity': 12.123,\n",
       "   'genre_ids': [18, 10749],\n",
       "   'backdrop_path': '/sKnbKlgMDCTDTtKm91wJ4vSbyIH.jpg',\n",
       "   'adult': False,\n",
       "   'poster_path': '/zklkZ84hzaZmnJevkAH70teEEc9.jpg',\n",
       "   'credit_id': '55116da79251415caa0016d6'},\n",
       "  {'id': 1640,\n",
       "   'department': 'Production',\n",
       "   'original_language': 'en',\n",
       "   'original_title': 'Crash',\n",
       "   'job': 'Producer',\n",
       "   'overview': 'In post-Sept. 11 Los Angeles, tensions erupt when the lives of a Brentwood housewife, her district attorney husband, a Persian shopkeeper, two cops, a pair of carjackers and a Korean couple converge during a 36-hour period.',\n",
       "   'vote_count': 2338,\n",
       "   'video': False,\n",
       "   'poster_path': '/86BdPC6RDX88NC880pLidKn2LCj.jpg',\n",
       "   'backdrop_path': '/pu5yRPsqVZcXbBGpQln2SVdtDWm.jpg',\n",
       "   'title': 'Crash',\n",
       "   'popularity': 14.337,\n",
       "   'genre_ids': [18],\n",
       "   'vote_average': 7.3,\n",
       "   'adult': False,\n",
       "   'release_date': '2005-05-06',\n",
       "   'credit_id': '5675cbbcc3a3681689003579'},\n",
       "  {'id': 70,\n",
       "   'department': 'Writing',\n",
       "   'original_language': 'en',\n",
       "   'original_title': 'Million Dollar Baby',\n",
       "   'job': 'Screenplay',\n",
       "   'overview': \"Despondent over a painful estrangement from his daughter, trainer Frankie Dunn isn't prepared for boxer Maggie Fitzgerald to enter his life. But Maggie's determined to go pro and to convince Dunn and his cohort to help her.\",\n",
       "   'vote_count': 6278,\n",
       "   'video': False,\n",
       "   'release_date': '2004-12-15',\n",
       "   'vote_average': 7.9,\n",
       "   'title': 'Million Dollar Baby',\n",
       "   'popularity': 19.221,\n",
       "   'genre_ids': [18],\n",
       "   'backdrop_path': '/jruBJZOJCQAWWhJ20UbxPUpbXXT.jpg',\n",
       "   'adult': False,\n",
       "   'poster_path': '/jcfEqKdWF1zeyvECPqp3mkWLct2.jpg',\n",
       "   'credit_id': '52fe4213c3a36847f800208d'},\n",
       "  {'id': 1251,\n",
       "   'department': 'Writing',\n",
       "   'original_language': 'en',\n",
       "   'original_title': 'Letters from Iwo Jima',\n",
       "   'job': 'Screenplay',\n",
       "   'overview': 'The story of the battle of Iwo Jima between the United States and Imperial Japan during World War II, as told from the perspective of the Japanese who fought it.',\n",
       "   'vote_count': 1271,\n",
       "   'video': False,\n",
       "   'poster_path': '/kZokxQtzMPURvijWYFuvh1fAvnv.jpg',\n",
       "   'backdrop_path': '/69Mdg9vH6yQx08DwK02RlqO9CPp.jpg',\n",
       "   'title': 'Letters from Iwo Jima',\n",
       "   'popularity': 11.436,\n",
       "   'genre_ids': [28, 18, 10752],\n",
       "   'vote_average': 7.5,\n",
       "   'adult': False,\n",
       "   'release_date': '2006-12-19',\n",
       "   'credit_id': '52fe42eac3a36847f802c87d'},\n",
       "  {'id': 1640,\n",
       "   'department': 'Writing',\n",
       "   'original_language': 'en',\n",
       "   'original_title': 'Crash',\n",
       "   'job': 'Screenplay',\n",
       "   'overview': 'In post-Sept. 11 Los Angeles, tensions erupt when the lives of a Brentwood housewife, her district attorney husband, a Persian shopkeeper, two cops, a pair of carjackers and a Korean couple converge during a 36-hour period.',\n",
       "   'vote_count': 2338,\n",
       "   'video': False,\n",
       "   'poster_path': '/86BdPC6RDX88NC880pLidKn2LCj.jpg',\n",
       "   'backdrop_path': '/pu5yRPsqVZcXbBGpQln2SVdtDWm.jpg',\n",
       "   'title': 'Crash',\n",
       "   'popularity': 14.337,\n",
       "   'genre_ids': [18],\n",
       "   'vote_average': 7.3,\n",
       "   'adult': False,\n",
       "   'release_date': '2005-05-06',\n",
       "   'credit_id': '52fe4307c3a36847f8035039'},\n",
       "  {'id': 3683,\n",
       "   'department': 'Writing',\n",
       "   'original_language': 'en',\n",
       "   'original_title': 'Flags of Our Fathers',\n",
       "   'job': 'Screenplay',\n",
       "   'overview': \"There were five Marines and one Navy Corpsman photographed raising the U.S. flag on Mt. Suribachi by Joe Rosenthal on February 23, 1945. This is the story of three of the six surviving servicemen - John 'Doc' Bradley, Pvt. Rene Gagnon and Pvt. Ira Hayes - who fought in the battle to take Iwo Jima from the Japanese.\",\n",
       "   'vote_count': 1164,\n",
       "   'video': False,\n",
       "   'release_date': '2006-10-18',\n",
       "   'vote_average': 6.8,\n",
       "   'title': 'Flags of Our Fathers',\n",
       "   'popularity': 14.581,\n",
       "   'genre_ids': [10752, 18, 36],\n",
       "   'backdrop_path': '/vscsDExaKK0oKqrYBze9Tm2oitf.jpg',\n",
       "   'adult': False,\n",
       "   'poster_path': '/Rzaz2GSBJMnT9aYqzs715XoC4N.jpg',\n",
       "   'credit_id': '52fe43a2c3a36847f80637a3'},\n",
       "  {'id': 10764,\n",
       "   'department': 'Writing',\n",
       "   'original_language': 'en',\n",
       "   'original_title': 'Quantum of Solace',\n",
       "   'job': 'Screenplay',\n",
       "   'overview': 'Quantum of Solace continues the adventures of James Bond after Casino Royale. Betrayed by Vesper, the woman he loved, 007 fights the urge to make his latest mission personal. Pursuing his determination to uncover the truth, Bond and M interrogate Mr. White, who reveals that the organization that blackmailed Vesper is far more complex and dangerous than anyone had imagined.',\n",
       "   'vote_count': 5442,\n",
       "   'video': False,\n",
       "   'poster_path': '/5BzOOL7zknsZSUeJwSa9kGuzHCR.jpg',\n",
       "   'backdrop_path': '/rtpwL5lFYg1SF0glIrlf8oZDzpb.jpg',\n",
       "   'title': 'Quantum of Solace',\n",
       "   'popularity': 26.486,\n",
       "   'genre_ids': [28, 12, 80, 53],\n",
       "   'vote_average': 6.3,\n",
       "   'adult': False,\n",
       "   'release_date': '2008-10-30',\n",
       "   'credit_id': '52fe43b29251416c7501aa63'},\n",
       "  {'id': 6958,\n",
       "   'department': 'Writing',\n",
       "   'original_language': 'en',\n",
       "   'original_title': 'Walker, Texas Ranger: Trial by Fire',\n",
       "   'job': 'Screenplay',\n",
       "   'overview': 'Walker investigates a murder connected with a missing government weapon. In addition, he tries to track down a teen on the run from a crime syndicate.',\n",
       "   'vote_count': 18,\n",
       "   'video': False,\n",
       "   'poster_path': '/ebaCtQ4Bz7FYazWYjBb9k1BEOxJ.jpg',\n",
       "   'backdrop_path': '/Abpe9oByksEKjP0WO8Ine6n0zAt.jpg',\n",
       "   'title': 'Walker, Texas Ranger: Trial by Fire',\n",
       "   'popularity': 3.544,\n",
       "   'genre_ids': [28, 53, 10770],\n",
       "   'vote_average': 6.5,\n",
       "   'adult': False,\n",
       "   'release_date': '2005-10-16',\n",
       "   'credit_id': '52fe446ac3a36847f8094ccd'},\n",
       "  {'id': 6973,\n",
       "   'department': 'Writing',\n",
       "   'original_language': 'en',\n",
       "   'original_title': 'In the Valley of Elah',\n",
       "   'job': 'Screenplay',\n",
       "   'overview': \"A career officer and his wife work with a police detective to uncover the truth behind their son's disappearance following his return from a tour of duty in Iraq.\",\n",
       "   'vote_count': 573,\n",
       "   'video': False,\n",
       "   'poster_path': '/aQx5vOURCo4SD71s7BBJIozGmt3.jpg',\n",
       "   'backdrop_path': '/j7GF6oZGZq3pdZDE1x1QoSC7UWf.jpg',\n",
       "   'title': 'In the Valley of Elah',\n",
       "   'popularity': 11.906,\n",
       "   'genre_ids': [80, 18, 36, 9648, 53],\n",
       "   'vote_average': 6.7,\n",
       "   'adult': False,\n",
       "   'release_date': '2007-08-31',\n",
       "   'credit_id': '52fe446dc3a36847f8095539'},\n",
       "  {'id': 7511,\n",
       "   'department': 'Writing',\n",
       "   'original_language': 'en',\n",
       "   'original_title': 'The Last Kiss',\n",
       "   'job': 'Screenplay',\n",
       "   'overview': \"Michael has a great job, has his 4 best friends, and is in love with a beautiful girl at 30. He loves Jenna but his life seems predictable until someone else enters his life. It seems that everybody's having relationship problems.\",\n",
       "   'vote_count': 246,\n",
       "   'video': False,\n",
       "   'poster_path': '/9NVvNUQ0OkaRmvTss0IxbhdErIe.jpg',\n",
       "   'backdrop_path': '/wjCMOsolPXgSZr8NzPnAuzxvAF9.jpg',\n",
       "   'title': 'The Last Kiss',\n",
       "   'popularity': 5.072,\n",
       "   'genre_ids': [35, 18, 10749],\n",
       "   'vote_average': 5.9,\n",
       "   'adult': False,\n",
       "   'release_date': '2006-09-10',\n",
       "   'credit_id': '52fe4481c3a36847f809a109'},\n",
       "  {'id': 36557,\n",
       "   'department': 'Writing',\n",
       "   'original_language': 'en',\n",
       "   'original_title': 'Casino Royale',\n",
       "   'job': 'Screenplay',\n",
       "   'overview': \"Le Chiffre, a banker to the world's terrorists, is scheduled to participate in a high-stakes poker game in Montenegro, where he intends to use his winnings to establish his financial grip on the terrorist market. M sends Bond—on his maiden mission as a 00 Agent—to attend this game and prevent Le Chiffre from winning. With the help of Vesper Lynd and Felix Leiter, Bond enters the most important poker game in his already dangerous career.\",\n",
       "   'vote_count': 7392,\n",
       "   'video': False,\n",
       "   'poster_path': '/8Gv1dylImVuoj3bZtEWoL1TLl2q.jpg',\n",
       "   'backdrop_path': '/kjC48HRQpojr3FHx5pZF7Ro9xFg.jpg',\n",
       "   'title': 'Casino Royale',\n",
       "   'popularity': 35.549,\n",
       "   'genre_ids': [28, 12, 53],\n",
       "   'vote_average': 7.5,\n",
       "   'adult': False,\n",
       "   'release_date': '2006-11-14',\n",
       "   'credit_id': '52fe45f29251416c91043ecd'},\n",
       "  {'id': 43539,\n",
       "   'department': 'Writing',\n",
       "   'original_language': 'en',\n",
       "   'original_title': 'The Next Three Days',\n",
       "   'job': 'Screenplay',\n",
       "   'overview': \"A married couple's life is turned upside down when the wife is accused of a murder. Lara Brennan is arrested for murdering her boss with whom she had an argument. It seems she was seen leaving the scene of the crime and her fingerprints were on the murder weapon. Her husband, John would spend the next few years trying to get her released, but there's no evidence that negates the evidence against her. And when the strain of being separated from her family, especially her son, gets to her, John decides to break her out. So he does a lot of research to find a way.\",\n",
       "   'vote_count': 1898,\n",
       "   'video': False,\n",
       "   'poster_path': '/wBaRZ3aHa7qoYTSY0ONbXrXYk4B.jpg',\n",
       "   'backdrop_path': '/m3lJ0cuR0EXHSYUqiQsnc6G1pu4.jpg',\n",
       "   'title': 'The Next Three Days',\n",
       "   'popularity': 11.543,\n",
       "   'genre_ids': [80, 18, 53, 10749],\n",
       "   'vote_average': 7,\n",
       "   'adult': False,\n",
       "   'release_date': '2010-11-18',\n",
       "   'credit_id': '52fe464fc3a36847f80f816b'},\n",
       "  {'id': 192145,\n",
       "   'department': 'Writing',\n",
       "   'original_language': 'en',\n",
       "   'original_title': 'Third Person',\n",
       "   'job': 'Screenplay',\n",
       "   'overview': 'An acclaimed novelist struggles to write an analysis of love in one of three stories, each set in a different city, that detail the beginning, middle and end of a relationship.',\n",
       "   'vote_count': 428,\n",
       "   'video': False,\n",
       "   'release_date': '2013-09-09',\n",
       "   'vote_average': 5.9,\n",
       "   'title': 'Third Person',\n",
       "   'popularity': 12.123,\n",
       "   'genre_ids': [18, 10749],\n",
       "   'backdrop_path': '/sKnbKlgMDCTDTtKm91wJ4vSbyIH.jpg',\n",
       "   'adult': False,\n",
       "   'poster_path': '/zklkZ84hzaZmnJevkAH70teEEc9.jpg',\n",
       "   'credit_id': '52fe4c9d9251416c910fa89b'},\n",
       "  {'id': 293777,\n",
       "   'department': 'Writing',\n",
       "   'original_language': 'en',\n",
       "   'original_title': 'Return of the Shaggy Dog',\n",
       "   'job': 'Writer',\n",
       "   'overview': \"A magic ring's spell turns our hero, Wilby, into a shaggy dog, much to his consternation!\",\n",
       "   'vote_count': 2,\n",
       "   'video': False,\n",
       "   'poster_path': '/kvFydg4YVveoG5NFcM8w2PIYFuP.jpg',\n",
       "   'backdrop_path': None,\n",
       "   'title': 'Return of the Shaggy Dog',\n",
       "   'popularity': 0.6,\n",
       "   'genre_ids': [],\n",
       "   'vote_average': 3,\n",
       "   'adult': False,\n",
       "   'release_date': '1987-01-01',\n",
       "   'credit_id': '542231eec3a368086e0005b7'},\n",
       "  {'id': 46742,\n",
       "   'department': 'Writing',\n",
       "   'original_language': 'en',\n",
       "   'original_title': 'Red Hot',\n",
       "   'job': 'Writer',\n",
       "   'overview': '',\n",
       "   'vote_count': 0,\n",
       "   'video': False,\n",
       "   'poster_path': '/d3J5gS7PGKP56Tm71Ujkz4IrujM.jpg',\n",
       "   'backdrop_path': None,\n",
       "   'title': 'Red Hot',\n",
       "   'popularity': 1.222,\n",
       "   'genre_ids': [],\n",
       "   'vote_average': 0,\n",
       "   'adult': False,\n",
       "   'release_date': '1993-06-01',\n",
       "   'credit_id': '5e95e2f887f3f2001b4ab1d4'}],\n",
       " 'id': 455}"
      ]
     },
     "execution_count": 175,
     "metadata": {},
     "output_type": "execute_result"
    }
   ],
   "source": [
    "person_credits"
   ]
  },
  {
   "cell_type": "code",
   "execution_count": 176,
   "metadata": {},
   "outputs": [
    {
     "data": {
      "text/plain": [
       "[{'character': 'Himself - Interviewee',\n",
       "  'credit_id': '55146e9492514103e90032dc',\n",
       "  'release_date': '2015-01-25',\n",
       "  'vote_count': 576,\n",
       "  'video': False,\n",
       "  'adult': False,\n",
       "  'vote_average': 7.7,\n",
       "  'title': 'Going Clear: Scientology and the Prison of Belief',\n",
       "  'genre_ids': [99],\n",
       "  'original_language': 'en',\n",
       "  'original_title': 'Going Clear: Scientology and the Prison of Belief',\n",
       "  'popularity': 8.839,\n",
       "  'id': 318224,\n",
       "  'backdrop_path': '/29VoISagzOfJcuuhFzKQg9ZmEUU.jpg',\n",
       "  'overview': 'GOING CLEAR intimately profiles eight former members of the Church of Scientology, shining a light on how they attract true believers and the things they do in the name of religion.',\n",
       "  'poster_path': '/p0En1qZ9K87swEzFMfI3ckPLunP.jpg'},\n",
       " {'character': 'Himself',\n",
       "  'credit_id': '52fe497cc3a368484e12de65',\n",
       "  'release_date': '2011-01-20',\n",
       "  'vote_count': 61,\n",
       "  'video': False,\n",
       "  'adult': False,\n",
       "  'vote_average': 7.5,\n",
       "  'title': 'Miss Representation',\n",
       "  'genre_ids': [99],\n",
       "  'original_language': 'en',\n",
       "  'original_title': 'Miss Representation',\n",
       "  'popularity': 3.915,\n",
       "  'id': 77801,\n",
       "  'backdrop_path': '/1u4VTwPzi8XAwdqZdv2QmUj1Rou.jpg',\n",
       "  'overview': \"The film MISS REPRESENTATION exposes how American youth are being sold the concept that women and girls’ value lies in their youth, beauty and sexuality. Explores the under-representation of women in positions of power and influence in America, and challenges the media's limited portrayal of what it means to be a powerful woman. It’s time to break that cycle of mistruths.\",\n",
       "  'poster_path': '/98owJxMsoARozljBXpQXH93v2fF.jpg'},\n",
       " {'character': 'Himself',\n",
       "  'credit_id': '5e4327a20c271000158265a3',\n",
       "  'poster_path': '/rvKENwIW7Q3ADOyxSqPjwZyKb6P.jpg',\n",
       "  'id': 671991,\n",
       "  'video': False,\n",
       "  'vote_count': 0,\n",
       "  'adult': False,\n",
       "  'backdrop_path': None,\n",
       "  'genre_ids': [99],\n",
       "  'original_language': 'en',\n",
       "  'original_title': 'The Evolution of Clint Eastwood',\n",
       "  'popularity': 0.905,\n",
       "  'title': 'The Evolution of Clint Eastwood',\n",
       "  'vote_average': 0,\n",
       "  'overview': \"Follow Eastwood's career from television star to matinee idol to Oscar-winning director in this wide-ranging documentary.\",\n",
       "  'release_date': '2008-06-03'},\n",
       " {'character': 'Director',\n",
       "  'credit_id': '5eb8feb67d2bc1001efdb043',\n",
       "  'poster_path': '/8a2xzFSBrU9RLICUGCJXRr2ovq7.jpg',\n",
       "  'id': 402977,\n",
       "  'video': False,\n",
       "  'vote_count': 0,\n",
       "  'adult': False,\n",
       "  'backdrop_path': None,\n",
       "  'genre_ids': [],\n",
       "  'original_language': 'en',\n",
       "  'original_title': 'MLE',\n",
       "  'popularity': 0.6,\n",
       "  'title': 'MLE',\n",
       "  'vote_average': 0,\n",
       "  'overview': \"MLE ('My Little Eye') is based on a true story - Julie Robert, (nope, not Julia Roberts, as she corrects on a daily basis) is a broke actor who just lost her only gig. Stranded in a new country with her trouble-making friend Camila, and struggling to find a sane new agent, Julie finds herself taking on spy work from a strange family. What seems fun at first turns life belly-up for Julie (spy name, Emily) - the awkward, amateur spy.\",\n",
       "  'release_date': ''},\n",
       " {'character': 'Himself',\n",
       "  'credit_id': '5e41d2149603310013f012e1',\n",
       "  'poster_path': '/xtCcvzEbQV8ItTf73jr2jl7EsxU.jpg',\n",
       "  'id': 671667,\n",
       "  'video': False,\n",
       "  'vote_count': 1,\n",
       "  'adult': False,\n",
       "  'backdrop_path': '/rxqHjZ7Q3WgeNavVFTeJNUugKML.jpg',\n",
       "  'genre_ids': [99],\n",
       "  'original_language': 'en',\n",
       "  'original_title': 'The Business End: Violence in Cinema',\n",
       "  'popularity': 1.4,\n",
       "  'title': 'The Business End: Violence in Cinema',\n",
       "  'vote_average': 10,\n",
       "  'overview': 'An unflinching look at the ongoing debate on violence in movies and its effect on the audience.',\n",
       "  'release_date': '2008-06-03'}]"
      ]
     },
     "execution_count": 176,
     "metadata": {},
     "output_type": "execute_result"
    }
   ],
   "source": [
    "person_credits['cast']"
   ]
  },
  {
   "cell_type": "code",
   "execution_count": 187,
   "metadata": {},
   "outputs": [
    {
     "data": {
      "text/plain": [
       "[{'credit_id': '55146e9492514103e90032dc',\n",
       "  'vote_average': 7.7,\n",
       "  'title': 'Going Clear: Scientology and the Prison of Belief'},\n",
       " {'credit_id': '5e41d2149603310013f012e1',\n",
       "  'title': 'The Business End: Violence in Cinema',\n",
       "  'vote_average': 10}]"
      ]
     },
     "execution_count": 187,
     "metadata": {},
     "output_type": "execute_result"
    }
   ],
   "source": [
    "if person_credits is not None:\n",
    "    output = [{k : v for k, v in d.items() if k in {'credit_id', 'title', 'vote_average', 'id'}} for d in person_credits['cast']]\n",
    "    if vote_avg_threshold is not None:\n",
    "        output = [d for d in output if d['vote_average'] >= vote_avg_threshold]\n",
    "else:\n",
    "    output = []\n",
    "output"
   ]
  },
  {
   "cell_type": "code",
   "execution_count": null,
   "metadata": {},
   "outputs": [],
   "source": []
  },
  {
   "cell_type": "code",
   "execution_count": null,
   "metadata": {},
   "outputs": [],
   "source": [
    "connection.close()"
   ]
  },
  {
   "cell_type": "code",
   "execution_count": null,
   "metadata": {},
   "outputs": [],
   "source": []
  },
  {
   "cell_type": "code",
   "execution_count": 54,
   "metadata": {},
   "outputs": [
    {
     "name": "stdout",
     "output_type": "stream",
     "text": [
      "[('e1', 'e2'), ('e2', 'e3'), ('e1', 'e3'), ('e3', 'e4'), ('e2', 'e5')]\n"
     ]
    }
   ],
   "source": [
    "E = [('e1', 'e2'), ('e2', 'e3'), ('e1', 'e3'), ('e3', 'e4'), ('e2', 'e5')]\n",
    "print(E)"
   ]
  },
  {
   "cell_type": "code",
   "execution_count": 55,
   "metadata": {},
   "outputs": [
    {
     "name": "stdout",
     "output_type": "stream",
     "text": [
      "{'e1': 2, 'e2': 3, 'e3': 3, 'e4': 1, 'e5': 1}\n",
      "3\n"
     ]
    },
    {
     "data": {
      "text/plain": [
       "{'e2': 3, 'e3': 3}"
      ]
     },
     "execution_count": 55,
     "metadata": {},
     "output_type": "execute_result"
    }
   ],
   "source": [
    "d = {}\n",
    "\n",
    "for (e0, e1) in E:\n",
    "    if e0 not in d.keys():\n",
    "        d[e0] = 1\n",
    "    else:\n",
    "        d[e0] += 1\n",
    "    if e1 not in d.keys():\n",
    "        d[e1] = 1\n",
    "    else:\n",
    "        d[e1] += 1\n",
    "\n",
    "        \n",
    "print(d)\n",
    "print(max(d.values()))\n",
    "\n",
    "{k : v for k, v in d.items() if v == max(d.values())}"
   ]
  },
  {
   "cell_type": "code",
   "execution_count": 32,
   "metadata": {},
   "outputs": [
    {
     "name": "stdout",
     "output_type": "stream",
     "text": [
      "[('1', 'Ramin'), ('2', 'Ramina')]\n",
      "('Marina', '3')\n",
      "{('1', 'Ramin'), ('2', 'Ramina')}\n"
     ]
    }
   ],
   "source": [
    "t = ('3', 'Marina')\n",
    "A = [('1', 'Ramin'), ('2', 'Ramina')]\n",
    "print(A)\n",
    "print(tuple(reversed(t)))\n",
    "print(set(A))"
   ]
  },
  {
   "cell_type": "code",
   "execution_count": 29,
   "metadata": {},
   "outputs": [
    {
     "data": {
      "text/plain": [
       "[('1', 'Ramin'), ('2', 'Ramina'), ('3', 'Marina')]"
      ]
     },
     "execution_count": 29,
     "metadata": {},
     "output_type": "execute_result"
    }
   ],
   "source": [
    "A.append(t)\n",
    "A"
   ]
  },
  {
   "cell_type": "code",
   "execution_count": 22,
   "metadata": {},
   "outputs": [
    {
     "data": {
      "text/plain": [
       "[('1', 'Ramin'), ('2', 'Ramina'), '3', 'Marina']"
      ]
     },
     "execution_count": 22,
     "metadata": {},
     "output_type": "execute_result"
    }
   ],
   "source": [
    "if t not in set(A):\n",
    "    A.extend(t)\n",
    "A"
   ]
  },
  {
   "cell_type": "code",
   "execution_count": 16,
   "metadata": {},
   "outputs": [
    {
     "data": {
      "text/plain": [
       "[('1', 'Ramin'), ('2', 'Ramina'), ('3', 'Marina'), ('4', 'Michelle')]"
      ]
     },
     "execution_count": 16,
     "metadata": {},
     "output_type": "execute_result"
    }
   ],
   "source": [
    "t = ('4', 'Michelle')\n",
    "if t not in set(A):\n",
    "    A.append(t)\n",
    "A"
   ]
  },
  {
   "cell_type": "markdown",
   "metadata": {
    "pycharm": {
     "name": "#%% md\n"
    }
   },
   "source": [
    "Let $\n",
    "X_{i \\in I}^{j \\in J} = \\left[\n",
    "    \\begin{array}{ccc}\n",
    "    x_1^1&\\cdots&x_1^d\\\\\n",
    "    \\vdots&x_i^j&\\vdots\\\\\n",
    "    x_n^1&\\cdots&x_n^d\n",
    "    \\end{array}\n",
    "\\right] , \\left[\\begin{array}{c}I = {1,..., n}\\\\J = {1,..., d}\\end{array} \\right].\n",
    "$\n",
    "\n",
    "Then, $E[X_{i \\in I}^{j \\in J}] = \\left[\\begin{array}{c}E[X^1]\\\\\\vdots\\\\E[X^d]\\end{array} \\right].$\n",
    "\n",
    "\n",
    "\n"
   ]
  },
  {
   "cell_type": "code",
   "execution_count": null,
   "metadata": {
    "pycharm": {
     "name": "#%%\n"
    }
   },
   "outputs": [],
   "source": [
    "import sys\n",
    "\n",
    "if not 'numpy' in sys.modules:\n",
    "    !pip install numpy\n",
    "\n",
    "import numpy as np"
   ]
  },
  {
   "cell_type": "code",
   "execution_count": 99,
   "metadata": {
    "scrolled": false
   },
   "outputs": [
    {
     "data": {
      "text/plain": [
       "array([[[ 5, 10,  3],\n",
       "        [ 5, 15,  1],\n",
       "        [ 5, 25,  2]],\n",
       "\n",
       "       [[10,  5,  3],\n",
       "        [10, 15,  1],\n",
       "        [20, 20,  3]]])"
      ]
     },
     "execution_count": 99,
     "metadata": {},
     "output_type": "execute_result"
    }
   ],
   "source": [
    "a = np.array(\n",
    "      [\n",
    "            [\n",
    "                  [10, 15, 1]\n",
    "                , [ 5, 10, 3]\n",
    "                , [10,  5, 3]\n",
    "            ]\n",
    "          , [\n",
    "                  [ 5, 25, 2]\n",
    "                , [20, 20, 3]\n",
    "                , [ 5, 15, 1]\n",
    "            ]\n",
    "      ]\n",
    ")\n",
    "np.array(sorted(a.reshape(-1, 3), key = lambda v: [v[0], v[1]])).reshape(a.shape)\n"
   ]
  },
  {
   "cell_type": "code",
   "execution_count": 65,
   "metadata": {},
   "outputs": [
    {
     "data": {
      "text/plain": [
       "rec.array([[[10, 15,  1],\n",
       "            [ 5, 10,  3],\n",
       "            [10,  5,  3]],\n",
       "\n",
       "           [[ 5, 25,  2],\n",
       "            [20, 20,  3],\n",
       "            [ 5, 15,  1]]],\n",
       "          dtype=int32)"
      ]
     },
     "execution_count": 65,
     "metadata": {},
     "output_type": "execute_result"
    }
   ],
   "source": [
    "np.rec.array(a)"
   ]
  },
  {
   "cell_type": "code",
   "execution_count": 11,
   "metadata": {},
   "outputs": [],
   "source": [
    "field_names = ['y', 'x', 'classifier']"
   ]
  },
  {
   "cell_type": "code",
   "execution_count": 14,
   "metadata": {},
   "outputs": [
    {
     "data": {
      "text/plain": [
       "array([[[10, 15,  1],\n",
       "        [ 5, 10,  3],\n",
       "        [10,  5,  3]],\n",
       "\n",
       "       [[ 5, 25,  2],\n",
       "        [20, 20,  3],\n",
       "        [ 5, 15,  1]]])"
      ]
     },
     "execution_count": 14,
     "metadata": {},
     "output_type": "execute_result"
    }
   ],
   "source": [
    "b = np.array([[[10, 15,  1],\n",
    "        [ 5, 10,  3],\n",
    "        [10,  5,  3]],\n",
    "\n",
    "       [[ 5, 25,  2],\n",
    "        [20, 20,  3],\n",
    "        [ 5, 15,  1]]])\n",
    "\n",
    "b"
   ]
  },
  {
   "cell_type": "code",
   "execution_count": 31,
   "metadata": {},
   "outputs": [
    {
     "data": {
      "text/plain": [
       "[[[('y', 10), ('x', 15), ('classifier', 1)],\n",
       "  [('y', 5), ('x', 10), ('classifier', 3)],\n",
       "  [('y', 10), ('x', 5), ('classifier', 3)]],\n",
       " [[('y', 5), ('x', 25), ('classifier', 2)],\n",
       "  [('y', 20), ('x', 20), ('classifier', 3)],\n",
       "  [('y', 5), ('x', 15), ('classifier', 1)]]]"
      ]
     },
     "execution_count": 31,
     "metadata": {},
     "output_type": "execute_result"
    }
   ],
   "source": [
    "array_with_labels = np.array([[[(label, num) for i, num in enumerate(l2) for j, label in enumerate(field_names) if i == j] for l2 in l1] for l1 in b], dtype = [('yax'), (), ()]\n",
    "array_with_labels"
   ]
  },
  {
   "cell_type": "code",
   "execution_count": null,
   "metadata": {
    "pycharm": {
     "name": "#%%\n"
    }
   },
   "outputs": [],
   "source": [
    "np.sort(array_with_labels, order = ['y', 'x'])"
   ]
  },
  {
   "cell_type": "code",
   "execution_count": null,
   "metadata": {},
   "outputs": [],
   "source": [
    "[l2[0], l2[1], l2[2]]"
   ]
  },
  {
   "cell_type": "code",
   "execution_count": 9,
   "metadata": {},
   "outputs": [
    {
     "data": {
      "text/plain": [
       "array([[[ 5, 15,  1],\n",
       "        [ 5, 10,  3],\n",
       "        [ 5,  5,  1]],\n",
       "\n",
       "       [[10, 25,  2],\n",
       "        [20, 20,  3],\n",
       "        [10, 15,  3]]])"
      ]
     },
     "execution_count": 9,
     "metadata": {},
     "output_type": "execute_result"
    }
   ],
   "source": [
    "np.sort(a, axis = 0)"
   ]
  },
  {
   "cell_type": "code",
   "execution_count": 4,
   "metadata": {},
   "outputs": [],
   "source": [
    "import numpy as np\n",
    "X = np.array([\n",
    "    [5, 5, 4],\n",
    "    [8, 1, 8],\n",
    "    [0, 1, 5],\n",
    "    [0, 3, 1],\n",
    "    [6, 2, 5]\n",
    "])"
   ]
  },
  {
   "cell_type": "code",
   "execution_count": 7,
   "metadata": {},
   "outputs": [
    {
     "ename": "LinAlgError",
     "evalue": "Singular matrix",
     "output_type": "error",
     "traceback": [
      "\u001b[1;31m---------------------------------------------------------------------------\u001b[0m",
      "\u001b[1;31mLinAlgError\u001b[0m                               Traceback (most recent call last)",
      "\u001b[1;32m<ipython-input-7-d2971fdf82f0>\u001b[0m in \u001b[0;36m<module>\u001b[1;34m\u001b[0m\n\u001b[1;32m----> 1\u001b[1;33m \u001b[0mnp\u001b[0m\u001b[1;33m.\u001b[0m\u001b[0mlinalg\u001b[0m\u001b[1;33m.\u001b[0m\u001b[0minv\u001b[0m\u001b[1;33m(\u001b[0m\u001b[0mnp\u001b[0m\u001b[1;33m.\u001b[0m\u001b[0mmatmul\u001b[0m\u001b[1;33m(\u001b[0m\u001b[0mX\u001b[0m\u001b[1;33m,\u001b[0m \u001b[0mX\u001b[0m\u001b[1;33m.\u001b[0m\u001b[0mT\u001b[0m\u001b[1;33m)\u001b[0m\u001b[1;33m)\u001b[0m\u001b[1;33m\u001b[0m\u001b[1;33m\u001b[0m\u001b[0m\n\u001b[0m",
      "\u001b[1;32m<__array_function__ internals>\u001b[0m in \u001b[0;36minv\u001b[1;34m(*args, **kwargs)\u001b[0m\n",
      "\u001b[1;32mc:\\program files\\python37\\lib\\site-packages\\numpy\\linalg\\linalg.py\u001b[0m in \u001b[0;36minv\u001b[1;34m(a)\u001b[0m\n\u001b[0;32m    545\u001b[0m     \u001b[0msignature\u001b[0m \u001b[1;33m=\u001b[0m \u001b[1;34m'D->D'\u001b[0m \u001b[1;32mif\u001b[0m \u001b[0misComplexType\u001b[0m\u001b[1;33m(\u001b[0m\u001b[0mt\u001b[0m\u001b[1;33m)\u001b[0m \u001b[1;32melse\u001b[0m \u001b[1;34m'd->d'\u001b[0m\u001b[1;33m\u001b[0m\u001b[1;33m\u001b[0m\u001b[0m\n\u001b[0;32m    546\u001b[0m     \u001b[0mextobj\u001b[0m \u001b[1;33m=\u001b[0m \u001b[0mget_linalg_error_extobj\u001b[0m\u001b[1;33m(\u001b[0m\u001b[0m_raise_linalgerror_singular\u001b[0m\u001b[1;33m)\u001b[0m\u001b[1;33m\u001b[0m\u001b[1;33m\u001b[0m\u001b[0m\n\u001b[1;32m--> 547\u001b[1;33m     \u001b[0mainv\u001b[0m \u001b[1;33m=\u001b[0m \u001b[0m_umath_linalg\u001b[0m\u001b[1;33m.\u001b[0m\u001b[0minv\u001b[0m\u001b[1;33m(\u001b[0m\u001b[0ma\u001b[0m\u001b[1;33m,\u001b[0m \u001b[0msignature\u001b[0m\u001b[1;33m=\u001b[0m\u001b[0msignature\u001b[0m\u001b[1;33m,\u001b[0m \u001b[0mextobj\u001b[0m\u001b[1;33m=\u001b[0m\u001b[0mextobj\u001b[0m\u001b[1;33m)\u001b[0m\u001b[1;33m\u001b[0m\u001b[1;33m\u001b[0m\u001b[0m\n\u001b[0m\u001b[0;32m    548\u001b[0m     \u001b[1;32mreturn\u001b[0m \u001b[0mwrap\u001b[0m\u001b[1;33m(\u001b[0m\u001b[0mainv\u001b[0m\u001b[1;33m.\u001b[0m\u001b[0mastype\u001b[0m\u001b[1;33m(\u001b[0m\u001b[0mresult_t\u001b[0m\u001b[1;33m,\u001b[0m \u001b[0mcopy\u001b[0m\u001b[1;33m=\u001b[0m\u001b[1;32mFalse\u001b[0m\u001b[1;33m)\u001b[0m\u001b[1;33m)\u001b[0m\u001b[1;33m\u001b[0m\u001b[1;33m\u001b[0m\u001b[0m\n\u001b[0;32m    549\u001b[0m \u001b[1;33m\u001b[0m\u001b[0m\n",
      "\u001b[1;32mc:\\program files\\python37\\lib\\site-packages\\numpy\\linalg\\linalg.py\u001b[0m in \u001b[0;36m_raise_linalgerror_singular\u001b[1;34m(err, flag)\u001b[0m\n\u001b[0;32m     95\u001b[0m \u001b[1;33m\u001b[0m\u001b[0m\n\u001b[0;32m     96\u001b[0m \u001b[1;32mdef\u001b[0m \u001b[0m_raise_linalgerror_singular\u001b[0m\u001b[1;33m(\u001b[0m\u001b[0merr\u001b[0m\u001b[1;33m,\u001b[0m \u001b[0mflag\u001b[0m\u001b[1;33m)\u001b[0m\u001b[1;33m:\u001b[0m\u001b[1;33m\u001b[0m\u001b[1;33m\u001b[0m\u001b[0m\n\u001b[1;32m---> 97\u001b[1;33m     \u001b[1;32mraise\u001b[0m \u001b[0mLinAlgError\u001b[0m\u001b[1;33m(\u001b[0m\u001b[1;34m\"Singular matrix\"\u001b[0m\u001b[1;33m)\u001b[0m\u001b[1;33m\u001b[0m\u001b[1;33m\u001b[0m\u001b[0m\n\u001b[0m\u001b[0;32m     98\u001b[0m \u001b[1;33m\u001b[0m\u001b[0m\n\u001b[0;32m     99\u001b[0m \u001b[1;32mdef\u001b[0m \u001b[0m_raise_linalgerror_nonposdef\u001b[0m\u001b[1;33m(\u001b[0m\u001b[0merr\u001b[0m\u001b[1;33m,\u001b[0m \u001b[0mflag\u001b[0m\u001b[1;33m)\u001b[0m\u001b[1;33m:\u001b[0m\u001b[1;33m\u001b[0m\u001b[1;33m\u001b[0m\u001b[0m\n",
      "\u001b[1;31mLinAlgError\u001b[0m: Singular matrix"
     ]
    }
   ],
   "source": [
    "np.linalg.inv(np.matmul(X, X.T))"
   ]
  },
  {
   "cell_type": "code",
   "execution_count": null,
   "metadata": {},
   "outputs": [],
   "source": [
    "def find_max_common_label_in_cluster(clustering, y, k):\n",
    "    import numpy as np\n",
    "    z = np.array([-1] * k)\n",
    "    for i in set(clustering):\n",
    "        y_indices = np.where(clustering == i)[0]\n",
    "        y_take = np.take(y, y_indices)\n",
    "        y_filtered = np.extract(y_take != -1, y_take)\n",
    "        if y_filtered.size:\n",
    "            counts = np.bincount(y_filtered)\n",
    "            z[i] = np.argmax(counts)            \n",
    "    return z"
   ]
  },
  {
   "cell_type": "code",
   "execution_count": 65,
   "metadata": {},
   "outputs": [],
   "source": [
    "y = np.array([0,  0,  1,  0,  1,  0,  1,  0,  0,  0,  1,  0,  0,  1,  0,  0])"
   ]
  },
  {
   "cell_type": "code",
   "execution_count": null,
   "metadata": {},
   "outputs": [],
   "source": []
  },
  {
   "cell_type": "code",
   "execution_count": 74,
   "metadata": {},
   "outputs": [
    {
     "data": {
      "text/plain": [
       "array([11,  5], dtype=int64)"
      ]
     },
     "execution_count": 74,
     "metadata": {},
     "output_type": "execute_result"
    }
   ],
   "source": [
    "counts = np.bincount(y)\n",
    "counts"
   ]
  },
  {
   "cell_type": "code",
   "execution_count": 78,
   "metadata": {},
   "outputs": [
    {
     "data": {
      "text/plain": [
       "1"
      ]
     },
     "execution_count": 78,
     "metadata": {},
     "output_type": "execute_result"
    }
   ],
   "source": [
    "np.argmin(counts)"
   ]
  },
  {
   "cell_type": "code",
   "execution_count": 80,
   "metadata": {},
   "outputs": [
    {
     "data": {
      "text/plain": [
       "array([ 2,  4,  6, 10, 13], dtype=int64)"
      ]
     },
     "execution_count": 80,
     "metadata": {},
     "output_type": "execute_result"
    }
   ],
   "source": [
    "np.where(y == 1)[0]"
   ]
  },
  {
   "cell_type": "code",
   "execution_count": 58,
   "metadata": {},
   "outputs": [],
   "source": [
    "from collections import Counter"
   ]
  },
  {
   "cell_type": "code",
   "execution_count": 59,
   "metadata": {},
   "outputs": [],
   "source": [
    "ex2_demo_bags = [{'cat', 'dog', 'fish'},\n",
    "                 {'red', 'blue'},\n",
    "                 {'dog'},\n",
    "                 {'one', 'two', 'dog', 'fish'}]\n"
   ]
  },
  {
   "cell_type": "code",
   "execution_count": 64,
   "metadata": {},
   "outputs": [
    {
     "data": {
      "text/plain": [
       "[Counter({'dog': 1, 'cat': 1, 'fish': 1}),\n",
       " Counter({'blue': 1, 'red': 1}),\n",
       " Counter({'dog': 1}),\n",
       " Counter({'dog': 1, 'two': 1, 'fish': 1, 'one': 1})]"
      ]
     },
     "execution_count": 64,
     "metadata": {},
     "output_type": "execute_result"
    }
   ],
   "source": [
    "\n",
    "[Counter(list(st)) for st in ex2_demo_bags]"
   ]
  },
  {
   "cell_type": "code",
   "execution_count": 55,
   "metadata": {},
   "outputs": [],
   "source": [
    "ex1_demo_input = [\"This is a phrase; this, too, is a phrase\",\n",
    "                  \"But this is another sentence\",\n",
    "                  \"Hark\",\n",
    "                  \"Come what may    <-- save those spaces, but not these -->\",\n",
    "                  \"What did you say\",\n",
    "                  \"Split into 3 (even without a space)\",\n",
    "                  \"Okie dokie\"]"
   ]
  },
  {
   "cell_type": "code",
   "execution_count": 57,
   "metadata": {},
   "outputs": [],
   "source": [
    "def clean(s):\n",
    "    from re import finditer\n",
    "    pattern = r\"[a-z]+('[a-z])?[a-z]*\"\n",
    "    return [match.group(0) for match in finditer(pattern, s.lower())]"
   ]
  },
  {
   "cell_type": "code",
   "execution_count": null,
   "metadata": {},
   "outputs": [],
   "source": [
    "def gen_bag_of_words(sents):\n",
    "    assert isinstance(sents, list)\n",
    "    for sentence in sents:\n",
    "        for word in clean(sentence) if word not in STOPWORDS]\n",
    "    \n",
    "# Demo:\n",
    "gen_bag_of_words(ex1_demo_input)"
   ]
  },
  {
   "cell_type": "code",
   "execution_count": 34,
   "metadata": {},
   "outputs": [],
   "source": [
    "import re"
   ]
  },
  {
   "cell_type": "code",
   "execution_count": 33,
   "metadata": {},
   "outputs": [],
   "source": [
    "ex0_demo_input = [\"  This is a phrase; this, too, is a phrase. But this is another sentence.\",\n",
    "                  \"Hark!\",\n",
    "                  \"    \",\n",
    "                  \"Come what may    <-- save those spaces, but not these -->    \",\n",
    "                  \"What did you say?Split into 3 (even without a space)? Okie dokie.\"]"
   ]
  },
  {
   "cell_type": "code",
   "execution_count": 50,
   "metadata": {},
   "outputs": [],
   "source": []
  },
  {
   "cell_type": "code",
   "execution_count": 54,
   "metadata": {},
   "outputs": [
    {
     "data": {
      "text/plain": [
       "['This is a phrase; this, too, is a phrase',\n",
       " 'But this is another sentence',\n",
       " 'Hark',\n",
       " 'Come what may    <-- save those spaces, but not these -->',\n",
       " 'What did you say',\n",
       " 'Split into 3 (even without a space)',\n",
       " 'Okie dokie']"
      ]
     },
     "execution_count": 54,
     "metadata": {},
     "output_type": "execute_result"
    }
   ],
   "source": [
    "result = []\n",
    "for element in ex0_demo_input:\n",
    "    result.extend([s.strip() for s in re.split(r'\\.|\\?|\\!', element)])\n",
    "    result = [s for s in result if s]\n",
    "result"
   ]
  },
  {
   "cell_type": "code",
   "execution_count": 29,
   "metadata": {},
   "outputs": [],
   "source": [
    "clustering = np.array([ 8, 5, 5, 8, 6, 7,  4, 1, 8, 7, 5,  8, 8])\n",
    "y = np.array([-1, 5, 6, 9, 6, 7, -1, 1, -1, 7, 6, -1, 3])\n",
    "k = 10\n",
    "z = np.array([-1] * k)"
   ]
  },
  {
   "cell_type": "code",
   "execution_count": 32,
   "metadata": {},
   "outputs": [
    {
     "data": {
      "text/plain": [
       "array([-1,  1, -1, -1, -1,  6,  6,  7,  3, -1])"
      ]
     },
     "execution_count": 32,
     "metadata": {},
     "output_type": "execute_result"
    }
   ],
   "source": [
    "#from collections import Counter\n",
    "for i in set(clustering):\n",
    "    y_indices = np.where(clustering == i)[0]\n",
    "    y_take = np.take(y, y_indices)\n",
    "    y_filtered = np.extract(y_take != -1, y_take)\n",
    "    if y_filtered.size:\n",
    "        counts = np.bincount(y_filtered)\n",
    "        z[i] = np.argmax(counts)\n",
    "        #most_common = Counter(y_filtered).most_common()\n",
    "        #if most_common[0][1] == most_common[-1][1]:\n",
    "        #    z[i] = min(most_common)[0]\n",
    "        #else:\n",
    "        #    z[i] = most_common[0][0]\n",
    "z"
   ]
  },
  {
   "cell_type": "code",
   "execution_count": 21,
   "metadata": {},
   "outputs": [],
   "source": [
    "Y = np.array([4, 2, 1, 1, 3, 2, 4, 2, 2, 2, 4])\n",
    "y = np.array([2, 3, 5, 6])"
   ]
  },
  {
   "cell_type": "code",
   "execution_count": 23,
   "metadata": {},
   "outputs": [
    {
     "data": {
      "text/plain": [
       "array([1, 1, 2, 4])"
      ]
     },
     "execution_count": 23,
     "metadata": {},
     "output_type": "execute_result"
    }
   ],
   "source": [
    "p = Y[y]\n",
    "p"
   ]
  },
  {
   "cell_type": "code",
   "execution_count": 25,
   "metadata": {},
   "outputs": [
    {
     "data": {
      "text/plain": [
       "array([0, 2, 1, 0, 1], dtype=int64)"
      ]
     },
     "execution_count": 25,
     "metadata": {},
     "output_type": "execute_result"
    }
   ],
   "source": [
    "counts = np.bincount(p)\n",
    "counts"
   ]
  },
  {
   "cell_type": "code",
   "execution_count": 26,
   "metadata": {},
   "outputs": [
    {
     "data": {
      "text/plain": [
       "1"
      ]
     },
     "execution_count": 26,
     "metadata": {},
     "output_type": "execute_result"
    }
   ],
   "source": [
    "np.argmax(counts)"
   ]
  },
  {
   "cell_type": "code",
   "execution_count": 16,
   "metadata": {},
   "outputs": [],
   "source": [
    "import numpy as np\n",
    "X = np.array([\n",
    "    [5, 5, 4],\n",
    "    [8, 1, 8],\n",
    "    [0, 1, 5],\n",
    "    [0, 3, 1],\n",
    "    [6, 2, 5]\n",
    "])\n",
    "\n",
    "w = np.array([\n",
    "    [8, 5, 1],\n",
    "    [7, 8, 6]\n",
    "])\n",
    "\n",
    "x = np.array(\n",
    "    [8, 5, 1]\n",
    ")"
   ]
  },
  {
   "cell_type": "code",
   "execution_count": 8,
   "metadata": {},
   "outputs": [
    {
     "data": {
      "text/plain": [
       "array([[[-3,  0,  3],\n",
       "        [ 0, -4,  7],\n",
       "        [-8, -4,  4],\n",
       "        [-8, -2,  0],\n",
       "        [-2, -3,  4]],\n",
       "\n",
       "       [[-2, -3, -2],\n",
       "        [ 1, -7,  2],\n",
       "        [-7, -7, -1],\n",
       "        [-7, -5, -5],\n",
       "        [-1, -6, -1]]])"
      ]
     },
     "execution_count": 8,
     "metadata": {},
     "output_type": "execute_result"
    }
   ],
   "source": [
    "X - w[:,np.newaxis]"
   ]
  },
  {
   "cell_type": "code",
   "execution_count": 9,
   "metadata": {},
   "outputs": [
    {
     "data": {
      "text/plain": [
       "array([[[-3,  0,  3],\n",
       "        [-2, -3, -2]],\n",
       "\n",
       "       [[ 0, -4,  7],\n",
       "        [ 1, -7,  2]],\n",
       "\n",
       "       [[-8, -4,  4],\n",
       "        [-7, -7, -1]],\n",
       "\n",
       "       [[-8, -2,  0],\n",
       "        [-7, -5, -5]],\n",
       "\n",
       "       [[-2, -3,  4],\n",
       "        [-1, -6, -1]]])"
      ]
     },
     "execution_count": 9,
     "metadata": {},
     "output_type": "execute_result"
    }
   ],
   "source": [
    "X[:,np.newaxis] - w"
   ]
  },
  {
   "cell_type": "code",
   "execution_count": 17,
   "metadata": {},
   "outputs": [
    {
     "data": {
      "text/plain": [
       "array([  0,   3,  -8, -10,  -1])"
      ]
     },
     "execution_count": 17,
     "metadata": {},
     "output_type": "execute_result"
    }
   ],
   "source": [
    "np.sum(X - x, axis = 1)"
   ]
  },
  {
   "cell_type": "code",
   "execution_count": 18,
   "metadata": {},
   "outputs": [
    {
     "data": {
      "text/plain": [
       "array([4.24264069, 8.06225775, 9.79795897, 8.24621125, 5.38516481])"
      ]
     },
     "execution_count": 18,
     "metadata": {},
     "output_type": "execute_result"
    }
   ],
   "source": [
    "np.sqrt(np.sum((X - x)**2, axis=1))"
   ]
  },
  {
   "cell_type": "code",
   "execution_count": 20,
   "metadata": {},
   "outputs": [
    {
     "data": {
      "text/plain": [
       "array([4.24264069, 8.06225775, 9.79795897, 8.24621125, 5.38516481])"
      ]
     },
     "execution_count": 20,
     "metadata": {},
     "output_type": "execute_result"
    }
   ],
   "source": [
    "np.linalg.norm(X - x, axis = 1)"
   ]
  },
  {
   "cell_type": "code",
   "execution_count": 19,
   "metadata": {},
   "outputs": [
    {
     "data": {
      "text/plain": [
       "array([0, 4], dtype=int64)"
      ]
     },
     "execution_count": 19,
     "metadata": {},
     "output_type": "execute_result"
    }
   ],
   "source": [
    "np.argsort(np.sqrt(np.sum((X - x)**2, axis=1)))[0:2]"
   ]
  },
  {
   "cell_type": "code",
   "execution_count": 14,
   "metadata": {},
   "outputs": [],
   "source": [
    "l = [(1, 2), (4, 3), (7, 8), (10, 11)]"
   ]
  },
  {
   "cell_type": "code",
   "execution_count": 3,
   "metadata": {},
   "outputs": [],
   "source": [
    "import operator"
   ]
  },
  {
   "cell_type": "code",
   "execution_count": 16,
   "metadata": {},
   "outputs": [],
   "source": [
    "x = 0"
   ]
  },
  {
   "cell_type": "code",
   "execution_count": 20,
   "metadata": {},
   "outputs": [
    {
     "data": {
      "text/plain": [
       "[6, 14, 30, 42]"
      ]
     },
     "execution_count": 20,
     "metadata": {},
     "output_type": "execute_result"
    }
   ],
   "source": [
    "[operator.iadd(x + a + b, x + a + b) for a, b in l]"
   ]
  },
  {
   "cell_type": "code",
   "execution_count": 11,
   "metadata": {},
   "outputs": [],
   "source": [
    "f = operator.itemgetter(1, 3)"
   ]
  },
  {
   "cell_type": "code",
   "execution_count": 12,
   "metadata": {},
   "outputs": [
    {
     "data": {
      "text/plain": [
       "((4, 3), (10, 11))"
      ]
     },
     "execution_count": 12,
     "metadata": {},
     "output_type": "execute_result"
    }
   ],
   "source": [
    "f(l)"
   ]
  },
  {
   "cell_type": "code",
   "execution_count": null,
   "metadata": {},
   "outputs": [],
   "source": [
    "res = []\n",
    "aux = set()\n",
    "for x in nums:\n",
    "  if x not in aux:\n",
    "    res.append(x)\n",
    "    aux.add(x)"
   ]
  },
  {
   "cell_type": "code",
   "execution_count": 47,
   "metadata": {},
   "outputs": [],
   "source": [
    "import numpy as np\n",
    "A = np.array([[0, 1, 0, 1, 0, 1],\n",
    "              [1, 0, 0, 1, 0, 0],\n",
    "              [0, 0, 0, 1, 0, 0],\n",
    "              [1, 1, 1, 0, 1, 1],\n",
    "              [0, 0, 0, 1, 0, 0],\n",
    "              [1, 0, 0, 1, 0, 0]], dtype=int)"
   ]
  },
  {
   "cell_type": "code",
   "execution_count": 53,
   "metadata": {},
   "outputs": [
    {
     "data": {
      "text/plain": [
       "array([0, 0, 0, 0, 0, 0])"
      ]
     },
     "execution_count": 53,
     "metadata": {},
     "output_type": "execute_result"
    }
   ],
   "source": [
    "(np.multiply(A.dot(A), A).sum(axis = 1)/6).astype(int)"
   ]
  },
  {
   "cell_type": "code",
   "execution_count": 82,
   "metadata": {},
   "outputs": [],
   "source": [
    "I = [0, 1, 2, 3, 2, 3]"
   ]
  },
  {
   "cell_type": "code",
   "execution_count": 83,
   "metadata": {},
   "outputs": [],
   "source": [
    "J = [1, 0, 3, 2, 3, 2]"
   ]
  },
  {
   "cell_type": "code",
   "execution_count": 60,
   "metadata": {},
   "outputs": [],
   "source": [
    "from scipy.sparse import coo_matrix"
   ]
  },
  {
   "cell_type": "code",
   "execution_count": 84,
   "metadata": {},
   "outputs": [],
   "source": [
    "n = max(I) + 1"
   ]
  },
  {
   "cell_type": "code",
   "execution_count": 85,
   "metadata": {},
   "outputs": [
    {
     "data": {
      "text/plain": [
       "array([1, 1, 1, 1, 1, 1])"
      ]
     },
     "execution_count": 85,
     "metadata": {},
     "output_type": "execute_result"
    }
   ],
   "source": [
    "V = np.ones(len(I), dtype=int)\n",
    "V"
   ]
  },
  {
   "cell_type": "code",
   "execution_count": 86,
   "metadata": {},
   "outputs": [
    {
     "name": "stdout",
     "output_type": "stream",
     "text": [
      "  (0, 1)\t1\n",
      "  (1, 0)\t1\n",
      "  (2, 3)\t1\n",
      "  (3, 2)\t1\n",
      "  (2, 3)\t1\n",
      "  (3, 2)\t1\n"
     ]
    }
   ],
   "source": [
    "A = coo_matrix((V, (I, J)), shape=(n, n))\n",
    "print(A)"
   ]
  },
  {
   "cell_type": "code",
   "execution_count": 87,
   "metadata": {},
   "outputs": [
    {
     "name": "stdout",
     "output_type": "stream",
     "text": [
      "  (1, 0)\t1\n",
      "  (0, 1)\t1\n",
      "  (3, 2)\t2\n",
      "  (2, 3)\t2\n"
     ]
    }
   ],
   "source": [
    "A.sum_duplicates()\n",
    "print(A)"
   ]
  },
  {
   "cell_type": "code",
   "execution_count": 88,
   "metadata": {
    "scrolled": true
   },
   "outputs": [
    {
     "name": "stdout",
     "output_type": "stream",
     "text": [
      "[[0 1 0 0]\n",
      " [1 0 0 0]\n",
      " [0 0 0 1]\n",
      " [0 0 1 0]]\n"
     ]
    }
   ],
   "source": [
    "A = (A > 0).astype(int).todense()\n",
    "print(A)"
   ]
  },
  {
   "cell_type": "code",
   "execution_count": 69,
   "metadata": {},
   "outputs": [
    {
     "name": "stdout",
     "output_type": "stream",
     "text": [
      "[[0.16666667]\n",
      " [0.16666667]\n",
      " [0.16666667]\n",
      " [0.16666667]]\n"
     ]
    }
   ],
   "source": [
    "C = A.dot(A) * A\n",
    "print(C.sum(axis = 1)/6)"
   ]
  },
  {
   "cell_type": "code",
   "execution_count": 10,
   "metadata": {},
   "outputs": [],
   "source": [
    "import numpy as np"
   ]
  },
  {
   "cell_type": "code",
   "execution_count": 13,
   "metadata": {},
   "outputs": [],
   "source": [
    "A = np.zeros((2, 2))\n",
    "A[1,1] = 1"
   ]
  },
  {
   "cell_type": "code",
   "execution_count": 14,
   "metadata": {},
   "outputs": [
    {
     "data": {
      "text/plain": [
       "array([[0., 0.],\n",
       "       [0., 1.]])"
      ]
     },
     "execution_count": 14,
     "metadata": {},
     "output_type": "execute_result"
    }
   ],
   "source": [
    "A"
   ]
  },
  {
   "cell_type": "code",
   "execution_count": 7,
   "metadata": {},
   "outputs": [],
   "source": [
    "from itertools import groupby"
   ]
  },
  {
   "cell_type": "code",
   "execution_count": 8,
   "metadata": {},
   "outputs": [],
   "source": [
    "l = [[2,5], [2, 5], [3,4]]"
   ]
  },
  {
   "cell_type": "code",
   "execution_count": 9,
   "metadata": {},
   "outputs": [
    {
     "data": {
      "text/plain": [
       "[[2, 5], [3, 4]]"
      ]
     },
     "execution_count": 9,
     "metadata": {},
     "output_type": "execute_result"
    }
   ],
   "source": [
    "[k for k, g in groupby(l)]"
   ]
  },
  {
   "cell_type": "code",
   "execution_count": 56,
   "metadata": {},
   "outputs": [],
   "source": [
    "s = [1, 2, 3, 4]\n",
    "from itertools import permutations, combinations\n"
   ]
  },
  {
   "cell_type": "code",
   "execution_count": 55,
   "metadata": {
    "scrolled": true
   },
   "outputs": [
    {
     "data": {
      "text/plain": [
       "{(1, 2): 1,\n",
       " (1, 3): 1,\n",
       " (1, 4): 1,\n",
       " (2, 1): 1,\n",
       " (2, 3): 1,\n",
       " (2, 4): 1,\n",
       " (3, 1): 1,\n",
       " (3, 2): 1,\n",
       " (3, 4): 1,\n",
       " (4, 1): 1,\n",
       " (4, 2): 1,\n",
       " (4, 3): 1}"
      ]
     },
     "execution_count": 55,
     "metadata": {},
     "output_type": "execute_result"
    }
   ],
   "source": [
    "{t : 1 for t in list(permutations(s, 2))}"
   ]
  },
  {
   "cell_type": "code",
   "execution_count": 57,
   "metadata": {},
   "outputs": [
    {
     "data": {
      "text/plain": [
       "{(1, 2): 1, (1, 3): 1, (1, 4): 1, (2, 3): 1, (2, 4): 1, (3, 4): 1}"
      ]
     },
     "execution_count": 57,
     "metadata": {},
     "output_type": "execute_result"
    }
   ],
   "source": [
    "{t : 1 for t in list(combinations(s, 2))}"
   ]
  },
  {
   "cell_type": "code",
   "execution_count": 156,
   "metadata": {},
   "outputs": [],
   "source": [
    "inputData = ''"
   ]
  },
  {
   "cell_type": "code",
   "execution_count": 147,
   "metadata": {},
   "outputs": [],
   "source": [
    "import math"
   ]
  },
  {
   "cell_type": "code",
   "execution_count": 157,
   "metadata": {
    "scrolled": true
   },
   "outputs": [
    {
     "data": {
      "text/plain": [
       "''"
      ]
     },
     "execution_count": 157,
     "metadata": {},
     "output_type": "execute_result"
    }
   ],
   "source": [
    "'\\n'.join(\n",
    "    [\n",
    "        str(int(math.log(int(line), 2).is_integer())) \n",
    "        for line in inputData.splitlines()[1:]\n",
    "    ]\n",
    ")"
   ]
  },
  {
   "cell_type": "code",
   "execution_count": null,
   "metadata": {},
   "outputs": [],
   "source": [
    "def codeHere():\n",
    "    lines = [int(line) for line in inputData.splitlines()]\n",
    "    bool_vals = [(x != 0) and (x & (x - 1) == 0) for x in lines[1:]]\n",
    "    output = list(map(int, bool_vals))\n",
    "    output = [str(x) for x in output]\n",
    "    return '\\n'.join(output)"
   ]
  },
  {
   "cell_type": "code",
   "execution_count": 107,
   "metadata": {},
   "outputs": [],
   "source": [
    "import numpy as np"
   ]
  },
  {
   "cell_type": "code",
   "execution_count": 133,
   "metadata": {},
   "outputs": [],
   "source": [
    "v = np.asarray([True, False, True, False])"
   ]
  },
  {
   "cell_type": "code",
   "execution_count": 136,
   "metadata": {},
   "outputs": [
    {
     "data": {
      "text/plain": [
       "(array([0, 2], dtype=int64),)"
      ]
     },
     "execution_count": 136,
     "metadata": {},
     "output_type": "execute_result"
    }
   ],
   "source": [
    "# if you don't specify the replacements\n",
    "# then you get back the indices of `True` values\n",
    "np.where(v)"
   ]
  },
  {
   "cell_type": "code",
   "execution_count": 138,
   "metadata": {},
   "outputs": [
    {
     "data": {
      "text/plain": [
       "array([4, 5, 4, 5])"
      ]
     },
     "execution_count": 138,
     "metadata": {},
     "output_type": "execute_result"
    }
   ],
   "source": [
    "# `v` should be a `numpy` array\n",
    "np.where(v, 4, 5)"
   ]
  },
  {
   "cell_type": "code",
   "execution_count": 106,
   "metadata": {},
   "outputs": [
    {
     "ename": "NameError",
     "evalue": "name 'condition' is not defined",
     "output_type": "error",
     "traceback": [
      "\u001b[1;31m---------------------------------------------------------------------------\u001b[0m",
      "\u001b[1;31mNameError\u001b[0m                                 Traceback (most recent call last)",
      "\u001b[1;32m<ipython-input-106-5c1085cd2e5b>\u001b[0m in \u001b[0;36m<module>\u001b[1;34m\u001b[0m\n\u001b[0;32m      1\u001b[0m [xv if c else yv\n\u001b[1;32m----> 2\u001b[1;33m  for c, xv, yv in zip(condition, x, y)]\n\u001b[0m",
      "\u001b[1;31mNameError\u001b[0m: name 'condition' is not defined"
     ]
    }
   ],
   "source": [
    "[xv if c else yv\n",
    " for c, xv, yv in zip(condition, x, y)]"
   ]
  },
  {
   "cell_type": "code",
   "execution_count": 102,
   "metadata": {},
   "outputs": [],
   "source": [
    "s = 'We analyzed found the issue in Garbage Collection which crashed the JVM.\\r\\n\\r\\n\\xa0\\r\\n\\r\\n\\xa0\\r\\n\\r\\n_Stack: [0x00007f0b58ff1000,0x00007f0b590f1000],\\xa0 sp=0x00007f0b590ef120,\\xa0 free space=1016k_\\r\\n\\r\\n_Native frames: (J=compiled Java code, j=interpreted, Vv=VM code, C=native code)_\\r\\n\\r\\n_V\\xa0 [libjvm.so+0x8b9e4f]\\xa0 MethodData::clean_extra_data(BoolObjectClosure)+0x1cf_\\r\\n\\r\\n_V\\xa0 [libjvm.so+0x63c582]\\xa0 '"
   ]
  },
  {
   "cell_type": "code",
   "execution_count": 93,
   "metadata": {},
   "outputs": [],
   "source": [
    "import re"
   ]
  },
  {
   "cell_type": "code",
   "execution_count": 105,
   "metadata": {},
   "outputs": [
    {
     "data": {
      "text/plain": [
       "'We analyzed found the issue in Garbage Collection which crashed the JVM._Stack: [0x00007f0b58ff1000,0x00007f0b590f1000], sp=0x00007f0b590ef120, free space=1016k__Native frames: (J=compiled Java code, j=interpreted, Vv=VM code, C=native code)__V [libjvm.so+0x8b9e4f] MethodData::clean_extra_data(BoolObjectClosure)+0x1cf__V [libjvm.so+0x63c582] '"
      ]
     },
     "execution_count": 105,
     "metadata": {},
     "output_type": "execute_result"
    }
   ],
   "source": [
    "re.sub(r'(\\\\r)|(\\\\n)|(\\\\xa0)', '', s)"
   ]
  },
  {
   "cell_type": "code",
   "execution_count": 74,
   "metadata": {
    "scrolled": true
   },
   "outputs": [
    {
     "data": {
      "text/html": [
       "<div>\n",
       "<style scoped>\n",
       "    .dataframe tbody tr th:only-of-type {\n",
       "        vertical-align: middle;\n",
       "    }\n",
       "\n",
       "    .dataframe tbody tr th {\n",
       "        vertical-align: top;\n",
       "    }\n",
       "\n",
       "    .dataframe thead th {\n",
       "        text-align: right;\n",
       "    }\n",
       "</style>\n",
       "<table border=\"1\" class=\"dataframe\">\n",
       "  <thead>\n",
       "    <tr style=\"text-align: right;\">\n",
       "      <th></th>\n",
       "      <th>A</th>\n",
       "      <th>B</th>\n",
       "      <th>C</th>\n",
       "      <th>D</th>\n",
       "    </tr>\n",
       "  </thead>\n",
       "  <tbody>\n",
       "    <tr>\n",
       "      <th>0</th>\n",
       "      <td>b</td>\n",
       "      <td>3</td>\n",
       "      <td>3</td>\n",
       "      <td>4</td>\n",
       "    </tr>\n",
       "    <tr>\n",
       "      <th>1</th>\n",
       "      <td>a</td>\n",
       "      <td>1</td>\n",
       "      <td>2</td>\n",
       "      <td>1</td>\n",
       "    </tr>\n",
       "    <tr>\n",
       "      <th>2</th>\n",
       "      <td>a</td>\n",
       "      <td>1</td>\n",
       "      <td>2</td>\n",
       "      <td>1</td>\n",
       "    </tr>\n",
       "    <tr>\n",
       "      <th>3</th>\n",
       "      <td>d</td>\n",
       "      <td>4</td>\n",
       "      <td>4</td>\n",
       "      <td>1</td>\n",
       "    </tr>\n",
       "    <tr>\n",
       "      <th>4</th>\n",
       "      <td>d</td>\n",
       "      <td>1</td>\n",
       "      <td>2</td>\n",
       "      <td>1</td>\n",
       "    </tr>\n",
       "    <tr>\n",
       "      <th>5</th>\n",
       "      <td>c</td>\n",
       "      <td>4</td>\n",
       "      <td>5</td>\n",
       "      <td>6</td>\n",
       "    </tr>\n",
       "  </tbody>\n",
       "</table>\n",
       "</div>"
      ],
      "text/plain": [
       "   A  B  C  D\n",
       "0  b  3  3  4\n",
       "1  a  1  2  1\n",
       "2  a  1  2  1\n",
       "3  d  4  4  1\n",
       "4  d  1  2  1\n",
       "5  c  4  5  6"
      ]
     },
     "execution_count": 74,
     "metadata": {},
     "output_type": "execute_result"
    }
   ],
   "source": [
    "dic = {\n",
    "    'A' : ['b', 'a', 'a', 'd', 'd', 'c'],\n",
    "    'B' : [3, 1, 1, 4, 1, 4],\n",
    "    'C' : [3, 2, 2, 4, 2, 5],\n",
    "    'D' : [4, 1, 1, 1, 1, 6]\n",
    "}\n",
    "df = pd.DataFrame(dic)\n",
    "df"
   ]
  },
  {
   "cell_type": "code",
   "execution_count": 91,
   "metadata": {},
   "outputs": [
    {
     "data": {
      "text/html": [
       "<div>\n",
       "<style scoped>\n",
       "    .dataframe tbody tr th:only-of-type {\n",
       "        vertical-align: middle;\n",
       "    }\n",
       "\n",
       "    .dataframe tbody tr th {\n",
       "        vertical-align: top;\n",
       "    }\n",
       "\n",
       "    .dataframe thead th {\n",
       "        text-align: right;\n",
       "    }\n",
       "</style>\n",
       "<table border=\"1\" class=\"dataframe\">\n",
       "  <thead>\n",
       "    <tr style=\"text-align: right;\">\n",
       "      <th></th>\n",
       "      <th>A</th>\n",
       "      <th>B</th>\n",
       "      <th>C</th>\n",
       "      <th>D</th>\n",
       "    </tr>\n",
       "  </thead>\n",
       "  <tbody>\n",
       "    <tr>\n",
       "      <th>0</th>\n",
       "      <td>b</td>\n",
       "      <td>3</td>\n",
       "      <td>3</td>\n",
       "      <td>4</td>\n",
       "    </tr>\n",
       "    <tr>\n",
       "      <th>3</th>\n",
       "      <td>d</td>\n",
       "      <td>4</td>\n",
       "      <td>4</td>\n",
       "      <td>1</td>\n",
       "    </tr>\n",
       "    <tr>\n",
       "      <th>4</th>\n",
       "      <td>d</td>\n",
       "      <td>1</td>\n",
       "      <td>2</td>\n",
       "      <td>1</td>\n",
       "    </tr>\n",
       "    <tr>\n",
       "      <th>5</th>\n",
       "      <td>c</td>\n",
       "      <td>4</td>\n",
       "      <td>5</td>\n",
       "      <td>6</td>\n",
       "    </tr>\n",
       "    <tr>\n",
       "      <th>1</th>\n",
       "      <td>a</td>\n",
       "      <td>1</td>\n",
       "      <td>2</td>\n",
       "      <td>1</td>\n",
       "    </tr>\n",
       "    <tr>\n",
       "      <th>2</th>\n",
       "      <td>a</td>\n",
       "      <td>1</td>\n",
       "      <td>2</td>\n",
       "      <td>1</td>\n",
       "    </tr>\n",
       "  </tbody>\n",
       "</table>\n",
       "</div>"
      ],
      "text/plain": [
       "   A  B  C  D\n",
       "0  b  3  3  4\n",
       "3  d  4  4  1\n",
       "4  d  1  2  1\n",
       "5  c  4  5  6\n",
       "1  a  1  2  1\n",
       "2  a  1  2  1"
      ]
     },
     "execution_count": 91,
     "metadata": {},
     "output_type": "execute_result"
    }
   ],
   "source": [
    "df = (\n",
    "    df\n",
    "        .assign(A = lambda x: pd.Categorical(x['A'], categories = ['b', 'd', 'c', 'a'], ordered = True))\n",
    "        .sort_values('A')\n",
    ")"
   ]
  },
  {
   "cell_type": "code",
   "execution_count": 56,
   "metadata": {},
   "outputs": [
    {
     "data": {
      "text/html": [
       "<div>\n",
       "<style scoped>\n",
       "    .dataframe tbody tr th:only-of-type {\n",
       "        vertical-align: middle;\n",
       "    }\n",
       "\n",
       "    .dataframe tbody tr th {\n",
       "        vertical-align: top;\n",
       "    }\n",
       "\n",
       "    .dataframe thead th {\n",
       "        text-align: right;\n",
       "    }\n",
       "</style>\n",
       "<table border=\"1\" class=\"dataframe\">\n",
       "  <thead>\n",
       "    <tr style=\"text-align: right;\">\n",
       "      <th></th>\n",
       "      <th>col_1</th>\n",
       "      <th>col_2</th>\n",
       "      <th>col_3</th>\n",
       "    </tr>\n",
       "  </thead>\n",
       "  <tbody>\n",
       "    <tr>\n",
       "      <th>0</th>\n",
       "      <td>a</td>\n",
       "      <td>b</td>\n",
       "      <td>1</td>\n",
       "    </tr>\n",
       "    <tr>\n",
       "      <th>1</th>\n",
       "      <td>a</td>\n",
       "      <td>b</td>\n",
       "      <td>2</td>\n",
       "    </tr>\n",
       "    <tr>\n",
       "      <th>2</th>\n",
       "      <td>a</td>\n",
       "      <td>c</td>\n",
       "      <td>3</td>\n",
       "    </tr>\n",
       "    <tr>\n",
       "      <th>3</th>\n",
       "      <td>a</td>\n",
       "      <td>c</td>\n",
       "      <td>4</td>\n",
       "    </tr>\n",
       "    <tr>\n",
       "      <th>4</th>\n",
       "      <td>A</td>\n",
       "      <td>B</td>\n",
       "      <td>10</td>\n",
       "    </tr>\n",
       "    <tr>\n",
       "      <th>5</th>\n",
       "      <td>A</td>\n",
       "      <td>B</td>\n",
       "      <td>20</td>\n",
       "    </tr>\n",
       "    <tr>\n",
       "      <th>6</th>\n",
       "      <td>A</td>\n",
       "      <td>C</td>\n",
       "      <td>30</td>\n",
       "    </tr>\n",
       "    <tr>\n",
       "      <th>7</th>\n",
       "      <td>A</td>\n",
       "      <td>C</td>\n",
       "      <td>40</td>\n",
       "    </tr>\n",
       "  </tbody>\n",
       "</table>\n",
       "</div>"
      ],
      "text/plain": [
       "  col_1 col_2 col_3\n",
       "0     a     b     1\n",
       "1     a     b     2\n",
       "2     a     c     3\n",
       "3     a     c     4\n",
       "4     A     B    10\n",
       "5     A     B    20\n",
       "6     A     C    30\n",
       "7     A     C    40"
      ]
     },
     "execution_count": 56,
     "metadata": {},
     "output_type": "execute_result"
    }
   ],
   "source": [
    "dic = {\n",
    "    'a': {\n",
    "        'b': [1, 2], \n",
    "        'c': [3, 4]\n",
    "    }, \n",
    "    'A': {\n",
    "        'B': [10, 20], \n",
    "        'C': [30, 40]\n",
    "    }\n",
    "}\n",
    "s = (\n",
    "    pd.DataFrame(dic)\n",
    "        .stack()\n",
    "        .explode()\n",
    "        .reset_index()\n",
    "        .filter(['level_1', 'level_0', 0])\n",
    "        .rename(columns = {'level_1' : 'col_1', 'level_0' : 'col_2', 0 : 'col_3'})\n",
    ")\n",
    "s"
   ]
  },
  {
   "cell_type": "code",
   "execution_count": 32,
   "metadata": {},
   "outputs": [
    {
     "data": {
      "text/html": [
       "<div>\n",
       "<style scoped>\n",
       "    .dataframe tbody tr th:only-of-type {\n",
       "        vertical-align: middle;\n",
       "    }\n",
       "\n",
       "    .dataframe tbody tr th {\n",
       "        vertical-align: top;\n",
       "    }\n",
       "\n",
       "    .dataframe thead th {\n",
       "        text-align: right;\n",
       "    }\n",
       "</style>\n",
       "<table border=\"1\" class=\"dataframe\">\n",
       "  <thead>\n",
       "    <tr style=\"text-align: right;\">\n",
       "      <th></th>\n",
       "      <th>product</th>\n",
       "      <th>action</th>\n",
       "      <th>quantity</th>\n",
       "      <th>price (usd)</th>\n",
       "    </tr>\n",
       "  </thead>\n",
       "  <tbody>\n",
       "    <tr>\n",
       "      <th>0</th>\n",
       "      <td>APPLE</td>\n",
       "      <td>SELL</td>\n",
       "      <td>-1</td>\n",
       "      <td>0</td>\n",
       "    </tr>\n",
       "    <tr>\n",
       "      <th>1</th>\n",
       "      <td>APPLE</td>\n",
       "      <td>BUY</td>\n",
       "      <td>2</td>\n",
       "      <td>5</td>\n",
       "    </tr>\n",
       "    <tr>\n",
       "      <th>2</th>\n",
       "      <td>BANANA</td>\n",
       "      <td>SELL</td>\n",
       "      <td>-3</td>\n",
       "      <td>0</td>\n",
       "    </tr>\n",
       "  </tbody>\n",
       "</table>\n",
       "</div>"
      ],
      "text/plain": [
       "  product    action  quantity  price (usd)\n",
       "0   APPLE    SELL          -1            0\n",
       "1   APPLE     BUY           2            5\n",
       "2  BANANA    SELL          -3            0"
      ]
     },
     "execution_count": 32,
     "metadata": {},
     "output_type": "execute_result"
    }
   ],
   "source": [
    "import pandas as pd\n",
    "\n",
    "\n",
    "def my_function(df):\n",
    "    kwargs = {\n",
    "        \"quantity\": df.apply(lambda x: -x[\"quantity\"] if \"SELL\" in str(x[\"action\"]) else x[\"quantity\"], axis = 1),\n",
    "        \"price (usd)\": df.apply(lambda x: 0 if \"SELL\" in str(x[\"action\"]) else x[\"price (usd)\"], axis = 1),\n",
    "    }\n",
    "    return df.assign(**kwargs)\n",
    "\n",
    "\n",
    "input_df = pd.DataFrame({\"product\": [\"APPLE\", \"APPLE\", \"BANANA\"],\n",
    "                         \"action\": [\"  SELL  \", \"  BUY  \", \"  SELL  \"],\n",
    "                         \"quantity\": [1, 2, 3],\n",
    "                         \"price (usd)\": [3, 5, 8],\n",
    "                         })\n",
    "\n",
    "result_df = my_function(input_df)\n",
    "result_df"
   ]
  },
  {
   "cell_type": "code",
   "execution_count": 8,
   "metadata": {},
   "outputs": [
    {
     "data": {
      "text/html": [
       "<div>\n",
       "<style scoped>\n",
       "    .dataframe tbody tr th:only-of-type {\n",
       "        vertical-align: middle;\n",
       "    }\n",
       "\n",
       "    .dataframe tbody tr th {\n",
       "        vertical-align: top;\n",
       "    }\n",
       "\n",
       "    .dataframe thead th {\n",
       "        text-align: right;\n",
       "    }\n",
       "</style>\n",
       "<table border=\"1\" class=\"dataframe\">\n",
       "  <thead>\n",
       "    <tr style=\"text-align: right;\">\n",
       "      <th></th>\n",
       "      <th>product</th>\n",
       "      <th>action</th>\n",
       "      <th>quantity</th>\n",
       "      <th>price (usd)</th>\n",
       "    </tr>\n",
       "  </thead>\n",
       "  <tbody>\n",
       "    <tr>\n",
       "      <th>0</th>\n",
       "      <td>APPLE</td>\n",
       "      <td>SELL</td>\n",
       "      <td>-1</td>\n",
       "      <td>0</td>\n",
       "    </tr>\n",
       "    <tr>\n",
       "      <th>1</th>\n",
       "      <td>APPLE</td>\n",
       "      <td>BUY</td>\n",
       "      <td>2</td>\n",
       "      <td>5</td>\n",
       "    </tr>\n",
       "    <tr>\n",
       "      <th>2</th>\n",
       "      <td>BANANA</td>\n",
       "      <td>SELL</td>\n",
       "      <td>-3</td>\n",
       "      <td>0</td>\n",
       "    </tr>\n",
       "  </tbody>\n",
       "</table>\n",
       "</div>"
      ],
      "text/plain": [
       "  product    action  quantity  price (usd)\n",
       "0   APPLE    SELL          -1            0\n",
       "1   APPLE     BUY           2            5\n",
       "2  BANANA    SELL          -3            0"
      ]
     },
     "execution_count": 8,
     "metadata": {},
     "output_type": "execute_result"
    }
   ],
   "source": [
    "expected_df = pd.DataFrame({\"product\": [\"APPLE\", \"APPLE\", \"BANANA\"],\n",
    "                            \"action\": [\"  SELL  \", \"  BUY  \", \"  SELL  \"],\n",
    "                            \"quantity\": [-1, 2, -3],\n",
    "                            \"price (usd)\": [0, 5, 0],\n",
    "                            })\n",
    "expected_df"
   ]
  },
  {
   "cell_type": "code",
   "execution_count": 5,
   "metadata": {},
   "outputs": [
    {
     "data": {
      "text/plain": [
       "[25, 26, 45, 25, 50]"
      ]
     },
     "execution_count": 5,
     "metadata": {},
     "output_type": "execute_result"
    }
   ],
   "source": [
    "    numbers = [25, 24, 26, 45, 25, 23, 50, 51]\n",
    "    count = len(numbers)\n",
    "    filtered = [num for num in numbers if 25 <= num <= 50]\n",
    "    count = len(numbers) - len(filtered)\n",
    "    filtered"
   ]
  },
  {
   "cell_type": "markdown",
   "metadata": {},
   "source": [
    "If a polynomial function has integer coefficients, then every rational zero will have the form\n",
    "\n",
    "$$\n",
    "\\frac{p}{q}\n",
    "$$\n",
    "\n",
    "where `p` is a factor of the constant and `q` is a factor of the leading coefficient."
   ]
  },
  {
   "cell_type": "code",
   "execution_count": 139,
   "metadata": {},
   "outputs": [
    {
     "name": "stdout",
     "output_type": "stream",
     "text": [
      "A[:, :] ==\n",
      " [[1. 2. 3.]\n",
      " [4. 5. 6.]\n",
      " [7. 8. 9.]]\n",
      "\n",
      "a0 := A[:, 0] ==\n",
      " [1. 4. 7.]\n",
      "\n",
      "a1 := A[:, 2:3] == \n",
      " [3. 6. 9.]\n",
      "\n",
      "Add columns 0 and 2?\n",
      "[ 4. 10. 16.]\n"
     ]
    }
   ],
   "source": [
    "import numpy as np\n",
    "A = np.array ([[1, 2, 3],\n",
    "               [4, 5, 6],\n",
    "               [7, 8, 9]\n",
    "              ], dtype=float)\n",
    "\n",
    "print (\"A[:, :] ==\\n\", A)\n",
    "print (\"\\na0 := A[:, 0] ==\\n\", A[:, 0])\n",
    "print (\"\\na1 := A[:, 2:3] == \\n\", A[:, 2])\n",
    "\n",
    "print (\"\\nAdd columns 0 and 2?\")\n",
    "a0 = A[:, 0]\n",
    "a1 = A[:, 2]\n",
    "print (a0 + a1)"
   ]
  },
  {
   "cell_type": "code",
   "execution_count": 69,
   "metadata": {},
   "outputs": [],
   "source": [
    "import numpy as np"
   ]
  },
  {
   "cell_type": "code",
   "execution_count": 74,
   "metadata": {},
   "outputs": [
    {
     "data": {
      "text/plain": [
       "array([14, 33, 61, 42, 20])"
      ]
     },
     "execution_count": 74,
     "metadata": {},
     "output_type": "execute_result"
    }
   ],
   "source": [
    "np.convolve([2, 3, 5], [7, 6, 4])"
   ]
  },
  {
   "cell_type": "code",
   "execution_count": 77,
   "metadata": {},
   "outputs": [
    {
     "data": {
      "text/plain": [
       "array([33, 61, 42])"
      ]
     },
     "execution_count": 77,
     "metadata": {},
     "output_type": "execute_result"
    }
   ],
   "source": [
    "np.convolve([2, 3, 5], [7, 6, 4], 'same')"
   ]
  },
  {
   "cell_type": "code",
   "execution_count": 126,
   "metadata": {},
   "outputs": [],
   "source": [
    "X = np.array([[1,1,0], [1,0,0], [0,0,1]])"
   ]
  },
  {
   "cell_type": "code",
   "execution_count": 131,
   "metadata": {},
   "outputs": [
    {
     "data": {
      "text/plain": [
       "array([[-1., -1., -1.],\n",
       "       [-1., -1., -1.],\n",
       "       [-1., -1., -1.]])"
      ]
     },
     "execution_count": 131,
     "metadata": {},
     "output_type": "execute_result"
    }
   ],
   "source": [
    "np.ones(X.shape) * -1"
   ]
  },
  {
   "cell_type": "code",
   "execution_count": 133,
   "metadata": {},
   "outputs": [
    {
     "data": {
      "text/plain": [
       "array([[1, 1, 0],\n",
       "       [1, 0, 0],\n",
       "       [0, 0, 1]])"
      ]
     },
     "execution_count": 133,
     "metadata": {},
     "output_type": "execute_result"
    }
   ],
   "source": [
    "X"
   ]
  },
  {
   "cell_type": "code",
   "execution_count": 120,
   "metadata": {},
   "outputs": [],
   "source": [
    "kernel = np.ones(X.shape) * -1"
   ]
  },
  {
   "cell_type": "code",
   "execution_count": 135,
   "metadata": {},
   "outputs": [
    {
     "data": {
      "text/plain": [
       "array([[0., 0., 0.],\n",
       "       [0., 0., 0.],\n",
       "       [0., 0., 0.]])"
      ]
     },
     "execution_count": 135,
     "metadata": {},
     "output_type": "execute_result"
    }
   ],
   "source": [
    "from scipy.signal import convolve2d\n",
    "convolve2d(X, kernel, 'same')"
   ]
  },
  {
   "cell_type": "code",
   "execution_count": 19,
   "metadata": {},
   "outputs": [],
   "source": [
    "class TreeNode:\n",
    "    def __init__(self, x):\n",
    "        self.val = x\n",
    "        self.left = None\n",
    "        self.right = None"
   ]
  },
  {
   "cell_type": "code",
   "execution_count": 30,
   "metadata": {},
   "outputs": [],
   "source": [
    "def insertLevelOrder(arr, root, i, n): \n",
    "      \n",
    "    # Base case for recursion  \n",
    "    if i < n: \n",
    "        temp = TreeNode(arr[i])  \n",
    "        root = temp  \n",
    "  \n",
    "        # insert left child  \n",
    "        root.left = insertLevelOrder(arr, root.left, \n",
    "                                     2 * i + 1, n)  \n",
    "  \n",
    "        # insert right child  \n",
    "        root.right = insertLevelOrder(arr, root.right, \n",
    "                                      2 * i + 2, n) \n",
    "    return root"
   ]
  },
  {
   "cell_type": "code",
   "execution_count": 39,
   "metadata": {},
   "outputs": [
    {
     "name": "stdout",
     "output_type": "stream",
     "text": [
      "6 4 6 2 5 1 6 3 6 "
     ]
    }
   ],
   "source": [
    "def inOrder(root): \n",
    "    if root != None: \n",
    "        inOrder(root.left)  \n",
    "        print(root.val,end=\" \")  \n",
    "        inOrder(root.right) \n",
    "        \n",
    "if __name__ == '__main__': \n",
    "    arr = [1, 2, 3, 4, 5, 6, 6, 6, 6] \n",
    "    n = len(arr) \n",
    "    root = None\n",
    "    root = insertLevelOrder(arr, root, 0, n)  \n",
    "    inOrder(root)"
   ]
  },
  {
   "cell_type": "code",
   "execution_count": 63,
   "metadata": {},
   "outputs": [],
   "source": [
    "stk = [root]"
   ]
  },
  {
   "cell_type": "code",
   "execution_count": 64,
   "metadata": {},
   "outputs": [],
   "source": [
    "node = stk.pop()"
   ]
  },
  {
   "cell_type": "code",
   "execution_count": 68,
   "metadata": {},
   "outputs": [
    {
     "name": "stdout",
     "output_type": "stream",
     "text": [
      "6 4 6 2 5 1 6 3 6 "
     ]
    }
   ],
   "source": [
    "inOrder(node)"
   ]
  },
  {
   "cell_type": "code",
   "execution_count": 56,
   "metadata": {},
   "outputs": [
    {
     "ename": "IndexError",
     "evalue": "pop from empty list",
     "output_type": "error",
     "traceback": [
      "\u001b[1;31m---------------------------------------------------------------------------\u001b[0m",
      "\u001b[1;31mIndexError\u001b[0m                                Traceback (most recent call last)",
      "\u001b[1;32m<ipython-input-56-4286669b01e9>\u001b[0m in \u001b[0;36m<module>\u001b[1;34m\u001b[0m\n\u001b[1;32m----> 1\u001b[1;33m \u001b[0mnode\u001b[0m \u001b[1;33m=\u001b[0m \u001b[0mstk\u001b[0m\u001b[1;33m.\u001b[0m\u001b[0mpop\u001b[0m\u001b[1;33m(\u001b[0m\u001b[1;33m)\u001b[0m\u001b[1;33m\u001b[0m\u001b[1;33m\u001b[0m\u001b[0m\n\u001b[0m",
      "\u001b[1;31mIndexError\u001b[0m: pop from empty list"
     ]
    }
   ],
   "source": [
    "node = stk.pop()"
   ]
  },
  {
   "cell_type": "code",
   "execution_count": null,
   "metadata": {},
   "outputs": [],
   "source": []
  },
  {
   "cell_type": "code",
   "execution_count": 9,
   "metadata": {},
   "outputs": [],
   "source": [
    "J, S = \"aA\", \"aAAbbbb\""
   ]
  },
  {
   "cell_type": "code",
   "execution_count": 37,
   "metadata": {},
   "outputs": [
    {
     "name": "stdout",
     "output_type": "stream",
     "text": [
      "<__main__.TreeNode object at 0x00000209A7A24E48>\n"
     ]
    }
   ],
   "source": [
    "print(root.left)"
   ]
  },
  {
   "cell_type": "code",
   "execution_count": null,
   "metadata": {},
   "outputs": [],
   "source": [
    "class Solution:\n",
    "    def numJewelsInStones(self, J: str, S: str) -> int:\n",
    "        count = 0\n",
    "        for j in J:\n",
    "            for s in S:\n",
    "                if s == j:\n",
    "                    count += 1\n",
    "        return count"
   ]
  },
  {
   "cell_type": "code",
   "execution_count": 18,
   "metadata": {
    "scrolled": true
   },
   "outputs": [
    {
     "name": "stdout",
     "output_type": "stream",
     "text": [
      "a\n",
      "A\n",
      "A\n",
      "b\n",
      "b\n",
      "b\n",
      "b\n"
     ]
    }
   ],
   "source": [
    "for c in S:\n",
    "    print(c)"
   ]
  },
  {
   "cell_type": "code",
   "execution_count": 17,
   "metadata": {},
   "outputs": [
    {
     "data": {
      "text/plain": [
       "{'A', 'a', 'b'}"
      ]
     },
     "execution_count": 17,
     "metadata": {},
     "output_type": "execute_result"
    }
   ],
   "source": [
    "set(S)"
   ]
  },
  {
   "cell_type": "code",
   "execution_count": 16,
   "metadata": {},
   "outputs": [
    {
     "data": {
      "text/plain": [
       "{'A', 'a'}"
      ]
     },
     "execution_count": 16,
     "metadata": {},
     "output_type": "execute_result"
    }
   ],
   "source": [
    "set(J)"
   ]
  },
  {
   "cell_type": "code",
   "execution_count": 12,
   "metadata": {},
   "outputs": [
    {
     "data": {
      "text/plain": [
       "3"
      ]
     },
     "execution_count": 12,
     "metadata": {},
     "output_type": "execute_result"
    }
   ],
   "source": [
    "sum([1 for c in S if c in J])"
   ]
  },
  {
   "cell_type": "code",
   "execution_count": 14,
   "metadata": {},
   "outputs": [
    {
     "data": {
      "text/plain": [
       "3"
      ]
     },
     "execution_count": 14,
     "metadata": {},
     "output_type": "execute_result"
    }
   ],
   "source": [
    "Jli = list(set(list(J)))\n",
    "count = 0\n",
    "for j in Jli:\n",
    "\tcount += S.count(j)\n",
    "count"
   ]
  },
  {
   "cell_type": "code",
   "execution_count": 15,
   "metadata": {},
   "outputs": [
    {
     "data": {
      "text/plain": [
       "3"
      ]
     },
     "execution_count": 15,
     "metadata": {},
     "output_type": "execute_result"
    }
   ],
   "source": [
    "sum([S.count(i) for i in J])"
   ]
  },
  {
   "cell_type": "code",
   "execution_count": 1,
   "metadata": {},
   "outputs": [],
   "source": [
    "num = 14"
   ]
  },
  {
   "cell_type": "code",
   "execution_count": 2,
   "metadata": {
    "scrolled": true
   },
   "outputs": [
    {
     "data": {
      "text/plain": [
       "6"
      ]
     },
     "execution_count": 2,
     "metadata": {},
     "output_type": "execute_result"
    }
   ],
   "source": [
    "sum([int(d) + 1 for d in bin(num)[2:]]) - 1"
   ]
  },
  {
   "cell_type": "code",
   "execution_count": 4,
   "metadata": {},
   "outputs": [
    {
     "data": {
      "text/plain": [
       "'1110'"
      ]
     },
     "execution_count": 4,
     "metadata": {},
     "output_type": "execute_result"
    }
   ],
   "source": [
    "bin(num)[2:]"
   ]
  },
  {
   "cell_type": "code",
   "execution_count": 8,
   "metadata": {},
   "outputs": [
    {
     "ename": "SyntaxError",
     "evalue": "invalid syntax (<ipython-input-8-e57fad0e8c34>, line 1)",
     "output_type": "error",
     "traceback": [
      "\u001b[1;36m  File \u001b[1;32m\"<ipython-input-8-e57fad0e8c34>\"\u001b[1;36m, line \u001b[1;32m1\u001b[0m\n\u001b[1;33m    len(b := bin(num)[2:]) + b.count('1') - 1\u001b[0m\n\u001b[1;37m          ^\u001b[0m\n\u001b[1;31mSyntaxError\u001b[0m\u001b[1;31m:\u001b[0m invalid syntax\n"
     ]
    }
   ],
   "source": [
    "len(b := bin(num)[2:]) + b.count('1') - 1"
   ]
  },
  {
   "cell_type": "code",
   "execution_count": 113,
   "metadata": {
    "scrolled": true
   },
   "outputs": [
    {
     "data": {
      "text/plain": [
       "{1: 2, 2: 3, 3: 1}"
      ]
     },
     "execution_count": 113,
     "metadata": {},
     "output_type": "execute_result"
    }
   ],
   "source": [
    "myList = [1, 1, 2, 2, 2, 3]\n",
    "output = {}\n",
    "\n",
    "for item in myList:\n",
    "    if item not in output:\n",
    "        output[item] = 0\n",
    "    output[item] += 1\n",
    "\n",
    "output"
   ]
  },
  {
   "cell_type": "code",
   "execution_count": 19,
   "metadata": {},
   "outputs": [],
   "source": [
    "from string import ascii_letters, digits\n",
    "import timeit"
   ]
  },
  {
   "cell_type": "code",
   "execution_count": 20,
   "metadata": {},
   "outputs": [
    {
     "data": {
      "text/plain": [
       "6200000"
      ]
     },
     "execution_count": 20,
     "metadata": {},
     "output_type": "execute_result"
    }
   ],
   "source": [
    "words = list(ascii_letters+digits)*10**5\n",
    "len(words)"
   ]
  },
  {
   "cell_type": "code",
   "execution_count": 16,
   "metadata": {},
   "outputs": [
    {
     "data": {
      "text/plain": [
       "0.6867543999999839"
      ]
     },
     "execution_count": 16,
     "metadata": {},
     "output_type": "execute_result"
    }
   ],
   "source": [
    "start_time = timeit.default_timer()\n",
    "from collections import defaultdict\n",
    "d = defaultdict(int)\n",
    "for w in words: d[w] += 1\n",
    "elapsed = timeit.default_timer() - start_time\n",
    "elapsed"
   ]
  },
  {
   "cell_type": "code",
   "execution_count": null,
   "metadata": {},
   "outputs": [
    {
     "name": "stdout",
     "output_type": "stream",
     "text": [
      "20.8 ns ± 1.03 ns per loop (mean ± std. dev. of 7 runs, 100000000 loops each)\n"
     ]
    }
   ],
   "source": [
    "\n",
    "%timeit words\n",
    "d = {i:words.count(i) for i in words}"
   ]
  },
  {
   "cell_type": "code",
   "execution_count": null,
   "metadata": {},
   "outputs": [],
   "source": [
    "mycode = ''' \n",
    "d = defaultdict(int)\n",
    "for w in words: d[w] += 1\n",
    "'''"
   ]
  },
  {
   "cell_type": "code",
   "execution_count": 91,
   "metadata": {},
   "outputs": [],
   "source": [
    "mycode = ''' \n",
    "#words = list(digits)*10**5\n",
    "\n",
    "answers = [0, 2, 2, 2]\n",
    "\n",
    "d = Counter(answers)\n",
    "'''"
   ]
  },
  {
   "cell_type": "code",
   "execution_count": 92,
   "metadata": {},
   "outputs": [],
   "source": [
    "mysetup = '''\n",
    "from collections import Counter\n",
    "#from string import ascii_letters, digits\n",
    "'''"
   ]
  },
  {
   "cell_type": "code",
   "execution_count": 107,
   "metadata": {},
   "outputs": [
    {
     "data": {
      "text/plain": [
       "3.199999991920777e-05"
      ]
     },
     "execution_count": 107,
     "metadata": {},
     "output_type": "execute_result"
    }
   ],
   "source": [
    "timeit.timeit(setup = mysetup, stmt = mycode, number = 7)"
   ]
  },
  {
   "cell_type": "code",
   "execution_count": 9,
   "metadata": {
    "scrolled": true
   },
   "outputs": [
    {
     "name": "stdout",
     "output_type": "stream",
     "text": [
      "19.4 ns ± 1 ns per loop (mean ± std. dev. of 7 runs, 10000000 loops each)\n"
     ]
    }
   ],
   "source": [
    "from collections import Counter\n",
    "%timeit words\n",
    "d = Counter(words)"
   ]
  },
  {
   "cell_type": "code",
   "execution_count": 106,
   "metadata": {},
   "outputs": [
    {
     "name": "stdout",
     "output_type": "stream",
     "text": [
      "21.7 ns ± 1.45 ns per loop (mean ± std. dev. of 7 runs, 10000000 loops each)\n"
     ]
    }
   ],
   "source": [
    "answers = [0, 2, 2, 2]\n",
    "%timeit answers\n",
    "from collections import Counter\n",
    "\n",
    "d = Counter(answers)"
   ]
  },
  {
   "cell_type": "code",
   "execution_count": null,
   "metadata": {},
   "outputs": [],
   "source": [
    "words=[0, 2, 2, 2]\n",
    "{i:words.count(i) for i in words}"
   ]
  },
  {
   "cell_type": "code",
   "execution_count": null,
   "metadata": {},
   "outputs": [],
   "source": [
    "start_time = timeit.default_timer()\n",
    "# code you want to evaluate\n",
    "elapsed = timeit.default_timer() - start_time"
   ]
  },
  {
   "cell_type": "code",
   "execution_count": null,
   "metadata": {},
   "outputs": [],
   "source": [
    "from itertools import groupby as gb\n",
    "from math import ceil\n",
    "answers = [1,0,1,0,0]  \n",
    "lst = [(len(list(v)), g) for g, v in gb(sorted(answers))]\n",
    "\n",
    "[(len(list(v)), g) for g, v in gb(sorted(answers))]"
   ]
  },
  {
   "cell_type": "code",
   "execution_count": null,
   "metadata": {},
   "outputs": [],
   "source": [
    "[ceil(t[0]/(t[1] + 1)) * (t[1] + 1) for t in lst]"
   ]
  },
  {
   "cell_type": "code",
   "execution_count": null,
   "metadata": {},
   "outputs": [],
   "source": [
    "from collections import Counter\n",
    "Counter(answers)"
   ]
  },
  {
   "cell_type": "code",
   "execution_count": null,
   "metadata": {},
   "outputs": [],
   "source": [
    "sum([ceil(v/(k + 1)) * (k + 1) for k, v in Counter(answers).items()])"
   ]
  },
  {
   "cell_type": "code",
   "execution_count": null,
   "metadata": {
    "scrolled": true
   },
   "outputs": [],
   "source": [
    "[len(answers) + 1 for g, v in gb(sorted(answers))]"
   ]
  },
  {
   "cell_type": "code",
   "execution_count": null,
   "metadata": {},
   "outputs": [],
   "source": [
    "# For every grouping of K rabbits, where K is the total number of rabbits that had the \n",
    "# same answer, we can deduce that the minimum number of rabbits is equal to Math.ceil(K/(answer + 1)) * (answer + 1)."
   ]
  },
  {
   "cell_type": "code",
   "execution_count": null,
   "metadata": {},
   "outputs": [],
   "source": [
    "from collections import Counter\n",
    "answers = [0,0,1,1,1]\n",
    "l1 = [list(v) for g, v in gb(sorted(answers))]\n",
    "c = Counter(answers)\n",
    "c"
   ]
  },
  {
   "cell_type": "code",
   "execution_count": null,
   "metadata": {},
   "outputs": [],
   "source": [
    "sum((c[i] + i) / (i + 1) * (i + 1) for i in c)"
   ]
  },
  {
   "cell_type": "code",
   "execution_count": null,
   "metadata": {},
   "outputs": [],
   "source": [
    "[divmod(len(l), 2) for l in l1]"
   ]
  },
  {
   "cell_type": "code",
   "execution_count": null,
   "metadata": {},
   "outputs": [],
   "source": [
    "answers = [1,0,1,0,0]\n",
    "#sum(len(answers)) + divmod(len(answers), 2)[1]\n",
    "#divmod(len(answers), 2)[1]"
   ]
  },
  {
   "cell_type": "code",
   "execution_count": null,
   "metadata": {},
   "outputs": [],
   "source": [
    "from itertools import groupby as gb\n",
    "l = list(gb(answers, key = lambda k: k))\n",
    "#list(list(gb(answers))[0][1])\n",
    "\n",
    "list(l[0][1])"
   ]
  },
  {
   "cell_type": "code",
   "execution_count": null,
   "metadata": {},
   "outputs": [],
   "source": [
    "[(t[0], list(t[1])) for t in l]"
   ]
  },
  {
   "cell_type": "code",
   "execution_count": null,
   "metadata": {},
   "outputs": [],
   "source": [
    "import pandas as pd\n",
    "df=[['7','4','5','',''],[\"\",\"\",\"\",'7','4'],['9','4','7','8','4'],[\"\",\"\",\"\",'7','5'],['4','8','5','4','6'],['4','9','41','74','20'],['4','Super','yes','0','9']]\n",
    "df=pd.DataFrame(df)\n",
    "df.astype('str')\n",
    "df.iloc[1 : 4,:].apply(lambda x : ''.join(x)).to_frame().transpose()#.reset_index()#.pivot(index = 'index', columns = 'index', values = '0')"
   ]
  },
  {
   "cell_type": "code",
   "execution_count": null,
   "metadata": {},
   "outputs": [],
   "source": [
    "\n",
    "\n",
    "# this is an important step because we need a column to groupby\n",
    "#df['gb'] = 'gb'\n",
    "\n",
    "start_end = [[1,3],[4,5]]\n",
    "\n",
    "#df.columns = ['0', '1', '2', '3', '4', 'gb']\n",
    "\n",
    "new_df = pd.DataFrame()\n",
    "\n",
    "for l in start_end:\n",
    "    \n",
    "    #temp_df = df.iloc[l[0] : l[1] + 1,:].groupby(['gb']).agg(lambda x : ''.join(x)).reset_index(drop = True)\n",
    "    temp_df = df.iloc[l[0] : l[1] + 1,:].apply(lambda x : ''.join(x)).to_frame().transpose()\n",
    "    \n",
    "    new_df = pd.concat([new_df, temp_df], ignore_index = True)\n",
    "\n",
    "new_df"
   ]
  },
  {
   "cell_type": "code",
   "execution_count": null,
   "metadata": {},
   "outputs": [],
   "source": [
    "start_end = [[1,3],[4,5]]\n",
    "\n",
    "new_df = pd.DataFrame()\n",
    "\n",
    "for l in start_end:\n",
    "    \n",
    "    temp_df = df.iloc[l[0] : l[1] + 1,:].apply(lambda x : ''.join(x)).to_frame().transpose()\n",
    "    \n",
    "    new_df = pd.concat([new_df, temp_df], ignore_index = True)\n",
    "\n",
    "new_df"
   ]
  },
  {
   "cell_type": "code",
   "execution_count": null,
   "metadata": {
    "scrolled": true
   },
   "outputs": [],
   "source": [
    "from itertools import product\n",
    "{\n",
    "  sum(x ** 2 for x in xs) : xs\n",
    "  for xs in product(range(7), repeat=3)\n",
    "  if sum(x ** 2 for x in xs) % 8 in {3, 4, 0}\n",
    "}"
   ]
  },
  {
   "cell_type": "code",
   "execution_count": null,
   "metadata": {},
   "outputs": [],
   "source": [
    "[\n",
    "    (x, f(x) , g(x)) \n",
    "    for (x, f(x), g(x)) in (\n",
    "        (x, f(x), g(fx))\n",
    "        for (x, f(x)) in (\n",
    "            (x, f(x)) \n",
    "            for x in bigList\n",
    "        )\n",
    "        if f(x) < p\n",
    "    )\n",
    "    if g(x) < q\n",
    "]"
   ]
  },
  {
   "cell_type": "code",
   "execution_count": null,
   "metadata": {},
   "outputs": [],
   "source": [
    "def xs(x, y):\n",
    "    return x - y\n",
    "\n",
    "iter1 = [1, 2, 3]\n",
    "iter2 = [4, 6, 8, 9]\n",
    "\n",
    "iter(list(map(xs, iter1, iter2)))"
   ]
  },
  {
   "cell_type": "code",
   "execution_count": null,
   "metadata": {},
   "outputs": [],
   "source": [
    "import re\n",
    "pattern = r'base=\\\"(?P<groupname>[0-9]{1,10})\\\"'\n",
    "s = '<div aim=\"\" base=\"1005260\" class=\"item card cb23 eb02 rb3 d1\" ele=\"2\" imgur=\"kMBzbLb\" quantity=\"\" release=\"\" res=\"1005260\" type=\"1\"><div class=\"content\"></div><a class=\"ab\" hash=\"\" href=\"/cards/1005260-vegito-peerless-combination\" title=\"Peerless Combination - Vegito\"><table><tr><td class=\"dokkan\"></td><td class=\"element\"></td></tr><tr><td class=\"rarity\"><i>ssr</i></td><td class=\"lock off\"><i class=\"material-icons off\"></i><i class=\"material-icons on\"></i></td></tr></table></a><div class=\"dv\">11921</div></div>'\n",
    "int(re.search(pattern, s).group('groupname'))\n"
   ]
  }
 ],
 "metadata": {
  "kernelspec": {
   "display_name": "Python 3",
   "language": "python",
   "name": "python3"
  },
  "language_info": {
   "codemirror_mode": {
    "name": "ipython",
    "version": 3
   },
   "file_extension": ".py",
   "mimetype": "text/x-python",
   "name": "python",
   "nbconvert_exporter": "python",
   "pygments_lexer": "ipython3",
   "version": "3.7.6"
  }
 },
 "nbformat": 4,
 "nbformat_minor": 4
}
