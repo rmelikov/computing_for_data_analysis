{
 "cells": [
  {
   "cell_type": "code",
   "execution_count": null,
   "outputs": [],
   "source": [
    "import http.client\n",
    "import json\n",
    "import csv"
   ],
   "metadata": {
    "collapsed": false,
    "pycharm": {
     "name": "#%%\n"
    }
   }
  },
  {
   "cell_type": "code",
   "execution_count": null,
   "outputs": [],
   "source": [
    "class Graph:\n",
    "\n",
    "    # Do not modify\n",
    "    def __init__(self, with_nodes_file=None, with_edges_file=None):\n",
    "        \"\"\"\n",
    "        option 1:  init as an empty graph and add nodes\n",
    "        option 2: init by specifying a path to nodes & edges files\n",
    "        \"\"\"\n",
    "        self.nodes = []\n",
    "        self.edges = []\n",
    "        if with_nodes_file and with_edges_file:\n",
    "            nodes_CSV = csv.reader(open(with_nodes_file))\n",
    "            nodes_CSV = list(nodes_CSV)[1:]\n",
    "            self.nodes = [(n[0],n[1]) for n in nodes_CSV]\n",
    "\n",
    "            edges_CSV = csv.reader(open(with_edges_file))\n",
    "            edges_CSV = list(edges_CSV)[1:]\n",
    "            self.edges = [(e[0],e[1]) for e in edges_CSV]\n",
    "\n",
    "\n",
    "    def add_node(self, id: str, name: str)->None:\n",
    "        \"\"\"\n",
    "        add a tuple (id, name) representing a node to self.nodes if it does not already exist\n",
    "        The graph should not contain any duplicate nodes\n",
    "        \"\"\"\n",
    "        name = name.encode(\"ascii\", \"ignore\").decode(\"ascii\")\n",
    "        t = (id, name)\n",
    "        if t not in set(self.nodes):\n",
    "            self.nodes.append(t)\n",
    "\n",
    "\n",
    "    def add_edge(self, source: str, target: str)->None:\n",
    "        \"\"\"\n",
    "        Add an edge between two nodes if it does not already exist.\n",
    "        An edge is represented by a tuple containing two strings: e.g.: ('source', 'target').\n",
    "        Where 'source' is the id of the source node and 'target' is the id of the target node\n",
    "        e.g., for two nodes with ids 'a' and 'b' respectively, add the tuple ('a', 'b') to self.edges\n",
    "        \"\"\"\n",
    "        t = (source, target)\n",
    "        edges = set(self.edges)\n",
    "        nodes = [t, tuple(reversed(t))]\n",
    "        check = any(item in edges for item in nodes)\n",
    "        if not check:\n",
    "            self.edges.append(t)\n",
    "\n",
    "\n",
    "    def total_nodes(self)->int:\n",
    "        \"\"\"\n",
    "        Returns an integer value for the total number of nodes in the graph\n",
    "        \"\"\"\n",
    "        return len(self.nodes)\n",
    "\n",
    "\n",
    "    def total_edges(self)->int:\n",
    "        \"\"\"\n",
    "        Returns an integer value for the total number of edges in the graph\n",
    "        \"\"\"\n",
    "        return len(self.edges)\n",
    "\n",
    "\n",
    "    def max_degree_nodes(self)->dict:\n",
    "        \"\"\"\n",
    "        Return the node(s) with the highest degree\n",
    "        Return multiple nodes in the event of a tie\n",
    "        Format is a dict where the key is the node_id and the value is an integer for the node degree\n",
    "        e.g. {'a': 8}\n",
    "        or {'a': 22, 'b': 22}\n",
    "        \"\"\"\n",
    "        d = {}\n",
    "        for (a, b) in self.edges:\n",
    "            if a not in d.keys():\n",
    "                d[a] = 1\n",
    "            else:\n",
    "                d[a] += 1\n",
    "            if b not in d.keys():\n",
    "                d[b] = 1\n",
    "            else:\n",
    "                d[b] += 1\n",
    "        output = {k : v for k, v in d.items() if v == max(d.values())}\n",
    "        return output\n",
    "\n",
    "\n",
    "    def print_nodes(self):\n",
    "        \"\"\"\n",
    "        No further implementation required\n",
    "        May be used for de-bugging if necessary\n",
    "        \"\"\"\n",
    "        print(self.nodes)\n",
    "\n",
    "\n",
    "    def print_edges(self):\n",
    "        \"\"\"\n",
    "        No further implementation required\n",
    "        May be used for de-bugging if necessary\n",
    "        \"\"\"\n",
    "        print(self.edges)\n",
    "\n",
    "\n",
    "    # Do not modify\n",
    "    def write_edges_file(self, path=\"edges.csv\")->None:\n",
    "        \"\"\"\n",
    "        write all edges out as .csv\n",
    "        :param path: string\n",
    "        :return: None\n",
    "        \"\"\"\n",
    "        edges_path = path\n",
    "        edges_file = open(edges_path, 'w')\n",
    "\n",
    "        edges_file.write(\"source\" + \",\" + \"target\" + \"\\n\")\n",
    "\n",
    "        for e in self.edges:\n",
    "            edges_file.write(e[0] + \",\" + e[1] + \"\\n\")\n",
    "\n",
    "        edges_file.close()\n",
    "        print(\"finished writing edges to csv\")\n",
    "\n",
    "\n",
    "    # Do not modify\n",
    "    def write_nodes_file(self, path=\"nodes.csv\")->None:\n",
    "        \"\"\"\n",
    "        write all nodes out as .csv\n",
    "        :param path: string\n",
    "        :return: None\n",
    "        \"\"\"\n",
    "        nodes_path = path\n",
    "        nodes_file = open(nodes_path, 'w')\n",
    "\n",
    "        nodes_file.write(\"id,name\" + \"\\n\")\n",
    "        for n in self.nodes:\n",
    "            nodes_file.write(n[0] + \",\" + n[1] + \"\\n\")\n",
    "        nodes_file.close()\n",
    "        print(\"finished writing nodes to csv\")\n",
    "\n",
    "\n",
    "\n",
    "class  TMDBAPIUtils:\n",
    "\n",
    "    # Do not modify\n",
    "    def __init__(self, api_key:str):\n",
    "        self.api_key=api_key\n",
    "\n",
    "\n",
    "    def get_movie_cast(self, movie_id:str, limit:int=None, exclude_ids:list=None) -> list:\n",
    "        \"\"\"\n",
    "        Get the movie cast for a given movie id, with optional parameters to exclude an cast member\n",
    "        from being returned and/or to limit the number of returned cast members\n",
    "        documentation url: https://developers.themoviedb.org/3/movies/get-movie-credits\n",
    "\n",
    "        :param integer movie_id: a movie_id\n",
    "        :param integer limit: number of returned cast members by their 'order' attribute\n",
    "            e.g., limit=5 will attempt to return the 5 cast members having 'order' attribute values between 0-4\n",
    "            If there are fewer cast members than the specified limit or the limit not specified, return all cast members\n",
    "        :param list exclude_ids: a list of ints containing ids (not cast_ids) of cast members  that should be excluded from the returned result\n",
    "            e.g., if exclude_ids are [353, 455] then exclude these from any result.\n",
    "        :rtype: list\n",
    "            return a list of dicts, one dict per cast member with the following structure:\n",
    "                [{'id': '97909' # the id of the cast member\n",
    "                'character': 'John Doe' # the name of the character played\n",
    "                'credit_id': '52fe4249c3a36847f8012927' # id of the credit, ...}, ...]\n",
    "                Note that this is an example of the structure of the list and some of the fields returned by the API. The result of the API call will include many more fields for each cast member.\n",
    "        Important: the exclude_ids processing should occur prior to limiting output.\n",
    "        \"\"\"\n",
    "        connection = http.client.HTTPSConnection(\"api.themoviedb.org\")\n",
    "        connection.request(\"GET\", \"/3/movie/{}/credits?api_key={}\".format(movie_id, self.api_key))\n",
    "        response = connection.getresponse()\n",
    "        body = response.read().decode()\n",
    "        movie_cast = json.loads(body)\n",
    "        if movie_cast is not None:\n",
    "            output = [d for d in movie_cast['cast']]\n",
    "            if exclude_ids is not None:\n",
    "                output = [d for d in output if d['id'] not in exclude_ids]\n",
    "            if limit is not None:\n",
    "                output = [d for d in output if d['order'] < limit]\n",
    "        else:\n",
    "            output = []\n",
    "        return output\n",
    "\n",
    "\n",
    "    def get_movie_credits_for_person(self, person_id:str, vote_avg_threshold:float=None)->list:\n",
    "        \"\"\"\n",
    "        Using the TMDb API, get the movie credits for a person serving in a cast role\n",
    "        documentation url: https://developers.themoviedb.org/3/people/get-person-movie-credits\n",
    "\n",
    "        :param string person_id: the id of a person\n",
    "        :param vote_avg_threshold: optional parameter to return the movie credit if it is >=\n",
    "            the specified threshold.\n",
    "            e.g., if the vote_avg_threshold is 5.0, then only return credits with a vote_avg >= 5.0\n",
    "        :rtype: list\n",
    "            return a list of dicts, one dict per movie credit with the following structure:\n",
    "                [{'id': '97909' # the id of the movie credit\n",
    "                'title': 'Long, Stock and Two Smoking Barrels' # the title (not original title) of the credit\n",
    "                'vote_avg': 5.0 # the float value of the vote average value for the credit}, ... ]\n",
    "        \"\"\"\n",
    "        connection = http.client.HTTPSConnection(\"api.themoviedb.org\")\n",
    "        connection.request(\"GET\", \"/3/person/{}/movie_credits?api_key={}&language=en-US\".format(person_id, self.api_key))\n",
    "        response = connection.getresponse()\n",
    "        body = response.read().decode()\n",
    "        person_credits = json.loads(body)\n",
    "        if person_credits is not None:\n",
    "            output = [\n",
    "                {\n",
    "                    k : v\n",
    "                    for k, v in d.items()\n",
    "                    if k in {'credit_id', 'title', 'vote_average', 'id'}\n",
    "                }\n",
    "                for d in person_credits['cast']\n",
    "            ]\n",
    "            if vote_avg_threshold is not None:\n",
    "                output = [d for d in output if d['vote_average'] >= vote_avg_threshold]\n",
    "        else:\n",
    "            output = []\n",
    "        return output"
   ],
   "metadata": {
    "collapsed": false,
    "pycharm": {
     "name": "#%%\n"
    }
   }
  },
  {
   "cell_type": "code",
   "execution_count": null,
   "outputs": [],
   "source": [
    "api_key = 'e6c6d80656546a1dd359ab0b71ca6432'\n",
    "top_node = {'id' : '5064', 'name' : 'Meryl Streep'}"
   ],
   "metadata": {
    "collapsed": false,
    "pycharm": {
     "name": "#%%\n"
    }
   }
  },
  {
   "cell_type": "code",
   "execution_count": null,
   "outputs": [],
   "source": [
    "def combinations(lst, n):\n",
    "    if n == 0:\n",
    "        return [[]]\n",
    "    l = []\n",
    "    for i in range(0, len(lst)):\n",
    "        m = lst[i]\n",
    "        remainding_lst = lst[i + 1:]\n",
    "        for p in combinations(remainding_lst, n - 1):\n",
    "            l.append([m] + p)\n",
    "    return l\n",
    "\n",
    "def coactor_network(api_key:str, top_node:dict, iteration:int = 3) -> None:\n",
    "    graph = Graph()\n",
    "    graph.add_node(top_node['id'], top_node['name'])\n",
    "    tmdb_api_utils = TMDBAPIUtils(api_key = api_key)\n",
    "    iterable = graph.nodes\n",
    "    for (person_id, name) in iterable:\n",
    "        person_credits = tmdb_api_utils.get_movie_credits_for_person(person_id, vote_avg_threshold = 8.0)\n",
    "        movie_cast = {}\n",
    "        for d in person_credits:\n",
    "            movie_cast[d['id']] = tmdb_api_utils.get_movie_cast(d['id'], limit = 3, exclude_ids = None)\n",
    "        for movie_id, cast in movie_cast.items():\n",
    "            for actor in cast:\n",
    "                person_id1 = str(actor['id'])\n",
    "                name1 = actor['name']\n",
    "                if (person_id1, name1) not in set(graph.nodes):\n",
    "                    graph.add_node(id=person_id1, name=name1)\n",
    "                    iterable.\n",
    "                combo_list = [str(d2['id']) for d2 in cast]\n",
    "                if person_id not in set(combo_list):\n",
    "                    combo_list.append(person_id)\n",
    "                for t in combinations(combo_list, 2):\n",
    "                    if t[0] != t[1] and (t[0], t[1]) not in set(graph.edges) and (t[1], t[0]) not in set(graph.edges):\n",
    "                        graph.add_edge(source=t[0], target=t[1])\n",
    "        if iteration == 0:\n",
    "            break\n",
    "        iteration -= 1\n",
    "        \n",
    "    graph.write_edges_file()\n",
    "    graph.write_nodes_file()\n",
    "\n",
    "coactor_network(api_key, top_node)"
   ],
   "metadata": {
    "collapsed": false,
    "pycharm": {
     "name": "#%%\n"
    }
   }
  },
  {
   "cell_type": "code",
   "execution_count": null,
   "outputs": [],
   "source": [
    "test = []\n",
    "t = 1 \n",
    "s = 2\n",
    "test.append((t, s))\n",
    "test.pop\n",
    "test"
   ],
   "metadata": {
    "collapsed": false,
    "pycharm": {
     "name": "#%%\n"
    }
   }
  },
  {
   "cell_type": "code",
   "execution_count": null,
   "outputs": [],
   "source": [],
   "metadata": {
    "collapsed": false,
    "pycharm": {
     "name": "#%%\n"
    }
   }
  },
  {
   "cell_type": "code",
   "execution_count": null,
   "outputs": [],
   "source": [
    "graph = Graph()\n",
    "graph.add_node(id='5064', name='Meryl Streep')\n",
    "tmdb_api_utils = TMDBAPIUtils(api_key = api_key)"
   ],
   "metadata": {
    "collapsed": false,
    "pycharm": {
     "name": "#%%\n"
    }
   }
  },
  {
   "cell_type": "code",
   "execution_count": null,
   "outputs": [],
   "source": [
    "print(type(graph.nodes))"
   ],
   "metadata": {
    "collapsed": false,
    "pycharm": {
     "name": "#%%\n"
    }
   }
  },
  {
   "cell_type": "code",
   "execution_count": null,
   "outputs": [],
   "source": [
    "top_node_person_id = graph.nodes[0][0]"
   ],
   "metadata": {
    "collapsed": false,
    "pycharm": {
     "name": "#%%\n"
    }
   }
  },
  {
   "cell_type": "code",
   "execution_count": null,
   "outputs": [],
   "source": [
    "person_credits = tmdb_api_utils.get_movie_credits_for_person(top_node_person_id, vote_avg_threshold = 8.0)"
   ],
   "metadata": {
    "collapsed": false,
    "pycharm": {
     "name": "#%%\n"
    }
   }
  },
  {
   "cell_type": "code",
   "execution_count": null,
   "outputs": [],
   "source": [
    "movie_cast = {}\n",
    "for d in person_credits:\n",
    "    movie_cast[d['id']] = tmdb_api_utils.get_movie_cast(d['id'], limit = 3, exclude_ids = None)"
   ],
   "metadata": {
    "collapsed": false,
    "pycharm": {
     "name": "#%%\n"
    }
   }
  },
  {
   "cell_type": "code",
   "execution_count": null,
   "outputs": [],
   "source": [
    "set(graph.nodes)"
   ],
   "metadata": {
    "collapsed": false,
    "pycharm": {
     "name": "#%%\n"
    }
   }
  },
  {
   "cell_type": "code",
   "execution_count": null,
   "outputs": [],
   "source": [
    "set(graph.edges)"
   ],
   "metadata": {
    "collapsed": false,
    "pycharm": {
     "name": "#%%\n"
    }
   }
  },
  {
   "cell_type": "code",
   "execution_count": null,
   "outputs": [],
   "source": [
    "def combinations(lst, n):  \n",
    "    if n == 0: \n",
    "        return [[]]  \n",
    "    l = [] \n",
    "    for i in range(0, len(lst)):     \n",
    "        m = lst[i] \n",
    "        remainding_lst = lst[i + 1:] \n",
    "        for p in combinations(remainding_lst, n-1): \n",
    "            l.append([m] + p)   \n",
    "    return l "
   ],
   "metadata": {
    "collapsed": false,
    "pycharm": {
     "name": "#%%\n"
    }
   }
  },
  {
   "cell_type": "code",
   "execution_count": null,
   "outputs": [],
   "source": [
    "for k, v in movie_cast.items():\n",
    "    for d in v:\n",
    "        person_id = str(d['id'])\n",
    "        name = d['name']\n",
    "        if (person_id, name) not in set(graph.nodes):\n",
    "            graph.add_node(id = person_id, name = name)\n",
    "        combo_list = [str(d2['id']) for d2 in v]\n",
    "        if top_node_person_id not in set(combo_list):\n",
    "            combo_list.append(top_node_person_id)\n",
    "        for t in combinations(combo_list, 2):\n",
    "                if t[0] != t[1] and (t[0], t[1]) not in set(graph.edges):\n",
    "                    graph.add_edge(source = t[0], target = t[1])"
   ],
   "metadata": {
    "collapsed": false,
    "pycharm": {
     "name": "#%%\n"
    }
   }
  },
  {
   "cell_type": "code",
   "execution_count": null,
   "outputs": [],
   "source": [
    "print(graph.edges)"
   ],
   "metadata": {
    "collapsed": false,
    "pycharm": {
     "name": "#%%\n"
    }
   }
  },
  {
   "cell_type": "code",
   "execution_count": null,
   "outputs": [],
   "source": [
    "print(graph.nodes)"
   ],
   "metadata": {
    "collapsed": false,
    "pycharm": {
     "name": "#%%\n"
    }
   }
  },
  {
   "cell_type": "code",
   "execution_count": null,
   "outputs": [],
   "source": [
    "assert len(set(graph.edges)) == len(graph.edges)\n",
    "assert len(set(graph.nodes)) == len(graph.nodes)"
   ],
   "metadata": {
    "collapsed": false,
    "pycharm": {
     "name": "#%%\n"
    }
   }
  },
  {
   "cell_type": "code",
   "execution_count": null,
   "outputs": [],
   "source": [
    "for (person_id, name) in graph.nodes[1:]:\n",
    "    person_credits = tmdb_api_utils.get_movie_credits_for_person(person_id, vote_avg_threshold = 8.0)\n",
    "    movie_cast = {}\n",
    "    for d in person_credits:\n",
    "        movie_cast[d['id']] = tmdb_api_utils.get_movie_cast(d['id'], limit = 3, exclude_ids = None)\n",
    "    for k, v in movie_cast.items():\n",
    "        for d1 in v:\n",
    "            person_id1 = str(d1['id'])\n",
    "            name1 = d1['name']\n",
    "            if (person_id1, name1) not in set(graph.nodes):\n",
    "                graph.add_node(id = person_id1, name = name1)\n",
    "            combo_list = [str(d2['id']) for d2 in v]\n",
    "            if person_id not in set(combo_list):\n",
    "                combo_list.append(person_id)\n",
    "            for t in combinations(combo_list, 2):\n",
    "                if t[0] != t[1] and (t[0], t[1]) not in set(graph.edges):\n",
    "                    graph.add_edge(source = t[0], target = t[1])"
   ],
   "metadata": {
    "collapsed": false,
    "pycharm": {
     "name": "#%%\n"
    }
   }
  },
  {
   "cell_type": "code",
   "execution_count": null,
   "outputs": [],
   "source": [
    "for (person_id, name) in graph.nodes[1:]:\n",
    "    person_credits = tmdb_api_utils.get_movie_credits_for_person(person_id, vote_avg_threshold = 8.0)\n",
    "    movie_cast = {}\n",
    "    for d in person_credits:\n",
    "        movie_cast[d['id']] = tmdb_api_utils.get_movie_cast(d['id'], limit = 3, exclude_ids = None)\n",
    "    for k, v in movie_cast.items():\n",
    "        for d1 in v:\n",
    "            person_id1 = str(d1['id'])\n",
    "            name1 = d1['name']\n",
    "            if (person_id1, name1) not in set(graph.nodes):\n",
    "                graph.add_node(id = person_id1, name = name1)\n",
    "            combo_list = [str(d2['id']) for d2 in v]\n",
    "            if person_id not in set(combo_list):\n",
    "                combo_list.append(person_id)\n",
    "            for t in combinations(combo_list, 2):\n",
    "                if t[0] != t[1] and (t[0], t[1]) not in set(graph.edges):\n",
    "                    graph.add_edge(source = t[0], target = t[1])"
   ],
   "metadata": {
    "collapsed": false,
    "pycharm": {
     "name": "#%%\n"
    }
   }
  },
  {
   "cell_type": "code",
   "execution_count": null,
   "outputs": [],
   "source": [
    "for (person_id, name) in graph.nodes[1:]:\n",
    "    person_credits = tmdb_api_utils.get_movie_credits_for_person(person_id, vote_avg_threshold = 8.0)\n",
    "    movie_cast = {}\n",
    "    for d in person_credits:\n",
    "        movie_cast[d['id']] = tmdb_api_utils.get_movie_cast(d['id'], limit = 3, exclude_ids = None)\n",
    "    for k, v in movie_cast.items():\n",
    "        for d1 in v:\n",
    "            person_id1 = str(d1['id'])\n",
    "            name1 = d1['name']\n",
    "            if (person_id1, name1) not in set(graph.nodes):\n",
    "                graph.add_node(id = person_id1, name = name1)\n",
    "            combo_list = [str(d2['id']) for d2 in v]\n",
    "            if person_id not in set(combo_list):\n",
    "                combo_list.append(person_id)\n",
    "            for t in combinations(combo_list, 2):\n",
    "                if t[0] != t[1] and (t[0], t[1]) not in set(graph.edges):\n",
    "                    graph.add_edge(source = t[0], target = t[1])"
   ],
   "metadata": {
    "collapsed": false,
    "pycharm": {
     "name": "#%%\n"
    }
   }
  },
  {
   "cell_type": "code",
   "execution_count": null,
   "outputs": [],
   "source": [
    "graph.write_edges_file()\n",
    "graph.write_nodes_file()"
   ],
   "metadata": {
    "collapsed": false,
    "pycharm": {
     "name": "#%%\n"
    }
   }
  },
  {
   "cell_type": "code",
   "execution_count": null,
   "outputs": [],
   "source": [
    "tst = None"
   ],
   "metadata": {
    "collapsed": false,
    "pycharm": {
     "name": "#%%\n"
    }
   }
  },
  {
   "cell_type": "code",
   "execution_count": null,
   "outputs": [],
   "source": [
    "if not tst:\n",
    "    print(1)"
   ],
   "metadata": {
    "collapsed": false,
    "pycharm": {
     "name": "#%%\n"
    }
   }
  },
  {
   "cell_type": "code",
   "execution_count": null,
   "outputs": [],
   "source": [
    "movie_id = 455\n",
    "api_key = 'e6c6d80656546a1dd359ab0b71ca6432'"
   ],
   "metadata": {
    "collapsed": false,
    "pycharm": {
     "name": "#%%\n"
    }
   }
  },
  {
   "cell_type": "code",
   "execution_count": null,
   "outputs": [],
   "source": [
    "import http.client\n",
    "import json\n",
    "connection = http.client.HTTPSConnection(\"api.themoviedb.org\")\n",
    "connection.request(\"GET\", \"/3/movie/{}/credits?api_key={}\".format(movie_id, api_key))\n",
    "response = connection.getresponse()\n",
    "\n"
   ],
   "metadata": {
    "collapsed": false,
    "pycharm": {
     "name": "#%%\n"
    }
   }
  },
  {
   "cell_type": "code",
   "execution_count": null,
   "outputs": [],
   "source": [
    "headers = response.getheaders()\n",
    "body = response.read().decode()"
   ],
   "metadata": {
    "collapsed": false,
    "pycharm": {
     "name": "#%%\n"
    }
   }
  },
  {
   "cell_type": "code",
   "execution_count": null,
   "outputs": [],
   "source": [
    "exclude_ids = [62230, 231610]\n",
    "limit = 5\n",
    "movie_cast = json.loads(body)"
   ],
   "metadata": {
    "collapsed": false,
    "pycharm": {
     "name": "#%%\n"
    }
   }
  },
  {
   "cell_type": "code",
   "execution_count": null,
   "outputs": [],
   "source": [
    "movie_cast = None"
   ],
   "metadata": {
    "collapsed": false,
    "pycharm": {
     "name": "#%%\n"
    }
   }
  },
  {
   "cell_type": "code",
   "execution_count": null,
   "outputs": [],
   "source": [
    "if movie_cast is not None:\n",
    "    output = [d for d in movie_cast['cast']]\n",
    "    if exclude_ids is not None:\n",
    "        output = [d for d in output if d['id'] not in exclude_ids]\n",
    "    if limit is not None:\n",
    "        output = [d for d in output if d['order'] < limit]\n",
    "    #output = output[0:limit]\n",
    "else:\n",
    "    output = []\n",
    "output\n",
    "\n",
    "#else:\n",
    "#    print([d for d in cast['cast']])\n",
    "#print(type(cast))\n",
    "#print(read)\n",
    "#print(type(read))\n",
    "#msg = response.msg\n",
    "#print(msg)\n",
    "#pp = pprint.PrettyPrinter(indent=4)\n",
    "#pp.pprint(\"Headers: {}\".format(headers))\n",
    "#print(\"Status: {} and reason: {}\".format(response.status, response.reason))\n",
    "\n"
   ],
   "metadata": {
    "collapsed": false,
    "pycharm": {
     "name": "#%%\n"
    }
   }
  },
  {
   "cell_type": "code",
   "execution_count": null,
   "outputs": [],
   "source": [
    "output = [d for d in movie_cast['cast']]\n",
    "if exclude_ids is not None:\n",
    "    output = [d for d in output if d['id'] not in exclude_ids]\n",
    "if limit is not None:\n",
    "    output = [d for d in output if d['order'] < limit]\n",
    "output"
   ],
   "metadata": {
    "collapsed": false,
    "pycharm": {
     "name": "#%%\n"
    }
   }
  },
  {
   "cell_type": "code",
   "execution_count": null,
   "outputs": [],
   "source": [
    "person_id = 455\n",
    "api_key = 'e6c6d80656546a1dd359ab0b71ca6432'"
   ],
   "metadata": {
    "collapsed": false,
    "pycharm": {
     "name": "#%%\n"
    }
   }
  },
  {
   "cell_type": "code",
   "execution_count": null,
   "outputs": [],
   "source": [
    "connection = http.client.HTTPSConnection(\"api.themoviedb.org\")\n",
    "connection.request(\"GET\", \"/3/person/{}/movie_credits?api_key={}&language=en-US\".format(person_id, api_key))\n",
    "response = connection.getresponse()"
   ],
   "metadata": {
    "collapsed": false,
    "pycharm": {
     "name": "#%%\n"
    }
   }
  },
  {
   "cell_type": "code",
   "execution_count": null,
   "outputs": [],
   "source": [
    "body = response.read().decode()\n",
    "person_credits = json.loads(body)"
   ],
   "metadata": {
    "collapsed": false,
    "pycharm": {
     "name": "#%%\n"
    }
   }
  },
  {
   "cell_type": "code",
   "execution_count": null,
   "outputs": [],
   "source": [
    "vote_avg_threshold = 7.7"
   ],
   "metadata": {
    "collapsed": false,
    "pycharm": {
     "name": "#%%\n"
    }
   }
  },
  {
   "cell_type": "code",
   "execution_count": null,
   "outputs": [],
   "source": [
    "person_credits = None\n",
    "person_credits"
   ],
   "metadata": {
    "collapsed": false,
    "pycharm": {
     "name": "#%%\n"
    }
   }
  },
  {
   "cell_type": "code",
   "execution_count": null,
   "outputs": [],
   "source": [
    "person_credits"
   ],
   "metadata": {
    "collapsed": false,
    "pycharm": {
     "name": "#%%\n"
    }
   }
  },
  {
   "cell_type": "code",
   "execution_count": null,
   "outputs": [],
   "source": [
    "person_credits['cast']"
   ],
   "metadata": {
    "collapsed": false,
    "pycharm": {
     "name": "#%%\n"
    }
   }
  },
  {
   "cell_type": "code",
   "execution_count": null,
   "outputs": [],
   "source": [
    "if person_credits is not None:\n",
    "    output = [{k : v for k, v in d.items() if k in {'credit_id', 'title', 'vote_average', 'id'}} for d in person_credits['cast']]\n",
    "    if vote_avg_threshold is not None:\n",
    "        output = [d for d in output if d['vote_average'] >= vote_avg_threshold]\n",
    "else:\n",
    "    output = []\n",
    "output"
   ],
   "metadata": {
    "collapsed": false,
    "pycharm": {
     "name": "#%%\n"
    }
   }
  },
  {
   "cell_type": "code",
   "execution_count": null,
   "outputs": [],
   "source": [],
   "metadata": {
    "collapsed": false,
    "pycharm": {
     "name": "#%%\n"
    }
   }
  },
  {
   "cell_type": "code",
   "execution_count": null,
   "outputs": [],
   "source": [
    "connection.close()"
   ],
   "metadata": {
    "collapsed": false,
    "pycharm": {
     "name": "#%%\n"
    }
   }
  },
  {
   "cell_type": "code",
   "execution_count": null,
   "outputs": [],
   "source": [],
   "metadata": {
    "collapsed": false,
    "pycharm": {
     "name": "#%%\n"
    }
   }
  },
  {
   "cell_type": "code",
   "execution_count": null,
   "outputs": [],
   "source": [
    "E = [('e1', 'e2'), ('e2', 'e3'), ('e1', 'e3'), ('e3', 'e4'), ('e2', 'e5')]\n",
    "print(E)"
   ],
   "metadata": {
    "collapsed": false,
    "pycharm": {
     "name": "#%%\n"
    }
   }
  },
  {
   "cell_type": "code",
   "execution_count": null,
   "outputs": [],
   "source": [
    "d = {}\n",
    "\n",
    "for (e0, e1) in E:\n",
    "    if e0 not in d.keys():\n",
    "        d[e0] = 1\n",
    "    else:\n",
    "        d[e0] += 1\n",
    "    if e1 not in d.keys():\n",
    "        d[e1] = 1\n",
    "    else:\n",
    "        d[e1] += 1\n",
    "\n",
    "        \n",
    "print(d)\n",
    "print(max(d.values()))\n",
    "\n",
    "{k : v for k, v in d.items() if v == max(d.values())}"
   ],
   "metadata": {
    "collapsed": false,
    "pycharm": {
     "name": "#%%\n"
    }
   }
  },
  {
   "cell_type": "code",
   "execution_count": null,
   "outputs": [],
   "source": [
    "t = ('3', 'Marina')\n",
    "A = [('1', 'Ramin'), ('2', 'Ramina')]\n",
    "print(A)\n",
    "print(tuple(reversed(t)))\n",
    "print(set(A))"
   ],
   "metadata": {
    "collapsed": false,
    "pycharm": {
     "name": "#%%\n"
    }
   }
  },
  {
   "cell_type": "code",
   "execution_count": null,
   "outputs": [],
   "source": [
    "A.append(t)\n",
    "A"
   ],
   "metadata": {
    "collapsed": false,
    "pycharm": {
     "name": "#%%\n"
    }
   }
  },
  {
   "cell_type": "code",
   "execution_count": null,
   "outputs": [],
   "source": [
    "if t not in set(A):\n",
    "    A.extend(t)\n",
    "A"
   ],
   "metadata": {
    "collapsed": false,
    "pycharm": {
     "name": "#%%\n"
    }
   }
  },
  {
   "cell_type": "code",
   "execution_count": null,
   "outputs": [],
   "source": [
    "t = ('4', 'Michelle')\n",
    "if t not in set(A):\n",
    "    A.append(t)\n",
    "A"
   ],
   "metadata": {
    "collapsed": false,
    "pycharm": {
     "name": "#%%\n"
    }
   }
  },
  {
   "cell_type": "markdown",
   "source": [
    "Let $\n",
    "X_{i \\in I}^{j \\in J} = \\left[\n",
    "    \\begin{array}{ccc}\n",
    "    x_1^1&\\cdots&x_1^d\\\\\n",
    "    \\vdots&x_i^j&\\vdots\\\\\n",
    "    x_n^1&\\cdots&x_n^d\n",
    "    \\end{array}\n",
    "\\right] , \\left[\\begin{array}{c}I = {1,..., n}\\\\J = {1,..., d}\\end{array} \\right].\n",
    "$\n",
    "\n",
    "Then, $E[X_{i \\in I}^{j \\in J}] = \\left[\\begin{array}{c}E[X^1]\\\\\\vdots\\\\E[X^d]\\end{array} \\right].$\n",
    "\n",
    "\n",
    "\n"
   ],
   "metadata": {
    "collapsed": false
   }
  },
  {
   "cell_type": "code",
   "execution_count": null,
   "outputs": [],
   "source": [
    "import sys\n",
    "\n",
    "if not 'numpy' in sys.modules:\n",
    "    !pip install numpy\n",
    "\n",
    "import numpy as np"
   ],
   "metadata": {
    "collapsed": false,
    "pycharm": {
     "name": "#%%\n"
    }
   }
  },
  {
   "cell_type": "code",
   "execution_count": null,
   "outputs": [],
   "source": [
    "a = np.array(\n",
    "      [\n",
    "            [\n",
    "                  [10, 15, 1]\n",
    "                , [ 5, 10, 3]\n",
    "                , [10,  5, 3]\n",
    "            ]\n",
    "          , [\n",
    "                  [ 5, 25, 2]\n",
    "                , [20, 20, 3]\n",
    "                , [ 5, 15, 1]\n",
    "            ]\n",
    "      ]\n",
    ")\n",
    "np.array(sorted(a.reshape(-1, 3), key = lambda v: [v[0], v[1]])).reshape(a.shape)\n"
   ],
   "metadata": {
    "collapsed": false,
    "pycharm": {
     "name": "#%%\n"
    }
   }
  },
  {
   "cell_type": "code",
   "execution_count": null,
   "outputs": [],
   "source": [
    "np.rec.array(a)"
   ],
   "metadata": {
    "collapsed": false,
    "pycharm": {
     "name": "#%%\n"
    }
   }
  },
  {
   "cell_type": "code",
   "execution_count": null,
   "outputs": [],
   "source": [
    "field_names = ['y', 'x', 'classifier']"
   ],
   "metadata": {
    "collapsed": false,
    "pycharm": {
     "name": "#%%\n"
    }
   }
  },
  {
   "cell_type": "code",
   "execution_count": null,
   "outputs": [],
   "source": [
    "b = np.array([[[10, 15,  1],\n",
    "        [ 5, 10,  3],\n",
    "        [10,  5,  3]],\n",
    "\n",
    "       [[ 5, 25,  2],\n",
    "        [20, 20,  3],\n",
    "        [ 5, 15,  1]]])\n",
    "\n",
    "b"
   ],
   "metadata": {
    "collapsed": false,
    "pycharm": {
     "name": "#%%\n"
    }
   }
  },
  {
   "cell_type": "code",
   "execution_count": null,
   "outputs": [],
   "source": [
    "array_with_labels = np.array([[[(label, num) for i, num in enumerate(l2) for j, label in enumerate(field_names) if i == j] for l2 in l1] for l1 in b], dtype = [('yax'), (), ()]\n",
    "array_with_labels"
   ],
   "metadata": {
    "collapsed": false,
    "pycharm": {
     "name": "#%%\n"
    }
   }
  },
  {
   "cell_type": "code",
   "execution_count": null,
   "outputs": [],
   "source": [
    "np.sort(array_with_labels, order = ['y', 'x'])"
   ],
   "metadata": {
    "collapsed": false,
    "pycharm": {
     "name": "#%%\n"
    }
   }
  },
  {
   "cell_type": "code",
   "execution_count": null,
   "outputs": [],
   "source": [
    "[l2[0], l2[1], l2[2]]"
   ],
   "metadata": {
    "collapsed": false,
    "pycharm": {
     "name": "#%%\n"
    }
   }
  },
  {
   "cell_type": "code",
   "execution_count": null,
   "outputs": [],
   "source": [
    "np.sort(a, axis = 0)"
   ],
   "metadata": {
    "collapsed": false,
    "pycharm": {
     "name": "#%%\n"
    }
   }
  },
  {
   "cell_type": "code",
   "execution_count": null,
   "outputs": [],
   "source": [
    "import numpy as np\n",
    "X = np.array([\n",
    "    [5, 5, 4],\n",
    "    [8, 1, 8],\n",
    "    [0, 1, 5],\n",
    "    [0, 3, 1],\n",
    "    [6, 2, 5]\n",
    "])"
   ],
   "metadata": {
    "collapsed": false,
    "pycharm": {
     "name": "#%%\n"
    }
   }
  },
  {
   "cell_type": "code",
   "execution_count": null,
   "outputs": [],
   "source": [
    "np.linalg.inv(np.matmul(X, X.T))"
   ],
   "metadata": {
    "collapsed": false,
    "pycharm": {
     "name": "#%%\n"
    }
   }
  },
  {
   "cell_type": "code",
   "execution_count": null,
   "outputs": [],
   "source": [
    "def find_max_common_label_in_cluster(clustering, y, k):\n",
    "    import numpy as np\n",
    "    z = np.array([-1] * k)\n",
    "    for i in set(clustering):\n",
    "        y_indices = np.where(clustering == i)[0]\n",
    "        y_take = np.take(y, y_indices)\n",
    "        y_filtered = np.extract(y_take != -1, y_take)\n",
    "        if y_filtered.size:\n",
    "            counts = np.bincount(y_filtered)\n",
    "            z[i] = np.argmax(counts)            \n",
    "    return z"
   ],
   "metadata": {
    "collapsed": false,
    "pycharm": {
     "name": "#%%\n"
    }
   }
  },
  {
   "cell_type": "code",
   "execution_count": null,
   "outputs": [],
   "source": [
    "y = np.array([0,  0,  1,  0,  1,  0,  1,  0,  0,  0,  1,  0,  0,  1,  0,  0])"
   ],
   "metadata": {
    "collapsed": false,
    "pycharm": {
     "name": "#%%\n"
    }
   }
  },
  {
   "cell_type": "code",
   "execution_count": null,
   "outputs": [],
   "source": [],
   "metadata": {
    "collapsed": false,
    "pycharm": {
     "name": "#%%\n"
    }
   }
  },
  {
   "cell_type": "code",
   "execution_count": null,
   "outputs": [],
   "source": [
    "counts = np.bincount(y)\n",
    "counts"
   ],
   "metadata": {
    "collapsed": false,
    "pycharm": {
     "name": "#%%\n"
    }
   }
  },
  {
   "cell_type": "code",
   "execution_count": null,
   "outputs": [],
   "source": [
    "np.argmin(counts)"
   ],
   "metadata": {
    "collapsed": false,
    "pycharm": {
     "name": "#%%\n"
    }
   }
  },
  {
   "cell_type": "code",
   "execution_count": null,
   "outputs": [],
   "source": [
    "np.where(y == 1)[0]"
   ],
   "metadata": {
    "collapsed": false,
    "pycharm": {
     "name": "#%%\n"
    }
   }
  },
  {
   "cell_type": "code",
   "execution_count": null,
   "outputs": [],
   "source": [
    "from collections import Counter"
   ],
   "metadata": {
    "collapsed": false,
    "pycharm": {
     "name": "#%%\n"
    }
   }
  },
  {
   "cell_type": "code",
   "execution_count": null,
   "outputs": [],
   "source": [
    "ex2_demo_bags = [{'cat', 'dog', 'fish'},\n",
    "                 {'red', 'blue'},\n",
    "                 {'dog'},\n",
    "                 {'one', 'two', 'dog', 'fish'}]\n"
   ],
   "metadata": {
    "collapsed": false,
    "pycharm": {
     "name": "#%%\n"
    }
   }
  },
  {
   "cell_type": "code",
   "execution_count": null,
   "outputs": [],
   "source": [
    "\n",
    "[Counter(list(st)) for st in ex2_demo_bags]"
   ],
   "metadata": {
    "collapsed": false,
    "pycharm": {
     "name": "#%%\n"
    }
   }
  },
  {
   "cell_type": "code",
   "execution_count": null,
   "outputs": [],
   "source": [
    "ex1_demo_input = [\"This is a phrase; this, too, is a phrase\",\n",
    "                  \"But this is another sentence\",\n",
    "                  \"Hark\",\n",
    "                  \"Come what may    <-- save those spaces, but not these -->\",\n",
    "                  \"What did you say\",\n",
    "                  \"Split into 3 (even without a space)\",\n",
    "                  \"Okie dokie\"]"
   ],
   "metadata": {
    "collapsed": false,
    "pycharm": {
     "name": "#%%\n"
    }
   }
  },
  {
   "cell_type": "code",
   "execution_count": null,
   "outputs": [],
   "source": [
    "def clean(s):\n",
    "    from re import finditer\n",
    "    pattern = r\"[a-z]+('[a-z])?[a-z]*\"\n",
    "    return [match.group(0) for match in finditer(pattern, s.lower())]"
   ],
   "metadata": {
    "collapsed": false,
    "pycharm": {
     "name": "#%%\n"
    }
   }
  },
  {
   "cell_type": "code",
   "execution_count": null,
   "outputs": [],
   "source": [
    "def gen_bag_of_words(sents):\n",
    "    assert isinstance(sents, list)\n",
    "    for sentence in sents:\n",
    "        for word in clean(sentence) if word not in STOPWORDS]\n",
    "    \n",
    "# Demo:\n",
    "gen_bag_of_words(ex1_demo_input)"
   ],
   "metadata": {
    "collapsed": false,
    "pycharm": {
     "name": "#%%\n"
    }
   }
  },
  {
   "cell_type": "code",
   "execution_count": null,
   "outputs": [],
   "source": [
    "import re"
   ],
   "metadata": {
    "collapsed": false,
    "pycharm": {
     "name": "#%%\n"
    }
   }
  },
  {
   "cell_type": "code",
   "execution_count": null,
   "outputs": [],
   "source": [
    "ex0_demo_input = [\"  This is a phrase; this, too, is a phrase. But this is another sentence.\",\n",
    "                  \"Hark!\",\n",
    "                  \"    \",\n",
    "                  \"Come what may    <-- save those spaces, but not these -->    \",\n",
    "                  \"What did you say?Split into 3 (even without a space)? Okie dokie.\"]"
   ],
   "metadata": {
    "collapsed": false,
    "pycharm": {
     "name": "#%%\n"
    }
   }
  },
  {
   "cell_type": "code",
   "execution_count": null,
   "outputs": [],
   "source": [],
   "metadata": {
    "collapsed": false,
    "pycharm": {
     "name": "#%%\n"
    }
   }
  },
  {
   "cell_type": "code",
   "execution_count": null,
   "outputs": [],
   "source": [
    "result = []\n",
    "for element in ex0_demo_input:\n",
    "    result.extend([s.strip() for s in re.split(r'\\.|\\?|\\!', element)])\n",
    "    result = [s for s in result if s]\n",
    "result"
   ],
   "metadata": {
    "collapsed": false,
    "pycharm": {
     "name": "#%%\n"
    }
   }
  },
  {
   "cell_type": "code",
   "execution_count": null,
   "outputs": [],
   "source": [
    "clustering = np.array([ 8, 5, 5, 8, 6, 7,  4, 1, 8, 7, 5,  8, 8])\n",
    "y = np.array([-1, 5, 6, 9, 6, 7, -1, 1, -1, 7, 6, -1, 3])\n",
    "k = 10\n",
    "z = np.array([-1] * k)"
   ],
   "metadata": {
    "collapsed": false,
    "pycharm": {
     "name": "#%%\n"
    }
   }
  },
  {
   "cell_type": "code",
   "execution_count": null,
   "outputs": [],
   "source": [
    "#from collections import Counter\n",
    "for i in set(clustering):\n",
    "    y_indices = np.where(clustering == i)[0]\n",
    "    y_take = np.take(y, y_indices)\n",
    "    y_filtered = np.extract(y_take != -1, y_take)\n",
    "    if y_filtered.size:\n",
    "        counts = np.bincount(y_filtered)\n",
    "        z[i] = np.argmax(counts)\n",
    "        #most_common = Counter(y_filtered).most_common()\n",
    "        #if most_common[0][1] == most_common[-1][1]:\n",
    "        #    z[i] = min(most_common)[0]\n",
    "        #else:\n",
    "        #    z[i] = most_common[0][0]\n",
    "z"
   ],
   "metadata": {
    "collapsed": false,
    "pycharm": {
     "name": "#%%\n"
    }
   }
  },
  {
   "cell_type": "code",
   "execution_count": null,
   "outputs": [],
   "source": [
    "Y = np.array([4, 2, 1, 1, 3, 2, 4, 2, 2, 2, 4])\n",
    "y = np.array([2, 3, 5, 6])"
   ],
   "metadata": {
    "collapsed": false,
    "pycharm": {
     "name": "#%%\n"
    }
   }
  },
  {
   "cell_type": "code",
   "execution_count": null,
   "outputs": [],
   "source": [
    "p = Y[y]\n",
    "p"
   ],
   "metadata": {
    "collapsed": false,
    "pycharm": {
     "name": "#%%\n"
    }
   }
  },
  {
   "cell_type": "code",
   "execution_count": null,
   "outputs": [],
   "source": [
    "counts = np.bincount(p)\n",
    "counts"
   ],
   "metadata": {
    "collapsed": false,
    "pycharm": {
     "name": "#%%\n"
    }
   }
  },
  {
   "cell_type": "code",
   "execution_count": null,
   "outputs": [],
   "source": [
    "np.argmax(counts)"
   ],
   "metadata": {
    "collapsed": false,
    "pycharm": {
     "name": "#%%\n"
    }
   }
  },
  {
   "cell_type": "code",
   "execution_count": null,
   "outputs": [],
   "source": [
    "import numpy as np\n",
    "X = np.array([\n",
    "    [5, 5, 4],\n",
    "    [8, 1, 8],\n",
    "    [0, 1, 5],\n",
    "    [0, 3, 1],\n",
    "    [6, 2, 5]\n",
    "])\n",
    "\n",
    "w = np.array([\n",
    "    [8, 5, 1],\n",
    "    [7, 8, 6]\n",
    "])\n",
    "\n",
    "x = np.array(\n",
    "    [8, 5, 1]\n",
    ")"
   ],
   "metadata": {
    "collapsed": false,
    "pycharm": {
     "name": "#%%\n"
    }
   }
  },
  {
   "cell_type": "code",
   "execution_count": null,
   "outputs": [],
   "source": [
    "X - w[:,np.newaxis]"
   ],
   "metadata": {
    "collapsed": false,
    "pycharm": {
     "name": "#%%\n"
    }
   }
  },
  {
   "cell_type": "code",
   "execution_count": null,
   "outputs": [],
   "source": [
    "X[:,np.newaxis] - w"
   ],
   "metadata": {
    "collapsed": false,
    "pycharm": {
     "name": "#%%\n"
    }
   }
  },
  {
   "cell_type": "code",
   "execution_count": null,
   "outputs": [],
   "source": [
    "np.sum(X - x, axis = 1)"
   ],
   "metadata": {
    "collapsed": false,
    "pycharm": {
     "name": "#%%\n"
    }
   }
  },
  {
   "cell_type": "code",
   "execution_count": null,
   "outputs": [],
   "source": [
    "np.sqrt(np.sum((X - x)**2, axis=1))"
   ],
   "metadata": {
    "collapsed": false,
    "pycharm": {
     "name": "#%%\n"
    }
   }
  },
  {
   "cell_type": "code",
   "execution_count": null,
   "outputs": [],
   "source": [
    "np.linalg.norm(X - x, axis = 1)"
   ],
   "metadata": {
    "collapsed": false,
    "pycharm": {
     "name": "#%%\n"
    }
   }
  },
  {
   "cell_type": "code",
   "execution_count": null,
   "outputs": [],
   "source": [
    "np.argsort(np.sqrt(np.sum((X - x)**2, axis=1)))[0:2]"
   ],
   "metadata": {
    "collapsed": false,
    "pycharm": {
     "name": "#%%\n"
    }
   }
  },
  {
   "cell_type": "code",
   "execution_count": null,
   "outputs": [],
   "source": [
    "l = [(1, 2), (4, 3), (7, 8), (10, 11)]"
   ],
   "metadata": {
    "collapsed": false,
    "pycharm": {
     "name": "#%%\n"
    }
   }
  },
  {
   "cell_type": "code",
   "execution_count": null,
   "outputs": [],
   "source": [
    "import operator"
   ],
   "metadata": {
    "collapsed": false,
    "pycharm": {
     "name": "#%%\n"
    }
   }
  },
  {
   "cell_type": "code",
   "execution_count": null,
   "outputs": [],
   "source": [
    "x = 0"
   ],
   "metadata": {
    "collapsed": false,
    "pycharm": {
     "name": "#%%\n"
    }
   }
  },
  {
   "cell_type": "code",
   "execution_count": null,
   "outputs": [],
   "source": [
    "[operator.iadd(x + a + b, x + a + b) for a, b in l]"
   ],
   "metadata": {
    "collapsed": false,
    "pycharm": {
     "name": "#%%\n"
    }
   }
  },
  {
   "cell_type": "code",
   "execution_count": null,
   "outputs": [],
   "source": [
    "f = operator.itemgetter(1, 3)"
   ],
   "metadata": {
    "collapsed": false,
    "pycharm": {
     "name": "#%%\n"
    }
   }
  },
  {
   "cell_type": "code",
   "execution_count": null,
   "outputs": [],
   "source": [
    "f(l)"
   ],
   "metadata": {
    "collapsed": false,
    "pycharm": {
     "name": "#%%\n"
    }
   }
  },
  {
   "cell_type": "code",
   "execution_count": null,
   "outputs": [],
   "source": [
    "res = []\n",
    "aux = set()\n",
    "for x in nums:\n",
    "  if x not in aux:\n",
    "    res.append(x)\n",
    "    aux.add(x)"
   ],
   "metadata": {
    "collapsed": false,
    "pycharm": {
     "name": "#%%\n"
    }
   }
  },
  {
   "cell_type": "code",
   "execution_count": null,
   "outputs": [],
   "source": [
    "import numpy as np\n",
    "A = np.array([[0, 1, 0, 1, 0, 1],\n",
    "              [1, 0, 0, 1, 0, 0],\n",
    "              [0, 0, 0, 1, 0, 0],\n",
    "              [1, 1, 1, 0, 1, 1],\n",
    "              [0, 0, 0, 1, 0, 0],\n",
    "              [1, 0, 0, 1, 0, 0]], dtype=int)"
   ],
   "metadata": {
    "collapsed": false,
    "pycharm": {
     "name": "#%%\n"
    }
   }
  },
  {
   "cell_type": "code",
   "execution_count": null,
   "outputs": [],
   "source": [
    "(np.multiply(A.dot(A), A).sum(axis = 1)/6).astype(int)"
   ],
   "metadata": {
    "collapsed": false,
    "pycharm": {
     "name": "#%%\n"
    }
   }
  },
  {
   "cell_type": "code",
   "execution_count": null,
   "outputs": [],
   "source": [
    "I = [0, 1, 2, 3, 2, 3]"
   ],
   "metadata": {
    "collapsed": false,
    "pycharm": {
     "name": "#%%\n"
    }
   }
  },
  {
   "cell_type": "code",
   "execution_count": null,
   "outputs": [],
   "source": [
    "J = [1, 0, 3, 2, 3, 2]"
   ],
   "metadata": {
    "collapsed": false,
    "pycharm": {
     "name": "#%%\n"
    }
   }
  },
  {
   "cell_type": "code",
   "execution_count": null,
   "outputs": [],
   "source": [
    "from scipy.sparse import coo_matrix"
   ],
   "metadata": {
    "collapsed": false,
    "pycharm": {
     "name": "#%%\n"
    }
   }
  },
  {
   "cell_type": "code",
   "execution_count": null,
   "outputs": [],
   "source": [
    "n = max(I) + 1"
   ],
   "metadata": {
    "collapsed": false,
    "pycharm": {
     "name": "#%%\n"
    }
   }
  },
  {
   "cell_type": "code",
   "execution_count": null,
   "outputs": [],
   "source": [
    "V = np.ones(len(I), dtype=int)\n",
    "V"
   ],
   "metadata": {
    "collapsed": false,
    "pycharm": {
     "name": "#%%\n"
    }
   }
  },
  {
   "cell_type": "code",
   "execution_count": null,
   "outputs": [],
   "source": [
    "A = coo_matrix((V, (I, J)), shape=(n, n))\n",
    "print(A)"
   ],
   "metadata": {
    "collapsed": false,
    "pycharm": {
     "name": "#%%\n"
    }
   }
  },
  {
   "cell_type": "code",
   "execution_count": null,
   "outputs": [],
   "source": [
    "A.sum_duplicates()\n",
    "print(A)"
   ],
   "metadata": {
    "collapsed": false,
    "pycharm": {
     "name": "#%%\n"
    }
   }
  },
  {
   "cell_type": "code",
   "execution_count": null,
   "outputs": [],
   "source": [
    "A = (A > 0).astype(int).todense()\n",
    "print(A)"
   ],
   "metadata": {
    "collapsed": false,
    "pycharm": {
     "name": "#%%\n"
    }
   }
  },
  {
   "cell_type": "code",
   "execution_count": null,
   "outputs": [],
   "source": [
    "C = A.dot(A) * A\n",
    "print(C.sum(axis = 1)/6)"
   ],
   "metadata": {
    "collapsed": false,
    "pycharm": {
     "name": "#%%\n"
    }
   }
  },
  {
   "cell_type": "code",
   "execution_count": null,
   "outputs": [],
   "source": [
    "import numpy as np"
   ],
   "metadata": {
    "collapsed": false,
    "pycharm": {
     "name": "#%%\n"
    }
   }
  },
  {
   "cell_type": "code",
   "execution_count": null,
   "outputs": [],
   "source": [
    "A = np.zeros((2, 2))\n",
    "A[1,1] = 1"
   ],
   "metadata": {
    "collapsed": false,
    "pycharm": {
     "name": "#%%\n"
    }
   }
  },
  {
   "cell_type": "code",
   "execution_count": null,
   "outputs": [],
   "source": [
    "A"
   ],
   "metadata": {
    "collapsed": false,
    "pycharm": {
     "name": "#%%\n"
    }
   }
  },
  {
   "cell_type": "code",
   "execution_count": null,
   "outputs": [],
   "source": [
    "from itertools import groupby"
   ],
   "metadata": {
    "collapsed": false,
    "pycharm": {
     "name": "#%%\n"
    }
   }
  },
  {
   "cell_type": "code",
   "execution_count": null,
   "outputs": [],
   "source": [
    "l = [[2,5], [2, 5], [3,4]]"
   ],
   "metadata": {
    "collapsed": false,
    "pycharm": {
     "name": "#%%\n"
    }
   }
  },
  {
   "cell_type": "code",
   "execution_count": null,
   "outputs": [],
   "source": [
    "[k for k, g in groupby(l)]"
   ],
   "metadata": {
    "collapsed": false,
    "pycharm": {
     "name": "#%%\n"
    }
   }
  },
  {
   "cell_type": "code",
   "execution_count": null,
   "outputs": [],
   "source": [
    "s = [1, 2, 3, 4]\n",
    "from itertools import permutations, combinations\n"
   ],
   "metadata": {
    "collapsed": false,
    "pycharm": {
     "name": "#%%\n"
    }
   }
  },
  {
   "cell_type": "code",
   "execution_count": null,
   "outputs": [],
   "source": [
    "{t : 1 for t in list(permutations(s, 2))}"
   ],
   "metadata": {
    "collapsed": false,
    "pycharm": {
     "name": "#%%\n"
    }
   }
  },
  {
   "cell_type": "code",
   "execution_count": null,
   "outputs": [],
   "source": [
    "{t : 1 for t in list(combinations(s, 2))}"
   ],
   "metadata": {
    "collapsed": false,
    "pycharm": {
     "name": "#%%\n"
    }
   }
  },
  {
   "cell_type": "code",
   "execution_count": null,
   "outputs": [],
   "source": [
    "inputData = ''"
   ],
   "metadata": {
    "collapsed": false,
    "pycharm": {
     "name": "#%%\n"
    }
   }
  },
  {
   "cell_type": "code",
   "execution_count": null,
   "outputs": [],
   "source": [
    "import math"
   ],
   "metadata": {
    "collapsed": false,
    "pycharm": {
     "name": "#%%\n"
    }
   }
  },
  {
   "cell_type": "code",
   "execution_count": null,
   "outputs": [],
   "source": [
    "'\\n'.join(\n",
    "    [\n",
    "        str(int(math.log(int(line), 2).is_integer())) \n",
    "        for line in inputData.splitlines()[1:]\n",
    "    ]\n",
    ")"
   ],
   "metadata": {
    "collapsed": false,
    "pycharm": {
     "name": "#%%\n"
    }
   }
  },
  {
   "cell_type": "code",
   "execution_count": null,
   "outputs": [],
   "source": [
    "def codeHere():\n",
    "    lines = [int(line) for line in inputData.splitlines()]\n",
    "    bool_vals = [(x != 0) and (x & (x - 1) == 0) for x in lines[1:]]\n",
    "    output = list(map(int, bool_vals))\n",
    "    output = [str(x) for x in output]\n",
    "    return '\\n'.join(output)"
   ],
   "metadata": {
    "collapsed": false,
    "pycharm": {
     "name": "#%%\n"
    }
   }
  },
  {
   "cell_type": "code",
   "execution_count": null,
   "outputs": [],
   "source": [
    "import numpy as np"
   ],
   "metadata": {
    "collapsed": false,
    "pycharm": {
     "name": "#%%\n"
    }
   }
  },
  {
   "cell_type": "code",
   "execution_count": null,
   "outputs": [],
   "source": [
    "v = np.asarray([True, False, True, False])"
   ],
   "metadata": {
    "collapsed": false,
    "pycharm": {
     "name": "#%%\n"
    }
   }
  },
  {
   "cell_type": "code",
   "execution_count": null,
   "outputs": [],
   "source": [
    "# if you don't specify the replacements\n",
    "# then you get back the indices of `True` values\n",
    "np.where(v)"
   ],
   "metadata": {
    "collapsed": false,
    "pycharm": {
     "name": "#%%\n"
    }
   }
  },
  {
   "cell_type": "code",
   "execution_count": null,
   "outputs": [],
   "source": [
    "# `v` should be a `numpy` array\n",
    "np.where(v, 4, 5)"
   ],
   "metadata": {
    "collapsed": false,
    "pycharm": {
     "name": "#%%\n"
    }
   }
  },
  {
   "cell_type": "code",
   "execution_count": null,
   "outputs": [],
   "source": [
    "[xv if c else yv\n",
    " for c, xv, yv in zip(condition, x, y)]"
   ],
   "metadata": {
    "collapsed": false,
    "pycharm": {
     "name": "#%%\n"
    }
   }
  },
  {
   "cell_type": "code",
   "execution_count": null,
   "outputs": [],
   "source": [
    "s = 'We analyzed found the issue in Garbage Collection which crashed the JVM.\\r\\n\\r\\n\\xa0\\r\\n\\r\\n\\xa0\\r\\n\\r\\n_Stack: [0x00007f0b58ff1000,0x00007f0b590f1000],\\xa0 sp=0x00007f0b590ef120,\\xa0 free space=1016k_\\r\\n\\r\\n_Native frames: (J=compiled Java code, j=interpreted, Vv=VM code, C=native code)_\\r\\n\\r\\n_V\\xa0 [libjvm.so+0x8b9e4f]\\xa0 MethodData::clean_extra_data(BoolObjectClosure)+0x1cf_\\r\\n\\r\\n_V\\xa0 [libjvm.so+0x63c582]\\xa0 '"
   ],
   "metadata": {
    "collapsed": false,
    "pycharm": {
     "name": "#%%\n"
    }
   }
  },
  {
   "cell_type": "code",
   "execution_count": null,
   "outputs": [],
   "source": [
    "import re"
   ],
   "metadata": {
    "collapsed": false,
    "pycharm": {
     "name": "#%%\n"
    }
   }
  },
  {
   "cell_type": "code",
   "execution_count": null,
   "outputs": [],
   "source": [
    "re.sub(r'(\\\\r)|(\\\\n)|(\\\\xa0)', '', s)"
   ],
   "metadata": {
    "collapsed": false,
    "pycharm": {
     "name": "#%%\n"
    }
   }
  },
  {
   "cell_type": "code",
   "execution_count": null,
   "outputs": [],
   "source": [
    "dic = {\n",
    "    'A' : ['b', 'a', 'a', 'd', 'd', 'c'],\n",
    "    'B' : [3, 1, 1, 4, 1, 4],\n",
    "    'C' : [3, 2, 2, 4, 2, 5],\n",
    "    'D' : [4, 1, 1, 1, 1, 6]\n",
    "}\n",
    "df = pd.DataFrame(dic)\n",
    "df"
   ],
   "metadata": {
    "collapsed": false,
    "pycharm": {
     "name": "#%%\n"
    }
   }
  },
  {
   "cell_type": "code",
   "execution_count": null,
   "outputs": [],
   "source": [
    "df = (\n",
    "    df\n",
    "        .assign(A = lambda x: pd.Categorical(x['A'], categories = ['b', 'd', 'c', 'a'], ordered = True))\n",
    "        .sort_values('A')\n",
    ")"
   ],
   "metadata": {
    "collapsed": false,
    "pycharm": {
     "name": "#%%\n"
    }
   }
  },
  {
   "cell_type": "code",
   "execution_count": null,
   "outputs": [],
   "source": [
    "dic = {\n",
    "    'a': {\n",
    "        'b': [1, 2], \n",
    "        'c': [3, 4]\n",
    "    }, \n",
    "    'A': {\n",
    "        'B': [10, 20], \n",
    "        'C': [30, 40]\n",
    "    }\n",
    "}\n",
    "s = (\n",
    "    pd.DataFrame(dic)\n",
    "        .stack()\n",
    "        .explode()\n",
    "        .reset_index()\n",
    "        .filter(['level_1', 'level_0', 0])\n",
    "        .rename(columns = {'level_1' : 'col_1', 'level_0' : 'col_2', 0 : 'col_3'})\n",
    ")\n",
    "s"
   ],
   "metadata": {
    "collapsed": false,
    "pycharm": {
     "name": "#%%\n"
    }
   }
  },
  {
   "cell_type": "code",
   "execution_count": null,
   "outputs": [],
   "source": [
    "import pandas as pd\n",
    "\n",
    "\n",
    "def my_function(df):\n",
    "    kwargs = {\n",
    "        \"quantity\": df.apply(lambda x: -x[\"quantity\"] if \"SELL\" in str(x[\"action\"]) else x[\"quantity\"], axis = 1),\n",
    "        \"price (usd)\": df.apply(lambda x: 0 if \"SELL\" in str(x[\"action\"]) else x[\"price (usd)\"], axis = 1),\n",
    "    }\n",
    "    return df.assign(**kwargs)\n",
    "\n",
    "\n",
    "input_df = pd.DataFrame({\"product\": [\"APPLE\", \"APPLE\", \"BANANA\"],\n",
    "                         \"action\": [\"  SELL  \", \"  BUY  \", \"  SELL  \"],\n",
    "                         \"quantity\": [1, 2, 3],\n",
    "                         \"price (usd)\": [3, 5, 8],\n",
    "                         })\n",
    "\n",
    "result_df = my_function(input_df)\n",
    "result_df"
   ],
   "metadata": {
    "collapsed": false,
    "pycharm": {
     "name": "#%%\n"
    }
   }
  },
  {
   "cell_type": "code",
   "execution_count": null,
   "outputs": [],
   "source": [
    "expected_df = pd.DataFrame({\"product\": [\"APPLE\", \"APPLE\", \"BANANA\"],\n",
    "                            \"action\": [\"  SELL  \", \"  BUY  \", \"  SELL  \"],\n",
    "                            \"quantity\": [-1, 2, -3],\n",
    "                            \"price (usd)\": [0, 5, 0],\n",
    "                            })\n",
    "expected_df"
   ],
   "metadata": {
    "collapsed": false,
    "pycharm": {
     "name": "#%%\n"
    }
   }
  },
  {
   "cell_type": "code",
   "execution_count": null,
   "outputs": [],
   "source": [
    "    numbers = [25, 24, 26, 45, 25, 23, 50, 51]\n",
    "    count = len(numbers)\n",
    "    filtered = [num for num in numbers if 25 <= num <= 50]\n",
    "    count = len(numbers) - len(filtered)\n",
    "    filtered"
   ],
   "metadata": {
    "collapsed": false,
    "pycharm": {
     "name": "#%%\n"
    }
   }
  },
  {
   "cell_type": "markdown",
   "source": [
    "If a polynomial function has integer coefficients, then every rational zero will have the form\n",
    "\n",
    "$$\n",
    "\\frac{p}{q}\n",
    "$$\n",
    "\n",
    "where `p` is a factor of the constant and `q` is a factor of the leading coefficient."
   ],
   "metadata": {
    "collapsed": false
   }
  },
  {
   "cell_type": "code",
   "execution_count": null,
   "outputs": [],
   "source": [
    "import numpy as np\n",
    "A = np.array ([[1, 2, 3],\n",
    "               [4, 5, 6],\n",
    "               [7, 8, 9]\n",
    "              ], dtype=float)\n",
    "\n",
    "print (\"A[:, :] ==\\n\", A)\n",
    "print (\"\\na0 := A[:, 0] ==\\n\", A[:, 0])\n",
    "print (\"\\na1 := A[:, 2:3] == \\n\", A[:, 2])\n",
    "\n",
    "print (\"\\nAdd columns 0 and 2?\")\n",
    "a0 = A[:, 0]\n",
    "a1 = A[:, 2]\n",
    "print (a0 + a1)"
   ],
   "metadata": {
    "collapsed": false,
    "pycharm": {
     "name": "#%%\n"
    }
   }
  },
  {
   "cell_type": "code",
   "execution_count": null,
   "outputs": [],
   "source": [
    "import numpy as np"
   ],
   "metadata": {
    "collapsed": false,
    "pycharm": {
     "name": "#%%\n"
    }
   }
  },
  {
   "cell_type": "code",
   "execution_count": null,
   "outputs": [],
   "source": [
    "np.convolve([2, 3, 5], [7, 6, 4])"
   ],
   "metadata": {
    "collapsed": false,
    "pycharm": {
     "name": "#%%\n"
    }
   }
  },
  {
   "cell_type": "code",
   "execution_count": null,
   "outputs": [],
   "source": [
    "np.convolve([2, 3, 5], [7, 6, 4], 'same')"
   ],
   "metadata": {
    "collapsed": false,
    "pycharm": {
     "name": "#%%\n"
    }
   }
  },
  {
   "cell_type": "code",
   "execution_count": null,
   "outputs": [],
   "source": [
    "X = np.array([[1,1,0], [1,0,0], [0,0,1]])"
   ],
   "metadata": {
    "collapsed": false,
    "pycharm": {
     "name": "#%%\n"
    }
   }
  },
  {
   "cell_type": "code",
   "execution_count": null,
   "outputs": [],
   "source": [
    "np.ones(X.shape) * -1"
   ],
   "metadata": {
    "collapsed": false,
    "pycharm": {
     "name": "#%%\n"
    }
   }
  },
  {
   "cell_type": "code",
   "execution_count": null,
   "outputs": [],
   "source": [
    "X"
   ],
   "metadata": {
    "collapsed": false,
    "pycharm": {
     "name": "#%%\n"
    }
   }
  },
  {
   "cell_type": "code",
   "execution_count": null,
   "outputs": [],
   "source": [
    "kernel = np.ones(X.shape) * -1"
   ],
   "metadata": {
    "collapsed": false,
    "pycharm": {
     "name": "#%%\n"
    }
   }
  },
  {
   "cell_type": "code",
   "execution_count": null,
   "outputs": [],
   "source": [
    "from scipy.signal import convolve2d\n",
    "convolve2d(X, kernel, 'same')"
   ],
   "metadata": {
    "collapsed": false,
    "pycharm": {
     "name": "#%%\n"
    }
   }
  },
  {
   "cell_type": "code",
   "execution_count": null,
   "outputs": [],
   "source": [
    "class TreeNode:\n",
    "    def __init__(self, x):\n",
    "        self.val = x\n",
    "        self.left = None\n",
    "        self.right = None"
   ],
   "metadata": {
    "collapsed": false,
    "pycharm": {
     "name": "#%%\n"
    }
   }
  },
  {
   "cell_type": "code",
   "execution_count": null,
   "outputs": [],
   "source": [
    "def insertLevelOrder(arr, root, i, n): \n",
    "      \n",
    "    # Base case for recursion  \n",
    "    if i < n: \n",
    "        temp = TreeNode(arr[i])  \n",
    "        root = temp  \n",
    "  \n",
    "        # insert left child  \n",
    "        root.left = insertLevelOrder(arr, root.left, \n",
    "                                     2 * i + 1, n)  \n",
    "  \n",
    "        # insert right child  \n",
    "        root.right = insertLevelOrder(arr, root.right, \n",
    "                                      2 * i + 2, n) \n",
    "    return root"
   ],
   "metadata": {
    "collapsed": false,
    "pycharm": {
     "name": "#%%\n"
    }
   }
  },
  {
   "cell_type": "code",
   "execution_count": null,
   "outputs": [],
   "source": [
    "def inOrder(root): \n",
    "    if root != None: \n",
    "        inOrder(root.left)  \n",
    "        print(root.val,end=\" \")  \n",
    "        inOrder(root.right) \n",
    "        \n",
    "if __name__ == '__main__': \n",
    "    arr = [1, 2, 3, 4, 5, 6, 6, 6, 6] \n",
    "    n = len(arr) \n",
    "    root = None\n",
    "    root = insertLevelOrder(arr, root, 0, n)  \n",
    "    inOrder(root)"
   ],
   "metadata": {
    "collapsed": false,
    "pycharm": {
     "name": "#%%\n"
    }
   }
  },
  {
   "cell_type": "code",
   "execution_count": null,
   "outputs": [],
   "source": [
    "stk = [root]"
   ],
   "metadata": {
    "collapsed": false,
    "pycharm": {
     "name": "#%%\n"
    }
   }
  },
  {
   "cell_type": "code",
   "execution_count": null,
   "outputs": [],
   "source": [
    "node = stk.pop()"
   ],
   "metadata": {
    "collapsed": false,
    "pycharm": {
     "name": "#%%\n"
    }
   }
  },
  {
   "cell_type": "code",
   "execution_count": null,
   "outputs": [],
   "source": [
    "inOrder(node)"
   ],
   "metadata": {
    "collapsed": false,
    "pycharm": {
     "name": "#%%\n"
    }
   }
  },
  {
   "cell_type": "code",
   "execution_count": null,
   "outputs": [],
   "source": [
    "node = stk.pop()"
   ],
   "metadata": {
    "collapsed": false,
    "pycharm": {
     "name": "#%%\n"
    }
   }
  },
  {
   "cell_type": "code",
   "execution_count": null,
   "outputs": [],
   "source": [],
   "metadata": {
    "collapsed": false,
    "pycharm": {
     "name": "#%%\n"
    }
   }
  },
  {
   "cell_type": "code",
   "execution_count": null,
   "outputs": [],
   "source": [
    "J, S = \"aA\", \"aAAbbbb\""
   ],
   "metadata": {
    "collapsed": false,
    "pycharm": {
     "name": "#%%\n"
    }
   }
  },
  {
   "cell_type": "code",
   "execution_count": null,
   "outputs": [],
   "source": [
    "print(root.left)"
   ],
   "metadata": {
    "collapsed": false,
    "pycharm": {
     "name": "#%%\n"
    }
   }
  },
  {
   "cell_type": "code",
   "execution_count": null,
   "outputs": [],
   "source": [
    "class Solution:\n",
    "    def numJewelsInStones(self, J: str, S: str) -> int:\n",
    "        count = 0\n",
    "        for j in J:\n",
    "            for s in S:\n",
    "                if s == j:\n",
    "                    count += 1\n",
    "        return count"
   ],
   "metadata": {
    "collapsed": false,
    "pycharm": {
     "name": "#%%\n"
    }
   }
  },
  {
   "cell_type": "code",
   "execution_count": null,
   "outputs": [],
   "source": [
    "for c in S:\n",
    "    print(c)"
   ],
   "metadata": {
    "collapsed": false,
    "pycharm": {
     "name": "#%%\n"
    }
   }
  },
  {
   "cell_type": "code",
   "execution_count": null,
   "outputs": [],
   "source": [
    "set(S)"
   ],
   "metadata": {
    "collapsed": false,
    "pycharm": {
     "name": "#%%\n"
    }
   }
  },
  {
   "cell_type": "code",
   "execution_count": null,
   "outputs": [],
   "source": [
    "set(J)"
   ],
   "metadata": {
    "collapsed": false,
    "pycharm": {
     "name": "#%%\n"
    }
   }
  },
  {
   "cell_type": "code",
   "execution_count": null,
   "outputs": [],
   "source": [
    "sum([1 for c in S if c in J])"
   ],
   "metadata": {
    "collapsed": false,
    "pycharm": {
     "name": "#%%\n"
    }
   }
  },
  {
   "cell_type": "code",
   "execution_count": null,
   "outputs": [],
   "source": [
    "Jli = list(set(list(J)))\n",
    "count = 0\n",
    "for j in Jli:\n",
    "\tcount += S.count(j)\n",
    "count"
   ],
   "metadata": {
    "collapsed": false,
    "pycharm": {
     "name": "#%%\n"
    }
   }
  },
  {
   "cell_type": "code",
   "execution_count": null,
   "outputs": [],
   "source": [
    "sum([S.count(i) for i in J])"
   ],
   "metadata": {
    "collapsed": false,
    "pycharm": {
     "name": "#%%\n"
    }
   }
  },
  {
   "cell_type": "code",
   "execution_count": null,
   "outputs": [],
   "source": [
    "num = 14"
   ],
   "metadata": {
    "collapsed": false,
    "pycharm": {
     "name": "#%%\n"
    }
   }
  },
  {
   "cell_type": "code",
   "execution_count": null,
   "outputs": [],
   "source": [
    "sum([int(d) + 1 for d in bin(num)[2:]]) - 1"
   ],
   "metadata": {
    "collapsed": false,
    "pycharm": {
     "name": "#%%\n"
    }
   }
  },
  {
   "cell_type": "code",
   "execution_count": null,
   "outputs": [],
   "source": [
    "bin(num)[2:]"
   ],
   "metadata": {
    "collapsed": false,
    "pycharm": {
     "name": "#%%\n"
    }
   }
  },
  {
   "cell_type": "code",
   "execution_count": null,
   "outputs": [],
   "source": [
    "len(b := bin(num)[2:]) + b.count('1') - 1"
   ],
   "metadata": {
    "collapsed": false,
    "pycharm": {
     "name": "#%%\n"
    }
   }
  },
  {
   "cell_type": "code",
   "execution_count": null,
   "outputs": [],
   "source": [
    "myList = [1, 1, 2, 2, 2, 3]\n",
    "output = {}\n",
    "\n",
    "for item in myList:\n",
    "    if item not in output:\n",
    "        output[item] = 0\n",
    "    output[item] += 1\n",
    "\n",
    "output"
   ],
   "metadata": {
    "collapsed": false,
    "pycharm": {
     "name": "#%%\n"
    }
   }
  },
  {
   "cell_type": "code",
   "execution_count": null,
   "outputs": [],
   "source": [
    "from string import ascii_letters, digits\n",
    "import timeit"
   ],
   "metadata": {
    "collapsed": false,
    "pycharm": {
     "name": "#%%\n"
    }
   }
  },
  {
   "cell_type": "code",
   "execution_count": null,
   "outputs": [],
   "source": [
    "words = list(ascii_letters+digits)*10**5\n",
    "len(words)"
   ],
   "metadata": {
    "collapsed": false,
    "pycharm": {
     "name": "#%%\n"
    }
   }
  },
  {
   "cell_type": "code",
   "execution_count": null,
   "outputs": [],
   "source": [
    "start_time = timeit.default_timer()\n",
    "from collections import defaultdict\n",
    "d = defaultdict(int)\n",
    "for w in words: d[w] += 1\n",
    "elapsed = timeit.default_timer() - start_time\n",
    "elapsed"
   ],
   "metadata": {
    "collapsed": false,
    "pycharm": {
     "name": "#%%\n"
    }
   }
  },
  {
   "cell_type": "code",
   "execution_count": null,
   "outputs": [],
   "source": [
    "\n",
    "%timeit words\n",
    "d = {i:words.count(i) for i in words}"
   ],
   "metadata": {
    "collapsed": false,
    "pycharm": {
     "name": "#%%\n"
    }
   }
  },
  {
   "cell_type": "code",
   "execution_count": null,
   "outputs": [],
   "source": [
    "mycode = ''' \n",
    "d = defaultdict(int)\n",
    "for w in words: d[w] += 1\n",
    "'''"
   ],
   "metadata": {
    "collapsed": false,
    "pycharm": {
     "name": "#%%\n"
    }
   }
  },
  {
   "cell_type": "code",
   "execution_count": null,
   "outputs": [],
   "source": [
    "mycode = ''' \n",
    "#words = list(digits)*10**5\n",
    "\n",
    "answers = [0, 2, 2, 2]\n",
    "\n",
    "d = Counter(answers)\n",
    "'''"
   ],
   "metadata": {
    "collapsed": false,
    "pycharm": {
     "name": "#%%\n"
    }
   }
  },
  {
   "cell_type": "code",
   "execution_count": null,
   "outputs": [],
   "source": [
    "mysetup = '''\n",
    "from collections import Counter\n",
    "#from string import ascii_letters, digits\n",
    "'''"
   ],
   "metadata": {
    "collapsed": false,
    "pycharm": {
     "name": "#%%\n"
    }
   }
  },
  {
   "cell_type": "code",
   "execution_count": null,
   "outputs": [],
   "source": [
    "timeit.timeit(setup = mysetup, stmt = mycode, number = 7)"
   ],
   "metadata": {
    "collapsed": false,
    "pycharm": {
     "name": "#%%\n"
    }
   }
  },
  {
   "cell_type": "code",
   "execution_count": null,
   "outputs": [],
   "source": [
    "from collections import Counter\n",
    "%timeit words\n",
    "d = Counter(words)"
   ],
   "metadata": {
    "collapsed": false,
    "pycharm": {
     "name": "#%%\n"
    }
   }
  },
  {
   "cell_type": "code",
   "execution_count": null,
   "outputs": [],
   "source": [
    "answers = [0, 2, 2, 2]\n",
    "%timeit answers\n",
    "from collections import Counter\n",
    "\n",
    "d = Counter(answers)"
   ],
   "metadata": {
    "collapsed": false,
    "pycharm": {
     "name": "#%%\n"
    }
   }
  },
  {
   "cell_type": "code",
   "execution_count": null,
   "outputs": [],
   "source": [
    "words=[0, 2, 2, 2]\n",
    "{i:words.count(i) for i in words}"
   ],
   "metadata": {
    "collapsed": false,
    "pycharm": {
     "name": "#%%\n"
    }
   }
  },
  {
   "cell_type": "code",
   "execution_count": null,
   "outputs": [],
   "source": [
    "start_time = timeit.default_timer()\n",
    "# code you want to evaluate\n",
    "elapsed = timeit.default_timer() - start_time"
   ],
   "metadata": {
    "collapsed": false,
    "pycharm": {
     "name": "#%%\n"
    }
   }
  },
  {
   "cell_type": "code",
   "execution_count": null,
   "outputs": [],
   "source": [
    "from itertools import groupby as gb\n",
    "from math import ceil\n",
    "answers = [1,0,1,0,0]  \n",
    "lst = [(len(list(v)), g) for g, v in gb(sorted(answers))]\n",
    "\n",
    "[(len(list(v)), g) for g, v in gb(sorted(answers))]"
   ],
   "metadata": {
    "collapsed": false,
    "pycharm": {
     "name": "#%%\n"
    }
   }
  },
  {
   "cell_type": "code",
   "execution_count": null,
   "outputs": [],
   "source": [
    "[ceil(t[0]/(t[1] + 1)) * (t[1] + 1) for t in lst]"
   ],
   "metadata": {
    "collapsed": false,
    "pycharm": {
     "name": "#%%\n"
    }
   }
  },
  {
   "cell_type": "code",
   "execution_count": null,
   "outputs": [],
   "source": [
    "from collections import Counter\n",
    "Counter(answers)"
   ],
   "metadata": {
    "collapsed": false,
    "pycharm": {
     "name": "#%%\n"
    }
   }
  },
  {
   "cell_type": "code",
   "execution_count": null,
   "outputs": [],
   "source": [
    "sum([ceil(v/(k + 1)) * (k + 1) for k, v in Counter(answers).items()])"
   ],
   "metadata": {
    "collapsed": false,
    "pycharm": {
     "name": "#%%\n"
    }
   }
  },
  {
   "cell_type": "code",
   "execution_count": null,
   "outputs": [],
   "source": [
    "[len(answers) + 1 for g, v in gb(sorted(answers))]"
   ],
   "metadata": {
    "collapsed": false,
    "pycharm": {
     "name": "#%%\n"
    }
   }
  },
  {
   "cell_type": "code",
   "execution_count": null,
   "outputs": [],
   "source": [
    "# For every grouping of K rabbits, where K is the total number of rabbits that had the \n",
    "# same answer, we can deduce that the minimum number of rabbits is equal to Math.ceil(K/(answer + 1)) * (answer + 1)."
   ],
   "metadata": {
    "collapsed": false,
    "pycharm": {
     "name": "#%%\n"
    }
   }
  },
  {
   "cell_type": "code",
   "execution_count": null,
   "outputs": [],
   "source": [
    "from collections import Counter\n",
    "answers = [0,0,1,1,1]\n",
    "l1 = [list(v) for g, v in gb(sorted(answers))]\n",
    "c = Counter(answers)\n",
    "c"
   ],
   "metadata": {
    "collapsed": false,
    "pycharm": {
     "name": "#%%\n"
    }
   }
  },
  {
   "cell_type": "code",
   "execution_count": null,
   "outputs": [],
   "source": [
    "sum((c[i] + i) / (i + 1) * (i + 1) for i in c)"
   ],
   "metadata": {
    "collapsed": false,
    "pycharm": {
     "name": "#%%\n"
    }
   }
  },
  {
   "cell_type": "code",
   "execution_count": null,
   "outputs": [],
   "source": [
    "[divmod(len(l), 2) for l in l1]"
   ],
   "metadata": {
    "collapsed": false,
    "pycharm": {
     "name": "#%%\n"
    }
   }
  },
  {
   "cell_type": "code",
   "execution_count": null,
   "outputs": [],
   "source": [
    "answers = [1,0,1,0,0]\n",
    "#sum(len(answers)) + divmod(len(answers), 2)[1]\n",
    "#divmod(len(answers), 2)[1]"
   ],
   "metadata": {
    "collapsed": false,
    "pycharm": {
     "name": "#%%\n"
    }
   }
  },
  {
   "cell_type": "code",
   "execution_count": null,
   "outputs": [],
   "source": [
    "from itertools import groupby as gb\n",
    "l = list(gb(answers, key = lambda k: k))\n",
    "#list(list(gb(answers))[0][1])\n",
    "\n",
    "list(l[0][1])"
   ],
   "metadata": {
    "collapsed": false,
    "pycharm": {
     "name": "#%%\n"
    }
   }
  },
  {
   "cell_type": "code",
   "execution_count": null,
   "outputs": [],
   "source": [
    "[(t[0], list(t[1])) for t in l]"
   ],
   "metadata": {
    "collapsed": false,
    "pycharm": {
     "name": "#%%\n"
    }
   }
  },
  {
   "cell_type": "code",
   "execution_count": null,
   "outputs": [],
   "source": [
    "import pandas as pd\n",
    "df=[['7','4','5','',''],[\"\",\"\",\"\",'7','4'],['9','4','7','8','4'],[\"\",\"\",\"\",'7','5'],['4','8','5','4','6'],['4','9','41','74','20'],['4','Super','yes','0','9']]\n",
    "df=pd.DataFrame(df)\n",
    "df.astype('str')\n",
    "df.iloc[1 : 4,:].apply(lambda x : ''.join(x)).to_frame().transpose()#.reset_index()#.pivot(index = 'index', columns = 'index', values = '0')"
   ],
   "metadata": {
    "collapsed": false,
    "pycharm": {
     "name": "#%%\n"
    }
   }
  },
  {
   "cell_type": "code",
   "execution_count": null,
   "outputs": [],
   "source": [
    "\n",
    "\n",
    "# this is an important step because we need a column to groupby\n",
    "#df['gb'] = 'gb'\n",
    "\n",
    "start_end = [[1,3],[4,5]]\n",
    "\n",
    "#df.columns = ['0', '1', '2', '3', '4', 'gb']\n",
    "\n",
    "new_df = pd.DataFrame()\n",
    "\n",
    "for l in start_end:\n",
    "    \n",
    "    #temp_df = df.iloc[l[0] : l[1] + 1,:].groupby(['gb']).agg(lambda x : ''.join(x)).reset_index(drop = True)\n",
    "    temp_df = df.iloc[l[0] : l[1] + 1,:].apply(lambda x : ''.join(x)).to_frame().transpose()\n",
    "    \n",
    "    new_df = pd.concat([new_df, temp_df], ignore_index = True)\n",
    "\n",
    "new_df"
   ],
   "metadata": {
    "collapsed": false,
    "pycharm": {
     "name": "#%%\n"
    }
   }
  },
  {
   "cell_type": "code",
   "execution_count": null,
   "outputs": [],
   "source": [
    "start_end = [[1,3],[4,5]]\n",
    "\n",
    "new_df = pd.DataFrame()\n",
    "\n",
    "for l in start_end:\n",
    "    \n",
    "    temp_df = df.iloc[l[0] : l[1] + 1,:].apply(lambda x : ''.join(x)).to_frame().transpose()\n",
    "    \n",
    "    new_df = pd.concat([new_df, temp_df], ignore_index = True)\n",
    "\n",
    "new_df"
   ],
   "metadata": {
    "collapsed": false,
    "pycharm": {
     "name": "#%%\n"
    }
   }
  },
  {
   "cell_type": "code",
   "execution_count": null,
   "outputs": [],
   "source": [
    "from itertools import product\n",
    "{\n",
    "  sum(x ** 2 for x in xs) : xs\n",
    "  for xs in product(range(7), repeat=3)\n",
    "  if sum(x ** 2 for x in xs) % 8 in {3, 4, 0}\n",
    "}"
   ],
   "metadata": {
    "collapsed": false,
    "pycharm": {
     "name": "#%%\n"
    }
   }
  },
  {
   "cell_type": "code",
   "execution_count": null,
   "outputs": [],
   "source": [
    "[\n",
    "    (x, f(x) , g(x)) \n",
    "    for (x, f(x), g(x)) in (\n",
    "        (x, f(x), g(fx))\n",
    "        for (x, f(x)) in (\n",
    "            (x, f(x)) \n",
    "            for x in bigList\n",
    "        )\n",
    "        if f(x) < p\n",
    "    )\n",
    "    if g(x) < q\n",
    "]"
   ],
   "metadata": {
    "collapsed": false,
    "pycharm": {
     "name": "#%%\n"
    }
   }
  },
  {
   "cell_type": "code",
   "execution_count": null,
   "outputs": [],
   "source": [
    "def xs(x, y):\n",
    "    return x - y\n",
    "\n",
    "iter1 = [1, 2, 3]\n",
    "iter2 = [4, 6, 8, 9]\n",
    "\n",
    "iter(list(map(xs, iter1, iter2)))"
   ],
   "metadata": {
    "collapsed": false,
    "pycharm": {
     "name": "#%%\n"
    }
   }
  },
  {
   "cell_type": "code",
   "execution_count": null,
   "outputs": [],
   "source": [
    "import re\n",
    "pattern = r'base=\\\"(?P<groupname>[0-9]{1,10})\\\"'\n",
    "s = '<div aim=\"\" base=\"1005260\" class=\"item card cb23 eb02 rb3 d1\" ele=\"2\" imgur=\"kMBzbLb\" quantity=\"\" release=\"\" res=\"1005260\" type=\"1\"><div class=\"content\"></div><a class=\"ab\" hash=\"\" href=\"/cards/1005260-vegito-peerless-combination\" title=\"Peerless Combination - Vegito\"><table><tr><td class=\"dokkan\"></td><td class=\"element\"></td></tr><tr><td class=\"rarity\"><i>ssr</i></td><td class=\"lock off\"><i class=\"material-icons off\"></i><i class=\"material-icons on\"></i></td></tr></table></a><div class=\"dv\">11921</div></div>'\n",
    "int(re.search(pattern, s).group('groupname'))\n"
   ],
   "metadata": {
    "collapsed": false,
    "pycharm": {
     "name": "#%%\n"
    }
   }
  }
 ],
 "metadata": {
  "kernelspec": {
   "display_name": "Python 3",
   "language": "python",
   "name": "python3"
  },
  "language_info": {
   "codemirror_mode": {
    "name": "ipython",
    "version": 3
   },
   "file_extension": ".py",
   "mimetype": "text/x-python",
   "name": "python",
   "nbconvert_exporter": "python",
   "pygments_lexer": "ipython3",
   "version": "3.7.6"
  }
 },
 "nbformat": 4,
 "nbformat_minor": 4
}